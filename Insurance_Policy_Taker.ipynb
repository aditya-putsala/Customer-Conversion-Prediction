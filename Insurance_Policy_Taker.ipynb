{
  "cells": [
    {
      "cell_type": "markdown",
      "metadata": {
        "id": "eENPqHCAm2Xe"
      },
      "source": [
        "# Problem Statement\n",
        "\n",
        "You are working for a new-age insurance company and employ multiple outreach plans to sell term insurance to your customers. Telephonic marketing campaigns still remain one of the most effective way to reach out to people however they incur a lot of cost. Hence, it is important to identify the customers that are most likely to convert beforehand so that they can be specifically targeted via call. We are given the historical marketing data of the insurance company and are required to build a ML model that will predict if a client will subscribe to the insurance. "
      ]
    },
    {
      "cell_type": "markdown",
      "metadata": {
        "id": "v4LUFqZYnF9N"
      },
      "source": [
        "### Importing Libraries"
      ]
    },
    {
      "cell_type": "code",
      "execution_count": 226,
      "metadata": {
        "id": "vviVjgXTmNuj"
      },
      "outputs": [],
      "source": [
        "import pandas as pd\n",
        "import numpy as np\n",
        "import matplotlib.pyplot as plt\n",
        "import seaborn as sns\n",
        "import plotly.express as px\n",
        "import plotly.graph_objects as go"
      ]
    },
    {
      "cell_type": "markdown",
      "metadata": {
        "id": "2Sy8iSW8nwkp"
      },
      "source": [
        "### Loading Dataset"
      ]
    },
    {
      "cell_type": "markdown",
      "metadata": {
        "id": "LDBFVcvAoQzp"
      },
      "source": [
        "### Importing Data"
      ]
    },
    {
      "cell_type": "code",
      "execution_count": 227,
      "metadata": {
        "colab": {
          "base_uri": "https://localhost:8080/"
        },
        "id": "VMz682CB0SYA",
        "outputId": "5cbd2df6-f480-4d35-c2d8-3602f25271fa"
      },
      "outputs": [
        {
          "output_type": "stream",
          "name": "stdout",
          "text": [
            "Drive already mounted at /content/drive; to attempt to forcibly remount, call drive.mount(\"/content/drive\", force_remount=True).\n"
          ]
        }
      ],
      "source": [
        "from google.colab import drive\n",
        "drive.mount('/content/drive')"
      ]
    },
    {
      "cell_type": "code",
      "execution_count": 228,
      "metadata": {
        "colab": {
          "base_uri": "https://localhost:8080/",
          "height": 206
        },
        "id": "Bwhw7FaQoAan",
        "outputId": "969c6334-439f-42ed-e11c-f70ca51d5f79"
      },
      "outputs": [
        {
          "output_type": "execute_result",
          "data": {
            "text/plain": [
              "   age           job  marital education_qual call_type  day  mon  dur  \\\n",
              "0   58    management  married       tertiary   unknown    5  may  261   \n",
              "1   44    technician   single      secondary   unknown    5  may  151   \n",
              "2   33  entrepreneur  married      secondary   unknown    5  may   76   \n",
              "3   47   blue-collar  married        unknown   unknown    5  may   92   \n",
              "4   33       unknown   single        unknown   unknown    5  may  198   \n",
              "\n",
              "   num_calls prev_outcome   y  \n",
              "0          1      unknown  no  \n",
              "1          1      unknown  no  \n",
              "2          1      unknown  no  \n",
              "3          1      unknown  no  \n",
              "4          1      unknown  no  "
            ],
            "text/html": [
              "\n",
              "  <div id=\"df-63348286-b953-4949-99f8-29d4484508df\">\n",
              "    <div class=\"colab-df-container\">\n",
              "      <div>\n",
              "<style scoped>\n",
              "    .dataframe tbody tr th:only-of-type {\n",
              "        vertical-align: middle;\n",
              "    }\n",
              "\n",
              "    .dataframe tbody tr th {\n",
              "        vertical-align: top;\n",
              "    }\n",
              "\n",
              "    .dataframe thead th {\n",
              "        text-align: right;\n",
              "    }\n",
              "</style>\n",
              "<table border=\"1\" class=\"dataframe\">\n",
              "  <thead>\n",
              "    <tr style=\"text-align: right;\">\n",
              "      <th></th>\n",
              "      <th>age</th>\n",
              "      <th>job</th>\n",
              "      <th>marital</th>\n",
              "      <th>education_qual</th>\n",
              "      <th>call_type</th>\n",
              "      <th>day</th>\n",
              "      <th>mon</th>\n",
              "      <th>dur</th>\n",
              "      <th>num_calls</th>\n",
              "      <th>prev_outcome</th>\n",
              "      <th>y</th>\n",
              "    </tr>\n",
              "  </thead>\n",
              "  <tbody>\n",
              "    <tr>\n",
              "      <th>0</th>\n",
              "      <td>58</td>\n",
              "      <td>management</td>\n",
              "      <td>married</td>\n",
              "      <td>tertiary</td>\n",
              "      <td>unknown</td>\n",
              "      <td>5</td>\n",
              "      <td>may</td>\n",
              "      <td>261</td>\n",
              "      <td>1</td>\n",
              "      <td>unknown</td>\n",
              "      <td>no</td>\n",
              "    </tr>\n",
              "    <tr>\n",
              "      <th>1</th>\n",
              "      <td>44</td>\n",
              "      <td>technician</td>\n",
              "      <td>single</td>\n",
              "      <td>secondary</td>\n",
              "      <td>unknown</td>\n",
              "      <td>5</td>\n",
              "      <td>may</td>\n",
              "      <td>151</td>\n",
              "      <td>1</td>\n",
              "      <td>unknown</td>\n",
              "      <td>no</td>\n",
              "    </tr>\n",
              "    <tr>\n",
              "      <th>2</th>\n",
              "      <td>33</td>\n",
              "      <td>entrepreneur</td>\n",
              "      <td>married</td>\n",
              "      <td>secondary</td>\n",
              "      <td>unknown</td>\n",
              "      <td>5</td>\n",
              "      <td>may</td>\n",
              "      <td>76</td>\n",
              "      <td>1</td>\n",
              "      <td>unknown</td>\n",
              "      <td>no</td>\n",
              "    </tr>\n",
              "    <tr>\n",
              "      <th>3</th>\n",
              "      <td>47</td>\n",
              "      <td>blue-collar</td>\n",
              "      <td>married</td>\n",
              "      <td>unknown</td>\n",
              "      <td>unknown</td>\n",
              "      <td>5</td>\n",
              "      <td>may</td>\n",
              "      <td>92</td>\n",
              "      <td>1</td>\n",
              "      <td>unknown</td>\n",
              "      <td>no</td>\n",
              "    </tr>\n",
              "    <tr>\n",
              "      <th>4</th>\n",
              "      <td>33</td>\n",
              "      <td>unknown</td>\n",
              "      <td>single</td>\n",
              "      <td>unknown</td>\n",
              "      <td>unknown</td>\n",
              "      <td>5</td>\n",
              "      <td>may</td>\n",
              "      <td>198</td>\n",
              "      <td>1</td>\n",
              "      <td>unknown</td>\n",
              "      <td>no</td>\n",
              "    </tr>\n",
              "  </tbody>\n",
              "</table>\n",
              "</div>\n",
              "      <button class=\"colab-df-convert\" onclick=\"convertToInteractive('df-63348286-b953-4949-99f8-29d4484508df')\"\n",
              "              title=\"Convert this dataframe to an interactive table.\"\n",
              "              style=\"display:none;\">\n",
              "        \n",
              "  <svg xmlns=\"http://www.w3.org/2000/svg\" height=\"24px\"viewBox=\"0 0 24 24\"\n",
              "       width=\"24px\">\n",
              "    <path d=\"M0 0h24v24H0V0z\" fill=\"none\"/>\n",
              "    <path d=\"M18.56 5.44l.94 2.06.94-2.06 2.06-.94-2.06-.94-.94-2.06-.94 2.06-2.06.94zm-11 1L8.5 8.5l.94-2.06 2.06-.94-2.06-.94L8.5 2.5l-.94 2.06-2.06.94zm10 10l.94 2.06.94-2.06 2.06-.94-2.06-.94-.94-2.06-.94 2.06-2.06.94z\"/><path d=\"M17.41 7.96l-1.37-1.37c-.4-.4-.92-.59-1.43-.59-.52 0-1.04.2-1.43.59L10.3 9.45l-7.72 7.72c-.78.78-.78 2.05 0 2.83L4 21.41c.39.39.9.59 1.41.59.51 0 1.02-.2 1.41-.59l7.78-7.78 2.81-2.81c.8-.78.8-2.07 0-2.86zM5.41 20L4 18.59l7.72-7.72 1.47 1.35L5.41 20z\"/>\n",
              "  </svg>\n",
              "      </button>\n",
              "      \n",
              "  <style>\n",
              "    .colab-df-container {\n",
              "      display:flex;\n",
              "      flex-wrap:wrap;\n",
              "      gap: 12px;\n",
              "    }\n",
              "\n",
              "    .colab-df-convert {\n",
              "      background-color: #E8F0FE;\n",
              "      border: none;\n",
              "      border-radius: 50%;\n",
              "      cursor: pointer;\n",
              "      display: none;\n",
              "      fill: #1967D2;\n",
              "      height: 32px;\n",
              "      padding: 0 0 0 0;\n",
              "      width: 32px;\n",
              "    }\n",
              "\n",
              "    .colab-df-convert:hover {\n",
              "      background-color: #E2EBFA;\n",
              "      box-shadow: 0px 1px 2px rgba(60, 64, 67, 0.3), 0px 1px 3px 1px rgba(60, 64, 67, 0.15);\n",
              "      fill: #174EA6;\n",
              "    }\n",
              "\n",
              "    [theme=dark] .colab-df-convert {\n",
              "      background-color: #3B4455;\n",
              "      fill: #D2E3FC;\n",
              "    }\n",
              "\n",
              "    [theme=dark] .colab-df-convert:hover {\n",
              "      background-color: #434B5C;\n",
              "      box-shadow: 0px 1px 3px 1px rgba(0, 0, 0, 0.15);\n",
              "      filter: drop-shadow(0px 1px 2px rgba(0, 0, 0, 0.3));\n",
              "      fill: #FFFFFF;\n",
              "    }\n",
              "  </style>\n",
              "\n",
              "      <script>\n",
              "        const buttonEl =\n",
              "          document.querySelector('#df-63348286-b953-4949-99f8-29d4484508df button.colab-df-convert');\n",
              "        buttonEl.style.display =\n",
              "          google.colab.kernel.accessAllowed ? 'block' : 'none';\n",
              "\n",
              "        async function convertToInteractive(key) {\n",
              "          const element = document.querySelector('#df-63348286-b953-4949-99f8-29d4484508df');\n",
              "          const dataTable =\n",
              "            await google.colab.kernel.invokeFunction('convertToInteractive',\n",
              "                                                     [key], {});\n",
              "          if (!dataTable) return;\n",
              "\n",
              "          const docLinkHtml = 'Like what you see? Visit the ' +\n",
              "            '<a target=\"_blank\" href=https://colab.research.google.com/notebooks/data_table.ipynb>data table notebook</a>'\n",
              "            + ' to learn more about interactive tables.';\n",
              "          element.innerHTML = '';\n",
              "          dataTable['output_type'] = 'display_data';\n",
              "          await google.colab.output.renderOutput(dataTable, element);\n",
              "          const docLink = document.createElement('div');\n",
              "          docLink.innerHTML = docLinkHtml;\n",
              "          element.appendChild(docLink);\n",
              "        }\n",
              "      </script>\n",
              "    </div>\n",
              "  </div>\n",
              "  "
            ]
          },
          "metadata": {},
          "execution_count": 228
        }
      ],
      "source": [
        "df = pd.read_csv('/content/drive/MyDrive/Colab Notebooks/Customer Conversion Prediction/Customer Conversion Prediction.csv')\n",
        "df.head()"
      ]
    },
    {
      "cell_type": "code",
      "execution_count": 229,
      "metadata": {
        "colab": {
          "base_uri": "https://localhost:8080/"
        },
        "id": "9bE6-Nx5oeQp",
        "outputId": "d8b50f39-03ed-477b-a9fc-896e69011840"
      },
      "outputs": [
        {
          "output_type": "stream",
          "name": "stdout",
          "text": [
            "<class 'pandas.core.frame.DataFrame'>\n",
            "RangeIndex: 45211 entries, 0 to 45210\n",
            "Data columns (total 11 columns):\n",
            " #   Column          Non-Null Count  Dtype \n",
            "---  ------          --------------  ----- \n",
            " 0   age             45211 non-null  int64 \n",
            " 1   job             45211 non-null  object\n",
            " 2   marital         45211 non-null  object\n",
            " 3   education_qual  45211 non-null  object\n",
            " 4   call_type       45211 non-null  object\n",
            " 5   day             45211 non-null  int64 \n",
            " 6   mon             45211 non-null  object\n",
            " 7   dur             45211 non-null  int64 \n",
            " 8   num_calls       45211 non-null  int64 \n",
            " 9   prev_outcome    45211 non-null  object\n",
            " 10  y               45211 non-null  object\n",
            "dtypes: int64(4), object(7)\n",
            "memory usage: 3.8+ MB\n"
          ]
        }
      ],
      "source": [
        "# Looking into the Dataset\n",
        "df.info()"
      ]
    },
    {
      "cell_type": "code",
      "execution_count": 230,
      "metadata": {
        "colab": {
          "base_uri": "https://localhost:8080/"
        },
        "id": "w5fUJtVNq9K_",
        "outputId": "74a55ac3-e4a3-488c-f8c4-d50d0713e66b"
      },
      "outputs": [
        {
          "output_type": "execute_result",
          "data": {
            "text/plain": [
              "(45211, 11)"
            ]
          },
          "metadata": {},
          "execution_count": 230
        }
      ],
      "source": [
        "df.shape"
      ]
    },
    {
      "cell_type": "code",
      "execution_count": 231,
      "metadata": {
        "colab": {
          "base_uri": "https://localhost:8080/",
          "height": 300
        },
        "id": "OSAzGyFNqVxR",
        "outputId": "17a08e9a-0c2d-4f7f-ff46-8906a08276bf"
      },
      "outputs": [
        {
          "output_type": "execute_result",
          "data": {
            "text/plain": [
              "                age           day           dur     num_calls\n",
              "count  45211.000000  45211.000000  45211.000000  45211.000000\n",
              "mean      40.936210     15.806419    258.163080      2.763841\n",
              "std       10.618762      8.322476    257.527812      3.098021\n",
              "min       18.000000      1.000000      0.000000      1.000000\n",
              "25%       33.000000      8.000000    103.000000      1.000000\n",
              "50%       39.000000     16.000000    180.000000      2.000000\n",
              "75%       48.000000     21.000000    319.000000      3.000000\n",
              "max       95.000000     31.000000   4918.000000     63.000000"
            ],
            "text/html": [
              "\n",
              "  <div id=\"df-75cd981f-1e41-4624-b406-8cc842cbb1be\">\n",
              "    <div class=\"colab-df-container\">\n",
              "      <div>\n",
              "<style scoped>\n",
              "    .dataframe tbody tr th:only-of-type {\n",
              "        vertical-align: middle;\n",
              "    }\n",
              "\n",
              "    .dataframe tbody tr th {\n",
              "        vertical-align: top;\n",
              "    }\n",
              "\n",
              "    .dataframe thead th {\n",
              "        text-align: right;\n",
              "    }\n",
              "</style>\n",
              "<table border=\"1\" class=\"dataframe\">\n",
              "  <thead>\n",
              "    <tr style=\"text-align: right;\">\n",
              "      <th></th>\n",
              "      <th>age</th>\n",
              "      <th>day</th>\n",
              "      <th>dur</th>\n",
              "      <th>num_calls</th>\n",
              "    </tr>\n",
              "  </thead>\n",
              "  <tbody>\n",
              "    <tr>\n",
              "      <th>count</th>\n",
              "      <td>45211.000000</td>\n",
              "      <td>45211.000000</td>\n",
              "      <td>45211.000000</td>\n",
              "      <td>45211.000000</td>\n",
              "    </tr>\n",
              "    <tr>\n",
              "      <th>mean</th>\n",
              "      <td>40.936210</td>\n",
              "      <td>15.806419</td>\n",
              "      <td>258.163080</td>\n",
              "      <td>2.763841</td>\n",
              "    </tr>\n",
              "    <tr>\n",
              "      <th>std</th>\n",
              "      <td>10.618762</td>\n",
              "      <td>8.322476</td>\n",
              "      <td>257.527812</td>\n",
              "      <td>3.098021</td>\n",
              "    </tr>\n",
              "    <tr>\n",
              "      <th>min</th>\n",
              "      <td>18.000000</td>\n",
              "      <td>1.000000</td>\n",
              "      <td>0.000000</td>\n",
              "      <td>1.000000</td>\n",
              "    </tr>\n",
              "    <tr>\n",
              "      <th>25%</th>\n",
              "      <td>33.000000</td>\n",
              "      <td>8.000000</td>\n",
              "      <td>103.000000</td>\n",
              "      <td>1.000000</td>\n",
              "    </tr>\n",
              "    <tr>\n",
              "      <th>50%</th>\n",
              "      <td>39.000000</td>\n",
              "      <td>16.000000</td>\n",
              "      <td>180.000000</td>\n",
              "      <td>2.000000</td>\n",
              "    </tr>\n",
              "    <tr>\n",
              "      <th>75%</th>\n",
              "      <td>48.000000</td>\n",
              "      <td>21.000000</td>\n",
              "      <td>319.000000</td>\n",
              "      <td>3.000000</td>\n",
              "    </tr>\n",
              "    <tr>\n",
              "      <th>max</th>\n",
              "      <td>95.000000</td>\n",
              "      <td>31.000000</td>\n",
              "      <td>4918.000000</td>\n",
              "      <td>63.000000</td>\n",
              "    </tr>\n",
              "  </tbody>\n",
              "</table>\n",
              "</div>\n",
              "      <button class=\"colab-df-convert\" onclick=\"convertToInteractive('df-75cd981f-1e41-4624-b406-8cc842cbb1be')\"\n",
              "              title=\"Convert this dataframe to an interactive table.\"\n",
              "              style=\"display:none;\">\n",
              "        \n",
              "  <svg xmlns=\"http://www.w3.org/2000/svg\" height=\"24px\"viewBox=\"0 0 24 24\"\n",
              "       width=\"24px\">\n",
              "    <path d=\"M0 0h24v24H0V0z\" fill=\"none\"/>\n",
              "    <path d=\"M18.56 5.44l.94 2.06.94-2.06 2.06-.94-2.06-.94-.94-2.06-.94 2.06-2.06.94zm-11 1L8.5 8.5l.94-2.06 2.06-.94-2.06-.94L8.5 2.5l-.94 2.06-2.06.94zm10 10l.94 2.06.94-2.06 2.06-.94-2.06-.94-.94-2.06-.94 2.06-2.06.94z\"/><path d=\"M17.41 7.96l-1.37-1.37c-.4-.4-.92-.59-1.43-.59-.52 0-1.04.2-1.43.59L10.3 9.45l-7.72 7.72c-.78.78-.78 2.05 0 2.83L4 21.41c.39.39.9.59 1.41.59.51 0 1.02-.2 1.41-.59l7.78-7.78 2.81-2.81c.8-.78.8-2.07 0-2.86zM5.41 20L4 18.59l7.72-7.72 1.47 1.35L5.41 20z\"/>\n",
              "  </svg>\n",
              "      </button>\n",
              "      \n",
              "  <style>\n",
              "    .colab-df-container {\n",
              "      display:flex;\n",
              "      flex-wrap:wrap;\n",
              "      gap: 12px;\n",
              "    }\n",
              "\n",
              "    .colab-df-convert {\n",
              "      background-color: #E8F0FE;\n",
              "      border: none;\n",
              "      border-radius: 50%;\n",
              "      cursor: pointer;\n",
              "      display: none;\n",
              "      fill: #1967D2;\n",
              "      height: 32px;\n",
              "      padding: 0 0 0 0;\n",
              "      width: 32px;\n",
              "    }\n",
              "\n",
              "    .colab-df-convert:hover {\n",
              "      background-color: #E2EBFA;\n",
              "      box-shadow: 0px 1px 2px rgba(60, 64, 67, 0.3), 0px 1px 3px 1px rgba(60, 64, 67, 0.15);\n",
              "      fill: #174EA6;\n",
              "    }\n",
              "\n",
              "    [theme=dark] .colab-df-convert {\n",
              "      background-color: #3B4455;\n",
              "      fill: #D2E3FC;\n",
              "    }\n",
              "\n",
              "    [theme=dark] .colab-df-convert:hover {\n",
              "      background-color: #434B5C;\n",
              "      box-shadow: 0px 1px 3px 1px rgba(0, 0, 0, 0.15);\n",
              "      filter: drop-shadow(0px 1px 2px rgba(0, 0, 0, 0.3));\n",
              "      fill: #FFFFFF;\n",
              "    }\n",
              "  </style>\n",
              "\n",
              "      <script>\n",
              "        const buttonEl =\n",
              "          document.querySelector('#df-75cd981f-1e41-4624-b406-8cc842cbb1be button.colab-df-convert');\n",
              "        buttonEl.style.display =\n",
              "          google.colab.kernel.accessAllowed ? 'block' : 'none';\n",
              "\n",
              "        async function convertToInteractive(key) {\n",
              "          const element = document.querySelector('#df-75cd981f-1e41-4624-b406-8cc842cbb1be');\n",
              "          const dataTable =\n",
              "            await google.colab.kernel.invokeFunction('convertToInteractive',\n",
              "                                                     [key], {});\n",
              "          if (!dataTable) return;\n",
              "\n",
              "          const docLinkHtml = 'Like what you see? Visit the ' +\n",
              "            '<a target=\"_blank\" href=https://colab.research.google.com/notebooks/data_table.ipynb>data table notebook</a>'\n",
              "            + ' to learn more about interactive tables.';\n",
              "          element.innerHTML = '';\n",
              "          dataTable['output_type'] = 'display_data';\n",
              "          await google.colab.output.renderOutput(dataTable, element);\n",
              "          const docLink = document.createElement('div');\n",
              "          docLink.innerHTML = docLinkHtml;\n",
              "          element.appendChild(docLink);\n",
              "        }\n",
              "      </script>\n",
              "    </div>\n",
              "  </div>\n",
              "  "
            ]
          },
          "metadata": {},
          "execution_count": 231
        }
      ],
      "source": [
        "df.describe()"
      ]
    },
    {
      "cell_type": "markdown",
      "metadata": {
        "id": "LJWsg8tXqhZK"
      },
      "source": [
        "# ***Data Cleaning***"
      ]
    },
    {
      "cell_type": "code",
      "execution_count": 232,
      "metadata": {
        "colab": {
          "base_uri": "https://localhost:8080/"
        },
        "id": "4nXLJrmVqagW",
        "outputId": "61155130-200a-4918-fb0e-456c45f2d66a"
      },
      "outputs": [
        {
          "output_type": "execute_result",
          "data": {
            "text/plain": [
              "age               0\n",
              "job               0\n",
              "marital           0\n",
              "education_qual    0\n",
              "call_type         0\n",
              "day               0\n",
              "mon               0\n",
              "dur               0\n",
              "num_calls         0\n",
              "prev_outcome      0\n",
              "y                 0\n",
              "dtype: int64"
            ]
          },
          "metadata": {},
          "execution_count": 232
        }
      ],
      "source": [
        "# Checking for Null values\n",
        "df.isna().sum()"
      ]
    },
    {
      "cell_type": "markdown",
      "metadata": {
        "id": "Bh2buaRLrTA2"
      },
      "source": [
        "There are no null values in the given dataset."
      ]
    },
    {
      "cell_type": "code",
      "execution_count": 233,
      "metadata": {
        "colab": {
          "base_uri": "https://localhost:8080/"
        },
        "id": "YBvaNo6wurio",
        "outputId": "b61d8caa-fc8f-4597-bf5d-4a78d45cbbc8"
      },
      "outputs": [
        {
          "output_type": "execute_result",
          "data": {
            "text/plain": [
              "blue-collar      9732\n",
              "management       9458\n",
              "technician       7597\n",
              "admin.           5171\n",
              "services         4154\n",
              "retired          2264\n",
              "self-employed    1579\n",
              "entrepreneur     1487\n",
              "unemployed       1303\n",
              "housemaid        1240\n",
              "student           938\n",
              "unknown           288\n",
              "Name: job, dtype: int64"
            ]
          },
          "metadata": {},
          "execution_count": 233
        }
      ],
      "source": [
        "# Exploring the Dataset\n",
        "df.job.value_counts()"
      ]
    },
    {
      "cell_type": "code",
      "execution_count": 234,
      "metadata": {
        "colab": {
          "base_uri": "https://localhost:8080/"
        },
        "id": "brUSGIIL_5H7",
        "outputId": "ae4da238-0e9f-406f-8251-23797320bc87"
      },
      "outputs": [
        {
          "output_type": "execute_result",
          "data": {
            "text/plain": [
              "32    2085\n",
              "31    1996\n",
              "33    1972\n",
              "34    1930\n",
              "35    1894\n",
              "      ... \n",
              "93       2\n",
              "90       2\n",
              "95       2\n",
              "88       2\n",
              "94       1\n",
              "Name: age, Length: 77, dtype: int64"
            ]
          },
          "metadata": {},
          "execution_count": 234
        }
      ],
      "source": [
        "df.age.value_counts()"
      ]
    },
    {
      "cell_type": "code",
      "execution_count": 235,
      "metadata": {
        "colab": {
          "base_uri": "https://localhost:8080/"
        },
        "id": "UiRPe-Y7vqIv",
        "outputId": "9e82ea11-09a3-4293-a633-70e3af9c7ead"
      },
      "outputs": [
        {
          "output_type": "execute_result",
          "data": {
            "text/plain": [
              "married     27214\n",
              "single      12790\n",
              "divorced     5207\n",
              "Name: marital, dtype: int64"
            ]
          },
          "metadata": {},
          "execution_count": 235
        }
      ],
      "source": [
        "df.marital.value_counts()"
      ]
    },
    {
      "cell_type": "code",
      "execution_count": 236,
      "metadata": {
        "colab": {
          "base_uri": "https://localhost:8080/"
        },
        "id": "9O5EvU0Ivx6s",
        "outputId": "40013f64-89ce-4cc4-f032-7d2820ed31aa"
      },
      "outputs": [
        {
          "output_type": "execute_result",
          "data": {
            "text/plain": [
              "secondary    23202\n",
              "tertiary     13301\n",
              "primary       6851\n",
              "unknown       1857\n",
              "Name: education_qual, dtype: int64"
            ]
          },
          "metadata": {},
          "execution_count": 236
        }
      ],
      "source": [
        "df.education_qual.value_counts()"
      ]
    },
    {
      "cell_type": "code",
      "execution_count": 237,
      "metadata": {
        "colab": {
          "base_uri": "https://localhost:8080/"
        },
        "id": "bodrEJ7_v_lp",
        "outputId": "a962e33c-b7b6-4a28-b1ca-4ad50e3dcced"
      },
      "outputs": [
        {
          "output_type": "execute_result",
          "data": {
            "text/plain": [
              "cellular     29285\n",
              "unknown      13020\n",
              "telephone     2906\n",
              "Name: call_type, dtype: int64"
            ]
          },
          "metadata": {},
          "execution_count": 237
        }
      ],
      "source": [
        "df.call_type.value_counts()"
      ]
    },
    {
      "cell_type": "code",
      "execution_count": 238,
      "metadata": {
        "colab": {
          "base_uri": "https://localhost:8080/"
        },
        "id": "EiotO3MfAiZp",
        "outputId": "38d9fe8c-2e49-495d-a190-46541548f8a8"
      },
      "outputs": [
        {
          "output_type": "execute_result",
          "data": {
            "text/plain": [
              "20    2752\n",
              "18    2308\n",
              "21    2026\n",
              "17    1939\n",
              "6     1932\n",
              "5     1910\n",
              "14    1848\n",
              "8     1842\n",
              "28    1830\n",
              "7     1817\n",
              "19    1757\n",
              "29    1745\n",
              "15    1703\n",
              "12    1603\n",
              "13    1585\n",
              "30    1566\n",
              "9     1561\n",
              "11    1479\n",
              "4     1445\n",
              "16    1415\n",
              "2     1293\n",
              "27    1121\n",
              "3     1079\n",
              "26    1035\n",
              "23     939\n",
              "22     905\n",
              "25     840\n",
              "31     643\n",
              "10     524\n",
              "24     447\n",
              "1      322\n",
              "Name: day, dtype: int64"
            ]
          },
          "metadata": {},
          "execution_count": 238
        }
      ],
      "source": [
        "df.day.value_counts()"
      ]
    },
    {
      "cell_type": "code",
      "execution_count": 239,
      "metadata": {
        "colab": {
          "base_uri": "https://localhost:8080/"
        },
        "id": "pbEG8P1yv_jA",
        "outputId": "de6ff56f-3a19-4066-c6e9-70564a77d460"
      },
      "outputs": [
        {
          "output_type": "execute_result",
          "data": {
            "text/plain": [
              "may    13766\n",
              "jul     6895\n",
              "aug     6247\n",
              "jun     5341\n",
              "nov     3970\n",
              "apr     2932\n",
              "feb     2649\n",
              "jan     1403\n",
              "oct      738\n",
              "sep      579\n",
              "mar      477\n",
              "dec      214\n",
              "Name: mon, dtype: int64"
            ]
          },
          "metadata": {},
          "execution_count": 239
        }
      ],
      "source": [
        "df.mon.value_counts()"
      ]
    },
    {
      "cell_type": "code",
      "execution_count": 240,
      "metadata": {
        "colab": {
          "base_uri": "https://localhost:8080/"
        },
        "id": "h1g-gcDuAqCK",
        "outputId": "1b568507-bba7-4b16-ae90-2105809e7412"
      },
      "outputs": [
        {
          "output_type": "execute_result",
          "data": {
            "text/plain": [
              "array([ 261,  151,   76, ..., 1127,  508,  361])"
            ]
          },
          "metadata": {},
          "execution_count": 240
        }
      ],
      "source": [
        "df.dur.values"
      ]
    },
    {
      "cell_type": "code",
      "execution_count": 241,
      "metadata": {
        "colab": {
          "base_uri": "https://localhost:8080/"
        },
        "id": "wd9MS7VSAyuu",
        "outputId": "d9b8a2f1-2870-447a-91cf-c0ba4a553c52"
      },
      "outputs": [
        {
          "output_type": "execute_result",
          "data": {
            "text/plain": [
              "1     17544\n",
              "2     12505\n",
              "3      5521\n",
              "4      3522\n",
              "5      1764\n",
              "6      1291\n",
              "7       735\n",
              "8       540\n",
              "9       327\n",
              "10      266\n",
              "11      201\n",
              "12      155\n",
              "13      133\n",
              "14       93\n",
              "15       84\n",
              "16       79\n",
              "17       69\n",
              "18       51\n",
              "19       44\n",
              "20       43\n",
              "21       35\n",
              "22       23\n",
              "25       22\n",
              "23       22\n",
              "24       20\n",
              "29       16\n",
              "28       16\n",
              "26       13\n",
              "31       12\n",
              "27       10\n",
              "32        9\n",
              "30        8\n",
              "33        6\n",
              "34        5\n",
              "36        4\n",
              "35        4\n",
              "43        3\n",
              "38        3\n",
              "37        2\n",
              "50        2\n",
              "41        2\n",
              "46        1\n",
              "58        1\n",
              "55        1\n",
              "63        1\n",
              "51        1\n",
              "39        1\n",
              "44        1\n",
              "Name: num_calls, dtype: int64"
            ]
          },
          "metadata": {},
          "execution_count": 241
        }
      ],
      "source": [
        "df.num_calls.value_counts()"
      ]
    },
    {
      "cell_type": "code",
      "execution_count": 242,
      "metadata": {
        "colab": {
          "base_uri": "https://localhost:8080/"
        },
        "id": "L84fYdkWv_gU",
        "outputId": "c8699de5-1c98-4cb6-c6ec-e45cc79b24ac"
      },
      "outputs": [
        {
          "output_type": "execute_result",
          "data": {
            "text/plain": [
              "unknown    36959\n",
              "failure     4901\n",
              "other       1840\n",
              "success     1511\n",
              "Name: prev_outcome, dtype: int64"
            ]
          },
          "metadata": {},
          "execution_count": 242
        }
      ],
      "source": [
        "df.prev_outcome.value_counts()"
      ]
    },
    {
      "cell_type": "code",
      "execution_count": 243,
      "metadata": {
        "colab": {
          "base_uri": "https://localhost:8080/"
        },
        "id": "hc8qn3dnv_da",
        "outputId": "b0e3b2ae-2c5f-4cfd-b935-f868b1f67741"
      },
      "outputs": [
        {
          "output_type": "execute_result",
          "data": {
            "text/plain": [
              "no     39922\n",
              "yes     5289\n",
              "Name: y, dtype: int64"
            ]
          },
          "metadata": {},
          "execution_count": 243
        }
      ],
      "source": [
        "df.y.value_counts()"
      ]
    },
    {
      "cell_type": "markdown",
      "metadata": {
        "id": "Xe0f5bdK6IsJ"
      },
      "source": [
        "# ***Exploratory Data Analysis***"
      ]
    },
    {
      "cell_type": "code",
      "execution_count": 244,
      "metadata": {
        "colab": {
          "base_uri": "https://localhost:8080/",
          "height": 295
        },
        "id": "Wrj9iz5MBDQY",
        "outputId": "fc229dc0-0f20-4a08-89d4-f23707291d87"
      },
      "outputs": [
        {
          "output_type": "display_data",
          "data": {
            "text/plain": [
              "<Figure size 432x288 with 1 Axes>"
            ],
            "image/png": "[encoded data removed]"
          },
          "metadata": {
            "needs_background": "light"
          }
        }
      ],
      "source": [
        "# Visualising the Data\n",
        "sns.countplot(x=df['y'])\n",
        "plt.title('Count of customer conversion.')\n",
        "plt.xlabel('Customer conversion')\n",
        "plt.ylabel('Count')\n",
        "plt.show()"
      ]
    },
    {
      "cell_type": "markdown",
      "metadata": {
        "id": "UDFlg_DwC5aD"
      },
      "source": [
        "The following graph of target variable shows it is an unequal distribution."
      ]
    },
    {
      "cell_type": "markdown",
      "metadata": {
        "id": "JsQbVgRqQzhl"
      },
      "source": [
        "## **age**"
      ]
    },
    {
      "cell_type": "code",
      "execution_count": 245,
      "metadata": {
        "colab": {
          "base_uri": "https://localhost:8080/",
          "height": 542
        },
        "id": "KMfbh2AyCE7u",
        "outputId": "659505a5-8a9f-4ea1-d335-f35e0a05e728"
      },
      "outputs": [
        {
          "output_type": "display_data",
          "data": {
            "text/html": [
              "<html>\n",
              "<head><meta charset=\"utf-8\" /></head>\n",
              "<body>\n",
              "    <div>            <script src=\"https://cdnjs.cloudflare.com/ajax/libs/mathjax/2.7.5/MathJax.js?config=TeX-AMS-MML_SVG\"></script><script type=\"text/javascript\">if (window.MathJax) {MathJax.Hub.Config({SVG: {font: \"STIX-Web\"}});}</script>                <script type=\"text/javascript\">window.PlotlyConfig = {MathJaxConfig: 'local'};</script>\n",
              "        <script src=\"https://cdn.plot.ly/plotly-2.8.3.min.js\"></script>                <div id=\"cd93e920-c339-406c-9711-01784b1830b7\" class=\"plotly-graph-div\" style=\"height:525px; width:100%;\"></div>            <script type=\"text/javascript\">                                    window.PLOTLYENV=window.PLOTLYENV || {};                                    if (document.getElementById(\"cd93e920-c339-406c-9711-01784b1830b7\")) {                    Plotly.newPlot(                        \"cd93e920-c339-406c-9711-01784b1830b7\",                        [{\"alignmentgroup\":\"True\",\"bingroup\":\"x\",\"hovertemplate\":\"x=%{x}<br>count=%{y}<extra></extra>\",\"legendgroup\":\"\",\"marker\":{\"color\":\"#636efa\",\"pattern\":{\"shape\":\"\"}},\"name\":\"\",\"offsetgroup\":\"\",\"orientation\":\"v\",\"showlegend\":false,\"x\":[58,44,33,47,33,35,28,42,58,43,41,29,53,58,57,51,45,57,60,33,28,56,32,25,40,44,39,52,46,36,57,49,60,59,51,57,25,53,36,37,44,50,60,54,58,36,58,44,55,29,54,48,32,42,24,38,38,47,40,46,32,53,57,33,49,51,60,59,55,35,57,31,54,55,43,53,44,55,49,55,45,47,42,59,46,51,56,41,46,57,42,30,60,60,57,36,55,60,39,46,44,53,52,59,27,44,47,34,59,45,29,46,56,36,59,44,41,33,59,57,56,51,34,43,52,33,29,34,31,55,55,32,38,55,28,23,32,43,32,46,53,34,57,37,59,33,56,48,43,54,51,26,40,39,50,41,51,60,52,48,48,39,47,40,45,26,52,54,54,50,35,44,53,35,60,53,48,34,54,51,31,35,35,38,36,58,40,54,34,31,51,33,55,42,34,33,38,50,43,61,47,48,44,35,35,50,41,41,39,42,38,53,59,36,54,40,47,53,46,39,40,28,35,55,43,48,58,33,36,53,47,31,57,53,55,45,53,37,44,49,46,43,38,43,49,42,22,40,39,51,49,53,34,33,50,39,59,30,36,40,53,34,37,42,41,30,37,39,41,40,42,40,57,56,37,59,39,49,38,36,50,41,54,58,30,33,47,50,32,40,37,54,24,54,34,56,31,24,42,57,42,51,57,36,53,50,54,55,44,43,56,54,55,37,33,46,36,51,40,42,51,49,48,32,31,55,40,47,57,41,48,42,30,58,45,49,42,53,51,32,41,43,40,50,34,53,45,39,44,55,46,45,34,36,59,31,44,33,40,46,48,42,27,48,59,46,38,43,38,23,34,38,37,25,48,49,38,43,33,55,38,49,40,43,38,58,57,32,56,58,60,37,46,27,43,32,40,38,34,47,42,48,29,50,52,50,58,46,38,46,32,51,39,48,36,34,40,43,52,33,49,32,39,40,38,43,39,54,38,40,55,42,39,40,32,55,45,35,58,35,49,34,36,24,34,51,39,50,32,42,50,40,46,37,34,44,40,37,33,35,58,39,43,39,36,57,36,50,55,44,44,39,46,39,34,40,50,31,37,39,51,41,41,43,30,54,43,59,47,40,32,29,36,55,30,39,39,50,44,37,46,32,37,29,41,45,57,48,60,26,58,34,55,41,50,49,44,44,31,34,46,42,52,29,53,43,38,46,48,30,44,31,42,40,52,45,48,45,34,34,46,49,50,34,40,36,59,45,36,56,42,30,30,47,33,36,39,56,39,42,52,36,35,47,59,57,38,46,34,28,38,56,41,52,54,61,53,47,53,46,39,56,55,44,37,35,55,37,30,37,36,38,41,48,55,28,54,30,48,31,38,37,37,56,51,39,49,51,43,32,29,48,55,53,47,39,31,39,40,40,48,33,40,59,30,31,35,54,34,32,56,32,42,33,52,52,52,30,44,35,55,33,37,42,43,38,37,31,41,41,29,38,44,39,28,33,41,40,29,38,32,45,33,34,41,41,35,40,60,47,46,31,49,29,31,38,37,35,31,41,46,40,29,49,42,54,40,53,49,40,29,36,37,39,36,44,40,49,30,57,24,46,33,43,43,40,44,35,47,33,31,40,36,56,40,41,53,39,44,38,54,58,52,28,36,60,42,42,44,51,49,47,37,34,35,35,40,55,55,35,57,53,41,57,45,43,56,31,37,30,30,54,36,55,37,38,48,55,59,37,33,44,57,30,42,51,44,46,29,39,42,50,42,39,55,46,42,45,43,42,30,47,51,38,57,42,32,46,29,59,32,44,40,31,46,43,34,39,30,56,29,40,36,37,35,35,47,31,56,57,36,45,47,29,57,45,31,31,37,30,58,33,39,33,34,36,37,35,55,34,40,42,37,42,35,44,30,45,35,36,49,31,31,39,37,33,37,42,56,37,36,29,54,38,43,47,47,38,40,33,33,53,37,40,37,35,49,26,38,52,33,31,32,35,55,32,37,45,31,38,37,38,33,38,37,29,42,40,32,47,29,53,31,59,29,59,44,38,49,43,52,40,32,47,33,35,27,50,44,43,51,32,47,34,57,43,40,28,38,37,44,41,37,30,32,30,35,55,52,33,55,33,40,39,54,39,49,52,27,26,40,47,31,53,31,33,35,46,31,35,29,51,33,37,43,42,28,57,38,39,36,57,44,48,46,43,49,29,53,30,41,33,47,58,31,38,60,33,33,52,42,30,33,46,51,40,50,42,38,36,37,33,38,52,29,37,34,43,49,33,47,50,30,44,44,30,40,41,34,53,35,34,39,39,52,34,37,39,52,35,36,48,31,43,43,39,40,58,31,41,37,44,37,39,41,52,29,60,32,50,56,48,29,40,42,34,23,30,51,52,45,41,27,50,36,46,44,47,40,36,46,58,30,43,29,41,44,44,59,39,42,31,29,39,44,49,39,27,56,43,37,54,38,31,34,35,44,30,51,37,39,33,37,46,32,43,59,46,47,31,30,38,44,52,29,43,47,43,52,32,40,57,30,48,46,59,50,50,33,39,57,49,41,43,29,56,46,42,36,29,43,48,38,46,44,28,28,36,37,56,46,34,32,33,36,35,44,37,48,38,44,31,35,54,28,38,48,31,59,29,28,50,31,32,30,32,29,30,34,34,41,36,31,39,36,39,37,52,25,42,27,42,29,38,42,35,41,57,36,56,33,41,33,35,43,36,37,51,28,43,32,36,33,39,28,26,40,44,34,47,55,48,36,31,30,46,30,32,48,48,36,41,49,26,38,27,51,33,53,36,48,27,42,61,31,37,34,55,24,41,34,29,42,45,49,26,35,49,44,41,50,58,43,34,57,43,38,35,49,33,60,33,33,47,37,34,32,36,40,57,48,26,30,41,30,35,36,52,45,35,46,39,38,38,31,39,32,32,26,35,26,33,41,30,36,46,30,46,38,24,41,28,55,40,38,40,54,49,44,32,36,35,31,34,36,44,44,51,36,37,31,42,55,57,33,44,30,37,32,33,31,46,34,51,49,52,43,35,27,43,49,50,33,49,50,42,28,41,34,58,46,46,42,40,42,33,27,43,28,34,37,41,39,37,41,36,51,28,31,33,28,31,43,48,26,34,38,51,49,60,32,36,28,34,40,33,37,40,59,39,28,30,40,28,39,44,39,30,35,31,47,26,25,42,30,28,46,43,38,31,29,34,40,30,44,38,43,32,33,32,40,34,30,53,39,46,32,60,40,47,25,44,38,45,34,36,30,35,39,46,36,22,26,48,32,58,57,53,29,34,32,55,50,43,44,27,35,45,35,49,34,46,43,42,55,37,31,57,33,43,60,51,38,37,41,42,41,33,32,30,43,30,37,34,32,42,35,34,50,34,38,28,55,38,31,57,50,47,39,34,41,59,35,31,55,36,41,44,40,32,38,27,33,37,40,33,40,27,42,41,37,38,44,31,34,46,33,36,32,27,31,41,35,50,33,48,36,29,34,39,32,59,50,37,33,52,43,53,37,50,53,47,48,35,42,43,40,36,39,32,44,43,53,41,53,31,51,32,52,41,30,32,31,38,44,36,34,40,41,56,39,34,41,39,33,52,26,54,30,35,47,53,29,36,35,43,38,39,58,33,60,45,39,35,41,40,33,32,44,34,29,49,31,47,34,32,32,56,28,35,52,35,32,42,51,47,34,45,31,40,53,44,49,47,31,45,30,40,27,28,28,44,35,29,33,32,35,31,36,41,35,40,42,34,41,43,37,26,32,51,38,51,49,31,33,30,33,41,37,33,32,46,34,32,43,28,46,52,34,27,32,37,29,40,47,34,25,30,31,35,32,28,27,37,35,34,31,36,38,25,51,26,40,26,36,59,26,49,33,31,59,38,37,31,54,41,44,28,22,31,36,37,54,28,42,35,29,59,46,32,43,41,31,26,29,31,37,35,31,30,29,29,39,31,27,22,31,39,25,27,28,31,46,37,27,34,30,23,33,43,50,31,32,32,37,60,47,32,34,36,28,31,43,32,31,56,34,46,27,33,35,29,39,48,58,36,33,32,32,31,30,30,40,35,42,60,28,29,33,23,34,29,32,55,39,37,26,35,26,34,55,39,27,30,28,33,43,50,26,33,47,33,34,33,23,29,33,41,27,34,53,34,40,27,33,40,21,31,51,26,26,32,31,27,58,39,30,29,38,29,28,41,43,43,37,46,53,28,41,36,37,38,32,33,28,52,30,37,27,31,47,33,46,38,33,44,35,38,56,33,45,30,34,32,32,27,48,54,29,37,26,43,31,55,45,35,57,49,23,49,35,38,39,27,37,57,38,26,46,44,44,28,37,43,25,34,39,35,32,31,42,31,30,29,29,36,41,37,32,39,31,33,30,24,55,27,47,29,56,31,46,47,29,35,31,29,48,59,44,30,50,25,32,49,38,29,51,29,32,43,34,37,29,39,34,28,37,29,25,33,34,50,35,53,41,48,32,38,57,50,40,45,34,32,28,30,41,36,49,32,53,44,34,56,27,32,43,34,35,28,52,36,35,30,23,37,29,28,56,27,33,53,47,50,31,31,37,37,48,31,34,32,54,31,55,27,36,33,43,42,48,41,36,32,58,40,31,42,34,34,35,57,28,50,46,28,57,49,56,56,49,50,47,45,44,51,34,25,30,39,25,34,25,33,44,55,54,43,35,27,42,40,31,29,49,59,37,60,25,28,40,43,51,28,54,37,35,26,55,57,39,36,35,33,40,31,32,27,31,28,33,31,25,29,47,59,35,33,31,42,26,34,31,30,54,52,40,56,25,60,43,32,48,43,37,52,25,31,35,27,41,34,55,26,36,45,27,31,29,26,46,32,25,54,31,33,28,39,37,36,56,59,30,59,27,29,48,44,33,39,46,28,31,40,37,29,29,24,32,26,47,26,28,58,35,29,56,43,45,31,34,32,33,28,43,49,27,30,32,37,31,56,26,43,48,31,36,24,29,23,54,24,25,36,40,29,29,48,23,37,31,29,56,28,44,48,30,32,41,30,37,30,28,33,41,42,50,23,38,31,35,52,36,28,27,24,45,39,38,24,35,32,48,36,46,28,50,44,38,33,57,40,42,32,55,25,42,23,31,21,34,46,55,33,47,33,40,32,48,32,26,38,46,49,33,45,32,39,53,28,31,34,40,29,34,38,31,32,31,53,38,57,58,50,36,46,39,31,44,53,35,40,30,33,39,25,35,43,41,55,49,30,37,46,36,45,48,22,46,39,56,35,45,28,32,52,26,22,35,44,31,28,23,26,31,27,34,25,25,22,37,26,32,26,27,22,32,33,34,31,28,37,45,31,48,24,24,45,26,24,29,34,30,21,42,32,40,33,32,25,41,37,29,29,46,32,30,38,22,22,32,36,30,26,41,42,45,24,54,33,28,36,34,28,31,53,20,47,33,24,23,27,23,30,34,55,57,59,20,30,41,37,31,39,28,44,31,28,51,34,24,29,50,21,29,26,26,21,23,25,40,39,25,26,57,61,34,47,31,45,33,27,41,58,45,49,42,52,52,49,59,54,46,44,26,46,59,43,50,26,54,44,36,51,59,42,41,43,40,32,55,59,30,47,23,44,45,35,41,59,29,48,49,60,45,48,45,48,54,44,46,52,44,52,46,54,49,46,48,43,50,44,43,51,59,52,35,36,32,41,47,45,45,45,29,36,37,44,56,52,57,54,49,24,42,40,25,28,53,40,27,34,56,45,27,53,34,44,46,53,26,31,35,43,47,37,57,41,55,51,27,53,39,35,28,29,51,46,50,56,28,51,54,47,49,46,41,45,31,53,60,55,54,46,41,34,51,31,55,44,25,36,33,46,43,46,53,52,57,31,54,37,41,44,26,40,32,44,44,35,49,44,40,39,51,59,42,47,57,42,40,44,38,51,48,48,42,48,49,44,44,32,43,44,53,43,31,48,46,41,26,26,52,47,47,27,31,60,58,44,32,33,38,35,47,32,41,30,60,36,46,58,52,55,43,24,24,25,40,31,31,26,52,25,40,42,31,43,57,30,23,53,44,48,59,33,60,42,44,50,54,29,59,37,55,53,31,49,28,47,31,49,59,34,43,38,41,44,31,35,37,58,24,35,33,40,46,41,33,35,57,40,36,47,50,51,41,38,39,25,43,33,45,58,57,27,25,38,28,33,44,57,46,57,42,46,39,27,42,58,42,48,57,52,54,55,46,48,25,38,46,48,43,52,27,29,49,30,50,58,44,52,44,27,35,31,31,52,44,28,41,54,46,48,31,42,40,56,45,53,31,42,51,52,48,28,34,50,46,54,43,55,47,43,45,46,39,26,40,48,53,40,54,46,47,50,59,44,42,52,30,46,45,29,53,55,45,35,52,40,42,41,42,40,41,57,45,47,40,33,49,39,50,60,53,58,52,42,42,43,51,53,53,42,40,59,59,48,25,59,49,42,37,40,31,41,60,42,48,43,47,40,55,51,54,41,41,53,46,45,48,44,47,49,41,54,48,30,45,40,42,48,40,47,47,33,54,46,53,25,50,40,53,41,41,42,47,48,43,55,40,45,54,46,57,49,49,41,42,42,49,42,34,47,41,45,33,53,43,40,34,40,41,44,57,42,57,43,45,60,41,49,42,41,33,56,49,41,48,41,41,30,52,40,60,28,44,44,32,53,41,57,42,31,46,40,46,55,52,50,57,28,46,40,56,48,36,37,41,43,40,40,45,44,53,31,50,53,56,45,47,33,57,45,34,49,49,37,57,40,57,45,61,54,46,51,42,42,60,41,41,55,46,54,51,47,35,30,32,35,48,36,53,48,42,38,32,51,34,43,50,44,25,60,32,44,26,36,29,29,42,32,37,50,44,43,41,45,41,57,34,47,49,58,51,30,47,29,51,49,43,41,29,42,34,44,44,30,26,28,42,40,49,42,29,47,42,45,29,41,40,48,41,60,44,49,47,48,44,28,31,29,28,43,32,44,42,45,31,48,45,27,55,45,50,44,45,51,30,43,41,30,41,29,31,40,41,43,43,50,40,23,37,47,29,46,31,57,54,44,36,54,38,38,40,46,41,33,36,59,49,49,44,38,44,43,42,41,52,41,29,36,42,34,35,41,57,46,58,50,57,47,46,47,49,49,26,52,47,43,20,43,53,40,52,43,55,41,36,57,30,41,56,44,45,43,50,26,34,39,32,46,58,54,40,42,42,50,50,42,41,50,42,46,48,50,52,43,57,49,30,52,41,47,46,27,46,53,51,47,60,47,48,45,52,53,54,46,48,43,42,56,48,45,51,43,42,44,40,57,42,58,40,49,46,54,60,42,43,41,60,51,48,41,50,41,60,54,49,47,36,45,49,47,46,29,44,52,33,43,45,42,50,58,50,56,46,44,52,55,44,46,47,40,48,34,46,43,40,39,57,54,46,41,47,40,50,40,47,57,47,44,47,53,59,40,60,45,57,45,44,21,42,30,57,53,51,53,54,44,56,46,45,42,49,56,44,54,51,49,45,58,53,42,49,53,50,53,26,46,45,50,42,42,54,60,49,40,45,40,60,42,60,60,41,60,23,46,44,29,34,59,50,60,49,55,54,42,60,47,41,47,41,57,53,44,35,41,28,55,55,40,35,58,25,43,29,46,41,60,47,60,33,34,57,42,47,33,43,40,35,26,53,55,46,24,47,41,55,32,30,54,41,42,43,54,56,54,30,53,45,41,28,58,57,54,39,41,60,42,47,41,46,45,48,57,54,30,41,46,35,28,58,35,25,56,41,44,36,41,58,46,42,58,53,51,38,54,46,39,22,47,34,42,44,45,38,46,34,41,27,56,43,34,25,35,46,32,55,40,43,41,33,32,39,42,33,32,46,42,39,43,33,59,48,31,47,54,48,33,27,47,56,26,55,33,52,60,50,43,29,54,30,50,48,55,56,48,36,41,30,59,27,55,45,58,44,43,59,41,43,49,44,48,40,43,26,46,58,53,56,43,36,34,51,51,45,54,42,53,35,49,55,31,52,50,32,34,42,33,43,31,25,49,56,43,41,46,60,48,57,42,50,36,44,40,55,24,52,49,30,32,46,36,44,48,49,44,23,45,54,43,44,52,37,53,31,56,40,58,42,59,45,53,55,60,48,43,47,33,37,60,52,31,31,53,45,56,36,40,42,52,46,59,41,61,57,32,55,54,55,31,43,49,31,34,31,23,35,43,31,45,29,27,52,58,39,52,60,52,45,58,56,51,50,39,58,51,45,41,28,51,45,46,43,53,50,55,52,53,51,31,41,39,60,39,41,36,40,29,32,45,32,31,58,40,40,36,40,35,39,39,30,57,60,55,40,27,40,28,32,53,29,29,45,32,47,40,33,55,31,33,42,31,41,43,36,48,31,45,43,42,40,29,26,53,31,25,26,36,43,45,56,51,47,44,31,46,32,31,45,31,40,43,26,29,30,39,51,58,44,49,30,38,40,34,41,37,32,31,38,34,42,27,35,43,29,33,57,50,28,45,33,24,34,23,59,40,44,33,29,39,36,34,35,47,40,30,27,40,26,46,43,36,32,47,29,36,33,57,30,59,32,56,25,30,32,30,45,47,25,28,30,28,27,32,32,40,29,38,37,22,23,30,27,31,26,36,29,37,39,38,27,58,36,24,25,43,38,40,33,35,46,30,24,24,45,45,53,34,24,57,55,52,54,29,23,24,59,37,40,54,35,56,28,32,40,32,41,55,52,58,29,44,53,44,41,44,38,27,44,45,30,47,54,29,50,32,57,51,32,27,41,53,29,28,27,49,44,32,56,34,43,41,41,47,33,47,46,46,30,41,30,56,40,47,36,60,34,44,29,48,55,60,29,30,35,37,42,34,50,27,45,50,43,32,55,40,56,21,27,24,25,41,49,44,42,45,48,51,33,32,41,29,49,49,25,33,50,50,40,32,43,24,49,36,42,31,30,46,35,44,33,42,39,41,58,40,37,45,49,35,28,32,45,44,55,37,28,43,35,30,54,34,30,46,52,44,36,44,44,24,56,41,51,53,41,26,53,30,27,32,40,55,35,32,57,32,55,43,42,27,36,32,53,34,23,31,46,31,42,52,38,38,60,42,30,53,35,45,57,41,44,56,46,34,51,27,31,51,25,48,37,35,58,47,58,36,38,27,44,47,26,29,60,37,35,44,50,41,26,43,46,54,46,46,55,45,58,48,38,57,54,40,44,55,40,42,48,52,31,60,51,50,44,33,43,46,43,50,41,50,50,40,30,44,51,40,38,52,49,44,39,43,32,55,55,42,26,54,34,46,25,49,59,57,27,38,41,56,37,32,47,57,38,30,43,35,28,38,45,31,38,28,40,30,47,27,30,53,48,35,38,32,53,25,45,28,30,31,42,60,28,46,40,32,56,20,41,48,49,29,57,49,42,28,31,26,29,26,31,38,45,24,31,40,34,24,26,29,30,61,26,31,28,31,52,30,32,38,40,38,54,42,34,42,54,27,31,34,31,27,25,20,54,30,33,22,36,44,43,44,49,27,45,41,28,51,49,42,55,41,51,46,41,32,43,48,52,29,51,48,34,52,31,41,40,51,42,31,34,41,43,54,47,41,40,23,48,36,44,31,32,49,23,41,52,41,22,60,60,35,49,32,45,29,45,28,21,31,27,43,24,28,42,40,42,31,47,40,31,26,52,31,44,27,41,28,27,34,44,36,37,27,32,31,51,47,23,30,50,52,34,28,28,57,31,35,49,32,28,51,32,37,55,27,49,22,36,46,57,55,34,44,45,30,30,45,34,41,45,46,37,45,42,49,54,60,24,43,49,45,54,39,23,48,38,44,53,28,38,27,25,35,31,40,27,53,32,37,37,47,36,52,52,50,45,52,23,44,27,57,48,51,53,46,49,30,41,42,34,44,34,28,31,48,38,38,32,33,41,33,37,55,32,33,54,39,60,30,34,57,36,39,38,37,36,39,35,47,37,39,35,32,30,38,35,31,35,38,34,30,31,54,40,35,35,29,33,31,51,35,38,36,37,29,53,34,31,38,36,36,32,38,36,35,31,32,32,36,32,33,30,39,35,31,30,34,30,31,39,36,32,33,33,34,39,35,60,34,33,59,31,36,36,38,32,32,39,39,33,23,39,36,38,35,27,31,58,34,31,36,34,37,37,33,33,39,35,35,34,39,37,42,40,37,37,36,35,35,37,35,30,37,31,56,37,33,40,38,41,38,36,31,31,52,31,39,35,22,38,39,34,34,36,32,33,33,36,32,42,43,35,37,33,26,37,33,40,36,35,36,39,60,34,32,33,59,35,34,42,38,33,32,30,34,59,32,54,48,36,29,39,54,36,33,32,41,34,34,53,38,33,32,33,35,34,37,38,39,43,39,38,40,38,32,31,32,37,30,46,36,34,32,34,33,37,34,37,31,47,36,31,33,33,39,37,34,33,31,33,30,34,31,36,37,31,39,34,43,43,34,36,55,31,32,31,31,33,32,44,33,39,39,33,40,34,39,32,34,59,39,34,36,35,39,57,46,58,32,34,35,36,40,44,31,55,35,31,35,36,36,30,31,41,36,59,36,32,39,38,40,39,30,38,32,37,31,44,45,36,27,27,48,41,36,32,31,43,33,31,35,27,32,58,40,36,39,37,30,32,52,32,33,39,39,34,29,36,35,49,31,39,32,35,38,34,35,34,34,27,30,32,30,38,31,23,30,56,32,35,40,57,58,32,38,50,30,34,30,38,55,31,41,38,49,26,60,57,37,39,39,57,35,30,31,32,30,32,36,34,39,42,33,32,35,38,39,54,38,33,34,32,32,37,36,32,34,34,39,42,33,40,35,38,39,31,38,58,33,34,34,37,38,34,34,39,35,36,31,30,35,35,31,38,36,36,33,34,32,39,33,38,41,38,35,39,40,38,33,34,28,36,34,39,32,38,39,30,31,37,36,34,37,31,48,31,34,36,36,35,35,33,26,37,32,33,34,36,36,41,33,35,30,34,34,36,30,36,31,34,30,33,31,37,38,33,32,34,31,51,30,35,32,31,34,33,31,33,36,33,59,35,33,32,23,33,30,31,25,37,34,29,35,31,33,31,28,33,35,34,30,32,37,35,57,37,27,39,33,34,40,31,32,31,35,38,48,37,45,27,33,31,33,36,37,37,32,30,37,34,54,36,39,36,37,49,31,36,31,29,34,32,31,37,34,35,32,35,31,41,31,32,33,52,32,32,32,34,35,36,37,32,34,27,33,36,37,32,32,29,34,33,31,32,31,33,38,35,37,42,34,32,28,29,21,31,34,35,32,32,38,29,31,36,30,33,32,27,38,38,28,40,34,28,35,38,34,43,30,31,29,31,25,27,34,39,38,27,28,33,48,32,32,34,34,35,32,31,32,28,33,30,39,57,39,24,34,32,32,33,58,32,28,32,30,28,32,37,29,34,28,36,37,35,33,34,35,24,35,40,32,38,35,39,34,33,36,52,58,39,26,34,38,35,30,33,38,31,34,33,46,27,35,32,33,37,37,31,40,34,32,36,33,27,31,32,53,39,33,48,38,33,38,30,39,33,46,32,33,28,38,33,37,32,31,32,34,32,34,37,31,30,31,32,33,31,31,28,36,38,31,31,36,37,36,31,34,34,32,31,33,34,35,30,36,26,44,23,36,39,49,38,51,25,39,31,37,27,32,34,46,37,36,32,31,53,33,30,31,38,30,49,44,32,56,34,27,47,35,40,30,48,39,33,38,33,37,57,36,37,32,26,33,46,27,52,36,33,35,35,28,35,30,52,36,39,39,33,32,29,37,43,33,33,32,54,33,33,38,34,33,32,31,33,34,35,31,33,31,32,36,30,43,55,31,32,33,31,35,30,35,29,36,37,32,33,34,37,33,34,37,31,34,35,31,33,40,31,30,30,37,38,33,34,35,30,40,31,32,31,30,34,30,32,31,34,30,32,37,33,31,37,32,34,34,35,33,31,32,32,32,31,30,30,41,33,34,39,33,33,22,35,34,31,39,30,36,31,42,39,25,34,31,35,44,28,28,31,32,36,32,37,36,41,32,34,31,32,39,36,34,34,35,32,36,40,36,33,31,30,33,29,36,47,32,32,50,41,29,24,56,55,32,32,56,32,28,34,36,26,51,43,42,31,29,28,52,44,38,28,24,29,24,32,27,41,42,25,36,36,24,32,37,46,29,43,30,33,46,54,36,40,34,30,30,45,25,28,30,35,48,35,30,38,55,32,45,35,30,31,46,29,33,49,37,47,39,32,55,41,39,30,31,30,44,31,34,32,26,39,35,35,32,32,30,43,29,27,27,33,29,28,32,30,39,35,49,32,35,37,45,37,40,33,36,42,30,32,26,45,35,39,33,32,27,39,43,31,50,53,31,36,45,38,31,31,36,40,30,35,42,45,41,33,32,32,30,34,33,30,34,38,36,34,24,30,34,39,36,33,31,43,34,33,33,53,54,31,46,54,37,32,40,60,33,35,33,39,58,43,38,49,35,53,40,36,42,36,35,33,37,44,35,36,31,40,38,46,29,33,32,48,32,35,32,42,32,35,39,30,30,32,28,30,44,34,38,27,31,37,45,33,39,32,31,38,32,32,33,49,32,32,31,39,37,33,35,37,31,35,38,31,30,31,44,51,31,35,34,32,31,34,32,50,36,58,30,36,31,37,33,31,37,37,40,58,46,32,26,49,30,33,44,34,31,26,31,29,36,52,31,53,35,46,39,31,38,53,27,34,40,37,32,60,49,30,41,38,44,56,49,50,31,52,58,37,43,47,53,32,37,42,33,37,40,34,41,59,30,32,42,36,44,49,56,43,50,58,43,33,34,36,59,46,51,35,37,44,48,44,30,35,42,46,50,37,56,54,33,36,39,35,25,37,44,37,29,32,59,46,34,35,53,48,35,39,36,32,30,31,48,43,42,37,40,46,43,53,30,40,38,40,40,38,49,36,45,46,42,35,34,47,29,34,36,57,47,53,40,34,33,30,31,54,35,35,32,29,34,39,41,36,29,44,43,38,39,31,54,32,58,32,31,33,28,31,34,31,28,37,32,50,45,34,56,26,37,33,47,33,27,34,44,37,45,55,31,34,58,39,31,40,37,36,28,31,33,33,28,48,28,33,29,40,28,59,51,47,25,45,59,33,34,48,39,47,43,31,29,51,32,35,34,47,33,34,26,32,57,49,30,33,34,40,29,28,31,27,30,27,54,35,33,36,26,32,30,39,29,32,39,44,38,51,39,37,41,41,29,32,29,34,54,33,26,52,35,30,30,59,24,34,52,32,44,29,48,34,37,35,45,31,38,31,26,37,39,34,29,53,49,34,31,28,33,33,24,34,48,42,34,35,43,35,59,42,35,54,50,44,23,39,56,27,31,29,43,28,46,36,28,38,31,40,40,32,39,28,41,54,31,41,38,30,57,30,40,46,43,35,38,44,43,37,35,33,43,33,31,32,28,36,33,37,39,45,44,53,47,59,27,45,30,40,33,30,26,45,33,28,44,58,46,48,24,35,33,37,33,23,33,31,29,43,32,37,26,49,39,27,33,46,31,54,59,24,33,28,34,53,45,28,49,35,32,43,29,54,39,32,26,31,52,32,41,40,45,37,34,31,42,23,37,32,39,31,32,59,31,45,36,33,34,48,55,33,28,34,33,60,39,35,31,38,28,48,37,32,30,37,24,30,33,33,34,43,41,34,46,32,52,35,27,36,52,47,34,38,24,50,36,37,51,40,39,38,43,50,35,49,36,47,54,48,43,49,32,42,38,44,31,30,38,60,35,29,43,36,29,53,38,59,28,36,40,36,58,49,43,55,35,50,48,28,34,37,33,58,44,49,28,39,26,31,32,52,32,28,32,28,53,33,39,37,45,37,45,31,32,34,39,56,32,31,43,33,23,32,32,39,39,30,37,46,29,51,46,31,40,26,32,27,36,36,27,56,28,34,34,45,40,25,32,28,33,32,36,38,23,22,56,35,33,30,34,59,26,42,48,31,28,36,27,39,35,28,32,28,34,51,50,49,36,55,58,41,29,36,24,31,30,24,36,51,23,26,29,41,35,42,29,34,34,58,31,32,56,34,30,31,28,57,35,46,51,38,33,21,38,49,54,42,44,31,52,27,33,40,57,52,30,25,36,51,32,44,26,54,27,37,30,46,36,46,36,31,35,25,21,30,44,34,34,32,40,31,29,33,47,31,29,31,34,28,42,29,53,39,33,31,34,43,33,33,25,34,26,42,40,33,39,24,30,49,33,39,30,49,60,43,33,30,24,48,26,31,36,36,31,53,32,47,34,43,42,34,30,31,52,27,51,38,41,60,53,56,37,35,37,35,44,33,36,27,34,30,33,26,29,33,30,36,36,47,37,32,28,28,53,26,42,29,32,46,52,28,45,25,60,26,38,23,35,22,34,41,28,32,27,25,25,37,37,40,58,24,52,28,29,30,35,34,51,29,35,32,29,35,28,34,32,24,45,25,33,42,41,35,31,29,26,46,35,53,31,49,44,39,28,28,31,38,30,29,38,31,24,59,22,29,31,38,51,27,34,29,27,28,38,45,44,27,41,44,41,27,38,30,31,25,32,30,30,36,30,38,41,34,45,36,34,30,36,28,29,36,32,28,35,24,36,30,35,34,32,26,24,40,32,43,29,34,34,24,49,37,26,43,39,36,25,47,37,20,28,29,31,26,41,48,34,30,34,43,25,40,35,34,26,30,34,45,44,34,39,47,35,49,28,30,31,31,39,28,27,35,47,33,34,33,33,24,29,42,57,39,33,43,26,32,34,31,48,32,55,38,36,32,38,46,28,36,44,27,39,37,38,34,32,39,52,40,56,53,39,29,32,25,30,45,35,36,32,40,37,23,37,49,53,53,33,29,37,33,45,52,48,29,40,36,44,31,30,32,38,34,39,39,38,31,33,33,30,37,42,59,25,35,29,37,26,45,28,38,57,26,34,44,29,44,26,36,30,29,30,29,59,31,26,30,37,42,30,32,46,28,26,29,29,37,31,31,27,28,41,45,24,28,30,26,23,25,28,31,31,33,27,37,49,30,24,39,36,24,29,53,46,28,35,29,33,32,27,34,31,41,30,29,38,33,27,49,24,27,31,42,42,22,54,28,40,48,46,42,39,29,40,35,38,33,31,28,30,42,28,43,28,29,36,25,28,61,32,29,26,29,30,46,53,28,27,27,25,38,40,27,50,47,60,45,29,32,25,28,24,34,50,44,29,29,25,44,52,47,35,28,32,26,57,53,29,24,26,29,42,36,26,24,29,51,31,29,28,23,26,42,40,28,27,25,29,29,28,29,24,26,32,26,31,28,52,27,38,35,38,46,32,39,29,27,28,47,27,33,30,33,40,38,32,36,30,38,25,28,55,57,31,31,38,28,23,45,46,40,29,30,31,56,39,29,44,28,26,41,31,29,33,23,50,27,45,50,41,44,56,26,34,33,30,47,26,26,51,57,33,30,40,53,27,57,45,36,39,28,34,29,51,29,32,36,50,42,29,34,33,29,44,25,26,53,45,37,43,38,31,38,32,24,34,43,40,55,34,35,59,50,55,29,32,27,36,33,32,48,47,36,29,35,48,29,28,27,51,40,60,28,42,28,27,33,34,29,34,31,31,36,26,34,30,33,39,45,35,25,57,54,30,26,33,26,53,35,27,35,39,32,31,34,38,39,46,29,47,53,29,58,34,26,31,55,30,29,44,33,42,57,38,22,36,39,45,35,22,56,31,51,37,32,39,32,30,31,51,27,33,24,52,39,31,33,27,44,56,50,54,33,51,32,32,35,47,49,54,31,26,42,45,36,40,45,27,51,30,28,32,57,31,47,34,50,33,25,39,37,40,43,32,25,34,30,41,36,28,29,30,22,28,27,31,42,32,25,55,33,45,43,32,51,35,44,44,40,24,32,51,28,45,32,25,29,29,38,44,34,31,41,35,40,29,26,59,39,33,43,50,48,46,31,43,28,40,34,42,51,41,34,43,59,48,35,53,50,33,24,52,35,30,41,45,43,42,45,50,43,31,59,40,36,27,21,37,26,39,50,39,32,57,42,42,40,30,29,35,31,43,39,37,44,52,53,41,40,41,40,55,54,55,38,54,43,41,38,52,43,27,36,36,51,50,48,44,34,48,46,51,58,35,45,53,50,42,48,47,56,42,54,53,40,37,26,46,46,45,56,36,40,32,31,56,23,29,50,39,55,35,51,33,44,44,52,45,32,40,38,53,26,33,44,35,44,42,58,43,39,32,29,41,44,36,34,35,57,42,40,35,46,44,31,26,51,42,41,45,52,52,41,47,39,52,48,39,30,40,51,51,45,39,36,28,43,48,60,41,37,33,48,50,49,47,47,41,52,48,39,31,35,33,30,23,42,32,50,36,51,39,54,36,26,30,28,35,33,25,38,37,57,35,31,55,51,56,50,36,40,28,37,44,36,49,38,50,44,37,36,33,49,45,51,50,53,58,51,43,43,41,33,32,35,39,45,39,41,52,46,35,36,35,53,52,41,56,37,35,33,39,40,53,34,35,46,42,42,41,27,49,35,45,49,36,40,33,48,60,39,36,38,50,30,39,43,40,27,44,32,42,55,45,51,37,48,34,33,30,39,33,24,41,35,28,38,50,56,34,41,34,51,49,30,45,38,50,31,41,35,50,29,46,42,43,30,38,35,45,41,52,38,40,31,42,36,36,33,39,37,49,37,38,33,35,45,32,55,43,40,34,55,58,37,45,28,25,39,46,39,31,47,54,29,38,29,31,36,34,54,56,31,28,58,45,37,47,47,41,52,42,48,32,31,59,45,38,56,37,29,40,59,29,25,51,38,42,32,31,34,43,42,30,53,48,32,29,27,39,40,40,46,34,58,49,30,44,53,30,30,37,39,27,46,32,47,56,35,58,30,40,34,52,28,44,38,30,36,31,42,51,44,58,32,44,25,46,54,46,45,20,26,36,44,40,43,44,46,49,24,33,33,46,36,44,36,40,37,37,50,40,38,55,37,52,60,38,33,36,37,26,38,50,33,44,27,37,25,34,44,40,43,35,55,42,55,30,53,50,55,35,58,56,42,38,30,35,28,41,43,51,45,27,39,49,32,39,43,40,35,45,26,52,50,42,38,35,35,39,32,40,42,37,40,46,42,33,35,55,43,52,60,49,58,29,37,36,37,45,51,40,43,41,35,54,36,42,29,45,37,36,45,38,50,38,49,59,37,46,37,35,48,48,28,38,34,37,41,36,42,54,37,34,32,31,27,33,57,29,32,51,54,45,35,38,43,53,36,49,39,58,40,40,42,44,37,53,38,36,46,44,32,50,39,55,35,55,36,32,50,50,40,52,40,55,59,51,51,36,40,37,51,58,39,26,41,49,41,41,34,49,45,41,53,42,51,32,47,41,44,35,44,42,44,28,32,44,34,37,60,45,27,24,35,52,45,29,34,24,41,37,51,37,51,29,35,44,27,43,32,51,44,45,45,57,46,36,49,42,51,35,49,47,27,43,52,32,29,50,29,39,51,35,32,39,43,38,45,43,52,40,35,44,42,29,51,41,54,42,45,42,53,48,35,32,35,46,48,31,28,36,31,49,43,53,35,31,39,41,56,37,37,31,51,25,53,53,45,36,53,32,41,36,36,27,36,32,47,51,38,27,41,49,38,44,36,55,47,48,27,43,40,47,44,26,25,55,38,38,37,30,44,35,40,30,23,46,32,38,44,33,46,32,58,35,50,32,40,30,31,57,26,36,35,50,41,58,55,35,27,40,31,37,51,52,44,27,45,54,23,59,41,40,36,42,37,42,40,42,32,23,31,43,31,29,51,25,39,52,38,37,40,46,38,56,55,40,51,33,45,55,31,42,39,35,32,27,29,31,36,22,53,37,52,52,49,35,27,48,39,32,51,47,59,41,50,55,26,53,36,54,39,40,36,32,37,54,34,27,35,37,41,38,49,59,44,37,34,58,39,40,33,43,43,36,31,41,47,39,56,50,42,48,29,37,31,50,36,27,55,39,48,49,30,53,31,43,43,48,44,39,29,46,39,53,40,52,48,50,49,34,33,39,49,40,38,24,39,32,39,31,34,36,46,59,32,41,31,31,32,38,36,45,35,35,44,39,36,34,36,38,45,29,39,32,35,51,35,57,32,34,32,33,38,37,31,55,33,31,39,31,42,28,30,33,50,36,32,36,31,33,35,29,35,27,31,32,44,30,35,38,38,37,39,38,36,51,32,32,35,31,31,31,30,33,31,34,37,31,30,37,35,33,33,31,30,37,35,33,41,46,34,38,41,30,60,33,55,32,31,34,37,35,40,32,60,31,33,37,56,29,42,32,61,42,40,31,34,30,34,35,27,53,29,36,26,35,33,44,34,30,60,32,59,40,34,31,52,52,44,39,34,50,26,35,35,35,35,36,40,24,25,30,31,52,34,50,38,34,30,30,34,37,54,35,36,26,34,43,52,35,30,41,34,43,29,47,39,39,48,31,57,50,34,34,36,38,32,53,46,30,35,49,39,40,38,47,45,42,41,46,48,40,42,35,40,41,34,35,45,47,44,45,30,34,28,40,58,44,35,35,31,35,38,29,36,35,32,33,33,28,38,44,39,53,30,28,26,48,58,33,29,42,45,28,54,46,29,59,34,36,33,32,35,45,53,39,38,32,42,30,31,31,41,35,40,49,31,32,58,32,42,39,36,42,27,35,38,31,31,30,33,35,51,47,36,34,37,40,33,35,58,28,36,41,41,43,59,43,43,50,58,39,55,44,35,48,37,31,33,37,33,23,33,49,51,43,49,39,38,42,29,31,39,42,40,42,52,28,29,44,23,35,41,60,37,36,31,39,46,30,45,47,54,51,31,36,31,39,38,49,58,28,43,55,31,52,35,41,25,37,31,34,32,46,30,42,33,32,38,30,29,43,41,30,42,37,31,26,25,51,30,30,28,27,26,54,25,26,27,29,21,25,44,35,28,42,29,30,43,54,41,36,42,42,36,52,40,39,49,41,48,50,44,45,49,34,46,38,48,47,58,45,38,37,37,37,40,23,38,43,55,53,42,48,36,45,28,37,40,44,44,38,38,43,37,37,58,40,35,26,34,46,37,24,33,32,36,48,57,39,31,35,30,32,39,38,37,30,35,49,30,23,32,27,30,32,31,32,32,30,35,37,30,46,32,34,33,59,30,31,40,31,31,33,27,31,29,44,36,37,24,51,32,36,30,47,37,27,32,47,45,28,53,45,33,41,28,35,47,27,30,40,34,39,26,27,45,43,34,30,45,43,48,25,35,29,38,39,24,43,28,35,31,23,40,38,32,26,25,31,32,43,39,36,26,44,47,40,44,30,34,37,30,44,31,41,35,38,31,54,35,49,26,28,32,33,27,31,42,39,34,25,45,28,49,48,44,51,33,26,23,43,38,57,40,41,43,39,37,27,30,39,34,28,43,41,38,31,34,61,38,31,45,28,45,39,29,26,36,54,58,45,30,52,28,42,45,57,52,39,35,39,28,38,38,30,31,32,44,31,28,37,57,36,35,34,38,58,39,45,48,23,42,35,29,48,41,55,27,28,44,37,57,29,53,27,32,25,56,36,34,42,49,39,50,27,27,41,33,34,30,26,51,31,51,29,44,28,46,23,32,31,33,35,36,57,36,41,41,45,48,29,45,33,51,38,59,46,31,49,33,34,42,41,49,24,48,43,44,44,52,54,43,42,36,41,31,33,30,33,37,27,22,29,28,59,51,23,29,29,60,27,28,29,38,34,29,35,28,28,29,57,26,39,27,26,36,24,23,25,24,21,25,34,30,27,29,26,35,27,25,23,22,31,27,23,24,29,24,25,27,30,29,33,21,30,29,48,28,25,28,29,26,26,24,27,27,28,32,52,27,27,22,28,23,29,29,37,60,51,29,26,30,49,31,30,30,32,36,47,27,26,40,43,28,27,57,32,27,38,36,45,30,48,39,24,29,35,30,28,50,41,58,31,33,35,29,29,29,29,28,26,26,24,26,47,49,52,44,39,41,28,53,54,29,49,29,27,27,28,44,29,29,35,46,25,37,29,51,35,50,28,37,35,57,28,32,30,52,33,33,47,37,42,26,40,30,31,26,50,28,51,49,42,36,39,33,40,23,50,29,43,36,29,29,54,42,49,39,39,33,29,27,52,34,44,39,39,26,27,24,27,41,36,59,29,38,36,43,32,26,32,30,25,29,29,52,44,56,55,35,59,41,36,56,43,56,48,53,39,50,35,46,39,40,49,39,56,43,33,53,51,47,38,60,38,38,38,54,59,59,37,40,41,51,46,59,49,48,35,36,50,52,44,51,36,58,39,42,57,46,53,51,43,30,25,40,37,53,59,55,37,48,44,37,42,37,37,52,57,23,44,40,44,59,45,38,48,47,60,47,52,60,58,56,32,26,58,51,57,36,41,51,55,42,45,37,57,47,39,37,39,50,37,37,37,46,47,59,42,60,39,37,60,37,45,37,55,56,31,55,46,56,28,35,44,50,42,51,42,42,59,48,57,56,48,59,36,43,44,47,27,60,59,42,35,45,60,38,53,37,54,39,45,42,50,47,38,42,46,39,56,49,39,61,45,32,53,53,36,37,54,58,46,49,41,48,47,56,41,37,29,29,48,30,37,38,60,37,39,55,40,51,33,55,26,38,38,36,43,36,48,38,44,37,58,38,37,45,46,29,39,41,44,48,39,48,36,44,37,56,39,50,41,48,59,50,36,40,55,52,40,50,59,52,40,55,53,40,35,24,53,52,38,44,39,45,32,48,37,59,35,37,41,45,43,42,59,58,41,38,38,57,40,44,33,36,39,55,53,45,50,39,39,49,30,45,38,42,36,30,53,36,56,44,58,39,55,39,49,51,39,53,41,35,37,35,38,41,35,26,41,58,58,42,40,52,51,57,46,29,40,36,55,32,58,38,46,44,26,37,57,28,47,40,35,40,39,24,34,34,38,55,39,44,45,47,46,53,51,59,39,52,39,41,42,42,52,47,39,42,38,39,35,58,56,46,60,39,48,39,41,36,44,32,37,51,32,41,26,38,36,39,56,39,52,30,25,60,38,54,40,37,43,39,33,28,27,44,38,41,44,54,30,39,51,38,36,36,35,37,50,38,40,46,39,48,38,38,58,31,51,41,26,26,26,28,38,53,56,27,48,56,37,41,38,29,43,60,36,38,40,58,41,47,60,37,58,30,47,46,54,58,41,53,35,46,51,35,48,37,35,51,36,50,60,35,55,36,59,37,39,34,53,50,32,36,59,30,40,60,37,36,46,52,38,28,57,40,40,38,59,48,37,36,56,27,54,41,53,35,26,39,50,49,48,42,46,48,36,59,48,52,56,47,52,53,50,51,37,41,59,55,35,56,36,43,48,34,44,39,43,53,36,36,41,37,32,56,44,25,30,32,53,29,49,37,41,37,41,46,35,40,36,39,55,49,54,45,29,58,35,50,47,38,39,45,40,37,52,40,28,56,46,51,39,45,33,45,58,58,43,60,57,37,38,28,44,46,31,45,50,38,49,30,30,51,41,52,59,38,52,37,49,48,35,59,54,53,54,30,53,57,51,49,49,53,45,37,37,35,41,35,54,40,47,40,57,37,57,29,35,39,55,49,23,41,58,53,35,36,46,36,32,40,52,48,53,36,47,37,45,47,45,33,50,40,58,57,38,48,37,43,37,36,60,39,25,53,45,52,37,60,52,48,44,36,39,58,46,45,60,49,60,57,45,44,28,49,50,33,28,27,56,37,35,49,38,39,51,46,60,39,44,32,36,37,39,37,27,47,59,27,58,39,36,41,58,40,52,60,31,54,39,53,35,36,40,42,51,32,42,59,44,35,55,35,40,48,42,39,37,28,46,41,35,39,34,39,48,37,52,37,38,36,39,35,41,50,36,54,38,38,53,38,47,56,40,57,45,51,45,42,42,59,43,57,53,36,46,47,44,45,44,37,59,58,48,42,58,37,35,44,35,58,41,47,35,46,58,34,45,49,37,51,59,51,46,25,38,39,37,45,40,39,40,54,35,49,41,56,39,41,37,52,36,56,58,38,53,44,53,54,39,30,47,39,35,41,58,39,36,57,50,47,38,50,44,57,56,38,57,53,42,38,50,49,39,49,31,48,47,56,39,55,39,36,38,45,43,47,59,60,45,39,36,47,57,43,49,58,59,45,54,60,38,45,51,55,53,50,38,57,58,53,40,46,36,48,35,59,45,36,51,52,36,38,42,55,38,49,37,47,38,37,46,57,60,53,46,36,56,52,50,44,37,45,42,35,52,51,47,38,45,58,45,52,36,37,36,57,45,47,40,48,39,52,52,37,51,55,40,44,52,37,57,35,36,36,40,41,60,55,44,42,38,35,54,56,40,42,57,47,45,57,41,43,60,60,37,56,57,40,39,37,41,49,57,50,48,41,59,36,47,56,41,43,37,37,52,39,51,38,35,48,58,51,45,26,40,35,49,50,37,37,34,56,39,59,36,25,40,38,49,39,37,43,41,35,41,52,56,58,56,57,46,38,36,49,49,52,40,46,42,38,39,35,38,40,58,25,57,35,39,41,57,35,32,54,40,39,61,59,40,53,46,45,35,48,35,50,45,39,44,38,38,41,52,49,38,35,39,39,54,59,35,28,49,47,38,43,47,57,42,41,39,37,41,38,37,55,36,47,48,48,45,44,42,54,36,50,49,48,53,39,54,50,49,59,60,43,53,36,59,27,38,50,40,60,45,36,59,35,44,45,38,46,37,53,44,59,57,51,41,45,49,44,38,53,39,50,54,60,52,58,59,51,42,38,39,49,37,54,51,42,58,37,37,45,51,36,43,51,42,42,38,60,57,57,59,57,40,31,49,42,39,54,52,39,46,51,59,40,58,35,37,56,52,56,53,45,49,41,47,50,43,40,38,35,36,38,45,58,38,36,44,58,51,40,23,50,45,49,55,40,45,45,48,56,41,38,59,25,57,54,36,36,36,48,39,32,43,36,59,42,37,28,40,41,44,42,41,55,60,48,58,56,51,37,49,58,36,41,43,45,37,39,36,46,57,40,37,35,45,56,35,54,51,39,38,49,38,32,57,41,40,44,45,52,36,52,36,58,43,48,60,29,37,40,31,40,36,36,51,55,44,48,59,47,42,40,39,40,56,47,34,38,37,38,52,35,31,37,53,45,44,49,37,39,55,46,38,55,39,46,53,40,37,46,55,56,38,49,58,46,41,40,56,45,44,57,44,35,52,53,47,35,36,44,46,57,39,59,49,51,54,43,45,36,48,50,39,36,39,49,51,57,43,53,49,45,42,37,57,58,36,38,50,55,49,36,50,40,36,54,39,40,36,47,60,39,36,52,44,59,42,38,54,38,48,55,40,55,47,59,43,55,58,41,56,39,47,37,44,47,38,38,40,38,40,55,49,49,54,40,47,43,45,52,36,43,36,47,43,35,35,41,40,50,35,56,43,54,49,51,53,56,48,35,44,35,48,37,60,44,27,38,40,38,51,52,58,55,39,37,52,49,42,46,43,36,47,41,46,40,36,48,35,38,40,55,59,50,39,46,39,52,32,24,47,47,40,30,39,50,35,56,36,33,29,27,31,39,58,36,50,49,37,37,45,36,44,37,41,41,54,48,44,49,39,47,56,49,40,38,40,36,38,46,48,36,39,38,48,35,34,50,52,46,51,35,57,38,36,36,37,58,31,59,52,45,47,40,51,29,46,33,43,36,44,58,41,39,51,45,44,30,57,50,47,48,37,52,43,48,36,42,42,41,51,37,42,37,45,32,35,41,37,44,36,59,36,60,29,39,56,54,38,47,35,48,55,51,39,57,38,39,55,37,54,37,38,41,53,59,46,38,57,48,49,40,38,38,52,39,42,36,48,36,53,30,29,60,30,49,44,36,49,55,57,58,37,50,46,37,41,51,40,51,55,47,39,38,59,38,39,36,49,36,53,37,45,46,55,50,37,55,55,39,48,35,35,39,53,39,37,38,58,35,50,37,56,59,42,39,58,30,59,43,39,53,43,43,50,35,47,52,44,51,57,52,47,59,50,37,53,36,39,41,35,50,41,45,38,42,53,35,46,44,49,35,49,37,40,47,55,53,55,37,54,53,28,42,38,38,37,47,42,38,44,54,35,51,41,46,36,41,49,39,39,39,60,40,51,49,37,56,54,45,39,36,39,33,42,58,36,41,51,55,48,36,42,54,40,39,54,45,57,57,58,38,36,51,56,46,31,30,58,36,35,37,49,38,30,34,55,56,44,37,50,45,58,38,35,38,49,50,39,45,48,55,37,55,39,50,59,39,50,38,52,43,35,41,41,37,41,60,48,55,61,54,49,39,48,42,37,47,50,49,41,48,35,55,43,53,39,57,34,52,60,57,36,42,37,55,36,50,45,47,43,39,45,59,46,48,59,36,44,45,41,46,35,48,60,38,49,57,44,55,46,55,47,38,38,42,45,39,46,36,53,38,55,47,53,56,37,42,39,58,56,51,47,37,58,59,40,51,50,38,55,48,38,40,40,58,39,39,43,38,36,58,53,35,46,42,52,40,46,51,48,39,44,44,37,45,44,35,53,45,35,37,36,39,55,38,35,37,36,51,38,36,51,43,48,45,46,42,60,56,42,40,43,39,58,38,53,46,54,44,48,40,33,36,49,32,40,36,37,50,38,50,56,38,59,52,59,44,55,37,40,44,35,59,38,41,50,46,41,57,57,35,55,42,36,40,36,39,37,38,31,40,36,39,36,49,48,48,40,30,48,39,44,34,60,53,37,56,32,49,56,47,48,38,36,43,55,39,59,56,49,37,51,51,54,52,38,54,58,55,28,46,49,50,38,37,57,43,39,37,38,36,38,50,53,50,53,46,36,55,59,58,39,38,43,39,52,56,36,52,43,53,50,25,36,35,51,38,54,45,36,36,26,51,52,46,58,45,27,57,42,29,52,37,48,37,36,24,35,39,35,46,57,36,49,57,36,44,44,52,38,48,51,49,46,40,40,50,39,48,46,45,46,37,40,55,42,28,45,29,52,37,37,28,49,42,42,51,54,39,51,60,29,38,39,36,55,36,37,48,37,51,51,36,27,36,33,58,27,56,42,32,26,25,39,42,37,28,29,50,48,27,24,48,46,49,48,44,61,58,43,45,43,58,50,43,59,56,60,58,57,42,36,35,37,40,37,55,36,37,45,49,28,60,44,49,39,37,49,54,48,37,41,49,46,55,38,42,42,37,60,59,47,48,48,37,36,47,37,60,38,47,56,51,37,48,39,44,35,44,58,56,45,50,57,59,58,58,46,50,52,44,59,54,39,48,48,44,56,32,53,36,55,44,51,48,56,47,53,47,52,44,60,59,35,37,41,33,47,46,50,45,38,50,43,54,38,59,37,51,58,53,59,60,47,60,45,36,37,44,45,57,45,38,36,39,52,49,40,44,38,36,31,42,44,40,50,41,41,57,49,33,51,51,31,53,28,47,53,60,37,60,38,58,40,50,60,37,48,45,47,51,57,57,44,38,38,57,46,44,42,49,54,54,59,37,39,53,49,48,32,45,36,58,42,44,40,57,42,47,39,52,57,36,59,44,41,39,58,60,46,36,48,50,44,42,54,50,47,41,41,60,54,46,59,40,57,53,50,39,52,51,55,57,46,50,56,38,59,42,41,45,48,54,38,50,58,55,58,54,41,39,55,41,40,53,58,51,49,58,37,40,55,55,42,43,44,56,49,51,50,43,41,54,45,40,57,39,59,44,44,55,45,59,41,40,43,50,36,59,40,42,57,46,38,40,52,37,52,48,42,37,46,41,45,57,57,36,35,52,56,37,41,48,54,50,56,41,48,51,35,40,48,47,56,55,52,38,52,47,46,56,37,38,41,53,40,55,47,42,54,49,49,44,47,51,46,59,50,38,39,58,41,45,36,46,56,24,51,29,42,51,53,23,47,55,52,50,48,37,39,53,20,38,36,57,28,40,40,50,55,40,55,36,53,38,35,44,60,55,54,39,54,39,52,46,51,56,52,55,44,59,36,42,57,37,57,43,39,56,55,49,38,41,46,47,36,36,48,52,37,36,51,59,41,57,46,42,45,39,55,36,43,48,53,28,28,25,38,51,28,26,26,54,29,52,50,44,37,39,28,29,47,38,35,40,48,47,40,41,26,25,28,35,38,29,23,55,61,29,36,48,42,45,41,45,43,27,45,44,42,47,37,39,45,39,25,38,34,41,57,49,46,49,58,50,43,41,37,53,45,43,37,56,50,59,53,36,36,41,56,39,50,50,50,38,46,57,57,52,49,57,35,50,56,54,39,60,28,45,52,56,37,30,41,51,59,39,56,41,50,57,36,38,32,58,38,48,42,56,40,56,60,36,37,46,59,43,46,39,56,43,51,46,55,58,60,53,53,38,48,50,35,45,38,49,35,57,47,40,44,53,59,55,56,45,31,49,42,45,26,40,46,52,52,50,42,54,48,57,43,44,43,52,43,35,51,42,44,56,42,38,35,41,47,44,50,54,38,43,39,43,58,44,57,57,40,44,44,40,54,40,56,37,57,50,57,30,43,46,41,43,49,36,55,41,38,35,55,47,52,41,36,56,53,57,56,44,40,41,47,36,45,57,48,56,46,56,27,38,60,25,37,41,42,56,47,28,49,56,51,60,50,36,52,51,43,20,36,47,39,53,38,29,60,43,47,55,42,39,51,57,39,60,47,57,37,40,38,41,36,47,56,46,40,36,44,59,54,41,38,45,34,39,37,38,56,39,44,38,47,36,32,55,42,49,52,31,48,50,43,30,45,42,39,43,37,36,37,36,59,35,54,54,37,56,45,58,39,38,45,42,37,39,46,52,42,39,47,24,52,38,34,29,49,37,53,56,47,48,33,40,47,38,44,38,42,46,31,36,51,41,51,35,50,53,55,48,57,48,41,42,24,52,53,47,36,53,37,60,51,47,47,52,36,52,38,51,48,37,43,56,42,52,43,37,43,36,33,29,38,42,46,40,41,43,37,45,52,44,49,38,38,46,51,45,41,46,52,57,50,43,43,42,55,47,55,38,55,53,56,31,31,39,45,35,36,39,52,39,39,50,38,60,59,39,36,57,40,39,41,27,46,55,36,43,54,43,60,58,51,57,42,51,55,34,36,56,29,32,32,39,53,35,49,36,49,47,45,30,43,24,49,41,44,54,41,53,30,40,58,40,39,37,53,57,60,35,44,58,47,42,58,44,49,38,44,39,36,54,59,54,53,47,53,41,39,42,50,45,28,51,23,54,45,26,38,54,36,52,44,40,35,43,52,48,50,49,32,37,45,38,46,60,54,56,45,38,45,53,38,44,53,58,42,50,36,42,50,41,51,53,45,50,44,40,39,46,42,35,40,52,56,37,58,44,33,46,39,58,29,53,43,42,38,56,41,35,42,56,47,37,59,46,47,34,35,45,41,49,58,39,35,37,43,40,40,50,40,35,45,42,44,41,33,30,26,45,38,58,37,25,47,52,36,52,45,56,54,35,36,48,40,36,36,51,30,40,47,46,28,45,39,56,60,53,56,51,46,45,39,39,45,35,25,40,40,38,45,47,57,35,47,57,48,42,44,36,41,60,49,45,36,29,27,26,26,22,25,29,58,56,55,55,47,43,46,48,40,34,42,33,36,55,42,36,60,44,48,50,42,25,31,53,53,35,53,25,29,57,49,59,50,46,50,58,34,47,57,51,34,47,42,39,47,46,58,42,56,40,31,29,42,43,38,45,41,29,47,37,40,34,50,36,32,27,32,60,30,52,57,48,28,49,43,28,44,36,42,52,30,54,46,22,41,36,28,25,51,45,26,55,28,32,35,40,55,55,47,35,25,34,27,32,32,47,44,27,53,30,32,29,57,30,32,53,26,21,43,57,50,55,58,25,57,30,39,55,56,33,54,49,28,46,51,42,60,31,34,29,51,60,60,56,52,41,24,55,34,36,34,24,37,40,39,34,52,56,27,41,36,49,26,42,51,37,49,50,28,35,47,33,45,38,34,49,37,45,44,33,55,56,40,27,57,39,49,34,59,41,30,44,41,31,49,35,39,51,39,35,54,59,57,39,29,40,43,41,45,60,31,59,59,29,49,47,32,35,52,30,43,45,28,41,38,31,29,29,33,40,26,41,31,53,45,58,37,47,55,44,27,31,22,30,51,35,29,31,35,48,30,45,45,50,35,41,37,38,50,35,44,34,32,41,33,45,27,37,37,54,26,45,54,58,50,51,27,32,29,29,44,39,55,33,48,49,35,57,53,58,34,52,56,34,35,30,48,50,44,38,40,44,33,29,51,57,35,61,52,33,59,47,37,49,60,51,47,40,31,38,54,45,47,34,54,56,57,42,34,27,51,30,44,33,36,56,44,31,47,48,31,39,30,30,31,49,26,34,36,31,25,42,32,32,36,46,31,37,26,36,31,35,30,36,24,26,27,59,36,28,31,35,37,59,32,40,29,41,25,34,37,26,36,56,29,31,57,30,28,45,26,51,50,45,37,29,31,44,48,53,26,61,27,54,43,31,27,28,50,29,25,38,36,32,44,37,48,30,54,36,33,34,28,33,30,34,35,44,36,49,55,51,51,38,59,54,43,60,34,31,43,53,47,59,39,56,41,41,60,58,56,36,39,46,58,52,41,59,35,43,50,49,51,39,38,30,41,45,54,47,53,41,42,33,34,54,37,59,38,27,59,31,42,45,37,42,40,42,27,45,43,41,47,47,44,46,40,33,36,25,45,27,43,37,47,48,30,35,59,46,43,52,37,45,54,28,42,44,57,46,27,51,29,57,59,57,26,36,35,40,51,45,33,53,39,43,60,28,46,56,32,32,34,30,51,29,35,29,31,40,29,44,32,36,40,37,45,55,39,25,41,34,37,51,35,49,28,26,27,45,34,27,35,48,33,31,40,56,29,40,35,30,59,34,26,41,31,58,35,27,40,52,38,30,25,57,29,48,29,31,38,29,40,31,34,29,44,41,34,35,43,59,46,55,41,59,39,26,33,32,41,29,31,37,50,27,47,47,47,51,57,44,51,28,41,30,25,32,40,31,30,25,45,49,32,52,35,60,33,43,42,50,33,42,26,25,26,39,39,31,52,28,46,28,54,45,58,42,34,50,59,56,58,31,58,25,32,38,33,37,38,31,52,27,25,31,35,28,29,33,39,47,39,50,50,49,44,28,31,47,30,29,51,44,43,44,41,59,49,31,50,33,58,36,35,30,27,35,53,35,60,27,54,48,40,26,38,31,46,27,53,40,43,37,31,28,43,28,47,43,57,58,25,31,47,43,27,45,31,33,31,32,41,31,30,44,28,31,36,25,25,27,60,36,49,25,46,50,50,33,42,30,42,28,34,33,26,29,28,32,45,59,46,32,44,26,53,46,35,56,60,36,29,60,55,27,33,33,55,28,28,26,31,39,26,27,42,42,34,32,35,33,52,30,25,34,45,27,36,51,26,32,58,57,56,58,25,34,27,29,36,46,32,55,28,26,39,55,33,29,45,25,55,32,25,28,34,26,56,26,33,55,25,38,27,58,25,42,40,30,26,58,59,48,59,34,53,42,25,25,28,41,45,29,25,51,26,27,39,30,25,29,39,27,28,38,60,26,42,51,30,25,42,28,33,54,42,44,31,56,28,32,55,31,35,26,40,33,25,28,41,37,59,57,34,54,50,52,59,33,53,26,45,56,41,35,55,28,60,35,51,36,34,33,30,35,56,56,49,41,57,33,29,36,29,45,26,51,46,29,52,45,30,33,29,36,60,35,33,36,28,39,36,43,47,25,34,60,25,52,30,38,54,31,29,37,28,51,55,52,55,25,34,59,28,58,45,60,29,55,54,34,27,50,38,52,59,49,44,35,28,43,31,42,28,38,52,57,30,27,28,31,32,40,45,38,52,56,31,42,32,35,37,45,58,30,48,28,54,36,41,25,33,49,39,30,59,54,57,60,32,29,27,26,41,26,40,26,47,36,57,51,60,41,26,34,29,54,27,35,59,30,25,47,27,45,28,45,36,37,32,44,27,25,30,26,39,27,41,28,42,41,26,29,44,55,49,34,27,56,60,59,59,32,28,58,41,49,47,43,46,56,33,52,34,32,32,30,47,49,57,42,52,38,27,32,41,36,43,58,34,40,38,34,44,44,47,31,41,57,53,50,46,44,42,43,37,48,56,44,26,35,35,28,54,36,28,35,53,60,33,35,39,53,46,41,46,33,50,30,52,46,45,57,45,41,57,41,51,50,59,44,49,26,45,34,34,50,36,30,54,44,45,59,40,45,59,56,40,45,53,53,33,30,35,27,60,35,33,45,42,31,51,52,34,56,40,43,44,37,36,43,58,37,31,55,47,53,41,49,40,43,41,30,36,43,28,35,36,44,43,34,54,60,39,48,46,33,41,59,34,29,25,40,35,28,39,57,44,53,45,37,31,42,60,31,43,48,35,29,44,54,57,55,37,41,45,57,35,42,52,34,43,60,57,32,34,44,31,35,28,41,45,35,46,28,39,52,33,54,38,39,39,49,42,39,50,57,45,42,56,59,40,46,56,37,39,40,48,32,42,33,35,30,39,52,25,39,37,48,43,47,44,32,33,44,31,45,33,25,52,51,44,35,59,48,51,29,54,48,30,30,34,56,56,40,49,39,38,51,28,45,34,26,36,32,34,49,34,59,35,29,31,51,37,42,51,30,43,49,27,45,27,33,35,52,50,59,33,41,47,46,37,26,32,58,53,39,33,52,31,26,37,35,52,38,50,42,35,58,52,56,31,47,32,47,32,47,60,35,47,33,60,51,31,41,37,48,36,44,51,41,49,32,32,40,56,29,50,27,29,49,38,25,39,27,33,42,56,56,36,42,28,42,50,34,30,32,41,39,42,41,32,49,52,51,44,39,40,40,54,42,46,48,37,57,35,29,47,30,60,27,55,52,42,28,26,35,44,38,39,33,28,35,31,56,48,53,54,49,50,32,40,44,34,38,46,30,60,47,47,40,42,39,30,29,38,30,31,56,32,33,54,31,28,57,33,38,59,60,59,57,41,40,43,39,38,33,50,41,46,35,33,37,31,36,30,37,32,36,36,41,30,30,45,30,34,42,43,26,45,35,47,59,51,29,39,35,29,52,29,43,34,38,58,46,50,60,33,48,28,57,56,34,35,47,41,51,27,56,42,32,41,34,48,36,56,32,43,35,56,32,55,34,38,55,37,56,37,51,40,33,37,33,42,54,49,35,35,41,37,56,36,36,34,40,34,34,38,39,37,25,39,36,34,39,33,31,60,46,49,31,56,58,32,30,29,28,50,60,25,46,57,26,57,56,56,53,58,44,58,27,29,35,59,29,34,30,25,30,54,36,53,26,31,33,32,45,32,41,37,30,47,35,47,59,58,57,38,34,28,54,28,37,34,59,29,46,49,25,37,58,37,30,34,50,41,50,44,52,29,49,54,46,30,48,49,30,37,29,41,35,35,45,49,51,45,42,41,27,36,46,37,37,33,37,41,60,30,52,30,26,37,46,44,29,26,33,31,58,54,39,44,32,33,39,37,35,29,36,25,41,53,53,27,29,52,50,33,40,41,39,29,41,30,48,44,56,35,59,40,36,32,26,28,38,51,40,32,38,26,54,27,34,38,36,33,59,39,38,51,37,34,34,35,36,51,27,37,34,33,37,33,53,38,50,40,26,31,55,27,31,50,39,51,43,34,53,60,42,47,27,38,47,46,41,45,55,37,37,51,55,32,58,34,28,47,47,34,39,57,57,32,59,41,58,49,29,31,36,56,51,29,34,39,34,33,43,42,34,36,50,34,35,38,42,47,41,32,48,44,49,46,56,43,46,55,35,56,44,29,58,56,52,42,58,35,32,30,50,38,38,44,45,60,60,59,37,29,49,55,39,37,55,41,33,48,32,27,59,52,55,42,59,40,31,37,37,26,33,34,59,37,47,55,28,50,40,35,54,35,54,44,40,46,34,49,45,31,32,37,37,40,36,45,31,58,27,44,35,50,25,36,39,38,42,32,38,35,31,30,25,47,31,29,44,35,53,46,36,47,43,39,37,33,45,29,35,59,46,39,58,33,35,49,55,31,25,43,34,25,45,52,29,32,47,48,45,30,38,45,31,60,35,36,50,49,44,42,33,41,55,37,48,55,29,59,27,40,37,34,33,28,29,51,58,55,31,44,40,45,60,51,30,40,31,42,56,35,34,53,25,35,29,32,31,41,51,46,44,30,53,32,39,60,28,55,43,46,28,48,33,32,46,43,32,46,49,27,33,34,35,45,48,48,35,36,59,43,36,34,52,60,32,44,36,50,54,32,37,37,32,32,28,33,47,50,53,38,54,32,37,32,54,47,42,49,45,44,34,34,49,42,43,40,41,47,43,35,34,50,52,32,50,40,58,40,29,30,50,41,43,57,45,42,53,49,27,57,29,33,43,35,43,52,51,31,31,39,29,57,42,35,41,35,41,30,52,43,37,57,47,43,54,54,39,37,33,44,45,35,53,33,53,39,33,53,40,40,51,41,29,35,31,34,43,55,50,43,39,34,58,28,53,30,51,50,47,55,52,31,31,58,32,50,48,57,35,31,32,36,40,42,51,36,39,39,47,36,37,37,59,36,31,48,46,29,36,49,39,38,43,33,33,36,34,27,40,44,29,38,27,30,35,55,29,44,35,47,51,48,28,52,41,40,29,52,37,56,58,34,59,33,42,59,30,51,37,42,40,52,29,37,32,42,49,59,32,43,39,52,33,60,35,47,34,31,52,43,38,35,53,34,34,41,37,61,45,50,44,59,37,44,38,41,45,26,25,33,56,29,35,59,38,58,40,37,48,41,42,26,51,60,41,40,46,43,42,31,56,29,32,51,60,53,34,30,31,42,42,43,54,57,38,27,53,46,29,53,42,53,36,36,36,57,33,58,47,47,40,41,34,45,31,34,47,25,46,42,48,37,29,32,57,34,47,47,28,41,34,36,44,43,45,52,27,27,28,51,29,60,39,46,32,51,37,59,36,33,45,27,36,29,43,35,41,25,36,43,60,31,38,37,35,49,45,49,44,32,57,40,32,36,48,31,54,53,30,42,39,41,44,42,56,32,36,55,31,31,39,41,40,38,36,39,28,30,54,49,36,50,38,38,36,54,35,33,35,31,36,30,45,50,45,39,58,54,37,31,46,37,29,35,25,35,39,40,58,46,49,36,33,52,42,31,54,44,47,27,35,37,51,38,52,43,53,60,36,25,37,39,36,44,45,32,28,36,29,53,48,49,30,51,38,37,44,57,37,45,33,52,33,28,41,35,32,35,52,56,34,51,54,57,56,45,57,37,34,31,47,35,31,29,42,26,33,36,47,37,56,31,35,34,46,42,60,32,41,56,54,29,31,27,32,25,26,40,36,51,58,58,56,28,45,44,28,45,39,40,39,26,59,45,41,37,37,30,36,25,57,26,31,38,36,40,27,46,37,31,57,60,45,37,36,26,57,47,31,50,48,31,48,28,43,27,39,56,56,47,30,39,57,26,60,47,25,34,29,35,32,28,58,48,34,27,31,25,32,26,48,50,31,45,47,48,38,57,43,38,33,32,39,34,30,54,29,26,35,44,43,53,34,56,38,39,32,59,40,45,38,32,51,36,50,33,60,39,40,40,59,45,33,43,42,31,32,58,40,41,38,32,55,43,54,41,44,59,32,29,40,36,47,37,27,38,28,35,60,55,34,31,32,31,59,40,39,48,25,59,29,42,38,38,58,38,31,37,32,55,37,45,29,33,49,36,47,59,42,38,51,37,39,51,27,43,37,49,37,52,42,34,37,50,48,49,42,39,58,31,34,52,43,26,36,26,34,49,27,29,44,40,36,32,30,55,32,35,37,53,55,46,26,51,55,40,60,35,41,42,36,27,52,36,30,30,52,42,45,32,42,42,30,31,48,42,46,38,46,33,56,34,39,27,48,35,48,29,30,34,35,48,32,43,51,34,27,25,57,29,47,34,26,35,31,25,31,55,32,30,39,28,30,46,53,25,34,58,31,32,58,42,60,43,31,52,32,27,37,39,30,31,31,26,47,50,42,59,32,50,29,28,57,39,39,43,35,26,38,36,33,31,37,29,35,34,35,45,38,27,34,36,32,57,41,27,34,29,43,49,39,28,34,38,59,52,31,45,41,32,29,34,41,29,32,50,44,33,30,34,57,33,33,29,32,51,33,54,32,49,38,42,40,48,35,42,35,36,30,40,50,31,32,27,29,42,53,30,57,29,54,26,29,35,36,36,51,50,52,41,31,42,45,26,45,50,42,56,31,26,40,40,34,40,36,34,29,59,54,30,53,54,40,29,27,60,50,56,40,41,45,58,27,45,30,43,29,38,27,27,47,49,35,29,35,56,34,37,34,44,28,31,57,47,52,55,29,41,36,54,34,28,33,31,40,49,34,31,45,46,33,34,40,54,43,46,42,34,46,60,43,51,31,52,43,35,45,51,32,34,58,52,46,46,31,48,46,30,30,35,41,56,45,33,32,27,33,56,34,53,48,30,31,32,35,52,30,31,28,44,47,27,36,34,59,59,43,47,34,33,35,31,29,25,29,45,34,40,31,30,59,26,31,29,30,29,29,47,38,29,44,30,33,51,43,57,31,43,50,30,51,29,26,36,46,31,27,39,34,58,27,28,28,33,32,32,28,57,41,27,31,39,34,33,34,33,30,30,52,51,48,32,48,31,33,32,36,39,53,31,30,30,27,37,25,48,46,30,31,45,36,54,40,46,33,53,51,26,50,49,32,26,44,53,34,36,51,57,30,28,34,28,32,53,60,28,49,43,39,37,30,26,57,47,38,49,59,35,34,41,33,29,33,50,45,36,33,34,29,34,43,33,59,51,39,36,37,26,31,40,47,43,36,38,25,30,31,26,60,37,26,32,42,27,29,58,33,33,33,29,37,29,31,34,37,46,28,38,32,52,29,36,54,29,33,36,32,28,31,34,32,34,35,32,33,31,28,51,34,42,44,47,53,60,34,28,30,36,38,31,29,43,35,40,33,27,51,44,59,34,36,37,27,54,44,40,29,48,49,26,26,41,25,25,58,36,44,48,26,35,45,52,41,33,32,59,32,29,35,56,32,35,54,30,31,42,50,53,38,34,25,47,25,25,28,36,42,31,51,53,46,29,38,32,34,28,39,29,31,36,42,31,55,31,46,38,33,35,37,44,31,37,29,34,42,25,37,37,39,41,33,30,37,29,35,27,30,33,56,32,27,28,35,32,33,35,30,31,44,57,38,38,27,34,28,56,37,49,44,35,60,50,43,34,59,57,37,44,30,56,28,25,49,34,42,38,38,35,49,43,34,27,31,32,27,44,29,27,47,47,56,36,29,35,36,40,58,34,50,32,50,40,33,49,32,47,44,58,37,39,58,51,32,49,52,51,40,25,54,44,26,46,32,48,26,32,25,45,30,29,47,31,58,43,56,50,28,31,32,33,60,33,27,43,42,33,28,35,26,42,40,56,53,45,57,53,35,51,31,38,47,46,26,48,28,31,59,34,27,54,35,56,50,26,57,40,26,31,33,60,57,34,37,41,38,50,52,25,29,59,25,38,49,29,51,29,43,43,35,25,54,45,44,54,28,56,31,29,33,50,42,46,34,55,26,42,42,59,47,40,28,57,30,41,30,35,47,35,29,51,40,26,35,56,26,27,47,30,43,59,33,48,25,35,26,57,55,29,38,57,34,38,45,55,34,41,41,29,54,29,51,45,58,41,49,38,34,29,36,36,38,47,45,44,33,57,33,36,52,32,47,31,25,33,38,43,38,38,32,35,51,50,42,51,51,47,33,55,30,46,32,38,44,44,50,58,33,30,34,40,55,27,60,36,31,40,54,38,35,60,43,56,32,45,38,27,43,29,47,42,60,36,37,30,34,37,25,36,47,51,25,34,27,33,32,37,42,46,30,40,42,27,26,33,29,37,40,29,43,34,36,27,36,39,33,34,28,32,43,42,37,47,52,44,60,33,38,37,42,31,53,37,47,32,35,47,27,29,37,36,31,29,51,48,34,51,30,30,29,37,53,49,40,48,27,34,40,26,32,33,45,37,29,56,28,32,30,54,57,35,26,53,60,28,55,45,47,30,25,37,33,49,33,44,55,44,36,50,41,26,42,31,36,43,52,30,30,26,34,26,30,50,59,52,43,52,32,28,33,43,58,41,35,41,29,31,36,32,27,28,32,57,27,51,55,52,55,28,39,45,26,50,27,43,35,48,33,41,34,27,26,27,39,37,50,60,30,57,32,26,34,58,54,51,35,34,31,39,43,50,35,31,36,57,29,34,29,28,34,53,45,31,33,36,44,44,59,26,42,52,44,33,50,28,51,37,35,40,43,30,29,26,52,54,28,38,27,35,33,31,50,26,61,49,26,34,56,32,32,60,43,27,36,32,37,26,46,59,34,59,34,25,50,29,31,31,31,26,45,61,39,42,32,25,34,30,43,41,27,46,46,35,42,48,27,37,34,28,35,58,54,26,53,27,34,26,27,52,48,33,36,25,28,53,45,56,50,30,32,39,31,44,29,30,48,32,25,42,57,49,50,29,45,49,46,27,46,40,51,50,37,37,41,46,59,33,49,50,40,34,34,26,41,41,50,39,38,60,38,26,57,53,41,53,34,41,50,56,41,46,42,49,30,28,46,28,38,39,40,40,35,36,47,30,38,26,31,25,54,46,47,50,46,39,53,53,52,47,55,46,25,47,33,34,29,31,34,25,26,28,56,36,27,48,31,43,42,39,28,46,38,44,35,56,49,44,31,27,28,34,45,60,31,27,30,41,35,30,38,54,26,25,38,36,28,47,48,27,29,37,28,28,28,38,32,38,43,45,32,42,32,60,40,33,25,29,25,28,41,27,48,35,39,25,49,49,38,26,60,30,54,52,57,35,28,53,32,39,56,49,57,50,47,40,59,26,36,48,39,33,57,52,35,51,57,26,29,42,49,43,57,55,26,42,52,32,32,30,40,43,53,43,47,48,43,55,53,50,57,32,46,43,26,48,48,42,37,27,46,35,48,56,50,48,44,56,28,27,34,59,32,42,28,53,41,28,51,56,56,44,30,58,41,51,36,42,28,27,29,45,41,44,39,27,31,48,52,44,51,59,40,54,60,30,32,37,25,56,51,47,42,37,56,36,26,51,33,31,41,53,57,37,47,26,49,50,28,49,53,52,42,33,56,59,51,28,51,38,59,38,33,30,39,49,47,27,32,53,55,26,35,57,31,51,39,28,56,30,57,35,26,40,29,48,30,34,47,31,34,39,38,45,42,35,29,40,46,42,27,47,57,51,25,40,37,60,43,45,56,50,36,34,37,59,53,53,56,34,34,34,42,24,34,29,34,32,29,51,28,43,38,51,37,26,41,40,40,51,41,44,49,59,33,40,38,45,56,53,51,25,41,39,50,26,41,32,45,29,50,45,31,38,47,33,45,34,30,44,31,57,46,32,55,38,30,28,31,28,31,51,51,53,48,34,34,36,52,28,51,34,45,27,56,28,52,35,34,29,40,35,45,32,26,33,39,35,38,37,28,41,31,50,44,49,29,40,37,49,51,34,34,32,52,54,35,59,29,31,33,28,35,49,35,36,47,36,47,30,28,50,35,33,48,56,34,45,39,34,32,29,37,26,27,32,43,33,51,45,30,38,25,53,43,43,45,50,33,57,26,25,46,30,36,56,50,47,52,50,37,30,58,39,42,36,39,52,37,28,28,32,30,49,43,59,29,29,25,31,31,32,46,30,47,42,41,31,53,57,60,38,48,40,39,31,33,35,41,33,26,61,34,37,40,54,40,46,54,25,57,25,51,43,45,45,53,47,44,42,39,35,33,45,27,30,40,57,26,28,54,49,50,37,42,41,43,39,33,35,49,37,32,59,32,34,37,47,45,29,41,48,33,42,44,26,25,41,52,25,28,49,55,43,34,39,48,55,45,59,50,49,35,54,42,34,27,28,49,56,46,31,28,38,47,59,34,38,32,27,33,36,56,51,30,39,37,25,43,49,27,39,28,53,27,37,30,32,29,25,35,32,35,50,32,26,51,27,37,34,34,26,30,33,50,57,57,38,27,27,25,46,44,30,34,39,30,31,35,30,31,29,47,30,53,29,50,51,42,35,30,32,58,30,28,27,42,26,55,35,45,49,36,41,25,33,31,43,31,45,45,41,54,34,25,46,36,47,51,38,40,53,32,59,29,48,48,53,35,36,52,58,34,39,30,54,29,54,37,47,37,46,42,47,32,30,40,27,36,40,33,46,37,32,39,25,52,32,30,57,36,34,25,56,54,59,48,39,55,43,39,47,57,39,43,46,44,32,30,31,36,33,33,47,28,34,35,26,49,51,29,57,27,54,27,37,30,29,34,26,40,54,28,40,36,33,59,34,53,55,51,30,57,51,51,35,42,39,30,59,25,51,31,41,31,27,27,52,38,30,44,32,44,41,34,36,44,30,32,31,32,42,50,56,42,54,28,49,41,25,41,32,51,36,32,27,27,49,42,40,46,45,57,31,28,36,45,36,30,34,33,32,28,37,46,30,58,58,49,46,33,37,38,44,34,37,40,28,39,35,38,41,27,35,26,60,58,31,26,30,31,27,33,45,44,30,31,36,55,45,58,30,34,35,31,26,31,51,29,52,56,40,39,56,38,35,37,47,58,60,37,57,27,42,32,39,53,33,42,34,48,25,49,55,28,45,30,46,27,25,30,31,50,25,59,36,33,28,44,31,35,27,44,52,46,33,38,37,34,43,58,32,52,43,53,54,38,48,39,51,42,33,32,59,27,40,43,38,36,33,40,52,60,57,29,39,28,48,56,29,35,48,42,43,59,28,56,38,39,58,34,48,50,26,40,32,53,26,49,50,40,25,28,48,39,26,34,36,53,60,50,55,30,31,49,48,42,53,48,30,58,38,33,39,27,44,26,26,58,29,55,56,36,36,35,58,26,28,44,53,27,52,33,31,27,29,59,32,31,46,50,43,51,50,27,28,32,47,43,39,52,32,41,51,50,42,28,33,34,38,35,27,55,29,32,34,60,29,32,29,39,34,40,49,29,41,49,29,50,45,41,59,25,53,34,34,30,31,49,53,40,52,59,37,31,38,38,56,51,27,59,41,54,32,43,36,38,59,54,41,58,40,29,46,39,49,30,37,31,46,36,34,55,35,49,55,26,54,32,31,41,35,26,37,34,41,31,39,34,44,38,35,36,36,30,31,31,43,44,30,34,39,45,30,29,30,57,33,33,52,35,43,40,59,56,36,26,39,40,26,27,33,32,56,33,26,35,26,29,32,26,48,33,50,50,36,48,41,55,34,60,52,47,43,30,34,25,35,30,31,29,27,47,47,40,35,50,44,49,32,34,25,31,27,56,44,30,46,59,45,50,41,36,43,47,51,35,44,27,39,41,47,31,34,29,46,58,37,32,31,36,57,32,35,41,37,60,41,30,56,42,26,56,53,56,49,47,36,44,45,30,48,59,33,58,28,55,45,59,40,46,42,44,53,48,58,59,28,36,59,54,57,40,30,45,42,42,58,47,58,46,48,42,49,51,51,56,47,57,51,40,41,31,56,57,51,32,41,43,45,41,50,44,48,36,50,51,46,59,48,56,51,26,34,29,47,49,43,54,42,55,39,38,42,51,41,53,30,44,42,51,59,43,59,54,29,53,58,54,42,43,41,59,45,39,59,50,45,38,42,36,48,57,45,38,45,26,32,33,36,42,26,42,47,32,56,49,56,41,42,52,55,46,32,39,46,44,39,55,52,58,36,35,48,41,51,47,51,51,43,45,49,58,45,54,52,39,34,58,51,34,34,38,48,37,46,42,52,44,34,29,25,39,41,48,33,49,54,50,49,27,57,51,36,45,53,27,58,25,36,57,43,47,57,48,55,59,33,42,40,52,35,47,29,45,49,36,47,43,44,29,30,35,50,53,54,31,45,40,59,57,47,36,52,57,45,55,35,41,36,41,43,32,32,59,40,52,48,30,32,58,56,60,28,52,29,36,53,49,56,34,28,45,26,56,31,54,49,41,55,30,47,41,39,47,49,58,42,54,29,42,42,46,59,39,33,40,28,32,44,49,49,33,48,41,35,47,35,43,47,44,44,39,56,26,51,39,32,45,37,43,42,54,34,58,39,41,54,48,47,60,51,31,53,60,52,58,52,35,48,39,49,43,56,28,32,56,58,52,58,56,50,44,30,25,31,27,52,52,37,25,33,57,41,51,58,39,26,50,51,38,46,56,27,33,42,47,27,28,49,42,41,55,49,26,43,59,34,60,56,45,39,58,58,41,44,33,46,55,40,33,36,47,42,45,44,45,51,36,36,39,51,52,35,48,43,39,54,38,47,48,52,42,54,58,47,53,49,29,43,52,42,57,45,37,37,50,44,53,48,55,56,50,41,56,53,48,38,41,43,60,26,31,32,42,45,50,45,55,54,37,30,51,49,45,51,43,44,47,53,27,51,55,45,51,36,39,54,45,44,46,38,30,46,52,41,45,44,36,35,38,56,32,58,54,39,56,56,60,44,36,54,39,49,54,47,55,45,42,44,46,39,40,55,50,31,45,57,52,44,56,37,44,59,60,47,53,29,52,53,59,42,56,37,44,38,44,31,41,46,41,38,44,59,57,36,58,35,41,52,53,51,38,35,55,50,40,46,29,40,50,46,35,36,53,48,50,56,40,43,44,53,60,37,51,59,60,41,32,54,41,26,30,47,42,33,30,34,45,34,54,36,35,39,53,40,37,42,25,30,32,55,58,30,44,27,26,31,50,33,44,45,60,43,55,35,38,46,59,58,52,44,55,55,35,30,42,53,49,52,53,35,54,58,60,43,41,53,37,56,57,31,57,44,40,43,51,40,59,39,35,26,58,55,55,53,42,44,40,59,45,46,40,42,45,37,57,48,56,27,46,60,46,48,36,36,30,31,47,59,30,29,51,53,45,58,56,27,34,25,49,27,46,36,30,56,59,38,43,39,48,27,43,34,44,40,41,36,36,39,30,59,25,51,43,53,33,48,52,54,40,59,37,49,30,39,35,29,44,44,26,26,33,55,40,29,39,35,56,44,51,33,44,41,40,30,34,57,50,43,35,27,30,39,56,54,44,53,45,41,46,59,56,45,58,38,34,43,46,48,54,59,59,41,38,41,46,59,48,44,43,27,42,37,49,53,37,35,38,47,30,58,33,45,36,35,28,42,46,41,34,45,46,51,45,23,47,48,35,50,37,40,35,50,53,37,39,50,55,56,57,52,37,31,50,36,37,47,42,53,46,41,40,44,37,37,39,41,42,33,55,32,48,35,25,45,51,58,37,27,36,35,52,38,36,44,48,44,57,49,52,42,35,27,36,32,43,42,39,37,41,46,59,53,48,35,40,38,42,42,51,56,46,57,43,49,37,35,36,40,51,38,31,35,47,37,48,55,42,59,39,58,50,41,41,59,43,38,48,32,58,49,48,45,51,35,35,41,40,45,48,49,46,47,41,40,49,43,31,42,52,38,46,28,54,55,41,47,58,43,46,51,46,54,58,30,53,53,59,45,41,42,59,51,44,56,57,47,33,36,43,35,54,39,52,46,38,46,45,47,42,45,38,27,37,55,51,44,38,42,49,56,47,42,50,39,41,50,40,55,32,43,41,48,41,33,39,42,39,36,42,31,45,28,37,48,57,54,50,42,35,57,57,35,44,47,51,56,35,54,35,46,37,53,46,33,36,32,40,58,38,58,42,56,36,49,46,44,40,32,46,35,59,46,42,59,32,41,53,31,36,34,40,41,35,54,40,55,52,39,42,43,51,49,41,52,58,49,44,36,54,40,41,58,36,36,56,50,55,41,39,44,47,56,52,44,39,44,59,52,38,44,49,49,42,55,37,44,32,31,58,27,41,36,29,43,53,57,40,37,25,38,44,40,34,45,32,50,39,37,42,35,47,49,53,45,34,40,32,33,30,51,52,27,45,25,26,28,32,53,47,46,49,38,40,49,44,56,37,46,34,41,27,36,36,37,42,52,33,35,53,39,40,32,54,36,41,50,30,49,42,51,37,25,31,42,41,47,49,46,33,33,34,45,37,45,58,35,35,30,44,31,40,42,42,33,39,35,28,39,48,37,44,35,45,37,59,29,36,41,54,35,46,61,58,34,37,31,28,35,38,54,30,59,50,59,42,57,44,32,43,35,57,38,48,41,53,43,37,35,42,43,49,31,35,60,54,42,51,43,56,47,47,37,33,35,39,54,43,45,33,41,31,46,42,44,54,49,50,40,36,50,60,28,35,32,41,42,58,49,26,56,53,56,50,26,35,36,41,33,48,36,58,49,37,38,56,29,46,36,44,42,44,49,34,26,28,54,48,49,47,50,48,38,57,28,37,26,39,50,50,58,51,56,47,32,36,53,45,41,41,30,35,52,36,40,38,37,49,45,53,31,50,45,42,51,38,52,57,50,60,35,46,48,52,43,42,48,50,55,57,36,31,52,42,45,56,31,35,46,53,49,45,40,49,46,49,57,37,49,30,34,51,55,51,55,52,30,46,45,58,49,36,35,30,48,41,33,60,55,38,57,57,47,45,50,46,37,46,50,47,51,58,51,53,46,39,55,44,47,58,51,52,56,54,43,47,37,50,60,53,60,37,52,47,54,47,41,46,50,49,47,45,41,45,41,46,50,32,46,52,47,45,54,52,49,40,31,47,46,38,56,36,53,55,44,59,54,43,58,39,45,60,54,42,45,47,31,35,56,36,54,48,53,58,54,33,55,44,49,43,43,46,60,42,37,40,60,46,59,49,32,57,54,41,30,48,42,50,55,60,57,59,50,39,41,53,53,58,58,59,56,45,50,43,48,56,37,42,59,49,48,55,40,51,59,58,46,52,45,42,52,33,52,46,52,43,59,57,42,57,59,46,53,59,51,48,43,58,34,58,55,30,47,59,31,53,59,32,33,44,32,47,40,43,32,34,59,41,38,56,57,49,55,36,30,54,50,55,34,35,45,51,45,47,60,45,50,51,53,55,58,60,41,32,32,43,43,53,50,49,48,33,32,48,55,38,42,47,44,51,46,60,46,58,59,52,52,43,52,50,37,38,59,43,44,49,32,57,47,31,44,42,30,44,56,51,32,37,47,60,45,53,55,45,49,60,49,39,54,34,39,54,53,49,51,58,56,38,48,30,35,48,35,33,58,46,49,50,33,51,31,57,50,34,53,30,31,42,52,57,31,56,51,36,44,56,44,33,57,42,55,50,61,50,42,33,45,58,38,45,32,39,46,56,51,48,39,50,46,57,43,53,43,48,49,41,51,30,34,59,38,32,46,54,48,54,30,36,43,33,34,42,33,40,49,51,35,44,36,50,60,50,31,56,41,39,49,34,41,45,46,35,37,37,37,45,43,44,45,50,59,52,47,39,47,42,57,55,30,42,36,48,34,56,52,35,54,45,40,44,52,55,58,47,43,53,35,40,34,48,55,58,35,43,39,60,59,55,55,48,48,53,30,41,60,49,41,32,60,31,33,39,60,54,32,33,46,37,48,48,42,47,37,33,57,30,59,30,31,56,49,35,42,36,46,49,56,32,48,50,31,44,48,36,59,41,58,59,57,46,48,36,40,46,48,50,32,33,46,60,32,37,43,57,46,57,36,32,48,43,37,51,52,48,32,47,50,32,58,45,49,50,32,38,30,46,50,31,36,35,53,46,34,33,50,46,45,55,42,40,41,39,35,46,43,49,38,59,42,48,48,46,49,32,42,32,45,34,32,44,38,46,41,52,44,52,46,30,39,48,50,51,30,57,54,56,38,31,51,39,51,34,49,49,35,47,52,50,37,43,42,48,38,52,41,41,37,45,36,34,30,38,55,33,31,32,34,48,43,35,45,56,40,51,39,31,47,30,39,58,38,49,47,30,35,52,48,36,48,31,34,33,35,33,45,52,39,42,53,31,46,52,57,60,54,49,31,50,58,46,55,40,52,55,45,50,34,53,47,43,36,59,32,50,60,45,32,36,36,59,32,32,58,30,33,44,47,33,34,35,40,35,36,59,38,36,57,30,56,35,33,42,47,42,30,32,55,46,54,38,58,50,35,46,47,51,32,60,30,50,42,31,45,55,46,35,53,32,33,45,56,45,32,34,37,40,56,51,45,35,38,36,50,52,45,30,51,48,39,45,32,57,50,30,36,49,50,56,55,37,32,60,32,48,48,53,45,53,60,56,33,33,37,37,53,40,37,36,57,44,44,34,55,51,47,57,31,57,41,46,58,35,61,33,57,51,46,35,30,31,31,59,48,50,56,55,46,33,56,31,41,57,55,42,43,52,45,40,34,49,36,36,33,31,33,35,44,45,56,32,34,59,36,50,33,48,45,31,45,43,32,41,32,35,59,53,32,51,36,56,54,42,34,45,30,46,47,33,34,40,41,54,38,33,48,37,50,33,51,49,55,56,56,34,37,32,33,30,34,43,53,52,34,48,48,52,37,47,53,33,32,31,35,30,41,47,44,58,51,31,33,37,58,60,45,44,36,52,41,52,34,55,32,34,50,45,31,32,31,57,53,32,56,31,31,51,32,41,60,32,47,52,42,38,33,53,31,57,60,33,47,34,50,34,33,48,47,37,41,36,33,35,30,31,40,37,33,49,52,31,47,50,30,36,46,46,47,57,39,32,35,41,35,52,37,42,47,46,32,52,34,31,33,33,33,35,34,34,50,30,38,32,55,44,52,52,59,31,60,37,60,47,57,39,30,43,47,45,41,39,38,51,58,53,49,41,40,34,41,34,32,33,46,33,35,44,55,31,34,34,38,31,34,31,55,31,57,45,33,35,50,33,45,42,46,32,47,31,45,50,54,50,57,51,37,45,30,32,38,31,55,32,55,49,47,46,57,33,33,46,43,35,49,38,44,35,48,30,50,31,40,47,42,48,34,59,59,30,43,31,46,33,30,59,35,46,51,41,38,47,35,32,33,43,46,38,49,41,60,52,35,47,52,35,30,51,33,35,39,37,32,38,40,33,57,53,38,47,34,32,32,31,32,55,55,39,39,35,40,40,33,32,39,36,57,49,35,48,40,32,52,48,31,34,31,37,44,34,54,32,36,59,41,34,43,54,31,32,46,49,43,53,38,30,36,33,46,31,39,46,49,52,46,47,31,51,47,46,47,43,33,51,57,34,31,35,41,48,51,60,41,34,61,36,37,30,34,47,50,46,35,31,51,32,54,58,31,32,44,46,32,45,38,52,32,56,35,54,31,45,41,34,39,46,34,49,32,35,53,36,49,32,39,46,38,57,44,31,51,56,52,35,47,30,42,38,48,45,46,48,34,31,55,34,39,32,35,53,36,54,33,55,30,30,60,33,39,43,39,31,58,56,35,45,48,56,32,32,56,44,31,37,46,45,30,27,60,52,36,30,39,50,31,37,40,33,58,30,34,59,55,30,30,58,32,31,50,31,33,34,31,46,30,35,49,45,31,35,54,42,34,43,46,43,47,31,32,35,46,59,30,34,53,59,46,35,43,45,36,30,34,42,60,52,45,33,40,41,33,34,34,39,46,43,33,57,32,31,30,46,49,60,60,33,32,35,59,30,47,53,41,45,35,32,34,60,48,41,30,40,37,33,45,56,46,46,51,36,33,49,34,33,57,34,55,39,59,32,53,36,31,46,58,50,46,58,31,49,30,37,59,43,38,55,30,39,33,48,41,41,53,47,55,32,36,32,40,34,37,34,32,35,38,37,53,57,48,35,30,31,40,47,35,31,35,30,42,32,45,33,59,37,40,32,32,51,31,33,37,59,32,30,38,52,32,37,34,30,33,32,30,43,31,43,31,31,47,49,32,30,56,59,47,30,50,42,53,51,43,36,31,55,34,37,40,41,59,55,39,35,59,48,46,50,38,57,35,53,34,44,30,53,58,34,38,34,33,50,56,31,50,45,34,33,52,32,44,47,40,59,30,30,50,32,46,32,59,60,57,58,39,31,36,56,51,33,35,56,44,49,44,54,33,31,37,33,30,49,31,33,48,39,30,46,41,57,49,54,30,31,30,35,35,58,40,31,42,42,46,59,58,32,49,34,33,30,39,34,32,52,58,49,36,30,36,35,30,59,37,30,31,34,56,47,58,30,37,50,54,54,32,51,40,32,30,31,30,31,34,47,41,30,55,38,41,36,45,52,35,37,54,47,32,53,50,33,30,44,31,30,53,35,33,30,42,30,30,43,59,33,33,39,34,52,54,45,52,33,49,46,35,34,30,59,33,38,31,48,34,31,52,54,35,57,45,57,34,30,47,37,58,38,54,44,43,57,38,46,57,41,49,32,38,31,46,58,30,33,30,45,54,35,49,55,45,30,52,54,30,42,38,34,31,34,39,50,35,60,36,47,60,33,59,48,30,49,58,55,31,54,49,60,31,34,45,43,30,57,59,32,55,49,36,52,49,50,40,41,49,38,49,31,48,54,31,31,46,34,34,47,39,54,31,42,31,33,30,47,54,54,40,31,47,32,32,59,58,33,47,48,50,45,60,32,42,49,30,32,30,47,48,51,54,37,54,52,44,36,49,48,59,33,33,36,48,44,55,50,30,58,32,56,44,32,33,31,51,43,41,34,50,57,33,49,50,41,60,34,45,55,33,45,55,52,52,33,45,52,46,37,46,52,57,38,32,51,31,46,31,32,35,52,40,45,60,54,59,57,54,52,51,35,51,31,32,41,32,51,49,33,39,45,36,58,49,38,38,57,45,51,50,31,45,54,34,56,47,53,53,55,56,48,33,35,56,54,37,58,50,49,58,60,48,33,59,32,50,52,47,58,50,34,40,51,41,34,32,38,60,49,34,55,40,49,51,31,42,51,33,55,42,36,37,39,35,32,51,43,50,50,55,58,48,47,39,31,51,41,59,45,52,31,32,38,48,39,53,35,36,36,40,30,60,40,33,51,36,45,47,34,57,58,36,40,45,52,53,43,47,59,59,33,55,30,34,41,35,34,52,35,41,31,40,44,31,30,50,32,58,56,30,48,54,51,59,34,43,39,47,48,32,58,36,32,30,53,47,33,56,30,30,35,37,30,35,33,59,34,41,42,30,59,42,47,43,50,48,40,35,47,47,60,44,53,32,30,30,51,56,30,47,56,54,36,34,36,32,30,42,34,56,40,37,59,31,38,45,40,42,42,58,50,48,52,52,40,31,35,38,51,48,35,30,54,34,36,36,42,58,38,40,34,48,39,33,57,37,53,39,43,59,32,42,58,33,48,43,36,35,57,36,43,41,47,40,47,35,35,48,33,56,55,31,43,44,41,54,56,35,30,37,55,36,54,30,57,34,59,39,57,47,30,50,47,57,32,40,34,44,39,33,58,60,35,36,36,34,51,30,50,37,32,59,34,49,41,52,42,35,33,31,32,36,42,48,31,56,43,30,30,35,47,31,54,39,30,33,58,60,54,55,51,45,30,47,39,32,46,57,52,30,51,59,30,31,38,55,34,39,45,42,57,51,40,47,34,44,30,46,61,59,50,37,31,57,56,58,35,33,32,43,36,45,48,38,40,45,43,46,33,43,49,60,42,30,48,32,60,32,30,42,60,32,49,46,46,33,51,34,30,32,46,48,57,44,38,32,59,47,34,33,36,47,56,44,49,60,31,30,47,32,44,57,51,42,50,42,52,39,37,34,30,30,46,32,59,51,35,51,36,58,45,33,50,34,58,34,30,34,30,48,58,60,45,58,42,48,57,36,52,37,60,45,58,32,32,31,51,45,34,33,31,32,46,46,35,45,49,48,52,45,60,32,51,48,31,30,57,32,34,33,47,32,55,35,37,49,60,54,60,59,59,52,48,58,52,40,36,45,31,35,36,45,30,49,55,30,45,60,56,58,60,43,48,46,46,57,51,51,36,46,50,45,34,45,54,36,39,56,46,34,55,36,54,35,49,36,57,55,48,43,37,33,48,36,44,35,35,58,42,55,36,60,55,52,47,35,48,31,32,32,30,34,42,30,55,51,46,48,47,48,45,23,60,56,30,59,54,34,51,49,31,47,33,33,54,42,60,41,49,57,60,43,48,33,40,55,54,33,50,31,60,45,43,33,30,58,33,37,33,42,60,47,39,43,54,55,56,44,50,32,35,41,39,32,46,32,61,52,32,59,35,32,30,54,30,30,31,51,52,39,40,32,48,54,45,49,31,46,52,55,50,45,53,31,32,46,36,40,31,52,45,48,39,33,46,30,32,48,34,45,60,61,46,52,56,50,38,49,58,35,43,33,30,43,35,36,35,47,47,30,52,51,33,32,38,34,33,52,41,32,31,30,45,38,37,48,37,44,45,31,32,43,46,40,33,58,49,60,35,56,54,30,37,49,39,45,31,55,58,60,42,48,46,37,49,35,39,45,48,38,31,52,33,58,53,47,56,32,38,60,49,31,47,59,60,50,35,46,60,37,32,31,56,48,54,44,47,47,30,36,41,32,48,48,45,53,60,53,47,60,33,60,57,56,57,49,39,45,39,38,59,48,49,49,32,44,35,51,49,43,34,42,40,56,49,60,37,47,34,45,46,52,50,53,34,57,32,49,49,45,56,39,60,47,30,57,33,41,51,48,57,42,45,58,46,32,31,30,42,46,38,55,39,34,36,48,36,42,40,30,32,42,36,55,40,33,31,32,52,32,58,56,41,54,41,39,56,60,33,34,57,33,36,42,42,53,43,60,36,55,56,37,34,57,51,30,48,30,31,34,40,35,36,49,36,58,52,39,53,51,46,32,33,33,31,37,46,44,52,40,50,43,30,57,48,51,40,34,43,57,45,53,40,55,31,34,30,45,45,43,45,55,58,33,31,36,34,39,39,50,42,57,60,33,39,59,30,53,30,47,32,54,56,32,33,46,46,33,35,46,35,33,52,31,32,56,49,34,56,34,33,52,58,42,32,32,43,33,46,47,39,52,42,48,45,50,35,40,41,48,59,47,41,36,53,57,52,43,30,51,33,47,41,39,31,50,46,44,53,53,43,50,47,47,36,56,51,48,34,43,53,44,33,37,38,49,48,56,47,33,42,34,53,56,55,34,35,33,55,58,56,46,32,32,43,53,32,33,58,32,47,49,46,55,42,52,43,34,31,42,58,53,42,48,51,41,41,31,47,49,47,46,52,50,48,30,30,50,33,33,45,44,32,44,46,45,47,51,31,48,53,33,34,40,52,39,40,58,54,52,31,38,39,30,42,57,32,53,46,34,42,37,38,42,40,50,31,31,38,53,40,37,52,37,31,42,53,34,56,41,38,33,44,51,43,32,38,54,32,30,42,48,30,38,34,30,38,33,38,34,39,33,34,40,33,42,47,56,34,55,55,34,50,41,39,33,34,56,32,44,32,37,39,45,46,36,32,53,34,51,31,45,31,32,42,47,43,37,41,32,32,35,46,32,42,46,51,51,56,45,37,49,41,50,36,51,33,32,32,31,31,39,39,42,48,43,47,39,36,50,38,39,35,39,46,44,53,50,60,51,31,49,50,32,37,40,50,46,55,60,30,35,35,36,47,37,46,32,48,30,49,39,33,47,44,46,36,43,30,37,33,31,41,33,47,47,49,32,32,57,48,54,44,39,44,44,35,51,37,31,59,52,38,40,42,32,54,32,33,41,38,40,33,45,34,43,31,56,33,40,33,40,53,34,31,31,46,31,50,59,33,35,34,49,55,57,37,31,33,48,46,51,32,40,54,38,30,43,42,59,41,47,54,52,34,34,40,47,38,36,35,36,36,40,30,51,38,40,42,31,33,33,33,32,36,53,53,58,30,33,31,45,39,41,44,48,46,44,37,43,58,50,34,42,33,35,30,31,51,30,37,32,38,56,46,55,32,36,53,52,50,36,45,33,34,47,30,45,32,31,45,44,39,55,34,33,57,38,35,53,42,33,36,31,56,31,34,41,34,41,34,60,36,35,36,51,30,57,40,34,57,33,57,34,48,30,30,55,52,30,32,33,39,50,47,32,54,31,55,48,37,52,31,35,34,37,45,31,33,31,48,57,31,43,50,32,32,60,50,40,32,30,60,52,53,50,58,36,39,35,40,31,39,45,57,30,44,47,47,34,56,31,37,45,34,37,33,46,34,33,36,33,30,48,37,43,30,37,37,53,33,55,42,34,49,34,49,52,57,57,51,33,33,32,35,31,35,32,37,55,39,36,32,33,34,53,35,59,30,47,31,31,32,34,47,34,33,42,40,41,36,30,54,33,33,59,30,47,53,35,31,60,55,46,35,49,30,37,52,33,55,52,43,38,32,44,41,47,50,41,52,31,33,47,34,33,53,37,34,32,31,52,45,58,37,46,30,43,60,30,33,46,42,47,49,35,32,32,31,47,41,32,46,36,36,58,34,39,46,34,52,38,33,56,53,58,35,33,31,52,38,38,44,44,46,50,34,30,46,30,53,50,59,42,56,55,49,34,31,53,34,32,31,57,48,37,38,59,49,41,33,35,32,30,35,53,43,36,32,46,52,43,46,35,30,33,55,55,49,40,48,35,51,58,58,37,60,36,45,33,52,35,36,31,57,30,55,32,35,54,35,32,31,57,32,55,55,34,46,33,32,49,36,44,46,36,53,32,52,50,33,46,50,57,52,49,36,36,39,48,52,50,50,33,47,49,35,46,52,58,43,31,30,47,47,31,30,30,44,46,30,54,49,50,38,54,34,36,47,36,47,49,50,59,34,31,36,30,41,35,31,33,32,50,39,41,32,35,30,32,46,31,57,39,40,60,49,32,34,59,34,33,40,32,34,43,55,31,57,36,36,47,32,32,36,35,41,51,45,34,31,31,59,32,47,35,59,56,41,36,45,31,37,31,45,31,36,30,42,47,37,31,43,30,31,30,34,48,30,37,53,31,34,35,47,54,59,45,49,38,32,46,55,58,51,37,50,47,53,51,33,60,49,49,47,32,37,30,38,53,44,31,40,41,44,30,33,33,31,33,32,57,44,41,40,59,35,33,33,33,45,35,52,58,60,51,39,34,38,33,32,50,31,31,60,46,57,50,39,50,36,36,58,31,30,52,53,51,33,48,60,50,59,33,37,45,47,41,52,35,34,36,32,36,58,43,55,33,51,43,33,32,37,48,40,30,37,46,53,38,49,33,56,34,32,46,38,44,42,46,45,49,42,54,47,54,43,52,33,49,60,32,30,34,37,36,39,33,49,47,46,33,43,54,39,58,59,51,40,56,41,30,45,35,33,49,45,37,59,54,38,35,33,37,30,52,45,33,34,36,49,54,33,54,58,33,36,30,36,44,39,55,55,34,47,35,41,54,39,33,33,45,50,30,52,52,34,55,42,46,30,53,33,31,31,31,59,30,39,46,44,55,51,34,35,37,48,41,43,50,33,60,46,34,47,30,48,33,35,50,34,48,32,54,52,31,32,49,38,33,55,47,35,31,56,39,30,52,51,59,34,33,55,34,51,32,53,35,57,42,32,33,44,41,36,40,40,45,31,48,33,39,55,31,30,31,32,54,45,56,30,57,58,55,31,47,31,59,40,52,47,47,41,45,32,32,38,32,30,45,46,31,30,52,31,35,49,51,48,34,49,34,54,54,34,43,48,38,57,59,39,49,51,34,31,51,34,50,38,44,40,44,42,30,41,51,42,57,39,32,34,53,60,54,61,52,52,37,47,33,35,37,32,35,46,41,37,51,51,45,35,58,53,54,39,32,35,48,30,49,31,51,43,47,34,56,53,46,33,33,34,39,33,51,51,49,41,57,44,51,52,31,38,38,54,42,47,35,49,33,31,45,55,30,43,45,54,31,48,60,38,32,36,43,51,48,54,30,59,34,40,32,59,35,55,47,46,56,47,45,31,45,31,35,44,44,33,55,54,53,37,40,36,47,49,31,41,42,49,52,30,32,47,58,33,36,30,60,48,31,46,51,50,41,59,33,32,35,44,37,60,42,53,47,49,33,35,47,38,38,35,48,42,47,35,52,30,35,42,45,48,47,60,44,46,56,50,31,32,35,32,41,52,48,43,37,30,35,37,33,45,34,50,35,39,33,60,34,36,31,33,49,42,51,57,31,55,33,45,39,36,32,34,30,31,31,52,44,31,45,30,39,37,46,58,31,38,32,30,34,35,46,56,59,52,34,52,54,30,48,32,32,36,36,40,36,40,36,45,38,50,32,44,41,31,52,37,30,39,39,50,32,32,40,45,34,38,50,39,34,33,55,31,45,38,50,51,31,48,33,35,34,45,35,51,49,48,37,58,53,54,30,52,49,55,37,37,59,32,49,59,35,41,38,51,52,55,40,46,38,40,38,47,31,39,59,44,35,42,42,58,33,31,48,59,31,35,33,48,56,41,36,48,44,38,44,31,42,35,36,43,31,36,32,53,58,32,41,59,32,57,32,46,51,31,30,56,31,33,46,48,30,47,52,33,34,51,40,38,56,31,34,43,43,57,39,45,60,46,46,35,42,50,55,55,33,54,31,41,55,46,52,34,56,44,46,39,49,36,40,34,60,45,38,38,32,32,43,36,58,31,58,42,35,30,36,42,59,30,33,47,38,51,31,46,37,34,44,53,30,59,49,48,47,44,34,34,41,49,37,32,51,41,55,32,42,32,48,58,31,39,42,36,44,58,51,30,31,56,31,32,57,48,32,33,54,50,30,30,54,54,56,38,45,50,58,50,55,32,50,53,43,48,37,43,46,37,35,36,53,33,31,32,31,40,50,32,40,39,53,37,33,39,40,34,30,34,56,31,37,34,37,49,50,55,52,48,40,37,40,47,47,54,33,39,32,38,45,35,38,56,30,30,33,58,33,31,50,47,33,48,32,33,46,43,33,58,30,59,30,41,32,31,38,31,58,41,32,60,31,39,58,56,34,52,36,44,34,43,36,55,32,46,42,32,39,43,32,45,34,51,34,34,40,44,51,51,52,57,36,33,53,57,32,57,31,30,56,37,35,41,34,44,40,31,41,32,37,33,33,52,49,53,54,59,30,34,42,59,42,43,40,43,60,47,57,37,42,36,55,32,49,32,31,37,32,46,31,33,43,50,50,34,32,46,31,45,50,31,34,30,59,34,44,32,32,55,42,36,30,53,55,50,43,60,42,34,38,37,41,59,46,34,40,37,44,30,32,50,42,42,59,44,47,52,55,44,59,46,44,53,39,35,48,36,33,51,32,37,42,43,42,39,32,52,31,47,32,40,48,54,43,48,55,37,36,58,31,31,56,49,34,38,31,33,40,33,32,34,30,50,55,60,53,45,53,31,34,54,34,48,37,45,33,33,48,53,52,32,33,39,35,51,34,35,30,52,48,36,30,57,55,30,48,45,36,36,31,41,33,34,43,31,45,32,32,38,42,52,40,53,39,54,34,35,45,45,47,34,36,30,35,35,44,34,30,41,38,41,37,52,43,60,34,34,39,44,51,52,40,47,40,32,50,31,33,60,33,31,31,33,58,49,35,43,44,35,31,33,48,30,43,59,51,36,49,59,42,47,32,36,60,55,45,34,32,35,30,31,30,35,49,35,32,58,30,38,35,60,36,56,46,43,41,31,48,60,36,34,58,45,39,55,32,41,32,32,31,33,36,35,38,36,47,31,49,59,37,42,46,35,51,41,35,34,38,33,36,33,31,45,32,34,33,47,37,35,37,60,38,38,30,47,40,47,53,48,46,36,33,56,32,35,32,45,45,35,37,51,35,47,32,35,31,46,49,45,33,51,59,48,57,33,39,39,42,37,30,46,33,49,36,31,34,35,56,32,33,48,34,35,32,58,31,33,32,31,59,48,32,36,33,38,54,39,48,31,56,34,39,31,55,50,45,35,31,37,34,33,33,55,41,33,46,60,47,31,41,46,47,31,34,45,32,49,39,47,59,48,33,38,33,49,31,46,33,38,59,49,40,32,34,54,45,30,40,42,33,43,39,40,52,55,35,54,45,33,46,31,46,38,34,54,34,44,32,33,41,45,41,54,49,36,45,48,41,41,56,55,36,40,30,35,31,59,46,38,52,52,45,38,40,47,48,38,60,46,34,33,47,58,47,34,32,31,42,41,37,56,52,49,36,32,60,49,35,36,36,33,34,37,32,30,37,45,52,46,46,33,39,49,50,47,37,43,53,31,35,37,51,37,47,57,36,32,33,38,51,31,37,46,53,59,34,46,30,49,43,36,28,36,47,37,50,32,31,52,52,45,47,48,43,30,34,44,30,33,32,42,40,33,58,35,31,45,58,45,28,36,42,32,28,40,36,44,51,56,57,26,40,49,50,44,58,37,36,39,58,27,33,47,30,39,57,38,43,34,31,35,58,39,60,59,35,42,43,36,34,35,43,38,39,58,27,34,41,60,28,26,34,56,34,50,51,26,31,37,44,59,43,49,48,34,30,36,31,28,29,33,40,43,38,33,23,59,38,31,33,43,40,48,47,31,33,34,28,34,47,22,37,26,30,43,33,40,59,30,32,32,31,49,46,27,35,32,57,58,35,30,32,44,57,51,51,58,44,54,57,53,35,41,50,37,46,34,37,35,49,42,49,40,42,49,47,40,36,47,43,56,55,54,33,56,52,45,51,57,57,58,55,45,48,55,47,48,39,47,40,37,50,38,59,54,32,52,48,52,57,43,45,30,46,40,52,53,49,45,54,49,39,39,54,57,37,42,39,57,48,46,39,49,58,43,48,44,49,37,44,40,43,57,34,31,58,30,50,57,40,39,33,41,38,46,59,44,57,49,57,51,58,48,35,49,54,55,50,42,38,37,49,47,46,52,42,33,47,51,56,51,55,40,50,48,54,41,42,54,58,50,45,46,49,40,30,50,58,39,36,34,41,59,52,40,58,54,46,50,54,56,34,57,54,48,45,51,56,59,49,52,53,42,53,54,56,46,52,41,40,51,47,58,50,56,58,49,42,52,53,49,57,43,59,45,52,50,52,45,51,51,36,58,58,31,31,33,34,53,48,42,51,46,34,45,47,31,47,35,39,32,40,56,54,45,59,30,41,45,59,40,45,46,45,43,30,46,57,55,43,55,48,42,49,49,46,43,39,37,40,37,38,48,42,45,58,43,56,58,54,35,36,33,43,53,46,45,44,42,54,35,39,42,41,32,47,45,36,35,41,53,32,35,51,44,41,53,51,31,58,43,36,49,52,36,56,56,44,58,57,48,32,44,58,42,38,56,45,35,46,38,40,47,41,56,33,52,48,45,32,43,33,46,40,42,52,54,55,50,51,51,38,54,26,56,54,56,38,44,45,42,53,46,56,53,59,43,37,37,51,44,36,52,51,42,32,53,52,41,46,34,42,40,46,48,55,45,48,50,41,36,50,58,43,44,52,52,38,41,52,46,40,42,41,37,53,59,55,53,49,39,52,36,50,38,35,37,52,44,59,43,32,37,53,33,35,41,37,43,51,56,44,52,44,56,34,36,48,59,58,49,47,37,39,38,31,50,42,34,51,59,41,43,30,38,49,38,41,47,56,53,41,57,47,48,54,50,55,40,50,38,50,52,43,49,42,40,46,50,48,34,38,31,43,51,34,45,57,36,32,54,51,49,46,48,44,30,35,50,40,56,37,31,39,50,45,40,43,52,41,43,34,35,42,44,38,56,54,42,51,41,44,36,43,40,53,54,58,41,48,53,48,40,35,43,40,56,37,38,56,37,58,38,55,43,38,51,45,40,34,54,36,50,46,42,41,46,56,43,44,40,35,58,49,48,35,48,40,42,55,35,44,40,50,35,43,31,40,53,56,34,32,49,33,54,46,44,57,59,45,36,44,49,43,37,36,37,42,41,42,34,59,55,53,34,34,37,54,34,31,57,35,51,48,44,34,44,41,35,34,35,56,39,33,41,45,53,33,30,38,44,34,36,48,33,31,44,47,41,58,56,32,34,40,54,48,33,35,51,41,41,47,48,45,55,35,32,50,59,48,33,38,54,39,36,49,41,51,37,38,39,33,47,42,53,36,42,41,44,35,55,37,35,38,47,50,35,48,33,46,59,33,46,52,45,56,46,36,50,57,31,32,38,38,37,59,34,40,41,59,36,35,59,56,51,48,45,42,30,32,38,44,38,37,39,37,49,51,57,31,37,46,35,35,34,42,30,36,51,37,41,47,33,41,40,35,58,30,43,36,54,43,50,58,41,42,41,43,49,41,34,48,53,31,49,30,53,37,35,32,36,49,37,30,31,41,52,44,43,34,56,35,36,51,51,44,45,49,36,58,45,35,36,33,36,58,39,47,47,35,40,52,40,34,42,52,32,39,39,34,31,58,48,50,41,55,57,46,43,40,31,50,51,37,50,39,31,31,49,51,56,51,36,34,52,34,54,30,36,55,53,46,45,50,46,57,53,38,47,56,33,33,45,39,38,39,31,34,34,39,37,33,37,33,31,33,46,40,45,51,31,36,39,47,38,30,55,32,40,59,51,32,41,50,49,44,44,50,41,36,30,38,35,31,44,46,45,55,45,47,36,35,46,34,30,32,34,55,53,52,43,37,39,44,38,32,37,35,35,31,33,39,43,48,33,58,50,45,36,33,43,51,36,35,42,34,38,41,52,35,34,36,50,32,50,42,59,32,49,34,34,41,57,31,30,54,32,49,50,30,30,32,35,32,55,40,31,32,38,34,32,31,32,46,44,35,56,32,48,33,36,51,57,58,36,32,34,35,36,32,50,48,48,32,54,48,31,51,38,48,48,35,41,39,54,36,45,52,52,34,38,39,38,47,34,52,57,41,41,59,34,45,36,48,40,38,36,47,42,45,39,57,52,39,55,33,36,54,36,46,33,51,59,44,35,47,36,32,31,41,58,34,49,40,45,48,59,40,54,47,33,48,30,33,36,59,43,52,36,33,31,39,32,46,39,33,45,54,43,41,35,36,59,36,31,36,50,39,38,58,32,36,36,50,44,38,51,38,59,46,37,39,38,49,36,33,34,55,39,41,31,40,30,37,34,57,42,33,34,49,44,42,36,42,44,57,36,36,37,43,53,35,54,38,43,52,49,40,31,32,33,34,40,30,31,34,45,40,40,35,33,51,38,30,53,32,30,50,40,47,35,34,56,49,50,33,32,53,36,39,41,51,42,34,33,32,35,53,46,32,42,31,47,40,36,32,35,47,51,40,37,56,45,33,49,32,39,41,59,45,49,41,36,46,38,34,32,34,47,30,34,44,50,41,31,30,30,34,43,33,51,45,46,39,51,30,40,36,32,46,40,46,35,45,58,32,49,39,33,31,55,34,53,42,32,30,48,34,35,52,39,48,31,36,31,31,51,36,45,30,31,35,51,51,41,47,50,42,56,48,31,41,56,34,46,43,36,33,51,42,30,41,48,51,43,55,44,33,39,35,31,35,41,36,33,37,36,35,44,58,55,53,58,33,32,46,31,50,38,30,46,42,45,36,48,42,30,37,39,30,32,38,47,39,31,38,50,32,45,33,35,33,30,52,50,52,35,45,34,43,31,54,33,31,33,37,53,58,48,40,36,33,33,33,37,51,57,31,46,35,55,32,30,32,41,35,51,43,40,37,38,33,52,31,35,32,31,33,30,31,32,35,36,40,35,42,31,40,35,32,52,35,42,45,37,56,59,45,36,35,32,30,42,58,39,36,43,35,30,32,34,39,30,49,57,54,37,49,30,34,54,52,57,41,48,33,55,30,48,30,41,31,45,30,39,35,56,42,34,35,47,40,32,44,33,41,31,59,45,49,46,39,55,54,45,40,46,50,30,44,32,34,34,33,55,46,49,39,50,32,32,47,56,54,40,53,35,35,51,40,35,41,39,30,39,39,39,52,56,34,32,46,51,46,57,38,35,41,38,43,47,54,48,32,31,34,31,32,32,34,51,54,51,32,40,30,35,31,44,33,31,32,32,53,36,49,33,32,41,43,32,33,54,35,41,48,33,33,39,53,46,38,40,33,44,30,35,32,51,30,30,32,54,33,59,45,31,30,33,37,37,30,53,41,34,43,58,33,32,50,40,46,54,34,53,53,57,42,53,42,47,46,50,41,48,32,30,40,43,32,44,51,58,43,36,34,58,39,35,36,33,51,38,52,54,41,49,47,53,44,39,43,56,45,40,53,57,30,50,48,59,39,45,33,36,44,32,52,47,47,35,57,45,55,39,58,32,43,32,54,31,33,36,31,36,36,42,41,31,46,45,37,42,30,30,59,51,57,45,41,52,37,44,34,35,56,30,46,42,55,51,45,40,35,32,46,46,37,33,32,55,50,45,46,45,38,38,34,30,31,44,35,34,53,33,53,47,41,39,32,31,37,49,35,30,35,40,38,38,35,55,42,39,31,51,51,36,59,58,30,32,48,34,57,55,47,43,34,39,53,30,50,44,30,53,50,46,33,59,32,32,44,57,36,31,47,33,38,48,30,52,41,41,34,30,29,47,57,33,37,54,41,34,32,35,32,43,46,37,59,52,33,33,41,49,56,51,36,42,38,52,56,48,40,37,36,30,50,38,47,32,41,32,55,52,31,37,31,53,57,34,44,50,35,54,50,56,56,31,40,48,43,52,41,40,32,33,36,59,36,31,42,34,56,37,32,40,53,33,40,37,30,48,47,56,31,51,49,35,34,42,46,30,30,40,44,32,53,43,50,50,57,30,58,33,44,43,32,54,35,53,46,56,31,42,47,42,37,39,39,40,54,39,39,42,39,39,54,52,34,42,50,43,59,52,39,54,37,33,45,55,46,56,59,56,53,37,33,54,42,36,57,44,32,35,32,57,39,32,34,49,39,33,36,32,31,50,37,45,59,33,47,31,31,33,40,42,53,31,54,31,32,50,33,49,41,41,30,40,37,35,36,35,30,49,49,35,56,32,30,44,30,31,46,49,45,32,30,36,50,44,33,34,36,49,44,45,56,31,58,37,51,53,53,41,47,52,47,40,38,40,54,55,52,58,52,32,38,37,33,35,56,30,31,51,40,47,43,41,41,45,36,32,35,32,41,33,44,30,57,31,44,31,31,32,33,30,33,46,46,34,41,33,39,36,31,44,54,35,49,32,41,34,37,55,35,34,35,41,45,38,39,53,34,37,30,34,33,34,35,49,41,49,41,40,50,51,57,37,38,59,59,32,31,34,59,33,37,34,44,36,38,35,30,39,30,34,37,46,52,31,42,51,31,32,31,39,47,32,36,35,35,34,39,34,52,31,43,42,42,40,33,40,35,45,33,41,32,47,35,38,41,33,53,47,49,30,35,51,31,33,33,40,45,49,35,33,36,38,32,35,54,41,39,30,39,55,59,57,39,55,34,50,51,34,33,33,54,45,40,42,32,34,51,51,43,55,56,31,32,34,46,30,50,35,54,32,35,33,47,40,52,33,36,46,32,30,52,35,47,33,33,54,32,34,33,49,32,47,52,34,41,53,40,49,51,59,32,36,50,37,55,56,35,30,52,38,48,31,32,34,30,45,34,51,35,56,30,50,54,31,33,41,38,52,40,38,35,34,34,53,45,31,48,57,47,39,37,31,32,33,32,52,31,39,40,49,33,30,37,30,39,47,44,39,31,34,50,30,31,30,57,31,32,51,41,31,52,48,31,59,37,46,37,46,39,57,55,41,55,46,56,32,44,34,36,35,32,50,30,30,55,32,39,30,30,33,33,41,31,30,34,31,36,32,36,35,51,44,45,32,36,30,30,51,47,53,50,39,33,49,46,44,55,47,34,37,30,45,32,31,42,30,32,42,32,33,39,58,32,43,34,53,33,35,44,43,37,56,33,42,33,40,38,53,47,54,33,31,47,48,31,43,33,39,58,32,32,57,53,52,30,38,40,32,38,34,55,51,37,30,35,36,57,36,33,42,43,32,32,30,46,40,31,31,34,32,33,32,40,33,38,31,38,41,30,51,39,36,31,46,51,36,57,37,35,44,37,32,48,34,31,30,34,34,30,34,49,31,34,43,31,59,59,38,33,59,40,31,53,37,42,31,35,33,53,33,49,34,44,37,32,51,59,41,58,35,49,35,43,33,30,59,39,33,36,37,54,59,31,39,36,38,33,37,31,35,49,30,32,31,34,59,58,31,33,48,45,44,57,38,35,30,43,52,39,39,38,35,43,43,32,44,34,40,37,51,32,38,38,36,33,46,59,45,37,52,37,52,43,32,52,31,47,31,50,30,43,44,37,40,52,59,56,49,31,43,44,49,32,47,31,39,37,41,31,54,37,49,42,58,54,30,53,31,35,36,40,31,43,37,34,33,53,34,30,34,43,43,47,33,45,30,31,34,32,30,49,38,35,41,58,33,34,31,35,43,32,42,47,30,41,31,42,33,52,32,32,33,56,31,45,37,31,34,54,57,52,33,32,47,34,45,32,52,55,31,59,37,30,31,38,33,59,41,53,36,30,35,30,38,54,40,59,32,36,31,39,36,54,46,44,32,35,36,57,31,37,46,32,58,36,38,56,34,35,53,51,38,31,31,50,40,44,31,35,51,47,41,51,35,34,43,32,53,31,39,53,51,47,59,35,56,48,56,33,30,33,42,45,33,36,46,31,36,41,51,52,41,35,37,30,38,44,46,34,53,30,32,45,33,57,44,31,47,32,35,30,36,32,36,32,32,34,40,43,37,35,30,39,46,42,30,48,37,32,55,38,46,36,41,53,53,41,44,35,48,45,37,45,31,34,40,53,52,36,37,30,57,50,37,30,30,32,50,34,36,53,32,54,31,54,52,36,58,33,46,47,58,33,34,39,31,31,55,35,30,47,30,37,54,54,46,45,31,52,30,49,34,47,39,52,50,31,43,50,41,30,42,46,53,30,31,32,35,33,39,32,44,36,46,31,46,43,33,31,40,37,33,44,42,33,35,30,30,59,31,32,39,35,44,35,41,37,30,49,45,38,38,37,58,52,41,43,50,48,33,30,40,50,36,31,31,35,35,34,30,32,30,33,32,57,47,44,30,43,59,32,40,42,57,50,58,46,45,44,36,31,47,33,49,50,34,32,47,49,35,49,42,30,31,33,43,34,32,51,38,36,34,47,52,31,36,34,41,38,49,30,48,33,32,49,37,50,46,34,31,32,59,30,58,31,34,52,34,34,53,56,31,34,44,36,35,57,38,45,51,41,39,40,42,41,49,43,51,52,43,40,31,46,46,37,31,31,57,34,37,47,57,53,52,40,55,52,40,48,37,43,32,35,56,49,35,49,40,33,45,54,33,41,50,30,56,45,31,46,39,54,51,38,39,52,50,32,31,40,47,46,43,31,34,50,38,32,35,31,42,54,37,34,38,33,54,53,45,41,35,39,40,58,53,36,44,49,52,57,35,49,34,57,35,41,35,39,55,32,36,32,37,37,35,54,37,31,53,42,50,31,35,35,34,33,42,44,35,58,39,49,47,31,45,47,44,34,44,40,43,36,35,32,42,39,49,47,32,55,54,57,41,37,40,30,30,40,41,35,51,31,32,37,36,39,34,34,41,30,37,45,48,38,43,36,31,32,39,33,33,32,48,49,32,44,32,39,37,35,34,30,43,42,30,46,35,43,56,59,35,35,43,38,50,43,57,33,36,31,32,33,32,47,39,32,55,34,34,44,39,54,31,31,32,45,30,35,59,58,30,40,41,33,51,40,34,39,31,48,38,38,57,57,33,57,30,30,48,45,33,40,48,39,36,54,30,30,47,53,33,59,38,52,34,56,32,54,49,39,43,30,31,34,43,56,41,36,30,33,30,59,39,48,31,31,55,35,39,45,32,40,50,32,31,32,36,32,30,45,57,37,41,44,39,35,30,42,32,32,33,44,57,53,40,31,52,30,32,57,40,52,36,49,36,30,34,57,45,47,41,34,32,57,41,57,40,47,49,51,42,32,35,59,37,31,43,57,43,41,31,59,52,46,43,55,55,49,44,51,40,37,30,53,32,32,45,35,40,36,53,31,31,36,45,31,42,32,34,47,58,38,31,31,53,57,37,31,56,51,32,36,41,44,39,40,39,43,46,34,34,45,34,41,38,52,44,53,45,30,46,34,34,41,30,50,36,46,32,31,38,42,34,30,33,36,32,55,59,54,39,32,30,56,30,49,46,52,43,45,49,41,37,35,41,55,55,31,34,33,49,37,50,43,55,58,32,34,33,36,37,52,41,33,35,39,33,43,30,46,31,50,49,38,39,51,46,30,48,54,53,47,42,33,49,33,33,34,34,35,31,33,31,30,40,45,38,45,45,42,35,39,44,47,37,48,37,50,46,52,38,42,43,45,36,41,33,35,37,36,30,33,33,34,37,45,32,47,32,32,35,55,49,33,41,52,42,41,47,58,50,34,47,43,36,35,48,37,57,38,45,41,47,37,51,43,59,32,50,46,42,44,37,32,32,54,35,33,35,49,53,31,57,46,46,51,34,30,45,36,37,36,56,31,40,50,38,36,32,35,38,51,32,46,45,34,35,36,32,49,42,39,44,36,38,32,50,49,30,40,42,40,36,50,54,31,28,23,41,38,50,30,22,39,32,34,55,38,32,53,28,59,40,28,46,54,53,29,26,48,38,42,43,42,59,27,37,36,58,28,42,26,36,42,38,43,55,43,30,40,38,57,60,32,47,55,27,26,30,34,30,59,38,28,51,48,30,29,53,49,53,53,33,29,37,26,49,28,37,48,26,46,32,57,52,30,43,43,46,41,28,27,32,48,46,30,42,27,43,29,28,26,29,44,28,43,52,58,52,33,33,32,33,31,58,34,47,36,26,50,55,30,53,52,41,58,49,58,31,52,45,58,51,45,55,57,39,41,37,46,54,26,31,59,48,44,53,54,57,44,60,45,41,41,29,54,56,31,43,32,35,44,31,38,31,43,38,46,50,45,35,44,55,36,37,26,49,31,38,51,44,42,58,53,48,45,60,60,48,35,41,56,59,50,52,48,57,36,52,59,57,37,50,48,58,45,59,54,47,28,55,59,45,39,45,58,27,29,50,43,46,50,26,40,45,29,37,59,33,41,54,27,36,37,52,53,57,48,35,32,34,28,28,34,36,28,34,54,31,38,44,27,30,39,47,32,31,58,60,37,32,43,48,33,39,54,41,45,36,47,29,32,28,53,59,32,33,55,32,60,32,58,33,29,41,32,31,43,58,53,33,32,30,46,43,42,46,52,47,49,48,41,42,50,53,44,57,42,30,42,55,26,45,52,39,44,56,42,26,28,30,48,55,41,55,42,52,45,42,42,29,27,43,45,27,27,44,32,26,49,50,54,45,28,46,51,59,35,33,39,30,53,34,42,40,47,37,55,26,27,54,59,37,47,31,44,32,53,39,53,39,33,49,28,53,35,30,46,54,54,29,51,28,28,48,26,35,31,32,31,51,29,53,35,46,30,40,45,51,55,33,47,29,37,48,29,42,31,37,48,35,43,30,38,43,27,49,31,32,30,26,26,34,26,57,40,33,30,33,33,34,35,60,29,32,43,55,33,59,31,53,32,46,29,36,36,26,28,35,37,34,37,39,35,48,31,30,34,36,36,47,60,36,27,36,46,57,32,42,45,47,35,49,32,60,37,26,33,50,46,59,27,32,30,35,27,47,39,41,47,53,29,59,26,37,32,54,51,29,28,59,29,41,53,49,59,31,33,48,41,27,35,53,53,34,55,37,40,28,31,42,31,32,41,31,54,45,27,31,29,38,32,48,55,29,26,37,52,58,26,57,39,34,32,35,36,35,30,30,30,53,35,36,53,34,36,40,33,35,35,33,42,48,29,27,45,40,52,32,53,33,36,60,37,44,47,32,34,28,44,46,40,38,35,58,38,30,26,44,53,34,28,34,29,38,28,46,45,29,49,41,48,35,34,32,35,30,31,45,31,42,38,31,40,32,35,34,37,56,47,38,50,43,38,48,31,35,28,49,33,36,26,27,53,39,33,28,28,27,59,44,56,32,35,56,33,30,49,36,39,59,50,28,55,30,34,41,41,34,33,34,31,26,36,37,35,28,37,26,31,37,52,41,50,32,30,32,39,40,27,46,27,54,35,29,32,43,53,33,38,37,46,40,51,47,30,33,57,28,38,45,30,28,34,55,59,53,52,39,35,39,52,33,60,27,29,45,32,38,32,53,58,38,28,39,34,40,26,53,43,53,38,26,32,55,59,44,49,47,27,27,33,34,31,31,27,27,46,31,36,31,30,28,31,38,57,29,26,26,28,51,28,36,26,60,33,31,45,27,56,32,28,40,26,29,30,26,33,42,27,58,28,30,51,31,26,41,52,30,32,49,47,27,46,28,26,57,43,40,32,38,30,45,27,44,27,42,26,27,29,31,31,29,55,56,30,43,27,28,44,30,34,33,30,28,36,30,26,28,30,30,27,35,30,48,34,35,33,26,30,44,36,57,49,38,26,29,32,54,26,37,37,29,50,34,40,36,32,48,36,31,53,30,41,31,33,45,52,31,27,47,37,48,33,51,27,31,30,38,45,37,45,28,32,37,31,45,48,47,29,46,31,30,57,33,33,31,45,32,46,37,27,38,57,33,57,47,44,41,39,38,28,31,39,31,49,33,28,32,31,39,28,54,26,39,33,35,31,32,26,39,31,31,37,46,56,26,27,39,34,27,31,29,31,32,29,39,29,30,29,39,28,28,27,32,34,34,30,36,31,44,28,35,32,44,27,35,30,26,47,36,46,57,34,47,41,36,34,29,28,29,60,51,46,26,26,35,28,41,38,42,49,27,59,27,29,29,29,35,35,34,47,36,33,26,34,35,26,27,32,31,32,29,33,28,32,40,42,27,60,29,29,34,27,42,56,32,43,54,27,58,36,38,36,38,38,45,50,56,39,31,42,26,42,47,31,51,55,42,49,55,39,46,45,54,58,55,55,56,51,27,57,32,31,60,46,34,39,26,27,46,51,52,31,26,33,53,33,34,45,40,34,51,56,33,58,37,36,47,27,38,27,40,36,30,50,41,53,28,29,31,41,53,36,52,35,33,36,33,31,32,38,26,28,57,38,39,45,26,51,37,40,60,54,56,26,36,57,29,33,54,36,51,53,45,56,57,54,54,32,28,36,45,48,32,27,47,32,39,33,32,37,28,34,53,47,35,49,30,26,53,56,56,26,59,41,31,42,36,51,44,47,34,31,27,44,27,46,31,53,32,41,30,40,59,46,49,35,28,33,37,30,49,30,28,31,26,31,66,33,57,46,29,43,36,27,36,32,29,21,48,44,43,57,40,38,62,36,53,34,39,44,52,40,34,57,37,45,31,45,46,46,42,55,60,47,35,33,43,61,37,59,40,45,33,22,37,34,32,38,22,55,48,50,48,46,53,62,40,47,36,29,37,39,26,38,38,56,37,47,31,55,36,50,45,39,40,55,42,52,36,34,28,39,59,41,44,44,40,56,53,32,26,51,43,50,49,47,32,37,58,53,35,55,49,37,57,60,37,51,36,39,42,36,38,31,39,56,35,47,38,43,39,40,45,48,42,54,59,45,58,47,60,30,35,40,48,36,31,54,49,46,40,30,39,31,34,31,28,58,32,41,47,58,31,37,43,34,38,38,37,40,28,56,36,60,36,56,37,36,38,48,53,38,27,27,46,45,46,48,30,40,60,32,48,58,45,47,53,43,53,54,36,31,36,38,31,35,34,35,46,27,38,47,43,28,54,31,42,34,37,29,26,34,29,26,33,30,42,29,41,34,35,29,28,34,38,31,26,39,27,35,41,44,59,37,34,40,36,41,36,54,38,46,38,55,33,36,40,46,83,46,38,36,59,30,31,34,35,29,55,34,31,32,32,37,36,41,42,40,39,52,45,60,40,36,57,34,37,49,37,38,41,46,32,38,40,44,48,35,28,31,33,43,60,31,29,27,36,33,33,45,43,34,43,53,59,46,35,26,49,40,53,61,36,32,42,31,28,35,28,38,57,33,58,26,41,45,43,60,33,58,45,38,29,32,41,27,29,48,39,58,27,48,40,31,52,43,38,31,31,53,32,75,37,75,60,61,30,48,32,26,38,29,36,42,57,37,45,26,35,41,33,31,31,38,39,56,35,33,31,46,31,30,57,26,32,54,55,67,53,30,29,46,26,37,38,28,41,49,36,40,43,34,42,39,33,53,27,39,55,49,47,57,83,39,70,35,29,48,32,31,21,46,28,41,26,52,28,43,45,36,51,45,39,51,40,28,38,30,34,32,47,37,46,55,53,29,35,51,27,49,33,29,50,31,44,46,37,48,65,37,27,36,35,58,46,55,28,40,35,37,59,50,65,55,49,65,52,35,35,33,39,29,37,42,37,31,31,37,37,42,45,54,35,31,39,42,29,33,33,36,34,54,49,36,47,33,35,41,26,36,33,36,60,59,60,33,36,54,25,26,53,31,32,43,31,53,51,25,36,40,43,31,48,34,32,50,37,54,29,57,46,55,43,34,25,28,35,50,34,58,41,31,54,32,68,28,30,47,28,27,47,43,29,32,34,31,35,50,32,33,29,29,44,29,43,27,35,26,36,51,59,56,31,34,34,33,29,34,32,56,38,39,48,26,31,54,40,56,65,50,32,59,59,64,30,41,31,27,27,48,43,26,48,59,54,44,31,52,51,32,33,32,33,45,51,52,41,35,58,34,52,38,28,53,41,31,28,26,49,29,28,36,28,38,34,39,37,39,33,32,52,32,55,34,46,26,30,32,44,38,30,42,30,29,33,31,31,32,36,48,36,34,60,56,30,29,29,36,36,51,29,32,34,29,42,39,42,27,38,32,46,34,46,60,52,38,39,36,27,54,69,43,34,31,24,38,44,27,28,48,54,36,36,27,41,26,54,27,26,32,32,31,34,32,50,33,29,43,62,52,44,27,39,42,54,26,28,37,47,59,37,26,34,41,30,28,36,37,40,34,32,58,59,34,33,59,48,58,49,40,56,54,29,36,42,33,48,58,32,42,53,56,60,57,44,43,28,56,49,41,30,27,59,50,47,30,57,33,45,40,51,55,31,46,28,53,33,41,26,26,46,55,54,55,30,45,57,36,41,26,32,58,59,58,31,33,56,48,52,57,59,52,33,29,52,50,41,51,60,30,54,36,59,44,38,40,45,30,40,37,43,42,52,43,54,32,32,30,27,53,46,45,38,38,38,35,42,31,39,47,35,36,56,28,38,36,58,43,41,43,55,33,28,33,36,46,38,32,40,45,41,32,52,55,44,33,31,43,59,60,40,46,48,37,53,40,38,37,40,30,37,33,51,59,48,34,34,36,56,29,32,39,32,45,28,48,52,37,34,43,52,47,31,57,30,32,39,32,30,36,37,31,51,39,57,58,31,30,33,40,30,36,28,29,38,39,48,43,47,31,39,32,51,43,48,75,53,37,26,30,35,30,29,43,38,31,52,34,39,42,37,58,27,53,27,52,34,39,46,33,26,39,32,59,52,32,36,34,31,34,42,47,56,41,38,52,45,35,60,32,59,45,33,32,33,33,47,43,46,32,27,56,42,30,28,60,54,45,46,39,33,33,45,37,41,38,31,38,51,37,39,32,43,28,22,60,31,24,37,34,28,54,35,41,37,41,46,29,33,48,34,69,29,60,49,50,40,28,30,51,36,30,39,51,43,38,31,42,27,33,39,32,49,37,34,29,31,29,43,33,46,28,30,33,28,27,39,48,40,40,40,38,32,39,46,34,59,33,40,31,29,45,32,32,32,37,44,41,37,34,35,42,43,52,37,35,41,52,31,28,34,58,53,49,53,59,28,42,36,53,53,44,53,36,32,28,33,49,51,30,34,32,39,43,37,56,33,47,30,54,27,48,40,57,38,43,36,49,42,28,29,30,40,43,44,50,55,30,56,55,32,30,56,31,43,30,33,46,38,34,36,28,49,28,54,58,60,33,27,50,32,38,27,39,29,56,36,34,55,45,32,37,28,31,42,27,32,26,29,53,38,37,47,31,46,32,48,32,45,36,45,39,37,56,38,52,33,53,28,53,38,30,26,45,46,32,36,30,48,43,40,37,28,51,29,28,44,50,41,36,31,32,45,50,34,33,48,43,34,51,27,27,59,43,46,37,69,48,38,35,58,36,34,33,41,31,49,37,30,54,38,44,37,30,30,26,59,50,29,31,35,35,33,56,34,59,45,41,32,44,53,50,39,38,36,35,47,29,31,31,37,26,28,27,57,72,54,33,59,27,40,34,31,33,42,30,58,32,30,60,58,43,29,49,34,31,30,31,49,42,37,48,44,33,36,42,29,42,56,42,27,36,29,34,71,47,44,42,56,53,27,26,38,30,32,43,30,34,54,30,59,34,32,40,54,50,55,56,48,29,39,47,38,27,27,32,35,29,37,36,26,39,57,33,41,26,28,37,29,33,47,35,41,26,33,27,45,35,35,35,30,52,36,42,26,26,29,28,61,49,57,27,28,39,50,26,27,29,36,26,36,28,27,30,60,59,29,59,59,41,31,34,42,34,47,42,34,37,54,57,33,31,30,36,42,56,40,60,34,46,30,49,30,54,37,45,56,29,41,48,50,35,27,34,32,33,27,38,29,34,40,34,29,59,58,44,56,36,36,29,33,40,27,35,47,29,40,41,41,33,33,57,33,34,53,49,54,32,31,52,40,32,33,28,46,47,57,46,31,38,31,35,32,29,40,27,37,58,33,45,54,55,30,42,45,34,42,45,38,34,36,30,32,42,41,58,47,35,40,33,39,35,30,28,37,48,29,55,27,48,36,26,31,29,33,55,48,43,39,48,38,40,31,28,42,29,30,28,64,41,37,57,31,60,31,46,33,36,28,37,31,25,42,32,38,42,45,45,28,44,44,60,41,36,27,33,41,31,37,30,50,37,51,57,40,30,34,40,59,57,34,43,31,34,39,39,37,33,58,44,57,26,40,48,43,35,29,46,32,56,36,42,34,28,29,43,33,47,37,32,43,38,26,34,36,53,26,31,35,39,54,33,39,39,30,33,34,42,36,30,43,29,49,38,52,44,28,53,29,38,32,64,26,43,31,51,40,56,40,30,61,32,37,52,33,31,35,35,49,55,28,41,32,46,41,36,40,31,42,44,44,36,35,31,29,43,34,66,26,31,33,31,28,26,30,44,41,41,33,36,32,70,59,48,37,31,33,33,38,47,28,46,31,29,33,26,42,33,60,27,30,47,40,36,45,53,35,52,37,50,31,31,55,50,37,52,26,40,58,60,39,37,27,58,27,56,26,28,42,32,56,60,33,31,43,55,67,30,45,29,41,30,27,38,36,46,34,27,40,47,57,28,40,32,50,50,46,49,56,33,48,34,54,45,35,26,27,47,34,28,57,54,26,45,36,27,35,47,33,38,32,27,34,52,49,33,35,53,27,27,29,42,47,55,42,59,49,59,50,34,27,41,35,33,46,46,29,55,44,58,40,29,56,35,34,33,28,30,28,27,38,30,36,32,56,45,54,32,46,33,32,19,36,30,49,37,47,57,28,44,31,52,40,22,30,31,34,27,52,35,52,48,55,28,32,37,31,40,38,37,50,33,51,31,47,26,51,28,28,29,49,41,46,47,39,33,33,40,46,35,35,33,30,38,34,36,56,53,43,29,32,27,33,33,40,27,32,28,37,39,32,45,31,52,31,28,35,43,39,34,32,35,37,59,52,45,49,33,48,58,57,44,47,57,32,41,31,45,27,39,30,27,50,33,40,32,27,59,32,41,32,41,40,30,45,33,30,66,76,26,30,36,48,32,38,36,31,28,28,26,33,56,39,52,46,34,29,40,29,29,43,48,34,31,27,54,49,27,48,29,35,42,35,28,58,60,40,30,37,34,31,44,53,52,36,40,45,48,46,29,28,31,27,49,48,31,32,27,34,41,27,30,51,42,30,31,45,54,49,44,47,34,41,44,40,28,37,33,26,33,42,36,49,32,32,27,41,41,51,32,32,29,31,27,25,24,34,53,36,47,42,37,38,38,51,43,61,35,66,38,40,59,27,31,44,36,33,32,30,57,31,33,69,39,31,40,28,54,26,58,58,19,31,30,41,46,31,22,20,22,37,83,71,33,48,85,43,72,46,36,26,37,63,45,53,33,63,27,54,90,27,54,67,27,64,42,38,71,35,58,44,42,47,44,37,37,28,64,27,82,21,36,51,25,63,60,32,51,59,73,26,74,62,65,57,47,62,38,71,29,26,61,29,31,64,57,75,54,37,68,29,61,51,41,24,78,24,39,59,59,85,31,32,29,51,39,28,39,28,30,56,21,44,25,26,80,28,48,37,71,62,78,26,28,36,25,29,26,43,56,35,34,54,27,29,43,41,38,49,36,45,36,41,30,53,30,29,25,50,34,25,25,30,73,31,47,37,28,66,75,41,46,42,28,45,37,33,30,38,39,33,42,33,31,34,28,35,36,55,62,43,31,45,35,37,26,25,33,29,49,35,63,61,33,25,35,44,54,27,54,28,27,30,94,47,34,38,37,25,29,62,58,46,56,49,23,28,54,32,68,33,24,48,27,60,72,50,32,23,25,59,83,36,19,53,45,41,29,48,35,28,31,66,26,30,30,29,36,57,26,21,44,23,34,26,79,32,38,29,28,37,52,35,47,61,30,23,34,70,28,34,52,27,28,19,43,28,30,29,57,24,25,41,52,59,32,65,34,43,44,50,32,64,63,70,44,33,49,53,31,61,37,64,58,30,25,28,47,61,60,56,78,48,45,30,62,57,28,36,68,30,37,43,22,46,37,31,44,31,30,26,29,27,33,30,83,32,35,59,33,41,59,37,55,31,28,24,32,26,46,53,30,37,73,57,41,34,49,41,58,26,53,46,76,46,83,40,26,23,34,24,41,39,38,48,21,37,28,40,55,43,57,29,34,77,36,58,45,32,38,47,46,57,35,50,27,33,57,69,46,32,59,19,25,23,32,44,26,49,32,31,47,23,22,32,30,27,73,26,36,24,57,41,30,60,34,29,55,33,32,26,36,35,46,32,39,59,40,46,33,40,47,38,27,37,32,46,27,44,54,35,38,63,46,49,34,52,45,41,58,49,38,19,52,37,34,54,34,56,38,45,24,50,49,37,33,32,42,33,52,22,45,37,36,41,23,36,39,48,38,46,35,35,45,54,58,47,74,48,35,39,67,32,30,34,53,58,28,35,40,40,45,24,35,57,30,26,39,37,38,44,54,54,46,61,56,50,24,39,42,35,31,34,38,32,42,68,56,39,73,47,51,26,54,41,39,41,43,32,38,39,28,57,42,33,44,40,36,55,44,37,41,49,44,41,48,39,46,46,40,44,39,47,39,41,49,37,31,50,37,29,42,43,46,29,40,54,34,38,37,36,63,24,35,38,45,33,38,26,44,42,41,36,38,34,34,32,27,47,50,45,41,35,59,39,35,44,77,33,33,40,30,44,35,31,57,36,40,32,40,37,44,37,59,42,41,44,46,33,41,36,63,30,38,65,38,38,26,42,33,35,46,41,33,31,43,33,36,36,36,31,40,45,40,33,53,36,40,43,38,46,36,47,32,33,53,47,56,44,29,35,53,46,50,31,37,38,41,27,56,39,48,42,71,35,33,33,35,43,33,28,24,49,36,39,36,50,20,25,31,39,41,44,41,30,31,51,39,43,35,34,51,50,48,54,30,45,40,56,49,55,35,38,42,36,35,37,54,57,36,53,65,35,35,28,49,27,37,35,35,54,31,55,39,48,44,34,36,45,32,60,38,42,40,28,68,52,37,34,67,34,35,27,27,33,46,57,32,36,34,39,26,55,50,60,32,71,58,61,33,32,50,46,32,44,48,25,35,56,46,33,21,35,39,30,41,39,27,40,30,36,54,36,31,42,24,27,26,37,29,38,50,23,30,37,35,38,29,25,58,38,32,33,44,54,37,48,36,30,57,26,41,28,53,34,55,39,33,51,33,39,42,39,49,34,42,53,56,35,59,29,32,34,35,36,35,36,42,51,34,43,47,48,35,58,42,55,34,35,34,30,40,43,55,29,34,31,53,39,68,20,31,39,36,30,41,30,37,31,40,40,40,34,38,32,34,25,34,46,28,36,37,35,36,39,33,32,36,40,43,29,35,43,41,42,45,36,34,34,30,29,52,31,44,39,43,45,60,49,31,31,38,30,43,43,38,42,41,30,37,40,49,34,39,48,42,31,35,34,41,40,31,40,43,50,56,26,37,28,33,29,31,52,36,27,44,30,30,35,80,57,33,32,59,24,38,45,39,32,33,35,44,36,34,41,40,45,36,33,59,25,35,82,58,31,34,40,33,22,32,37,66,54,32,36,36,36,29,65,54,44,65,43,38,32,62,25,27,61,40,41,30,65,32,75,24,35,33,77,62,34,29,30,34,78,33,29,43,32,34,36,39,56,49,36,33,33,58,29,78,56,53,34,59,57,31,41,52,35,65,52,40,43,39,35,86,43,51,37,51,70,32,46,40,33,30,30,33,28,61,41,39,37,46,32,32,49,48,36,57,53,33,26,36,32,33,47,31,36,38,34,33,58,61,57,50,62,41,32,34,28,33,39,70,29,41,38,44,38,31,76,36,58,58,53,44,47,27,54,19,59,32,42,32,31,50,27,31,44,38,35,32,37,69,40,30,31,34,40,34,37,30,56,31,51,39,35,52,59,32,51,33,37,39,72,32,36,32,29,42,33,67,40,35,43,32,29,31,41,49,57,34,43,42,28,46,33,39,29,39,33,34,28,52,31,37,33,42,37,36,36,54,29,58,38,33,52,50,39,35,23,38,30,47,26,33,31,37,35,38,39,24,37,39,31,20,31,33,28,36,56,28,43,35,25,29,47,39,51,48,37,31,40,51,29,47,37,46,25,32,34,30,54,33,40,33,49,35,24,37,35,54,39,51,36,30,37,55,30,35,57,47,44,38,36,48,41,46,35,45,38,74,33,34,42,30,31,40,32,31,36,29,48,27,38,31,28,30,29,35,37,42,31,35,50,40,38,30,27,42,54,43,30,48,51,20,45,43,38,50,56,53,31,49,36,32,43,29,38,36,50,35,36,37,47,36,43,48,41,36,42,37,31,26,44,35,47,42,36,37,24,32,32,35,44,35,38,42,48,33,36,49,26,39,32,38,32,39,29,40,43,42,20,33,38,36,53,32,41,35,34,47,31,30,54,38,42,32,34,38,36,39,41,50,24,45,33,27,24,35,34,39,32,34,41,42,54,66,35,39,41,77,42,42,43,44,33,35,46,35,53,33,32,28,40,44,53,48,35,39,39,40,25,41,33,44,37,37,52,34,32,35,35,36,34,33,38,37,54,33,53,31,33,33,42,53,41,50,33,41,48,37,29,42,59,56,54,30,33,35,44,34,35,42,28,34,44,44,43,43,47,52,34,55,40,25,36,37,37,28,46,34,64,33,33,44,39,36,37,34,38,50,47,42,41,36,30,37,34,31,33,51,42,34,50,36,32,52,38,38,29,50,35,39,29,52,52,35,43,32,31,33,43,34,32,54,38,33,38,28,34,28,29,24,24,32,36,30,43,60,45,39,43,31,31,24,28,30,29,46,33,42,54,34,34,33,31,35,31,33,43,54,36,36,36,33,30,55,28,46,30,32,32,39,22,55,35,34,35,38,51,36,36,52,39,39,36,37,34,41,38,35,48,40,45,40,34,30,33,34,43,55,32,30,30,37,34,52,44,33,22,53,29,28,44,31,34,40,34,54,28,34,37,58,37,33,36,32,28,31,32,34,54,40,45,29,34,32,56,74,49,39,38,34,38,48,31,36,30,79,38,60,30,36,53,34,30,40,48,41,32,30,57,39,42,40,46,39,41,42,34,50,41,48,34,53,36,33,40,31,29,29,49,32,38,36,35,30,33,30,34,29,31,33,41,33,43,47,47,38,40,31,36,45,41,37,38,47,43,37,37,49,31,33,36,33,51,35,30,39,29,39,32,38,36,41,39,35,38,34,39,44,33,34,35,35,38,32,32,38,37,61,37,36,32,52,44,37,46,45,34,37,71,36,35,40,39,34,55,31,30,40,49,36,44,36,43,36,35,59,24,38,32,48,33,35,42,32,31,46,58,30,52,33,27,38,35,30,54,33,37,33,42,42,33,31,45,35,34,35,30,30,38,37,34,48,37,26,30,25,40,32,28,47,51,34,35,30,33,32,29,28,46,32,45,35,29,28,43,33,33,30,41,34,58,30,60,31,40,39,28,30,49,29,41,38,29,34,38,31,37,31,33,30,48,49,31,50,28,41,43,47,29,35,32,42,36,37,31,40,32,47,29,36,43,50,31,35,31,37,34,44,38,25,37,28,34,32,27,53,35,43,34,42,46,39,33,35,37,53,53,26,57,32,27,34,49,40,29,41,34,35,70,29,27,53,39,40,31,31,39,47,35,33,51,39,57,50,38,33,42,24,40,36,32,31,30,38,54,36,30,48,32,29,32,35,31,36,38,38,35,35,37,45,36,47,35,34,31,36,36,46,35,23,40,51,28,74,32,35,42,30,40,50,53,56,26,29,33,34,40,42,32,37,46,35,47,44,32,42,23,47,39,38,33,41,31,46,37,36,37,32,49,58,34,46,30,59,40,31,33,38,37,32,38,56,37,44,38,32,26,24,21,36,32,35,30,28,37,50,22,45,33,39,50,32,52,40,42,32,28,30,43,46,37,50,32,32,35,37,32,30,49,42,36,32,31,31,38,34,36,32,31,29,41,28,42,32,52,34,33,34,32,39,61,22,37,37,56,32,31,45,36,32,28,47,35,57,33,32,43,35,40,56,57,46,56,58,46,40,36,30,46,34,52,31,29,41,35,34,43,50,34,30,31,33,30,36,34,43,27,28,53,37,30,34,33,36,28,56,34,35,31,51,43,33,35,41,51,48,57,29,32,33,33,50,38,25,30,37,50,34,29,35,54,44,43,61,24,34,32,35,28,36,23,28,24,45,42,33,29,36,53,33,49,35,42,33,37,29,45,31,48,35,35,30,35,51,38,39,36,48,61,35,36,33,31,47,50,42,41,34,33,28,38,35,34,66,25,48,46,28,70,45,32,40,31,34,39,35,34,46,46,59,46,32,27,41,37,41,31,51,59,34,32,59,32,24,35,37,44,59,34,28,54,26,32,40,38,38,34,43,34,57,36,36,39,59,36,44,34,37,55,31,27,33,43,41,28,60,37,41,34,41,38,42,29,50,35,59,46,40,20,33,34,45,56,39,51,28,36,29,39,31,34,35,35,36,35,32,43,33,35,44,54,50,40,55,50,44,78,44,39,46,35,40,34,39,36,37,40,35,46,42,43,40,37,30,42,32,50,32,50,52,31,37,32,33,33,33,32,39,37,28,28,43,51,33,39,25,35,50,33,31,39,31,31,46,51,25,28,37,34,30,73,37,44,28,40,54,29,30,34,43,30,46,31,35,32,32,28,42,27,32,30,43,54,36,27,36,44,48,38,40,38,34,25,69,32,37,29,47,36,35,30,73,30,37,33,54,33,32,39,32,45,37,58,37,31,37,35,36,37,33,28,44,44,29,43,64,42,38,46,38,51,34,33,45,49,40,30,45,51,32,34,48,53,33,35,31,34,31,39,21,45,33,33,53,26,33,32,34,37,48,37,38,36,35,29,32,40,58,27,37,37,33,48,53,56,27,36,33,52,45,34,42,41,42,60,39,29,39,28,38,39,35,48,28,37,28,49,29,28,46,43,35,33,41,34,45,22,30,33,38,32,36,33,48,38,37,36,40,37,29,40,35,45,30,34,53,34,34,55,32,32,36,35,42,31,32,57,37,34,46,41,23,27,43,27,50,43,32,32,28,35,32,38,54,31,45,42,29,30,39,55,48,42,46,35,51,32,37,34,42,32,56,51,37,34,39,35,48,46,44,34,36,35,38,46,47,34,29,29,45,33,44,48,28,33,38,41,35,29,47,33,38,52,29,33,33,37,33,36,50,35,37,34,43,35,42,32,26,37,34,27,36,34,40,38,58,38,55,32,35,39,38,28,34,24,36,35,37,35,26,57,30,27,29,63,95,65,37,55,59,35,32,74,56,58,34,71,37,59,26,46,30,29,67,31,78,45,29,39,45,37,63,30,39,44,71,29,66,31,45,32,36,41,38,34,41,64,64,32,69,33,39,30,65,45,42,66,75,75,65,53,40,69,27,52,31,25,34,30,31,37,32,82,53,45,45,35,53,32,52,19,74,37,81,29,59,76,39,22,25,62,27,39,32,24,19,28,67,30,51,66,28,49,34,29,43,46,33,30,72,27,58,52,35,32,31,75,72,36,29,23,71,41,30,37,53,24,31,25,56,65,26,57,72,52,44,55,33,51,54,24,35,30,46,35,36,55,42,60,47,42,70,77,62,34,68,33,31,35,34,29,25,62,31,26,58,73,30,28,47,34,41,35,46,39,30,45,28,52,59,29,35,38,47,52,52,28,38,29,41,36,55,58,31,51,30,59,48,27,59,47,26,31,36,33,39,34,42,45,49,43,28,27,21,23,47,26,29,25,60,37,42,59,49,33,59,58,44,48,33,29,30,48,34,32,42,54,42,36,42,33,27,32,44,37,37,60,35,29,29,47,47,26,46,24,34,27,55,52,30,26,32,45,36,33,46,34,31,38,59,51,35,25,33,35,40,39,28,33,29,56,31,58,26,57,55,26,28,37,33,43,35,31,54,26,60,30,57,38,36,33,55,29,60,29,29,53,46,37,42,32,31,34,33,29,37,31,53,23,53,32,30,45,31,26,31,30,24,33,56,28,59,20,28,26,35,32,29,28,58,32,30,25,32,33,36,31,31,38,32,29,38,52,38,31,41,34,29,26,55,58,30,56,37,40,23,44,31,24,25,47,34,33,34,47,36,25,50,31,34,31,54,32,38,53,56,47,31,36,58,25,35,43,28,53,25,51,52,57,43,41,46,27,35,49,23,58,47,25,54,26,35,30,34,30,54,58,49,38,31,49,57,30,41,39,44,30,70,35,55,30,25,47,26,85,39,46,34,34,35,25,55,35,45,59,33,30,36,29,39,45,33,38,33,58,32,61,32,35,32,41,29,29,50,31,31,54,33,48,36,31,32,28,34,49,24,29,27,40,26,28,29,30,24,33,57,31,26,45,37,37,29,36,52,60,27,27,40,36,40,50,34,28,33,31,33,56,46,34,39,20,45,33,50,25,41,38,47,60,49,34,36,36,37,42,24,33,26,49,25,40,36,28,31,30,44,52,33,22,60,60,33,29,39,32,28,45,33,35,33,67,57,32,44,49,48,28,48,49,39,35,28,34,28,47,42,31,26,41,44,29,26,22,36,50,41,57,25,26,36,31,32,34,33,41,36,41,19,33,40,33,59,30,42,19,51,45,35,35,33,33,28,38,31,32,30,31,33,52,35,37,32,56,30,31,32,28,45,34,32,31,49,44,39,58,24,35,53,45,32,28,31,23,36,33,32,55,34,32,26,32,39,30,63,33,56,57,30,43,29,38,40,31,36,43,24,26,54,37,46,48,51,34,30,36,29,53,24,25,34,39,25,35,57,32,31,33,26,43,32,36,41,25,34,25,27,41,39,47,30,33,23,32,31,38,29,50,59,31,32,20,60,46,28,35,28,59,56,32,46,34,55,50,30,37,28,48,27,38,33,40,35,35,40,29,46,42,38,33,46,34,35,32,33,47,31,34,45,35,24,29,46,28,45,26,27,43,25,25,26,34,31,51,26,31,30,53,41,30,36,36,45,30,29,40,53,47,37,24,46,30,32,36,44,37,33,53,32,55,35,42,35,42,52,43,46,36,35,53,30,35,53,37,29,41,35,48,32,30,52,58,54,35,38,26,32,51,31,41,23,57,26,59,47,25,26,22,27,39,30,27,37,30,37,66,33,35,29,30,30,37,41,32,34,38,33,23,33,24,30,31,29,33,34,27,51,27,27,25,30,32,27,26,38,41,23,57,34,33,40,31,48,40,36,28,27,39,43,39,28,41,31,30,42,27,56,46,28,29,29,30,33,33,34,31,28,31,47,39,47,33,40,31,32,35,51,43,33,40,45,36,41,42,47,41,35,32,41,44,32,35,37,35,30,37,37,37,43,33,54,31,35,53,44,56,43,34,31,54,47,35,45,39,35,42,32,53,33,51,44,41,27,35,48,41,47,43,44,27,39,25,48,43,35,50,45,46,55,39,45,32,46,38,33,30,31,37,59,44,34,30,31,37,48,35,51,30,25,35,45,48,19,36,39,52,51,37,35,42,61,24,40,43,43,42,32,27,28,53,38,45,43,31,41,30,29,41,34,50,28,27,35,42,47,31,54,30,36,33,56,29,37,36,36,47,44,37,32,56,46,29,38,30,35,41,39,37,35,31,49,46,59,30,37,37,47,49,52,35,35,54,35,60,51,40,34,40,49,53,44,34,27,40,50,36,23,45,32,37,34,39,39,46,30,39,42,58,24,29,31,53,33,35,29,32,57,38,27,56,42,44,26,37,32,31,36,36,35,36,41,37,46,35,43,34,51,32,46,30,40,21,34,34,31,30,40,33,27,40,24,32,44,35,32,39,28,52,28,32,24,45,35,53,35,49,35,26,28,34,44,26,30,25,37,29,40,30,37,25,39,44,32,52,48,43,31,36,44,34,37,39,40,33,53,34,46,34,32,30,31,25,36,43,43,22,45,32,37,28,23,38,47,32,29,30,35,55,44,42,33,33,34,37,44,41,30,31,51,31,34,33,39,42,42,31,29,32,33,44,42,26,33,33,51,27,31,29,38,46,38,51,41,33,52,35,50,30,36,38,47,30,32,46,31,34,42,33,30,46,35,27,45,32,37,33,38,27,31,34,27,50,27,48,45,32,42,53,29,45,32,25,29,22,29,41,35,35,33,34,30,47,49,37,39,55,30,36,36,34,38,28,37,29,34,32,32,37,29,44,42,32,35,44,34,26,38,32,28,49,35,36,29,26,29,54,48,32,38,26,49,34,52,30,50,33,29,49,42,34,39,36,32,37,33,47,32,38,35,23,37,31,35,29,37,34,37,28,32,31,60,38,36,54,35,35,37,36,27,35,33,33,30,38,52,41,40,58,33,26,37,54,34,32,33,52,29,37,44,25,30,55,32,30,28,34,26,37,35,30,32,41,46,40,34,35,48,31,38,40,34,36,26,32,51,41,31,31,36,38,25,26,44,41,31,46,39,29,38,20,37,43,53,34,43,36,34,36,35,60,40,35,36,30,34,29,39,35,35,46,57,31,31,22,45,25,38,37,42,37,30,39,48,48,56,48,32,34,36,34,26,50,26,58,26,29,26,54,54,35,34,37,25,31,34,30,35,53,30,26,52,33,31,28,32,32,50,31,36,29,31,41,24,28,34,24,33,32,38,56,39,38,31,37,29,51,33,37,27,33,29,25,35,47,30,30,53,31,30,34,56,35,35,43,34,40,34,40,43,27,54,33,32,32,33,26,36,34,32,37,30,32,50,26,36,30,39,42,34,38,27,44,38,32,37,38,33,32,40,45,28,35,34,24,28,35,36,41,41,36,36,31,40,31,45,58,33,39,33,30,47,42,48,39,41,36,35,35,27,39,44,38,32,34,32,30,33,33,26,31,39,55,21,37,23,24,41,58,32,58,25,36,25,46,47,45,32,31,25,54,39,44,31,59,53,28,44,39,59,51,54,37,53,57,60,51,51,47,41,37,53,37,41,48,33,30,57,47,36,29,37,58,53,44,24,51,54,48,46,32,29,31,34,31,56,41,42,29,42,35,42,38,37,40,50,45,39,28,28,28,47,25,46,35,43,51,27,23,47,50,41,57,30,34,47,50,34,48,55,51,43,53,40,51,49,36,44,54,50,51,55,41,32,35,32,30,40,58,31,40,51,38,36,55,32,34,25,35,28,45,34,60,49,34,33,28,51,59,28,31,30,53,47,56,44,31,32,43,51,23,31,36,40,28,24,53,44,37,25,25,50,29,48,36,43,31,38,27,36,53,40,31,53,45,48,57,43,45,26,30,24,42,27,35,34,32,46,38,47,47,58,28,38,27,43,28,52,36,26,42,28,35,50,27,43,29,28,37,33,56,41,33,28,54,24,39,36,33,46,42,38,34,34,27,31,35,31,23,26,31,51,53,49,56,38,39,38,57,33,29,31,44,37,38,43,41,28,32,32,33,42,37,55,32,50,45,32,32,40,38,29,32,36,55,37,39,59,39,33,31,24,36,46,30,43,33,45,35,29,33,27,27,32,45,32,48,32,30,32,43,33,52,58,37,59,57,39,44,25,43,24,25,33,46,50,38,33,26,39,22,45,39,46,51,53,35,34,27,49,54,52,27,41,37,28,39,45,36,33,32,34,29,26,28,29,49,47,38,40,43,37,47,36,35,44,40,43,42,37,57,29,34,56,25,39,50,33,43,31,39,44,42,31,34,57,37,41,42,29,42,57,53,53,37,33,48,30,41,45,39,32,40,57,45,45,45,46,56,56,40,34,38,33,41,43,43,27,33,33,34,59,39,42,30,31,23,49,40,31,39,56,43,31,41,46,32,34,32,55,35,30,39,57,48,51,58,36,40,54,35,31,38,48,48,36,31,32,46,50,41,44,46,39,49,40,40,27,48,47,57,36,31,23,32,27,46,56,36,43,53,40,38,36,49,32,48,56,47,51,40,50,37,39,44,48,33,48,35,31,53,51,45,43,38,41,29,37,50,49,42,52,33,29,40,38,58,36,32,28,36,37,46,39,32,44,44,46,37,29,28,39,47,29,35,33,34,40,37,36,36,35,28,42,41,49,43,41,52,47,46,37,47,30,41,45,52,37,36,33,43,26,42,37,33,41,37,45,41,32,43,52,49,50,57,49,34,46,42,53,32,50,54,36,34,48,39,46,43,40,42,53,53,50,40,43,34,33,56,56,36,36,40,40,40,36,44,42,26,45,39,49,46,33,38,43,37,43,39,40,35,52,59,48,34,37,46,32,34,56,30,28,46,44,36,33,46,34,38,39,41,41,50,39,30,39,55,37,46,41,31,38,39,44,35,34,36,58,31,44,41,36,38,35,57,34,34,59,39,27,31,32,55,41,39,41,48,52,31,53,38,36,39,43,50,56,31,41,31,52,48,45,42,40,59,47,34,24,51,38,28,43,36,35,34,30,42,40,51,50,37,39,36,38,32,34,43,40,52,34,36,38,44,48,39,41,44,55,42,34,26,36,36,36,54,50,49,33,39,29,34,51,38,38,34,42,42,37,30,45,43,56,57,38,46,29,36,46,34,45,36,43,55,27,43,34,36,57,30,37,40,41,57,53,60,44,50,34,45,39,57,33,36,54,50,41,40,47,45,49,43,38,34,40,38,47,42,43,34,35,44,32,38,36,36,50,44,49,40,31,43,35,36,45,37,36,52,37,36,38,32,39,40,35,45,41,38,54,39,41,54,29,33,39,29,49,29,36,36,31,31,37,34,47,38,39,35,30,43,28,38,46,32,46,37,40,42,39,55,41,36,42,36,36,31,47,33,42,45,37,49,44,51,31,32,42,41,60,59,41,43,57,35,55,29,30,39,44,36,49,29,31,33,51,30,55,33,43,40,24,47,30,54,40,45,41,35,40,40,49,33,40,31,23,41,35,48,31,56,34,55,46,44,43,40,40,39,31,34,41,42,49,32,55,37,52,38,50,44,27,45,58,40,51,51,37,35,39,43,48,42,41,28,38,29,41,37,41,29,34,48,43,41,40,39,33,42,48,37,32,24,40,41,29,36,55,45,34,44,29,36,42,47,37,39,29,34,44,42,41,42,35,45,46,39,40,37,32,38,34,37,33,57,52,39,39,50,26,37,33,52,37,27,52,31,59,44,53,58,50,55,32,51,21,56,36,58,52,35,38,43,45,41,46,32,38,33,58,28,44,50,30,44,36,39,49,35,32,32,43,42,41,44,52,30,35,56,40,37,46,44,37,41,33,38,42,47,36,40,34,34,38,43,36,53,34,37,39,28,30,46,48,36,57,25,34,41,38,42,39,34,39,34,38,38,50,29,48,50,57,45,48,42,29,44,54,33,37,38,39,37,33,57,39,38,42,44,32,47,34,34,50,36,35,37,31,38,36,55,43,48,38,35,32,47,39,53,53,55,36,31,41,52,36,59,34,46,37,39,53,33,48,46,31,30,35,49,25,49,37,38,42,32,31,50,37,32,44,44,42,47,35,31,29,46,31,45,51,44,42,55,39,55,37,27,29,28,35,31,52,37,40,36,41,36,50,47,50,34,56,42,48,37,41,32,41,38,56,54,36,26,34,35,31,43,37,46,33,31,37,29,36,31,47,36,46,27,39,42,40,56,35,46,35,55,30,41,43,59,50,59,33,54,34,41,41,39,53,58,41,39,30,50,33,36,54,54,60,40,34,34,26,45,27,41,43,37,54,41,41,50,46,34,46,34,35,34,40,37,41,55,54,43,41,60,48,32,43,32,37,39,55,35,32,37,42,44,38,55,37,39,46,32,48,34,36,46,29,37,37,38,44,36,40,34,59,32,28,30,53,42,39,47,54,52,38,33,43,45,31,33,40,34,31,31,32,40,37,53,58,41,31,50,39,50,36,44,48,39,41,31,41,43,48,60,35,29,34,33,33,30,40,29,37,41,41,38,24,29,40,32,31,30,30,48,46,35,43,54,35,48,38,41,30,43,39,37,39,43,41,43,40,58,48,47,53,49,42,43,32,30,41,43,32,54,42,44,32,30,34,37,33,46,47,49,46,34,34,42,33,25,44,55,45,30,30,46,48,56,33,51,55,39,36,52,30,48,22,51,28,39,48,32,37,31,32,27,37,31,41,39,41,39,40,42,48,36,38,51,44,33,49,38,58,39,32,32,45,51,36,33,45,35,35,39,37,37,44,32,38,36,37,32,39,30,37,28,30,39,47,47,42,59,41,35,41,28,26,40,41,31,36,30,40,31,33,39,40,36,34,36,28,29,35,31,32,44,34,33,33,35,42,51,42,29,35,30,35,40,35,57,40,32,56,31,44,41,50,37,47,45,37,38,50,30,31,46,46,47,35,52,56,59,24,51,60,37,42,48,33,41,35,28,36,36,49,37,47,33,44,27,29,37,59,46,36,28,58,54,43,48,57,31,38,50,35,47,36,33,50,40,40,40,46,40,54,54,45,39,40,52,44,45,36,32,32,49,31,30,40,35,39,43,43,44,45,33,40,49,36,25,48,33,49,52,41,56,45,31,49,41,38,40,38,31,45,36,40,51,36,38,28,38,34,32,59,37,31,45,43,37,46,55,39,44,36,52,58,52,38,34,43,29,36,38,49,60,48,25,25,44,60,40,34,35,31,41,46,52,45,37,33,39,53,43,43,43,37,38,31,40,42,38,34,39,58,40,37,43,46,40,44,32,43,40,46,38,36,28,42,41,33,35,36,36,45,47,43,28,42,46,46,33,40,39,47,48,39,37,54,30,57,39,50,29,48,38,31,30,47,27,41,42,36,33,42,43,47,34,22,40,57,27,33,40,50,47,55,36,28,25,28,32,33,56,40,32,46,34,33,51,58,30,36,38,32,47,38,34,33,28,54,38,33,31,35,31,38,42,27,32,49,49,36,37,37,33,45,28,42,33,28,29,39,50,36,30,35,31,38,30,51,50,23,33,39,28,33,47,46,42,35,48,33,41,29,38,39,55,38,38,47,37,38,30,31,59,33,58,38,35,39,55,35,38,39,37,44,44,31,32,43,55,39,31,33,44,33,39,57,30,34,42,50,42,45,44,49,38,32,42,28,33,32,48,41,33,35,46,27,36,45,24,32,50,49,32,25,48,43,46,32,30,53,35,33,34,33,34,45,36,52,27,50,37,39,35,28,27,32,42,50,34,29,53,40,39,27,38,35,35,35,33,40,52,43,36,42,39,37,51,29,36,29,28,42,29,32,35,43,26,50,41,36,36,40,34,40,45,28,36,31,32,35,34,39,32,38,41,44,32,44,35,34,31,33,49,32,37,54,32,44,45,37,40,48,43,52,39,58,34,55,37,25,53,34,47,34,32,36,38,50,51,28,47,42,27,37,48,32,47,29,37,52,36,58,45,21,31,35,31,59,39,37,35,35,34,35,36,36,32,29,38,40,30,34,46,49,45,28,37,30,34,39,41,44,37,33,35,51,51,39,30,50,45,44,32,34,55,37,31,42,32,43,33,47,32,43,34,29,59,47,45,45,56,37,52,29,48,32,37,50,36,36,33,59,37,35,30,40,34,31,31,36,44,27,25,30,36,36,40,30,32,51,37,35,38,35,35,39,30,33,37,51,35,35,26,57,23,38,35,31,41,43,36,59,55,34,44,40,52,34,27,40,33,44,50,33,39,35,47,34,35,29,37,51,22,36,40,33,37,31,44,29,53,33,30,60,41,26,32,38,57,27,39,37,47,44,25,57,43,37,45,27,42,45,37,42,35,41,53,39,35,60,47,32,46,29,50,49,39,35,34,43,36,31,58,51,51,36,57,46,42,41,42,34,31,35,47,39,43,56,32,46,36,47,38,34,31,35,42,41,45,31,51,34,38,33,51,38,40,36,37,30,35,52,34,45,35,36,49,42,52,55,33,44,39,40,42,32,27,35,47,30,29,29,48,33,32,40,32,55,38,37,31,44,53,41,52,35,38,49,29,35,33,32,39,42,35,47,45,30,32,27,35,34,32,51,28,26,29,38,42,31,37,37,28,30,35,35,45,40,34,55,40,32,33,56,30,34,28,47,46,45,42,39,44,31,49,44,56,43,36,33,49,43,33,34,26,32,43,35,58,55,33,54,27,36,35,33,26,36,33,44,28,37,37,33,31,33,41,39,32,31,32,32,48,39,52,49,32,34,32,33,35,39,33,31,28,29,26,38,38,31,31,28,37,31,44,32,32,52,47,46,41,30,40,46,44,36,38,35,36,28,38,36,36,49,54,44,28,38,33,43,43,47,43,38,23,36,56,49,40,26,29,31,55,39,48,34,44,32,49,37,37,40,40,43,37,35,48,35,50,31,35,35,33,35,31,28,39,39,48,29,49,29,38,53,28,50,40,48,54,34,28,59,31,55,26,39,29,46,48,39,42,35,30,23,37,25,28,42,28,55,42,33,39,45,43,30,40,28,43,40,50,30,37,48,46,60,34,43,41,33,43,32,30,34,55,29,35,40,31,37,41,28,31,31,51,46,57,28,26,47,36,28,32,38,30,33,38,36,30,53,42,51,39,45,34,29,54,27,31,43,39,39,32,23,42,33,47,29,33,42,37,33,33,24,58,25,33,31,37,39,34,34,44,53,24,36,35,33,43,58,52,29,46,34,36,35,42,39,37,33,45,26,48,33,36,28,35,27,34,45,46,34,31,29,50,52,35,38,23,56,37,36,39,25,54,35,36,47,46,46,29,32,55,38,25,34,34,29,28,25,47,50,37,28,54,42,43,29,30,25,35,54,52,55,51,32,33,40,56,37,36,37,29,46,34,44,34,56,34,35,37,41,36,33,32,39,31,34,42,29,48,40,35,49,53,37,37,40,45,34,57,29,40,31,31,42,47,32,33,50,31,42,60,58,43,52,38,26,31,36,49,47,31,59,59,33,35,32,29,38,43,29,29,28,41,33,36,43,29,23,51,24,50,51,44,46,40,30,40,37,36,34,30,33,33,26,28,37,27,27,38,31,27,40,35,47,55,36,35,29,43,31,47,31,30,43,38,53,41,42,39,34,27,35,47,54,53,34,35,26,30,53,44,56,35,35,34,55,31,30,50,46,26,48,43,36,41,36,41,29,36,43,29,59,39,51,31,35,36,41,28,35,47,33,33,38,41,40,55,33,33,47,41,47,41,33,37,37,38,27,42,43,57,39,28,32,33,32,31,39,34,49,35,46,37,49,31,43,48,33,33,32,48,39,42,30,37,32,38,42,29,52,32,59,36,30,35,33,26,30,29,48,33,36,40,40,30,34,39,28,31,40,41,38,48,33,47,50,28,39,42,37,30,27,31,27,57,39,47,30,42,38,51,29,30,46,48,31,35,43,27,32,23,43,45,28,60,35,36,31,28,34,30,28,40,24,44,25,34,21,29,52,34,47,33,41,51,42,34,28,56,39,28,27,30,23,33,33,57,38,37,52,51,25,26,34,35,49,32,32,31,39,29,28,48,34,30,40,38,60,32,42,57,34,30,31,35,33,30,30,37,44,24,31,34,33,32,28,37,45,27,32,30,28,50,44,35,46,24,31,38,32,34,35,33,32,35,40,27,43,36,22,41,29,28,34,59,26,39,31,31,47,28,28,30,31,39,33,32,39,30,38,30,45,27,51,35,42,57,32,28,32,27,43,26,35,32,40,37,31,26,30,59,23,55,27,33,28,26,32,32,35,31,28,48,31,31,53,29,34,24,37,34,30,31,43,32,23,29,49,58,29,38,26,42,23,24,45,33,38,26,39,36,42,24,35,56,38,30,30,46,27,32,29,39,31,31,39,23,29,33,28,28,25,44,24,30,28,35,32,32,36,34,31,25,33,46,28,43,30,35,24,45,33,58,37,31,34,29,22,60,60,30,35,38,58,50,32,32,41,43,24,28,29,31,55,47,35,25,38,32,34,39,33,29,30,39,44,53,27,39,31,33,32,29,49,32,42,55,49,26,30,29,54,29,34,25,26,31,51,34,34,27,28,32,23,42,26,39,29,52,36,28,37,29,41,29,32,39,37,30,39,27,41,32,58,41,40,28,21,31,30,34,60,27,23,22,28,25,52,32,33,41,28,23,50,60,26,32,39,40,48,40,33,46,30,41,38,34,33,39,25,23,21,22,28,42,44,33,41,52,47,27,33,41,48,37,35,39,46,52,40,26,25,33,24,27,30,29,48,25,31,42,26,51,26,58,30,36,49,37,38,39,31,40,46,31,29,57,33,56,42,31,30,35,34,34,34,51,49,45,59,52,32,29,40,31,33,28,32,26,49,29,27,38,43,28,28,36,57,36,30,27,38,30,36,30,55,33,40,24,44,33,38,26,33,44,32,26,40,34,25,27,45,37,44,41,34,33,25,30,39,31,34,54,38,34,56,40,39,28,28,58,35,36,40,30,43,40,60,41,39,31,32,48,48,36,30,31,27,43,28,49,34,30,32,29,38,44,38,47,36,36,27,24,35,36,45,45,32,29,40,27,31,45,31,33,25,32,41,37,29,57,54,34,29,45,33,39,32,30,35,57,40,26,34,45,44,40,34,34,32,37,46,30,36,41,41,45,55,37,34,25,29,38,33,40,43,39,23,27,55,29,40,51,46,34,39,34,50,45,35,26,39,42,34,33,28,29,31,44,47,26,27,43,59,56,26,28,34,30,27,33,42,33,33,32,42,33,35,35,38,32,31,38,24,32,33,37,33,60,38,26,32,54,56,38,52,38,34,40,34,51,47,57,22,39,28,24,25,59,37,36,29,29,28,35,48,29,37,35,28,37,33,34,29,27,25,47,28,54,54,37,23,34,49,26,54,30,32,27,37,33,35,28,30,48,44,34,29,30,38,31,32,32,33,35,30,31,44,57,23,28,31,37,48,31,31,40,40,23,23,32,36,24,24,32,30,54,29,27,33,36,28,35,31,23,23,24,28,34,31,28,32,50,24,27,33,22,34,32,32,32,36,33,43,26,24,41,32,32,31,26,35,25,30,37,27,33,36,29,41,56,33,32,33,30,33,35,33,26,48,31,27,43,26,37,31,28,31,32,33,24,29,43,34,40,23,35,44,37,53,43,33,29,42,23,44,29,40,29,32,33,58,44,27,29,42,25,31,27,26,33,37,27,24,31,29,24,32,31,28,32,41,38,30,24,25,24,31,29,27,43,30,41,44,44,36,31,26,26,33,47,57,32,29,30,44,23,27,31,30,28,28,32,40,28,36,36,29,36,34,23,39,33,32,33,34,32,30,35,53,29,33,27,25,29,27,23,38,30,35,29,31,29,42,29,35,27,48,28,28,54,33,26,33,30,26,33,58,32,33,40,55,34,52,22,42,34,30,29,28,32,32,30,30,33,23,27,25,48,30,39,33,45,38,37,52,33,43,30,32,27,29,36,28,31,37,31,38,29,31,33,38,55,32,30,35,25,29,30,38,32,30,25,34,29,42,32,24,30,26,24,39,31,34,26,48,30,33,47,27,30,36,32,33,31,28,30,30,27,23,29,33,27,29,27,25,24,29,32,31,34,29,29,56,29,35,33,30,38,45,24,45,27,53,40,26,36,21,30,47,39,28,26,28,30,26,31,27,35,34,36,34,33,44,34,25,39,34,32,26,50,36,29,44,27,27,60,34,41,57,40,22,32,28,46,30,26,35,40,44,27,30,27,52,31,34,35,57,27,38,28,30,35,23,29,30,30,47,54,34,28,38,28,30,36,37,36,35,27,29,30,33,27,43,35,23,40,32,25,33,24,25,32,28,27,42,56,40,34,29,30,34,46,49,33,22,32,25,31,33,33,29,29,37,34,23,34,26,30,37,28,22,35,51,33,27,29,34,59,35,27,26,31,39,43,33,38,28,45,30,45,30,30,34,24,36,29,36,48,32,28,56,40,47,47,29,58,31,25,29,34,26,34,24,33,27,57,24,28,33,30,28,34,39,25,51,24,29,32,27,22,24,32,35,31,31,31,32,30,40,28,31,31,40,28,27,24,32,49,27,24,35,28,40,29,57,47,36,49,24,37,32,40,26,33,22,32,37,24,33,26,28,24,46,32,32,33,48,30,30,35,35,38,29,38,23,27,36,25,24,31,37,29,35,43,31,42,38,26,27,28,38,29,20,28,46,42,45,31,37,58,32,27,59,45,31,45,24,33,27,39,38,30,54,36,55,39,43,36,29,37,49,37,59,47,51,36,27,34,59,31,28,39,58,59,58,60,33,43,39,39,54,45,36,26,35,44,39,43,27,46,32,46,29,32,36,42,28,53,57,30,36,26,40,38,27,39,29,21,31,35,43,39,54,29,32,38,42,37,47,32,27,32,33,28,49,29,60,29,35,26,26,28,34,35,54,26,26,20,36,35,34,35,36,33,33,28,28,30,49,28,44,56,37,30,50,40,37,34,24,34,31,38,30,56,34,55,30,45,28,31,46,28,37,39,34,38,36,37,37,32,33,43,28,36,55,31,33,29,54,39,35,29,32,34,37,27,32,27,33,40,48,60,37,32,24,40,24,35,42,34,55,30,32,30,52,56,30,32,58,44,43,26,25,26,36,31,40,29,30,27,31,33,25,37,30,47,25,51,34,45,33,54,34,58,27,26,35,25,58,60,35,30,54,34,48,41,25,27,26,32,58,43,26,24,59,36,31,52,60,43,28,59,28,25,50,21,25,57,60,51,26,31,34,49,34,46,60,38,30,32,46,34,44,34,29,32,36,32,36,55,25,26,21,53,56,34,28,28,29,25,34,28,33,26,60,29,25,60,32,47,29,25,21,34,32,24,41,50,44,47,30,29,56,47,37,27,34,60,26,27,49,37,27,28,50,58,24,51,26,43,30,39,25,37,24,60,25,32,32,25,30,54,45,39,51,35,26,32,54,43,25,46,24,44,36,56,38,25,23,28,42,21,26,58,54,25,55,32,25,39,28,32,55,30,52,43,39,29,56,23,50,34,29,26,36,58,36,35,45,30,24,24,25,31,25,51,30,45,32,38,35,57,37,55,57,57,55,28,38,48,46,26,25,49,25,40,43,38,41,47,37,60,46,24,45,33,45,30,59,59,46,26,25,31,58,34,58,49,25,53,42,43,49,54,47,55,52,37,52,60,34,57,35,56,47,46,52,45,48,50,49,30,54,53,43,42,46,23,48,30,38,38,34,39,52,58,57,27,60,58,55,31,27,44,34,50,40,36,41,36,36,47,30,32,47,43,29,54,26,34,37,32,37,34,36,53,48,26,30,36,44,45,26,34,29,40,26,40,47,56,41,34,35,43,59,52,38,38,38,49,33,28,50,39,56,53,60,57,25,39,42,45,36,50,25,29,49,27,55,51,32,35,39,53,45,60,38,30,56,31,56,29,41,28,49,24,26,32,34,32,29,46,57,41,40,45,28,43,44,33,35,54,37,58,52,54,35,30,38,39,49,38,40,35,30,34,34,35,54,54,27,56,29,52,34,60,32,30,40,54,27,27,55,30,29,34,59,29,38,42,41,33,23,34,52,44,29,39,36,31,60,37,31,25,34,45,39,29,38,55,51,26,33,45,32,35,53,30,54,34,38,57,50,46,56,32,39,28,39,58,37,29,30,42,42,44,46,36,33,26,57,55,30,22,39,27,40,34,41,56,53,41,25,58,43,36,25,39,33,44,32,55,33,38,29,40,22,46,43,46,50,30,34,29,35,37,42,42,36,37,33,27,27,33,29,36,29,34,26,39,48,41,29,33,40,32,26,43,30,30,38,55,25,38,41,31,35,31,25,44,37,22,34,38,31,24,24,38,34,50,58,32,27,30,34,30,44,29,27,40,60,50,28,57,41,31,27,29,60,24,46,54,20,27,23,28,22,25,28,35,58,57,44,25,31,33,26,40,34,57,25,21,36,49,54,59,28,28,24,34,37,55,53,30,35,30,25,59,35,38,31,23,42,21,31,34,35,41,29,26,55,30,28,31,31,48,31,25,53,39,38,51,33,57,22,36,33,54,54,50,36,36,28,56,50,35,37,37,50,52,46,31,38,53,49,51,34,33,35,35,25,28,31,32,31,31,53,43,50,36,31,41,50,25,37,31,52,24,41,42,30,30,25,40,60,29,30,49,48,26,23,60,22,28,47,40,50,34,34,54,31,51,33,25,32,54,29,24,60,32,25,52,33,34,26,59,25,26,56,55,36,47,28,58,31,43,25,35,31,27,26,23,31,37,46,35,35,39,28,39,27,45,28,46,27,49,24,60,35,26,37,34,28,33,30,20,31,29,44,28,25,23,53,27,30,55,50,22,24,27,48,29,48,58,32,26,49,27,32,21,35,59,24,37,43,30,31,57,30,39,34,57,60,38,42,58,34,26,59,42,49,28,23,31,50,26,57,35,59,55,27,54,32,30,83,31,43,61,78,73,26,64,58,37,37,79,68,19,48,27,58,66,71,63,71,61,52,54,45,33,80,44,45,37,22,44,35,37,69,33,41,61,72,78,26,69,41,45,51,44,40,54,32,79,33,45,51,50,40,32,30,41,42,30,31,33,37,29,60,56,28,22,27,33,30,28,31,58,28,39,31,45,56,46,56,27,26,30,26,34,35,70,52,50,54,31,31,25,41,56,24,64,35,23,33,22,31,69,24,37,40,29,71,28,36,47,60,21,62,52,23,66,82,67,33,36,36,63,34,32,31,48,53,69,29,28,37,53,40,66,52,39,33,66,32,37,36,38,31,31,27,21,28,65,58,49,81,51,25,61,25,55,31,31,38,79,39,71,52,52,42,29,63,34,58,55,63,43,55,79,52,34,48,60,46,54,34,28,49,25,21,48,59,24,45,26,22,38,49,67,20,63,79,40,23,19,39,34,69,34,73,27,75,32,37,59,31,49,34,61,34,32,57,50,25,72,55,71,63,44,30,42,34,50,49,28,75,46,61,28,44,32,62,45,58,26,32,37,46,29,25,28,61,67,52,29,57,49,33,47,66,57,78,68,62,40,46,31,41,47,29,55,30,49,53,48,21,45,41,30,27,43,66,47,27,39,75,25,20,47,25,37,36,45,61,37,80,53,80,61,35,58,30,50,21,46,65,32,67,57,46,40,29,53,44,74,38,73,65,62,65,67,66,34,67,34,57,38,47,71,56,46,59,57,66,47,30,32,69,32,72,63,41,72,59,45,33,37,26,29,32,77,57,79,37,37,25,49,32,34,44,26,25,49,42,58,47,73,33,34,57,35,55,71,41,23,60,18,63,60,47,27,37,27,33,18,39,46,30,65,54,42,33,32,59,38,48,22,59,28,80,46,32,33,61,40,52,71,40,26,30,62,50,32,23,70,55,33,31,26,30,44,23,63,45,37,68,83,31,34,71,57,55,73,42,64,34,24,33,42,42,42,29,20,22,28,55,40,70,57,60,53,31,48,30,60,61,78,32,31,37,39,20,21,34,42,26,29,33,46,40,29,45,55,39,55,58,24,72,81,42,42,32,23,81,57,70,36,33,40,64,27,71,66,60,32,32,37,44,26,25,26,31,32,21,74,35,24,28,50,36,59,38,75,20,36,35,57,40,41,59,30,28,53,37,36,47,61,18,32,51,37,37,34,34,43,35,82,32,36,43,58,64,55,35,58,26,33,69,33,23,80,57,34,76,49,69,32,43,33,46,30,64,44,49,53,34,25,19,44,46,26,50,74,30,26,31,36,40,30,32,35,32,43,62,70,61,43,74,45,38,47,32,38,52,77,58,67,71,32,32,32,29,40,26,31,30,69,29,36,50,51,44,71,67,26,36,66,37,77,60,33,33,23,34,56,39,33,76,72,37,28,24,24,66,42,33,29,21,33,35,28,34,27,35,48,34,54,74,36,48,26,45,57,34,34,30,56,35,50,30,45,36,57,35,30,34,30,33,33,66,49,29,49,33,58,37,74,67,37,35,59,68,21,57,29,43,45,46,26,54,33,69,47,63,59,58,36,19,28,26,37,64,36,22,38,37,62,29,26,72,45,33,63,23,57,55,20,25,32,60,44,32,33,39,36,46,41,32,33,25,35,54,39,35,32,42,25,55,27,73,56,82,70,57,77,31,56,36,34,26,30,29,26,45,52,35,50,58,39,36,67,62,26,67,36,24,26,61,70,71,52,55,58,37,22,30,79,30,39,55,35,32,44,34,64,65,31,55,34,49,49,69,60,67,49,56,67,57,58,43,63,22,89,26,35,25,38,51,59,44,42,76,29,32,30,39,38,36,47,81,22,34,28,74,25,34,59,59,63,27,51,33,28,62,43,50,24,73,35,45,33,46,48,58,34,34,37,61,42,21,20,60,60,25,39,60,47,52,64,31,61,25,18,34,37,53,39,65,50,27,22,43,59,27,53,28,38,71,32,57,28,59,71,64,44,29,51,70,48,37,58,66,18,39,42,40,51,77,72,40,35,23,57,37,37,30,33,45,64,53,64,34,36,18,34,64,69,48,36,43,49,43,28,63,36,35,70,60,26,61,84,86,40,64,72,42,60,43,39,21,25,36,51,57,31,29,28,36,26,59,66,33,25,29,36,29,28,43,68,31,62,32,36,34,26,65,42,32,34,28,39,72,34,35,29,30,66,28,32,62,39,32,22,38,55,36,76,34,34,33,34,36,73,27,45,63,49,55,41,55,52,34,53,49,38,25,37,22,30,36,34,33,21,23,32,43,74,39,35,62,43,26,48,63,45,63,37,82,24,30,36,27,51,25,35,48,70,63,39,34,38,44,19,32,46,71,83,44,37,36,31,32,51,72,27,45,40,30,62,55,69,46,30,73,47,55,35,60,57,30,52,37,69,24,43,26,59,31,26,73,30,62,51,33,35,32,19,65,74,38,48,64,36,55,72,63,35,62,33,57,42,64,33,24,41,52,53,25,34,78,86,27,36,31,25,45,35,24,59,26,57,47,50,31,70,22,43,18,34,33,24,56,25,26,32,28,31,25,39,58,19,37,42,30,57,76,79,40,70,35,30,60,50,35,51,71,81,30,31,67,69,45,77,62,82,32,70,32,34,28,67,45,32,32,62,38,53,26,61,60,23,67,38,72,30,58,27,56,61,42,36,20,47,63,73,46,32,73,49,28,46,74,71,37,31,28,41,20,28,73,37,47,49,48,46,40,57,50,34,56,31,32,50,54,48,26,33,50,40,31,29,29,40,28,76,52,38,34,23,71,71,35,25,46,41,26,25,28,70,59,83,43,46,45,37,71,65,27,44,19,32,47,37,39,44,80,52,42,43,49,79,65,61,34,36,77,23,20,61,28,55,57,29,34,50,36,25,41,40,74,57,38,45,53,84,35,35,56,26,41,35,39,36,95,36,48,63,54,34,41,61,31,59,25,37,47,70,44,37,26,30,28,54,54,50,39,36,26,24,36,61,34,34,60,57,30,60,26,24,39,30,61,45,57,44,70,19,63,77,37,37,33,37,29,25,30,63,31,29,70,32,61,56,54,60,34,68,42,24,55,66,26,53,78,38,61,34,36,42,29,58,57,33,27,79,64,66,60,32,47,56,25,21,83,83,73,56,45,77,67,30,55,31,55,57,59,34,54,72,46,67,51,48,39,31,52,46,41,28,74,48,35,61,45,49,43,62,35,36,83,27,62,76,32,63,23,50,46,33,38,34,35,30,60,45,31,28,62,39,66,35,64,58,30,62,48,62,73,40,81,70,39,80,75,34,47,31,59,30,41,19,54,48,26,62,37,43,74,40,37,57,75,77,83,31,61,69,22,50,27,50,72,31,51,65,81,34,33,73,35,40,37,44,40,45,61,74,70,63,61,62,33,47,62,39,62,46,26,37,26,80,30,72,46,47,76,59,30,56,30,54,57,28,60,30,63,61,31,39,22,39,37,72,77,36,43,65,54,32,25,46,28,61,53,38,69,53,27,74,67,55,33,27,87,57,33,51,76,64,35,19,33,55,31,92,35,30,68,42,41,35,32,29,70,54,27,78,82,29,78,55,76,69,38,60,33,43,61,43,73,39,57,33,77,45,35,37,59,39,76,40,42,40,44,70,59,52,46,70,73,50,82,81,55,52,41,58,57,46,28,38,30,52,22,53,60,66,70,55,54,59,80,56,33,71,76,38,44,69,65,34,60,29,52,36,33,63,30,29,61,50,65,54,26,67,68,74,75,27,65,64,38,42,30,57,31,52,25,36,55,64,54,26,51,72,30,30,61,60,30,39,45,32,66,50,54,28,35,47,53,47,80,61,34,47,36,62,30,21,56,67,62,37,41,84,32,30,33,49,26,36,87,61,52,47,70,60,41,46,22,51,60,28,60,33,37,57,20,33,30,29,38,70,39,51,32,65,32,29,54,33,35,32,26,35,51,58,59,66,25,72,55,29,35,44,44,48,35,37,36,52,55,67,36,64,34,64,45,29,40,33,62,27,38,76,36,18,33,50,31,69,29,42,34,61,34,33,31,49,42,78,55,73,54,78,31,60,67,24,33,33,53,33,24,32,60,64,34,35,53,24,81,27,32,38,47,45,42,63,40,31,44,61,76,67,33,57,71,79,52,61,48,33,47,27,70,52,32,73,63,49,35,35,23,26,58,40,32,51,33,35,53,20,28,44,53,39,21,36,31,42,28,27,57,33,29,65,54,63,72,30,51,32,54,82,47,48,61,77,36,72,75,33,38,27,39,43,33,27,50,50,43,64,45,76,63,81,77,71,46,39,38,75,37,18,58,61,44,67,61,31,61,36,56,74,62,33,24,33,34,33,34,58,61,37,64,27,37,31,25,41,22,22,57,63,34,33,42,26,23,54,63,37,33,43,62,49,21,56,35,30,47,24,33,31,75,40,62,63,52,62,57,55,71,59,78,35,52,29,42,53,52,37,61,38,70,24,20,42,49,27,30,23,36,61,51,33,31,39,53,31,38,28,38,72,37,29,34,64,61,27,46,57,52,77,53,83,35,58,46,63,58,51,25,66,45,22,32,33,28,28,31,26,60,44,29,32,36,68,48,53,27,39,39,61,25,28,29,72,29,26,49,42,43,31,33,69,28,44,73,58,27,27,38,39,61,31,42,42,64,61,45,61,34,32,25,29,81,29,51,72,80,52,38,31,30,22,50,29,42,37,34,24,53,30,27,34,49,59,80,86,69,79,71,57,35,41,36,49,69,66,61,32,28,47,22,57,58,64,54,45,72,30,79,40,30,41,35,19,57,30,36,64,53,87,53,34,29,26,29,45,43,81,57,72,46,47,62,56,59,67,28,34,57,52,66,32,31,51,27,29,50,30,30,31,57,75,60,44,50,44,39,32,59,68,31,40,34,64,49,54,30,60,33,35,72,37,30,25,32,52,48,59,47,43,49,32,33,84,26,33,47,70,38,43,39,27,25,36,28,35,38,44,78,89,20,32,32,23,35,30,27,72,36,34,61,30,46,30,40,32,38,29,51,33,45,40,50,27,27,70,27,25,57,55,33,29,73,70,50,36,35,67,35,65,29,65,67,53,85,34,47,38,66,31,66,25,28,25,47,30,28,29,49,21,87,34,22,32,28,64,31,62,31,60,41,21,24,40,54,80,27,28,35,29,35,70,62,59,51,50,48,81,48,45,32,49,36,36,33,32,64,37,30,59,50,32,60,39,68,37,65,38,37,55,66,26,40,30,35,85,28,57,79,58,20,64,42,27,47,37,21,63,66,28,19,31,46,42,76,61,62,39,37,74,32,50,61,27,27,30,63,63,36,38,27,30,92,33,40,77,74,56,68,48,45,30,81,35,42,28,36,38,48,52,38,55,71,61,30,20,50,70,69,54,39,44,26,56,73,44,61,66,36,33,76,48,52,66,38,32,48,30,39,36,49,29,35,42,80,68,31,33,56,64,54,27,52,63,34,50,66,36,31,52,82,62,60,62,60,43,46,28,26,56,34,36,26,54,32,60,26,48,42,35,26,51,45,20,29,60,33,40,40,72,77,36,65,60,37,67,33,65,66,45,30,33,29,31,65,56,76,53,64,30,42,33,34,72,44,37,31,44,52,35,34,37,35,34,78,45,37,29,77,68,36,38,53,59,74,39,55,32,62,76,42,47,35,54,37,55,77,41,51,33,30,30,35,28,35,21,80,61,38,63,48,76,28,29,39,29,30,33,32,25,34,76,34,30,36,32,42,36,37,71,29,27,43,58,73,34,29,49,52,65,33,25,32,41,42,46,23,84,67,34,30,22,56,24,47,53,45,28,39,40,79,29,35,36,53,52,33,60,24,18,65,25,58,36,27,32,35,39,53,23,34,33,33,36,47,52,33,36,42,55,60,38,61,58,48,35,34,58,39,70,44,54,27,33,77,75,57,30,31,61,76,75,28,35,59,42,35,48,44,71,60,34,57,49,75,39,64,66,36,27,29,34,26,34,41,47,52,36,32,51,34,21,41,54,35,29,32,38,48,46,32,49,75,37,37,23,58,45,47,30,30,25,23,34,27,28,65,77,61,27,34,28,50,58,52,26,59,64,38,48,28,35,66,25,33,52,26,36,38,59,53,47,48,56,22,82,27,60,44,53,27,57,59,39,27,39,64,55,57,51,37,33,60,33,35,26,30,23,80,29,47,72,45,35,37,29,40,33,32,35,32,40,79,48,43,54,40,20,48,38,53,60,34,70,78,61,52,61,52,58,25,77,46,64,37,33,25,71,63,27,33,56,63,59,22,30,66,70,36,74,27,24,52,71,33,56,47,34,37,30,28,27,73,48,67,60,57,38,65,59,37,28,29,27,49,31,38,36,28,51,26,56,37,47,60,42,27,40,25,90,29,29,68,38,34,23,66,47,63,32,34,32,42,39,30,58,26,63,73,70,68,26,33,60,25,64,26,27,68,30,30,39,54,40,46,64,37,36,33,34,32,49,51,83,45,31,38,51,64,59,33,36,35,69,31,73,76,35,28,34,33,36,44,19,29,28,51,52,61,51,29,70,46,71,39,58,37,26,79,37,29,75,64,54,33,27,80,46,61,72,36,40,41,33,27,77,74,30,25,35,42,82,33,67,71,75,41,51,42,34,38,38,60,47,60,53,61,51,29,70,86,64,32,28,35,31,31,22,54,59,35,58,27,46,25,46,59,86,35,52,22,31,43,35,60,37,54,27,72,42,29,29,30,28,43,37,46,62,20,77,26,57,58,26,57,33,47,60,39,30,82,59,72,35,70,30,36,45,31,51,31,28,42,40,57,23,56,31,33,44,80,47,27,27,34,26,61,50,84,86,33,46,26,45,60,47,53,53,54,54,34,70,44,19,24,49,39,53,50,34,29,30,50,30,50,32,27,33,80,33,57,58,27,37,55,46,78,43,34,36,36,69,31,50,29,73,33,26,29,27,51,71,29,25,62,33,35,29,35,31,56,25,80,62,49,30,62,25,32,36,40,38,35,45,25,36,23,38,44,70,35,35,75,26,51,59,30,36,39,24,62,33,22,36,35,22,31,21,34,35,34,21,57,22,27,73,57,60,30,55,36,38,39,74,38,31,43,24,30,42,29,25,31,52,58,51,26,64,62,62,76,40,76,31,61,42,43,73,41,31,77,46,80,35,36,31,41,26,46,45,60,41,29,70,30,34,35,26,32,34,77,63,31,68,61,37,26,37,54,30,61,37,70,69,76,30,66,64,55,55,32,56,39,29,41,79,59,56,63,49,45,48,32,33,28,41,25,47,37,19,32,61,40,30,37,45,35,54,49,60,45,38,48,48,60,34,45,50,29,77,33,36,51,35,64,80,34,70,29,26,32,33,37,30,41,28,74,33,29,26,72,27,18,54,53,46,37,67,47,56,60,34,36,37,37,37,32,51,77,83,35,47,42,53,47,58,32,80,46,62,21,78,20,43,66,44,78,42,34,34,66,40,54,31,33,19,31,24,23,29,28,31,50,22,55,34,54,59,32,54,27,77,40,63,37,48,27,28,35,29,68,53,37,65,32,58,37,37,63,34,26,50,70,50,56,57,29,75,50,35,24,46,48,29,54,56,72,74,27,52,50,79,38,73,33,49,53,64,38,27,84,70,62,41,29,53,30,58,61,46,35,37,67,30,60,78,47,61,53,47,46,30,51,70,31,31,24,21,71,25,78,49,52,27,25,33,60,33,28,30,29,28,52,59,38,56,33,31,39,40,33,28,66,29,27,32,67,39,46,58,29,54,23,47,26,26,28,37,32,60,55,27,45,63,60,29,32,29,59,54,23,33,48,39,26,34,28,83,33,26,55,26,41,55,57,30,36,33,28,65,33,28,70,51,21,44,31,28,28,32,45,36,34,29,49,27,28,37,54,65,31,27,62,30,39,26,62,30,33,51,56,22,68,38,36,35,23,63,39,59,34,49,59,63,34,36,31,28,80,39,34,83,31,39,50,27,50,30,73,67,29,36,24,58,30,21,27,56,66,28,71,26,30,30,31,31,31,62,32,68,37,27,59,35,45,51,76,27,64,28,48,38,66,30,38,39,24,30,24,75,63,49,34,36,46,32,52,53,71,25,60,29,50,20,46,61,57,32,52,32,64,33,30,36,32,59,34,25,43,75,37,24,35,30,27,31,21,40,53,37,37,26,46,49,42,27,57,30,45,57,33,29,27,37,30,35,34,72,31,47,38,48,36,55,39,49,26,37,68,31,22,45,57,67,22,60,31,60,58,41,47,23,30,39,35,33,29,33,45,50,32,44,27,31,32,33,48,19,41,49,77,43,32,39,21,74,72,39,29,52,42,32,63,19,37,29,53,34,28,35,31,67,43,32,26,31,45,39,56,35,29,32,28,32,30,65,24,32,29,50,46,30,60,33,37,60,43,48,52,29,71,42,47,70,28,70,31,80,29,29,23,34,38,69,79,19,59,27,35,38,32,36,43,29,26,50,27,29,27,53,40,35,74,27,35,50,27,66,43,25,20,30,29,57,72,36,31,55,72,47,80,65,30,25,33,29,79,24,27,63,36,38,31,22,36,40,25,31,26,51,27,46,70,24,23,41,53,30,86,30,27,34,49,68,35,30,28,56,66,36,30,60,46,47,31,66,64,68,63,42,57,29,61,24,45,60,35,38,58,43,64,26,22,49,52,46,19,41,31,37,48,36,30,42,33,30,51,30,32,39,34,46,58,42,60,36,32,45,44,73,46,57,35,29,29,35,31,47,41,29,54,27,49,24,35,24,34,24,43,34,60,27,54,38,39,41,34,93,34,42,36,33,37,35,41,49,33,36,30,41,29,30,25,28,82,26,56,33,38,27,27,45,37,48,46,37,28,44,32,40,61,23,69,33,33,23,35,31,27,49,31,45,61,41,49,47,46,40,55,24,39,82,27,26,31,22,27,32,53,54,53,29,64,33,57,31,61,35,57,77,36,32,25,61,69,69,29,35,47,30,28,34,71,49,45,64,39,35,36,22,27,83,23,31,34,35,80,46,33,26,25,54,34,34,59,76,32,65,37,55,53,63,32,24,33,33,38,37,30,36,29,29,38,34,62,34,56,48,33,32,42,68,60,34,43,29,62,29,68,38,59,63,48,30,45,78,59,38,33,49,80,30,35,35,32,93,60,30,42,33,48,38,28,34,42,36,50,34,34,60,34,29,38,53,41,38,45,57,53,56,36,32,33,41,67,34,45,28,29,34,21,27,37,52,29,33,45,61,27,22,37,82,42,45,35,28,32,31,62,47,37,35,25,37,71,79,52,60,75,28,55,57,60,32,31,26,66,25,19,40,44,33,53,32,30,36,56,34,38,77,22,34,46,29,29,61,62,55,24,28,65,70,60,30,51,36,42,58,30,35,35,35,43,34,77,34,35,39,32,75,29,35,41,25,51,48,28,26,27,55,27,44,44,31,49,29,67,42,48,50,58,35,45,30,30,37,35,28,24,34,61,34,60,39,30,60,29,33,25,29,27,24,27,36,53,65,37,61,24,32,61,30,30,23,21,22,26,48,40,34,21,28,29,29,35,38,23,45,20,30,23,27,34,57,36,63,55,36,61,52,34,62,31,60,28,69,36,60,32,34,34,31,33,38,28,55,65,22,65,77,37,45,45,65,29,41,35,33,75,18,59,22,30,28,27,32,48,33,53,27,62,63,38,31,35,37,21,22,25,41,25,25,48,32,88,27,32,40,49,39,35,57,70,60,43,27,55,41,32,22,51,38,52,83,48,29,32,43,39,65,72,61,33,34,33,34,84,26,37,52,38,33,33,32,38,26,53,34,27,45,27,65,37,31,28,36,26,43,61,32,51,38,31,46,34,52,60,23,24,77,36,37,46,80,37,25,33,64,45,39,62,84,24,37,24,28,31,75,40,33,33,64,48,28,28,28,65,69,28,39,24,51,83,39,52,37,47,25,31,33,30,22,62,58,67,72,62,42,41,28,43,68,30,75,24,21,74,40,35,88,49,39,63,38,43,72,24,31,30,32,24,74,33,36,49,29,39,75,78,61,60,35,26,37,58,23,67,27,20,28,66,41,31,34,37,81,46,28,33,37,46,33,35,32,26,35,35,31,44,23,40,41,27,45,70,36,60,55,58,55,43,26,25,31,55,33,55,54,33,46,29,28,36,31,59,20,37,30,35,36,82,34,28,31,30,38,35,39,36,40,32,38,49,50,29,36,55,89,81,72,34,23,31,24,77,28,34,69,38,48,35,32,31,48,39,61,67,28,29,43,27,34,60,35,37,58,42,54,31,35,21,34,21,49,30,34,31,71,33,47,39,27,26,47,79,22,34,26,40,24,60,28,55,26,36,32,48,73,38,32,51,29,32,32,36,58,48,34,37,21,36,28,70,27,51,28,48,36,67,39,30,62,27,58,24,32,52,46,35,33,29,51,42,27,59,31,25,38,43,27,25,75,33,33,63,38,25,36,62,29,26,38,29,26,43,86,59,51,28,36,53,40,27,38,57,28,37,42,41,47,61,45,39,60,40,29,42,29,26,33,47,28,45,43,22,34,29,64,39,35,26,27,69,32,25,66,26,49,25,34,42,64,44,36,43,64,30,58,75,52,30,29,52,26,52,49,27,54,37,48,28,46,20,77,63,27,34,66,59,29,25,38,31,38,57,33,61,43,37,47,77,63,61,44,30,34,74,31,33,73,36,32,25,36,78,50,64,24,26,36,30,25,54,78,47,32,56,40,49,27,40,54,67,23,46,33,47,61,24,70,53,53,30,30,44,63,77,34,28,60,28,49,42,22,38,65,47,61,64,63,44,37,52,34,60,35,31,29,71,35,33,41,48,62,31,19,33,30,36,62,38,54,36,34,34,66,46,34,70,63,60,59,32,29,25,32,75,29,28,59,68,25,36,37,34,38,53,34,23,73,25,51,71,72,57,37],\"xaxis\":\"x\",\"yaxis\":\"y\",\"type\":\"histogram\"}],                        {\"template\":{\"data\":{\"bar\":[{\"error_x\":{\"color\":\"#2a3f5f\"},\"error_y\":{\"color\":\"#2a3f5f\"},\"marker\":{\"line\":{\"color\":\"#E5ECF6\",\"width\":0.5},\"pattern\":{\"fillmode\":\"overlay\",\"size\":10,\"solidity\":0.2}},\"type\":\"bar\"}],\"barpolar\":[{\"marker\":{\"line\":{\"color\":\"#E5ECF6\",\"width\":0.5},\"pattern\":{\"fillmode\":\"overlay\",\"size\":10,\"solidity\":0.2}},\"type\":\"barpolar\"}],\"carpet\":[{\"aaxis\":{\"endlinecolor\":\"#2a3f5f\",\"gridcolor\":\"white\",\"linecolor\":\"white\",\"minorgridcolor\":\"white\",\"startlinecolor\":\"#2a3f5f\"},\"baxis\":{\"endlinecolor\":\"#2a3f5f\",\"gridcolor\":\"white\",\"linecolor\":\"white\",\"minorgridcolor\":\"white\",\"startlinecolor\":\"#2a3f5f\"},\"type\":\"carpet\"}],\"choropleth\":[{\"colorbar\":{\"outlinewidth\":0,\"ticks\":\"\"},\"type\":\"choropleth\"}],\"contour\":[{\"colorbar\":{\"outlinewidth\":0,\"ticks\":\"\"},\"colorscale\":[[0.0,\"#0d0887\"],[0.1111111111111111,\"#46039f\"],[0.2222222222222222,\"#7201a8\"],[0.3333333333333333,\"#9c179e\"],[0.4444444444444444,\"#bd3786\"],[0.5555555555555556,\"#d8576b\"],[0.6666666666666666,\"#ed7953\"],[0.7777777777777778,\"#fb9f3a\"],[0.8888888888888888,\"#fdca26\"],[1.0,\"#f0f921\"]],\"type\":\"contour\"}],\"contourcarpet\":[{\"colorbar\":{\"outlinewidth\":0,\"ticks\":\"\"},\"type\":\"contourcarpet\"}],\"heatmap\":[{\"colorbar\":{\"outlinewidth\":0,\"ticks\":\"\"},\"colorscale\":[[0.0,\"#0d0887\"],[0.1111111111111111,\"#46039f\"],[0.2222222222222222,\"#7201a8\"],[0.3333333333333333,\"#9c179e\"],[0.4444444444444444,\"#bd3786\"],[0.5555555555555556,\"#d8576b\"],[0.6666666666666666,\"#ed7953\"],[0.7777777777777778,\"#fb9f3a\"],[0.8888888888888888,\"#fdca26\"],[1.0,\"#f0f921\"]],\"type\":\"heatmap\"}],\"heatmapgl\":[{\"colorbar\":{\"outlinewidth\":0,\"ticks\":\"\"},\"colorscale\":[[0.0,\"#0d0887\"],[0.1111111111111111,\"#46039f\"],[0.2222222222222222,\"#7201a8\"],[0.3333333333333333,\"#9c179e\"],[0.4444444444444444,\"#bd3786\"],[0.5555555555555556,\"#d8576b\"],[0.6666666666666666,\"#ed7953\"],[0.7777777777777778,\"#fb9f3a\"],[0.8888888888888888,\"#fdca26\"],[1.0,\"#f0f921\"]],\"type\":\"heatmapgl\"}],\"histogram\":[{\"marker\":{\"pattern\":{\"fillmode\":\"overlay\",\"size\":10,\"solidity\":0.2}},\"type\":\"histogram\"}],\"histogram2d\":[{\"colorbar\":{\"outlinewidth\":0,\"ticks\":\"\"},\"colorscale\":[[0.0,\"#0d0887\"],[0.1111111111111111,\"#46039f\"],[0.2222222222222222,\"#7201a8\"],[0.3333333333333333,\"#9c179e\"],[0.4444444444444444,\"#bd3786\"],[0.5555555555555556,\"#d8576b\"],[0.6666666666666666,\"#ed7953\"],[0.7777777777777778,\"#fb9f3a\"],[0.8888888888888888,\"#fdca26\"],[1.0,\"#f0f921\"]],\"type\":\"histogram2d\"}],\"histogram2dcontour\":[{\"colorbar\":{\"outlinewidth\":0,\"ticks\":\"\"},\"colorscale\":[[0.0,\"#0d0887\"],[0.1111111111111111,\"#46039f\"],[0.2222222222222222,\"#7201a8\"],[0.3333333333333333,\"#9c179e\"],[0.4444444444444444,\"#bd3786\"],[0.5555555555555556,\"#d8576b\"],[0.6666666666666666,\"#ed7953\"],[0.7777777777777778,\"#fb9f3a\"],[0.8888888888888888,\"#fdca26\"],[1.0,\"#f0f921\"]],\"type\":\"histogram2dcontour\"}],\"mesh3d\":[{\"colorbar\":{\"outlinewidth\":0,\"ticks\":\"\"},\"type\":\"mesh3d\"}],\"parcoords\":[{\"line\":{\"colorbar\":{\"outlinewidth\":0,\"ticks\":\"\"}},\"type\":\"parcoords\"}],\"pie\":[{\"automargin\":true,\"type\":\"pie\"}],\"scatter\":[{\"marker\":{\"colorbar\":{\"outlinewidth\":0,\"ticks\":\"\"}},\"type\":\"scatter\"}],\"scatter3d\":[{\"line\":{\"colorbar\":{\"outlinewidth\":0,\"ticks\":\"\"}},\"marker\":{\"colorbar\":{\"outlinewidth\":0,\"ticks\":\"\"}},\"type\":\"scatter3d\"}],\"scattercarpet\":[{\"marker\":{\"colorbar\":{\"outlinewidth\":0,\"ticks\":\"\"}},\"type\":\"scattercarpet\"}],\"scattergeo\":[{\"marker\":{\"colorbar\":{\"outlinewidth\":0,\"ticks\":\"\"}},\"type\":\"scattergeo\"}],\"scattergl\":[{\"marker\":{\"colorbar\":{\"outlinewidth\":0,\"ticks\":\"\"}},\"type\":\"scattergl\"}],\"scattermapbox\":[{\"marker\":{\"colorbar\":{\"outlinewidth\":0,\"ticks\":\"\"}},\"type\":\"scattermapbox\"}],\"scatterpolar\":[{\"marker\":{\"colorbar\":{\"outlinewidth\":0,\"ticks\":\"\"}},\"type\":\"scatterpolar\"}],\"scatterpolargl\":[{\"marker\":{\"colorbar\":{\"outlinewidth\":0,\"ticks\":\"\"}},\"type\":\"scatterpolargl\"}],\"scatterternary\":[{\"marker\":{\"colorbar\":{\"outlinewidth\":0,\"ticks\":\"\"}},\"type\":\"scatterternary\"}],\"surface\":[{\"colorbar\":{\"outlinewidth\":0,\"ticks\":\"\"},\"colorscale\":[[0.0,\"#0d0887\"],[0.1111111111111111,\"#46039f\"],[0.2222222222222222,\"#7201a8\"],[0.3333333333333333,\"#9c179e\"],[0.4444444444444444,\"#bd3786\"],[0.5555555555555556,\"#d8576b\"],[0.6666666666666666,\"#ed7953\"],[0.7777777777777778,\"#fb9f3a\"],[0.8888888888888888,\"#fdca26\"],[1.0,\"#f0f921\"]],\"type\":\"surface\"}],\"table\":[{\"cells\":{\"fill\":{\"color\":\"#EBF0F8\"},\"line\":{\"color\":\"white\"}},\"header\":{\"fill\":{\"color\":\"#C8D4E3\"},\"line\":{\"color\":\"white\"}},\"type\":\"table\"}]},\"layout\":{\"annotationdefaults\":{\"arrowcolor\":\"#2a3f5f\",\"arrowhead\":0,\"arrowwidth\":1},\"autotypenumbers\":\"strict\",\"coloraxis\":{\"colorbar\":{\"outlinewidth\":0,\"ticks\":\"\"}},\"colorscale\":{\"diverging\":[[0,\"#8e0152\"],[0.1,\"#c51b7d\"],[0.2,\"#de77ae\"],[0.3,\"#f1b6da\"],[0.4,\"#fde0ef\"],[0.5,\"#f7f7f7\"],[0.6,\"#e6f5d0\"],[0.7,\"#b8e186\"],[0.8,\"#7fbc41\"],[0.9,\"#4d9221\"],[1,\"#276419\"]],\"sequential\":[[0.0,\"#0d0887\"],[0.1111111111111111,\"#46039f\"],[0.2222222222222222,\"#7201a8\"],[0.3333333333333333,\"#9c179e\"],[0.4444444444444444,\"#bd3786\"],[0.5555555555555556,\"#d8576b\"],[0.6666666666666666,\"#ed7953\"],[0.7777777777777778,\"#fb9f3a\"],[0.8888888888888888,\"#fdca26\"],[1.0,\"#f0f921\"]],\"sequentialminus\":[[0.0,\"#0d0887\"],[0.1111111111111111,\"#46039f\"],[0.2222222222222222,\"#7201a8\"],[0.3333333333333333,\"#9c179e\"],[0.4444444444444444,\"#bd3786\"],[0.5555555555555556,\"#d8576b\"],[0.6666666666666666,\"#ed7953\"],[0.7777777777777778,\"#fb9f3a\"],[0.8888888888888888,\"#fdca26\"],[1.0,\"#f0f921\"]]},\"colorway\":[\"#636efa\",\"#EF553B\",\"#00cc96\",\"#ab63fa\",\"#FFA15A\",\"#19d3f3\",\"#FF6692\",\"#B6E880\",\"#FF97FF\",\"#FECB52\"],\"font\":{\"color\":\"#2a3f5f\"},\"geo\":{\"bgcolor\":\"white\",\"lakecolor\":\"white\",\"landcolor\":\"#E5ECF6\",\"showlakes\":true,\"showland\":true,\"subunitcolor\":\"white\"},\"hoverlabel\":{\"align\":\"left\"},\"hovermode\":\"closest\",\"mapbox\":{\"style\":\"light\"},\"paper_bgcolor\":\"white\",\"plot_bgcolor\":\"#E5ECF6\",\"polar\":{\"angularaxis\":{\"gridcolor\":\"white\",\"linecolor\":\"white\",\"ticks\":\"\"},\"bgcolor\":\"#E5ECF6\",\"radialaxis\":{\"gridcolor\":\"white\",\"linecolor\":\"white\",\"ticks\":\"\"}},\"scene\":{\"xaxis\":{\"backgroundcolor\":\"#E5ECF6\",\"gridcolor\":\"white\",\"gridwidth\":2,\"linecolor\":\"white\",\"showbackground\":true,\"ticks\":\"\",\"zerolinecolor\":\"white\"},\"yaxis\":{\"backgroundcolor\":\"#E5ECF6\",\"gridcolor\":\"white\",\"gridwidth\":2,\"linecolor\":\"white\",\"showbackground\":true,\"ticks\":\"\",\"zerolinecolor\":\"white\"},\"zaxis\":{\"backgroundcolor\":\"#E5ECF6\",\"gridcolor\":\"white\",\"gridwidth\":2,\"linecolor\":\"white\",\"showbackground\":true,\"ticks\":\"\",\"zerolinecolor\":\"white\"}},\"shapedefaults\":{\"line\":{\"color\":\"#2a3f5f\"}},\"ternary\":{\"aaxis\":{\"gridcolor\":\"white\",\"linecolor\":\"white\",\"ticks\":\"\"},\"baxis\":{\"gridcolor\":\"white\",\"linecolor\":\"white\",\"ticks\":\"\"},\"bgcolor\":\"#E5ECF6\",\"caxis\":{\"gridcolor\":\"white\",\"linecolor\":\"white\",\"ticks\":\"\"}},\"title\":{\"x\":0.05},\"xaxis\":{\"automargin\":true,\"gridcolor\":\"white\",\"linecolor\":\"white\",\"ticks\":\"\",\"title\":{\"standoff\":15},\"zerolinecolor\":\"white\",\"zerolinewidth\":2},\"yaxis\":{\"automargin\":true,\"gridcolor\":\"white\",\"linecolor\":\"white\",\"ticks\":\"\",\"title\":{\"standoff\":15},\"zerolinecolor\":\"white\",\"zerolinewidth\":2}}},\"xaxis\":{\"anchor\":\"y\",\"domain\":[0.0,1.0],\"title\":{\"text\":\"x\"}},\"yaxis\":{\"anchor\":\"x\",\"domain\":[0.0,1.0],\"title\":{\"text\":\"count\"}},\"legend\":{\"tracegroupgap\":0},\"margin\":{\"t\":60},\"barmode\":\"relative\"},                        {\"responsive\": true}                    ).then(function(){\n",
              "                            \n",
              "var gd = document.getElementById('cd93e920-c339-406c-9711-01784b1830b7');\n",
              "var x = new MutationObserver(function (mutations, observer) {{\n",
              "        var display = window.getComputedStyle(gd).display;\n",
              "        if (!display || display === 'none') {{\n",
              "            console.log([gd, 'removed!']);\n",
              "            Plotly.purge(gd);\n",
              "            observer.disconnect();\n",
              "        }}\n",
              "}});\n",
              "\n",
              "// Listen for the removal of the full notebook cells\n",
              "var notebookContainer = gd.closest('#notebook-container');\n",
              "if (notebookContainer) {{\n",
              "    x.observe(notebookContainer, {childList: true});\n",
              "}}\n",
              "\n",
              "// Listen for the clearing of the current output cell\n",
              "var outputEl = gd.closest('.output');\n",
              "if (outputEl) {{\n",
              "    x.observe(outputEl, {childList: true});\n",
              "}}\n",
              "\n",
              "                        })                };                            </script>        </div>\n",
              "</body>\n",
              "</html>"
            ]
          },
          "metadata": {}
        }
      ],
      "source": [
        "px.histogram(x=df['age'])"
      ]
    },
    {
      "cell_type": "code",
      "execution_count": 246,
      "metadata": {
        "colab": {
          "base_uri": "https://localhost:8080/",
          "height": 296
        },
        "id": "eKx91PfJF4EI",
        "outputId": "892b1c33-d307-4f20-9465-774acdca0d5f"
      },
      "outputs": [
        {
          "output_type": "execute_result",
          "data": {
            "text/plain": [
              "<matplotlib.axes._subplots.AxesSubplot at 0x7f2da5cf72d0>"
            ]
          },
          "metadata": {},
          "execution_count": 246
        },
        {
          "output_type": "display_data",
          "data": {
            "text/plain": [
              "<Figure size 432x288 with 1 Axes>"
            ],
            "image/png": "[encoded data removed]"
          },
          "metadata": {
            "needs_background": "light"
          }
        }
      ],
      "source": [
        "sns.boxplot(x=df['age'])"
      ]
    },
    {
      "cell_type": "markdown",
      "metadata": {
        "id": "AIFJRhOdFDg6"
      },
      "source": [
        "Here we can see that there are a lot of outliers."
      ]
    },
    {
      "cell_type": "code",
      "execution_count": 247,
      "metadata": {
        "colab": {
          "base_uri": "https://localhost:8080/",
          "height": 238
        },
        "id": "g8-HSwRq6T7u",
        "outputId": "e6c44278-44ea-4610-b9e2-a3e42108be10"
      },
      "outputs": [
        {
          "output_type": "execute_result",
          "data": {
            "text/plain": [
              "             no   yes\n",
              "below_20     64    33\n",
              "age_30     5821  1112\n",
              "age_40    15875  1812\n",
              "age_50    10220  1019\n",
              "age_60     7256   811\n",
              "above_60    686   502"
            ],
            "text/html": [
              "\n",
              "  <div id=\"df-bad76d2d-9b29-4817-9e74-5ffa74ffcfaf\">\n",
              "    <div class=\"colab-df-container\">\n",
              "      <div>\n",
              "<style scoped>\n",
              "    .dataframe tbody tr th:only-of-type {\n",
              "        vertical-align: middle;\n",
              "    }\n",
              "\n",
              "    .dataframe tbody tr th {\n",
              "        vertical-align: top;\n",
              "    }\n",
              "\n",
              "    .dataframe thead th {\n",
              "        text-align: right;\n",
              "    }\n",
              "</style>\n",
              "<table border=\"1\" class=\"dataframe\">\n",
              "  <thead>\n",
              "    <tr style=\"text-align: right;\">\n",
              "      <th></th>\n",
              "      <th>no</th>\n",
              "      <th>yes</th>\n",
              "    </tr>\n",
              "  </thead>\n",
              "  <tbody>\n",
              "    <tr>\n",
              "      <th>below_20</th>\n",
              "      <td>64</td>\n",
              "      <td>33</td>\n",
              "    </tr>\n",
              "    <tr>\n",
              "      <th>age_30</th>\n",
              "      <td>5821</td>\n",
              "      <td>1112</td>\n",
              "    </tr>\n",
              "    <tr>\n",
              "      <th>age_40</th>\n",
              "      <td>15875</td>\n",
              "      <td>1812</td>\n",
              "    </tr>\n",
              "    <tr>\n",
              "      <th>age_50</th>\n",
              "      <td>10220</td>\n",
              "      <td>1019</td>\n",
              "    </tr>\n",
              "    <tr>\n",
              "      <th>age_60</th>\n",
              "      <td>7256</td>\n",
              "      <td>811</td>\n",
              "    </tr>\n",
              "    <tr>\n",
              "      <th>above_60</th>\n",
              "      <td>686</td>\n",
              "      <td>502</td>\n",
              "    </tr>\n",
              "  </tbody>\n",
              "</table>\n",
              "</div>\n",
              "      <button class=\"colab-df-convert\" onclick=\"convertToInteractive('df-bad76d2d-9b29-4817-9e74-5ffa74ffcfaf')\"\n",
              "              title=\"Convert this dataframe to an interactive table.\"\n",
              "              style=\"display:none;\">\n",
              "        \n",
              "  <svg xmlns=\"http://www.w3.org/2000/svg\" height=\"24px\"viewBox=\"0 0 24 24\"\n",
              "       width=\"24px\">\n",
              "    <path d=\"M0 0h24v24H0V0z\" fill=\"none\"/>\n",
              "    <path d=\"M18.56 5.44l.94 2.06.94-2.06 2.06-.94-2.06-.94-.94-2.06-.94 2.06-2.06.94zm-11 1L8.5 8.5l.94-2.06 2.06-.94-2.06-.94L8.5 2.5l-.94 2.06-2.06.94zm10 10l.94 2.06.94-2.06 2.06-.94-2.06-.94-.94-2.06-.94 2.06-2.06.94z\"/><path d=\"M17.41 7.96l-1.37-1.37c-.4-.4-.92-.59-1.43-.59-.52 0-1.04.2-1.43.59L10.3 9.45l-7.72 7.72c-.78.78-.78 2.05 0 2.83L4 21.41c.39.39.9.59 1.41.59.51 0 1.02-.2 1.41-.59l7.78-7.78 2.81-2.81c.8-.78.8-2.07 0-2.86zM5.41 20L4 18.59l7.72-7.72 1.47 1.35L5.41 20z\"/>\n",
              "  </svg>\n",
              "      </button>\n",
              "      \n",
              "  <style>\n",
              "    .colab-df-container {\n",
              "      display:flex;\n",
              "      flex-wrap:wrap;\n",
              "      gap: 12px;\n",
              "    }\n",
              "\n",
              "    .colab-df-convert {\n",
              "      background-color: #E8F0FE;\n",
              "      border: none;\n",
              "      border-radius: 50%;\n",
              "      cursor: pointer;\n",
              "      display: none;\n",
              "      fill: #1967D2;\n",
              "      height: 32px;\n",
              "      padding: 0 0 0 0;\n",
              "      width: 32px;\n",
              "    }\n",
              "\n",
              "    .colab-df-convert:hover {\n",
              "      background-color: #E2EBFA;\n",
              "      box-shadow: 0px 1px 2px rgba(60, 64, 67, 0.3), 0px 1px 3px 1px rgba(60, 64, 67, 0.15);\n",
              "      fill: #174EA6;\n",
              "    }\n",
              "\n",
              "    [theme=dark] .colab-df-convert {\n",
              "      background-color: #3B4455;\n",
              "      fill: #D2E3FC;\n",
              "    }\n",
              "\n",
              "    [theme=dark] .colab-df-convert:hover {\n",
              "      background-color: #434B5C;\n",
              "      box-shadow: 0px 1px 3px 1px rgba(0, 0, 0, 0.15);\n",
              "      filter: drop-shadow(0px 1px 2px rgba(0, 0, 0, 0.3));\n",
              "      fill: #FFFFFF;\n",
              "    }\n",
              "  </style>\n",
              "\n",
              "      <script>\n",
              "        const buttonEl =\n",
              "          document.querySelector('#df-bad76d2d-9b29-4817-9e74-5ffa74ffcfaf button.colab-df-convert');\n",
              "        buttonEl.style.display =\n",
              "          google.colab.kernel.accessAllowed ? 'block' : 'none';\n",
              "\n",
              "        async function convertToInteractive(key) {\n",
              "          const element = document.querySelector('#df-bad76d2d-9b29-4817-9e74-5ffa74ffcfaf');\n",
              "          const dataTable =\n",
              "            await google.colab.kernel.invokeFunction('convertToInteractive',\n",
              "                                                     [key], {});\n",
              "          if (!dataTable) return;\n",
              "\n",
              "          const docLinkHtml = 'Like what you see? Visit the ' +\n",
              "            '<a target=\"_blank\" href=https://colab.research.google.com/notebooks/data_table.ipynb>data table notebook</a>'\n",
              "            + ' to learn more about interactive tables.';\n",
              "          element.innerHTML = '';\n",
              "          dataTable['output_type'] = 'display_data';\n",
              "          await google.colab.output.renderOutput(dataTable, element);\n",
              "          const docLink = document.createElement('div');\n",
              "          docLink.innerHTML = docLinkHtml;\n",
              "          element.appendChild(docLink);\n",
              "        }\n",
              "      </script>\n",
              "    </div>\n",
              "  </div>\n",
              "  "
            ]
          },
          "metadata": {},
          "execution_count": 247
        }
      ],
      "source": [
        "below_20_0=0\n",
        "below_20_1=0\n",
        "age_30_0=0\n",
        "age_30_1=0\n",
        "age_40_0=0\n",
        "age_40_1=0\n",
        "age_50_0=0\n",
        "age_50_1=0\n",
        "age_60_0=0\n",
        "age_60_1=0\n",
        "above_60_0=0\n",
        "above_60_1=0\n",
        "for i in range(len(df)):\n",
        "    if df.age.iloc[i]<=20:\n",
        "      if df.y.iloc[i]=='no':\n",
        "        below_20_0+=1\n",
        "      else:\n",
        "        below_20_1+=1\n",
        "    elif df.age.iloc[i]>20 and df.age.iloc[i]<=30:\n",
        "      if df.y.iloc[i]=='no':\n",
        "        age_30_0+=1\n",
        "      else:\n",
        "        age_30_1+=1\n",
        "    elif df.age.iloc[i]>30 and df.age.iloc[i]<=40:\n",
        "      if df.y.iloc[i]=='no':\n",
        "        age_40_0+=1\n",
        "      else:\n",
        "        age_40_1+=1\n",
        "    elif df.age.iloc[i]>40 and df.age.iloc[i]<=50:\n",
        "      if df.y.iloc[i]=='no':\n",
        "        age_50_0+=1\n",
        "      else:\n",
        "        age_50_1+=1\n",
        "    elif df.age.iloc[i]>50 and df.age.iloc[i]<=60:\n",
        "      if df.y.iloc[i]=='no':\n",
        "        age_60_0+=1\n",
        "      else:\n",
        "        age_60_1+=1\n",
        "    else:\n",
        "      if df.y.iloc[i]=='no':\n",
        "        above_60_0+=1\n",
        "      else:\n",
        "        above_60_1+=1\n",
        "data={'no':[below_20_0,age_30_0,age_40_0,age_50_0,age_60_0,above_60_0],\n",
        "      'yes':[below_20_1,age_30_1,age_40_1,age_50_1,age_60_1,above_60_1]}\n",
        "age_cons = pd.DataFrame(data=data,index=['below_20','age_30','age_40','age_50','age_60','above_60'])\n",
        "age_cons"
      ]
    },
    {
      "cell_type": "code",
      "execution_count": 248,
      "metadata": {
        "colab": {
          "base_uri": "https://localhost:8080/",
          "height": 542
        },
        "id": "a1nE7IMEH5fA",
        "outputId": "1e9fb1c0-19bf-41c3-cd03-e0480d68d9d5"
      },
      "outputs": [
        {
          "output_type": "display_data",
          "data": {
            "text/html": [
              "<html>\n",
              "<head><meta charset=\"utf-8\" /></head>\n",
              "<body>\n",
              "    <div>            <script src=\"https://cdnjs.cloudflare.com/ajax/libs/mathjax/2.7.5/MathJax.js?config=TeX-AMS-MML_SVG\"></script><script type=\"text/javascript\">if (window.MathJax) {MathJax.Hub.Config({SVG: {font: \"STIX-Web\"}});}</script>                <script type=\"text/javascript\">window.PlotlyConfig = {MathJaxConfig: 'local'};</script>\n",
              "        <script src=\"https://cdn.plot.ly/plotly-2.8.3.min.js\"></script>                <div id=\"b3dc166b-e3f0-4eab-ae30-42b748c0c586\" class=\"plotly-graph-div\" style=\"height:525px; width:100%;\"></div>            <script type=\"text/javascript\">                                    window.PLOTLYENV=window.PLOTLYENV || {};                                    if (document.getElementById(\"b3dc166b-e3f0-4eab-ae30-42b748c0c586\")) {                    Plotly.newPlot(                        \"b3dc166b-e3f0-4eab-ae30-42b748c0c586\",                        [{\"base\":[0],\"marker\":{\"color\":\"blue\"},\"name\":\"yes\",\"x\":[\"below_20\",\"age_30\",\"age_40\",\"age_50\",\"age_60\",\"above_60\"],\"y\":[33,1112,1812,1019,811,502],\"type\":\"bar\"},{\"base\":[-64,-5821,-15875,-10220,-7256,-686],\"marker\":{\"color\":\"yellow\"},\"name\":\"no\",\"x\":[\"below_20\",\"age_30\",\"age_40\",\"age_50\",\"age_60\",\"above_60\"],\"y\":[64,5821,15875,10220,7256,686],\"type\":\"bar\"}],                        {\"template\":{\"data\":{\"bar\":[{\"error_x\":{\"color\":\"#2a3f5f\"},\"error_y\":{\"color\":\"#2a3f5f\"},\"marker\":{\"line\":{\"color\":\"#E5ECF6\",\"width\":0.5},\"pattern\":{\"fillmode\":\"overlay\",\"size\":10,\"solidity\":0.2}},\"type\":\"bar\"}],\"barpolar\":[{\"marker\":{\"line\":{\"color\":\"#E5ECF6\",\"width\":0.5},\"pattern\":{\"fillmode\":\"overlay\",\"size\":10,\"solidity\":0.2}},\"type\":\"barpolar\"}],\"carpet\":[{\"aaxis\":{\"endlinecolor\":\"#2a3f5f\",\"gridcolor\":\"white\",\"linecolor\":\"white\",\"minorgridcolor\":\"white\",\"startlinecolor\":\"#2a3f5f\"},\"baxis\":{\"endlinecolor\":\"#2a3f5f\",\"gridcolor\":\"white\",\"linecolor\":\"white\",\"minorgridcolor\":\"white\",\"startlinecolor\":\"#2a3f5f\"},\"type\":\"carpet\"}],\"choropleth\":[{\"colorbar\":{\"outlinewidth\":0,\"ticks\":\"\"},\"type\":\"choropleth\"}],\"contour\":[{\"colorbar\":{\"outlinewidth\":0,\"ticks\":\"\"},\"colorscale\":[[0.0,\"#0d0887\"],[0.1111111111111111,\"#46039f\"],[0.2222222222222222,\"#7201a8\"],[0.3333333333333333,\"#9c179e\"],[0.4444444444444444,\"#bd3786\"],[0.5555555555555556,\"#d8576b\"],[0.6666666666666666,\"#ed7953\"],[0.7777777777777778,\"#fb9f3a\"],[0.8888888888888888,\"#fdca26\"],[1.0,\"#f0f921\"]],\"type\":\"contour\"}],\"contourcarpet\":[{\"colorbar\":{\"outlinewidth\":0,\"ticks\":\"\"},\"type\":\"contourcarpet\"}],\"heatmap\":[{\"colorbar\":{\"outlinewidth\":0,\"ticks\":\"\"},\"colorscale\":[[0.0,\"#0d0887\"],[0.1111111111111111,\"#46039f\"],[0.2222222222222222,\"#7201a8\"],[0.3333333333333333,\"#9c179e\"],[0.4444444444444444,\"#bd3786\"],[0.5555555555555556,\"#d8576b\"],[0.6666666666666666,\"#ed7953\"],[0.7777777777777778,\"#fb9f3a\"],[0.8888888888888888,\"#fdca26\"],[1.0,\"#f0f921\"]],\"type\":\"heatmap\"}],\"heatmapgl\":[{\"colorbar\":{\"outlinewidth\":0,\"ticks\":\"\"},\"colorscale\":[[0.0,\"#0d0887\"],[0.1111111111111111,\"#46039f\"],[0.2222222222222222,\"#7201a8\"],[0.3333333333333333,\"#9c179e\"],[0.4444444444444444,\"#bd3786\"],[0.5555555555555556,\"#d8576b\"],[0.6666666666666666,\"#ed7953\"],[0.7777777777777778,\"#fb9f3a\"],[0.8888888888888888,\"#fdca26\"],[1.0,\"#f0f921\"]],\"type\":\"heatmapgl\"}],\"histogram\":[{\"marker\":{\"pattern\":{\"fillmode\":\"overlay\",\"size\":10,\"solidity\":0.2}},\"type\":\"histogram\"}],\"histogram2d\":[{\"colorbar\":{\"outlinewidth\":0,\"ticks\":\"\"},\"colorscale\":[[0.0,\"#0d0887\"],[0.1111111111111111,\"#46039f\"],[0.2222222222222222,\"#7201a8\"],[0.3333333333333333,\"#9c179e\"],[0.4444444444444444,\"#bd3786\"],[0.5555555555555556,\"#d8576b\"],[0.6666666666666666,\"#ed7953\"],[0.7777777777777778,\"#fb9f3a\"],[0.8888888888888888,\"#fdca26\"],[1.0,\"#f0f921\"]],\"type\":\"histogram2d\"}],\"histogram2dcontour\":[{\"colorbar\":{\"outlinewidth\":0,\"ticks\":\"\"},\"colorscale\":[[0.0,\"#0d0887\"],[0.1111111111111111,\"#46039f\"],[0.2222222222222222,\"#7201a8\"],[0.3333333333333333,\"#9c179e\"],[0.4444444444444444,\"#bd3786\"],[0.5555555555555556,\"#d8576b\"],[0.6666666666666666,\"#ed7953\"],[0.7777777777777778,\"#fb9f3a\"],[0.8888888888888888,\"#fdca26\"],[1.0,\"#f0f921\"]],\"type\":\"histogram2dcontour\"}],\"mesh3d\":[{\"colorbar\":{\"outlinewidth\":0,\"ticks\":\"\"},\"type\":\"mesh3d\"}],\"parcoords\":[{\"line\":{\"colorbar\":{\"outlinewidth\":0,\"ticks\":\"\"}},\"type\":\"parcoords\"}],\"pie\":[{\"automargin\":true,\"type\":\"pie\"}],\"scatter\":[{\"marker\":{\"colorbar\":{\"outlinewidth\":0,\"ticks\":\"\"}},\"type\":\"scatter\"}],\"scatter3d\":[{\"line\":{\"colorbar\":{\"outlinewidth\":0,\"ticks\":\"\"}},\"marker\":{\"colorbar\":{\"outlinewidth\":0,\"ticks\":\"\"}},\"type\":\"scatter3d\"}],\"scattercarpet\":[{\"marker\":{\"colorbar\":{\"outlinewidth\":0,\"ticks\":\"\"}},\"type\":\"scattercarpet\"}],\"scattergeo\":[{\"marker\":{\"colorbar\":{\"outlinewidth\":0,\"ticks\":\"\"}},\"type\":\"scattergeo\"}],\"scattergl\":[{\"marker\":{\"colorbar\":{\"outlinewidth\":0,\"ticks\":\"\"}},\"type\":\"scattergl\"}],\"scattermapbox\":[{\"marker\":{\"colorbar\":{\"outlinewidth\":0,\"ticks\":\"\"}},\"type\":\"scattermapbox\"}],\"scatterpolar\":[{\"marker\":{\"colorbar\":{\"outlinewidth\":0,\"ticks\":\"\"}},\"type\":\"scatterpolar\"}],\"scatterpolargl\":[{\"marker\":{\"colorbar\":{\"outlinewidth\":0,\"ticks\":\"\"}},\"type\":\"scatterpolargl\"}],\"scatterternary\":[{\"marker\":{\"colorbar\":{\"outlinewidth\":0,\"ticks\":\"\"}},\"type\":\"scatterternary\"}],\"surface\":[{\"colorbar\":{\"outlinewidth\":0,\"ticks\":\"\"},\"colorscale\":[[0.0,\"#0d0887\"],[0.1111111111111111,\"#46039f\"],[0.2222222222222222,\"#7201a8\"],[0.3333333333333333,\"#9c179e\"],[0.4444444444444444,\"#bd3786\"],[0.5555555555555556,\"#d8576b\"],[0.6666666666666666,\"#ed7953\"],[0.7777777777777778,\"#fb9f3a\"],[0.8888888888888888,\"#fdca26\"],[1.0,\"#f0f921\"]],\"type\":\"surface\"}],\"table\":[{\"cells\":{\"fill\":{\"color\":\"#EBF0F8\"},\"line\":{\"color\":\"white\"}},\"header\":{\"fill\":{\"color\":\"#C8D4E3\"},\"line\":{\"color\":\"white\"}},\"type\":\"table\"}]},\"layout\":{\"annotationdefaults\":{\"arrowcolor\":\"#2a3f5f\",\"arrowhead\":0,\"arrowwidth\":1},\"autotypenumbers\":\"strict\",\"coloraxis\":{\"colorbar\":{\"outlinewidth\":0,\"ticks\":\"\"}},\"colorscale\":{\"diverging\":[[0,\"#8e0152\"],[0.1,\"#c51b7d\"],[0.2,\"#de77ae\"],[0.3,\"#f1b6da\"],[0.4,\"#fde0ef\"],[0.5,\"#f7f7f7\"],[0.6,\"#e6f5d0\"],[0.7,\"#b8e186\"],[0.8,\"#7fbc41\"],[0.9,\"#4d9221\"],[1,\"#276419\"]],\"sequential\":[[0.0,\"#0d0887\"],[0.1111111111111111,\"#46039f\"],[0.2222222222222222,\"#7201a8\"],[0.3333333333333333,\"#9c179e\"],[0.4444444444444444,\"#bd3786\"],[0.5555555555555556,\"#d8576b\"],[0.6666666666666666,\"#ed7953\"],[0.7777777777777778,\"#fb9f3a\"],[0.8888888888888888,\"#fdca26\"],[1.0,\"#f0f921\"]],\"sequentialminus\":[[0.0,\"#0d0887\"],[0.1111111111111111,\"#46039f\"],[0.2222222222222222,\"#7201a8\"],[0.3333333333333333,\"#9c179e\"],[0.4444444444444444,\"#bd3786\"],[0.5555555555555556,\"#d8576b\"],[0.6666666666666666,\"#ed7953\"],[0.7777777777777778,\"#fb9f3a\"],[0.8888888888888888,\"#fdca26\"],[1.0,\"#f0f921\"]]},\"colorway\":[\"#636efa\",\"#EF553B\",\"#00cc96\",\"#ab63fa\",\"#FFA15A\",\"#19d3f3\",\"#FF6692\",\"#B6E880\",\"#FF97FF\",\"#FECB52\"],\"font\":{\"color\":\"#2a3f5f\"},\"geo\":{\"bgcolor\":\"white\",\"lakecolor\":\"white\",\"landcolor\":\"#E5ECF6\",\"showlakes\":true,\"showland\":true,\"subunitcolor\":\"white\"},\"hoverlabel\":{\"align\":\"left\"},\"hovermode\":\"closest\",\"mapbox\":{\"style\":\"light\"},\"paper_bgcolor\":\"white\",\"plot_bgcolor\":\"#E5ECF6\",\"polar\":{\"angularaxis\":{\"gridcolor\":\"white\",\"linecolor\":\"white\",\"ticks\":\"\"},\"bgcolor\":\"#E5ECF6\",\"radialaxis\":{\"gridcolor\":\"white\",\"linecolor\":\"white\",\"ticks\":\"\"}},\"scene\":{\"xaxis\":{\"backgroundcolor\":\"#E5ECF6\",\"gridcolor\":\"white\",\"gridwidth\":2,\"linecolor\":\"white\",\"showbackground\":true,\"ticks\":\"\",\"zerolinecolor\":\"white\"},\"yaxis\":{\"backgroundcolor\":\"#E5ECF6\",\"gridcolor\":\"white\",\"gridwidth\":2,\"linecolor\":\"white\",\"showbackground\":true,\"ticks\":\"\",\"zerolinecolor\":\"white\"},\"zaxis\":{\"backgroundcolor\":\"#E5ECF6\",\"gridcolor\":\"white\",\"gridwidth\":2,\"linecolor\":\"white\",\"showbackground\":true,\"ticks\":\"\",\"zerolinecolor\":\"white\"}},\"shapedefaults\":{\"line\":{\"color\":\"#2a3f5f\"}},\"ternary\":{\"aaxis\":{\"gridcolor\":\"white\",\"linecolor\":\"white\",\"ticks\":\"\"},\"baxis\":{\"gridcolor\":\"white\",\"linecolor\":\"white\",\"ticks\":\"\"},\"bgcolor\":\"#E5ECF6\",\"caxis\":{\"gridcolor\":\"white\",\"linecolor\":\"white\",\"ticks\":\"\"}},\"title\":{\"x\":0.05},\"xaxis\":{\"automargin\":true,\"gridcolor\":\"white\",\"linecolor\":\"white\",\"ticks\":\"\",\"title\":{\"standoff\":15},\"zerolinecolor\":\"white\",\"zerolinewidth\":2},\"yaxis\":{\"automargin\":true,\"gridcolor\":\"white\",\"linecolor\":\"white\",\"ticks\":\"\",\"title\":{\"standoff\":15},\"zerolinecolor\":\"white\",\"zerolinewidth\":2}}}},                        {\"responsive\": true}                    ).then(function(){\n",
              "                            \n",
              "var gd = document.getElementById('b3dc166b-e3f0-4eab-ae30-42b748c0c586');\n",
              "var x = new MutationObserver(function (mutations, observer) {{\n",
              "        var display = window.getComputedStyle(gd).display;\n",
              "        if (!display || display === 'none') {{\n",
              "            console.log([gd, 'removed!']);\n",
              "            Plotly.purge(gd);\n",
              "            observer.disconnect();\n",
              "        }}\n",
              "}});\n",
              "\n",
              "// Listen for the removal of the full notebook cells\n",
              "var notebookContainer = gd.closest('#notebook-container');\n",
              "if (notebookContainer) {{\n",
              "    x.observe(notebookContainer, {childList: true});\n",
              "}}\n",
              "\n",
              "// Listen for the clearing of the current output cell\n",
              "var outputEl = gd.closest('.output');\n",
              "if (outputEl) {{\n",
              "    x.observe(outputEl, {childList: true});\n",
              "}}\n",
              "\n",
              "                        })                };                            </script>        </div>\n",
              "</body>\n",
              "</html>"
            ]
          },
          "metadata": {}
        }
      ],
      "source": [
        "fig = go.Figure()\n",
        "fig.add_trace(go.Bar(x=age_cons.index, y=age_cons.yes,\n",
        "                base=[0],marker_color='blue',\n",
        "                name='yes'\n",
        "                ))\n",
        "fig.add_trace(go.Bar(x=age_cons.index, y=age_cons.no,\n",
        "                base=[-64,-5821,-15875,-10220,-7256,-686],marker_color='yellow',\n",
        "                name='no'))\n",
        "\n",
        "fig.show()"
      ]
    },
    {
      "cell_type": "code",
      "execution_count": 249,
      "metadata": {
        "colab": {
          "base_uri": "https://localhost:8080/",
          "height": 238
        },
        "id": "7wBO-wNyJtdB",
        "outputId": "182dfb5a-26e8-4808-d642-1c899882a511"
      },
      "outputs": [
        {
          "output_type": "execute_result",
          "data": {
            "text/plain": [
              "                  no        yes\n",
              "below_20p  65.979381  36.000000\n",
              "age_30p    83.960767  16.039233\n",
              "age_40p    89.755187  10.244813\n",
              "age_50p    90.933357   9.066643\n",
              "age_60p    89.946696  10.053304\n",
              "above_60p  57.744108  42.255892"
            ],
            "text/html": [
              "\n",
              "  <div id=\"df-191320d4-9f30-440c-8279-c4cd5872f7e4\">\n",
              "    <div class=\"colab-df-container\">\n",
              "      <div>\n",
              "<style scoped>\n",
              "    .dataframe tbody tr th:only-of-type {\n",
              "        vertical-align: middle;\n",
              "    }\n",
              "\n",
              "    .dataframe tbody tr th {\n",
              "        vertical-align: top;\n",
              "    }\n",
              "\n",
              "    .dataframe thead th {\n",
              "        text-align: right;\n",
              "    }\n",
              "</style>\n",
              "<table border=\"1\" class=\"dataframe\">\n",
              "  <thead>\n",
              "    <tr style=\"text-align: right;\">\n",
              "      <th></th>\n",
              "      <th>no</th>\n",
              "      <th>yes</th>\n",
              "    </tr>\n",
              "  </thead>\n",
              "  <tbody>\n",
              "    <tr>\n",
              "      <th>below_20p</th>\n",
              "      <td>65.979381</td>\n",
              "      <td>36.000000</td>\n",
              "    </tr>\n",
              "    <tr>\n",
              "      <th>age_30p</th>\n",
              "      <td>83.960767</td>\n",
              "      <td>16.039233</td>\n",
              "    </tr>\n",
              "    <tr>\n",
              "      <th>age_40p</th>\n",
              "      <td>89.755187</td>\n",
              "      <td>10.244813</td>\n",
              "    </tr>\n",
              "    <tr>\n",
              "      <th>age_50p</th>\n",
              "      <td>90.933357</td>\n",
              "      <td>9.066643</td>\n",
              "    </tr>\n",
              "    <tr>\n",
              "      <th>age_60p</th>\n",
              "      <td>89.946696</td>\n",
              "      <td>10.053304</td>\n",
              "    </tr>\n",
              "    <tr>\n",
              "      <th>above_60p</th>\n",
              "      <td>57.744108</td>\n",
              "      <td>42.255892</td>\n",
              "    </tr>\n",
              "  </tbody>\n",
              "</table>\n",
              "</div>\n",
              "      <button class=\"colab-df-convert\" onclick=\"convertToInteractive('df-191320d4-9f30-440c-8279-c4cd5872f7e4')\"\n",
              "              title=\"Convert this dataframe to an interactive table.\"\n",
              "              style=\"display:none;\">\n",
              "        \n",
              "  <svg xmlns=\"http://www.w3.org/2000/svg\" height=\"24px\"viewBox=\"0 0 24 24\"\n",
              "       width=\"24px\">\n",
              "    <path d=\"M0 0h24v24H0V0z\" fill=\"none\"/>\n",
              "    <path d=\"M18.56 5.44l.94 2.06.94-2.06 2.06-.94-2.06-.94-.94-2.06-.94 2.06-2.06.94zm-11 1L8.5 8.5l.94-2.06 2.06-.94-2.06-.94L8.5 2.5l-.94 2.06-2.06.94zm10 10l.94 2.06.94-2.06 2.06-.94-2.06-.94-.94-2.06-.94 2.06-2.06.94z\"/><path d=\"M17.41 7.96l-1.37-1.37c-.4-.4-.92-.59-1.43-.59-.52 0-1.04.2-1.43.59L10.3 9.45l-7.72 7.72c-.78.78-.78 2.05 0 2.83L4 21.41c.39.39.9.59 1.41.59.51 0 1.02-.2 1.41-.59l7.78-7.78 2.81-2.81c.8-.78.8-2.07 0-2.86zM5.41 20L4 18.59l7.72-7.72 1.47 1.35L5.41 20z\"/>\n",
              "  </svg>\n",
              "      </button>\n",
              "      \n",
              "  <style>\n",
              "    .colab-df-container {\n",
              "      display:flex;\n",
              "      flex-wrap:wrap;\n",
              "      gap: 12px;\n",
              "    }\n",
              "\n",
              "    .colab-df-convert {\n",
              "      background-color: #E8F0FE;\n",
              "      border: none;\n",
              "      border-radius: 50%;\n",
              "      cursor: pointer;\n",
              "      display: none;\n",
              "      fill: #1967D2;\n",
              "      height: 32px;\n",
              "      padding: 0 0 0 0;\n",
              "      width: 32px;\n",
              "    }\n",
              "\n",
              "    .colab-df-convert:hover {\n",
              "      background-color: #E2EBFA;\n",
              "      box-shadow: 0px 1px 2px rgba(60, 64, 67, 0.3), 0px 1px 3px 1px rgba(60, 64, 67, 0.15);\n",
              "      fill: #174EA6;\n",
              "    }\n",
              "\n",
              "    [theme=dark] .colab-df-convert {\n",
              "      background-color: #3B4455;\n",
              "      fill: #D2E3FC;\n",
              "    }\n",
              "\n",
              "    [theme=dark] .colab-df-convert:hover {\n",
              "      background-color: #434B5C;\n",
              "      box-shadow: 0px 1px 3px 1px rgba(0, 0, 0, 0.15);\n",
              "      filter: drop-shadow(0px 1px 2px rgba(0, 0, 0, 0.3));\n",
              "      fill: #FFFFFF;\n",
              "    }\n",
              "  </style>\n",
              "\n",
              "      <script>\n",
              "        const buttonEl =\n",
              "          document.querySelector('#df-191320d4-9f30-440c-8279-c4cd5872f7e4 button.colab-df-convert');\n",
              "        buttonEl.style.display =\n",
              "          google.colab.kernel.accessAllowed ? 'block' : 'none';\n",
              "\n",
              "        async function convertToInteractive(key) {\n",
              "          const element = document.querySelector('#df-191320d4-9f30-440c-8279-c4cd5872f7e4');\n",
              "          const dataTable =\n",
              "            await google.colab.kernel.invokeFunction('convertToInteractive',\n",
              "                                                     [key], {});\n",
              "          if (!dataTable) return;\n",
              "\n",
              "          const docLinkHtml = 'Like what you see? Visit the ' +\n",
              "            '<a target=\"_blank\" href=https://colab.research.google.com/notebooks/data_table.ipynb>data table notebook</a>'\n",
              "            + ' to learn more about interactive tables.';\n",
              "          element.innerHTML = '';\n",
              "          dataTable['output_type'] = 'display_data';\n",
              "          await google.colab.output.renderOutput(dataTable, element);\n",
              "          const docLink = document.createElement('div');\n",
              "          docLink.innerHTML = docLinkHtml;\n",
              "          element.appendChild(docLink);\n",
              "        }\n",
              "      </script>\n",
              "    </div>\n",
              "  </div>\n",
              "  "
            ]
          },
          "metadata": {},
          "execution_count": 249
        }
      ],
      "source": [
        "total_below_20=below_20_0+below_20_1\n",
        "below_20_0p=(below_20_0/total_below_20)*100\n",
        "below_20_1p=100-below_20_0\n",
        "\n",
        "total_age_30=age_30_0+age_30_1\n",
        "age_30_0p=(age_30_0/total_age_30)*100\n",
        "age_30_1p=100-age_30_0p\n",
        "\n",
        "total_age_40=age_40_0+age_40_1\n",
        "age_40_0p=(age_40_0/total_age_40)*100\n",
        "age_40_1p=100-age_40_0p\n",
        "\n",
        "total_age_50=age_50_0+age_50_1\n",
        "age_50_0p=(age_50_0/total_age_50)*100\n",
        "age_50_1p=100-age_50_0p\n",
        "\n",
        "total_age_60=age_60_0+age_60_1\n",
        "age_60_0p=(age_60_0/total_age_60)*100\n",
        "age_60_1p=100-age_60_0p\n",
        "\n",
        "total_above_60=above_60_0+above_60_1\n",
        "above_60_0p=(above_60_0/total_above_60)*100\n",
        "above_60_1p=100-above_60_0p\n",
        "\n",
        "data={'no':[below_20_0p,age_30_0p,age_40_0p,age_50_0p,age_60_0p,above_60_0p],\n",
        "      'yes':[below_20_1p,age_30_1p,age_40_1p,age_50_1p,age_60_1p,above_60_1p]}\n",
        "age_cons_p = pd.DataFrame(data=data,index=['below_20p','age_30p','age_40p','age_50p','age_60p','above_60p'])\n",
        "age_cons_p"
      ]
    },
    {
      "cell_type": "code",
      "execution_count": 250,
      "metadata": {
        "colab": {
          "base_uri": "https://localhost:8080/",
          "height": 542
        },
        "id": "eyGFJQC1O7xG",
        "outputId": "7ca181f5-1f3d-4f5b-a2f9-138e66cf4189"
      },
      "outputs": [
        {
          "output_type": "display_data",
          "data": {
            "text/html": [
              "<html>\n",
              "<head><meta charset=\"utf-8\" /></head>\n",
              "<body>\n",
              "    <div>            <script src=\"https://cdnjs.cloudflare.com/ajax/libs/mathjax/2.7.5/MathJax.js?config=TeX-AMS-MML_SVG\"></script><script type=\"text/javascript\">if (window.MathJax) {MathJax.Hub.Config({SVG: {font: \"STIX-Web\"}});}</script>                <script type=\"text/javascript\">window.PlotlyConfig = {MathJaxConfig: 'local'};</script>\n",
              "        <script src=\"https://cdn.plot.ly/plotly-2.8.3.min.js\"></script>                <div id=\"629ad55b-6ef6-4c00-a4ae-d8db671921cc\" class=\"plotly-graph-div\" style=\"height:525px; width:100%;\"></div>            <script type=\"text/javascript\">                                    window.PLOTLYENV=window.PLOTLYENV || {};                                    if (document.getElementById(\"629ad55b-6ef6-4c00-a4ae-d8db671921cc\")) {                    Plotly.newPlot(                        \"629ad55b-6ef6-4c00-a4ae-d8db671921cc\",                        [{\"base\":0,\"marker\":{\"color\":\"blue\"},\"name\":\"yes\",\"x\":[\"below_20p\",\"age_30p\",\"age_40p\",\"age_50p\",\"age_60p\",\"above_60p\"],\"y\":[36.0,16.03923265541613,10.244812574207046,9.066642939763327,10.053303582496582,42.255892255892256],\"type\":\"bar\"},{\"base\":[-65.98,-83.97,-89.8,-90.94,-89.95,-57.8],\"marker\":{\"color\":\"yellow\"},\"name\":\"no\",\"x\":[\"below_20p\",\"age_30p\",\"age_40p\",\"age_50p\",\"age_60p\",\"above_60p\"],\"y\":[65.97938144329896,83.96076734458387,89.75518742579295,90.93335706023667,89.94669641750342,57.744107744107744],\"type\":\"bar\"}],                        {\"template\":{\"data\":{\"bar\":[{\"error_x\":{\"color\":\"#2a3f5f\"},\"error_y\":{\"color\":\"#2a3f5f\"},\"marker\":{\"line\":{\"color\":\"#E5ECF6\",\"width\":0.5},\"pattern\":{\"fillmode\":\"overlay\",\"size\":10,\"solidity\":0.2}},\"type\":\"bar\"}],\"barpolar\":[{\"marker\":{\"line\":{\"color\":\"#E5ECF6\",\"width\":0.5},\"pattern\":{\"fillmode\":\"overlay\",\"size\":10,\"solidity\":0.2}},\"type\":\"barpolar\"}],\"carpet\":[{\"aaxis\":{\"endlinecolor\":\"#2a3f5f\",\"gridcolor\":\"white\",\"linecolor\":\"white\",\"minorgridcolor\":\"white\",\"startlinecolor\":\"#2a3f5f\"},\"baxis\":{\"endlinecolor\":\"#2a3f5f\",\"gridcolor\":\"white\",\"linecolor\":\"white\",\"minorgridcolor\":\"white\",\"startlinecolor\":\"#2a3f5f\"},\"type\":\"carpet\"}],\"choropleth\":[{\"colorbar\":{\"outlinewidth\":0,\"ticks\":\"\"},\"type\":\"choropleth\"}],\"contour\":[{\"colorbar\":{\"outlinewidth\":0,\"ticks\":\"\"},\"colorscale\":[[0.0,\"#0d0887\"],[0.1111111111111111,\"#46039f\"],[0.2222222222222222,\"#7201a8\"],[0.3333333333333333,\"#9c179e\"],[0.4444444444444444,\"#bd3786\"],[0.5555555555555556,\"#d8576b\"],[0.6666666666666666,\"#ed7953\"],[0.7777777777777778,\"#fb9f3a\"],[0.8888888888888888,\"#fdca26\"],[1.0,\"#f0f921\"]],\"type\":\"contour\"}],\"contourcarpet\":[{\"colorbar\":{\"outlinewidth\":0,\"ticks\":\"\"},\"type\":\"contourcarpet\"}],\"heatmap\":[{\"colorbar\":{\"outlinewidth\":0,\"ticks\":\"\"},\"colorscale\":[[0.0,\"#0d0887\"],[0.1111111111111111,\"#46039f\"],[0.2222222222222222,\"#7201a8\"],[0.3333333333333333,\"#9c179e\"],[0.4444444444444444,\"#bd3786\"],[0.5555555555555556,\"#d8576b\"],[0.6666666666666666,\"#ed7953\"],[0.7777777777777778,\"#fb9f3a\"],[0.8888888888888888,\"#fdca26\"],[1.0,\"#f0f921\"]],\"type\":\"heatmap\"}],\"heatmapgl\":[{\"colorbar\":{\"outlinewidth\":0,\"ticks\":\"\"},\"colorscale\":[[0.0,\"#0d0887\"],[0.1111111111111111,\"#46039f\"],[0.2222222222222222,\"#7201a8\"],[0.3333333333333333,\"#9c179e\"],[0.4444444444444444,\"#bd3786\"],[0.5555555555555556,\"#d8576b\"],[0.6666666666666666,\"#ed7953\"],[0.7777777777777778,\"#fb9f3a\"],[0.8888888888888888,\"#fdca26\"],[1.0,\"#f0f921\"]],\"type\":\"heatmapgl\"}],\"histogram\":[{\"marker\":{\"pattern\":{\"fillmode\":\"overlay\",\"size\":10,\"solidity\":0.2}},\"type\":\"histogram\"}],\"histogram2d\":[{\"colorbar\":{\"outlinewidth\":0,\"ticks\":\"\"},\"colorscale\":[[0.0,\"#0d0887\"],[0.1111111111111111,\"#46039f\"],[0.2222222222222222,\"#7201a8\"],[0.3333333333333333,\"#9c179e\"],[0.4444444444444444,\"#bd3786\"],[0.5555555555555556,\"#d8576b\"],[0.6666666666666666,\"#ed7953\"],[0.7777777777777778,\"#fb9f3a\"],[0.8888888888888888,\"#fdca26\"],[1.0,\"#f0f921\"]],\"type\":\"histogram2d\"}],\"histogram2dcontour\":[{\"colorbar\":{\"outlinewidth\":0,\"ticks\":\"\"},\"colorscale\":[[0.0,\"#0d0887\"],[0.1111111111111111,\"#46039f\"],[0.2222222222222222,\"#7201a8\"],[0.3333333333333333,\"#9c179e\"],[0.4444444444444444,\"#bd3786\"],[0.5555555555555556,\"#d8576b\"],[0.6666666666666666,\"#ed7953\"],[0.7777777777777778,\"#fb9f3a\"],[0.8888888888888888,\"#fdca26\"],[1.0,\"#f0f921\"]],\"type\":\"histogram2dcontour\"}],\"mesh3d\":[{\"colorbar\":{\"outlinewidth\":0,\"ticks\":\"\"},\"type\":\"mesh3d\"}],\"parcoords\":[{\"line\":{\"colorbar\":{\"outlinewidth\":0,\"ticks\":\"\"}},\"type\":\"parcoords\"}],\"pie\":[{\"automargin\":true,\"type\":\"pie\"}],\"scatter\":[{\"marker\":{\"colorbar\":{\"outlinewidth\":0,\"ticks\":\"\"}},\"type\":\"scatter\"}],\"scatter3d\":[{\"line\":{\"colorbar\":{\"outlinewidth\":0,\"ticks\":\"\"}},\"marker\":{\"colorbar\":{\"outlinewidth\":0,\"ticks\":\"\"}},\"type\":\"scatter3d\"}],\"scattercarpet\":[{\"marker\":{\"colorbar\":{\"outlinewidth\":0,\"ticks\":\"\"}},\"type\":\"scattercarpet\"}],\"scattergeo\":[{\"marker\":{\"colorbar\":{\"outlinewidth\":0,\"ticks\":\"\"}},\"type\":\"scattergeo\"}],\"scattergl\":[{\"marker\":{\"colorbar\":{\"outlinewidth\":0,\"ticks\":\"\"}},\"type\":\"scattergl\"}],\"scattermapbox\":[{\"marker\":{\"colorbar\":{\"outlinewidth\":0,\"ticks\":\"\"}},\"type\":\"scattermapbox\"}],\"scatterpolar\":[{\"marker\":{\"colorbar\":{\"outlinewidth\":0,\"ticks\":\"\"}},\"type\":\"scatterpolar\"}],\"scatterpolargl\":[{\"marker\":{\"colorbar\":{\"outlinewidth\":0,\"ticks\":\"\"}},\"type\":\"scatterpolargl\"}],\"scatterternary\":[{\"marker\":{\"colorbar\":{\"outlinewidth\":0,\"ticks\":\"\"}},\"type\":\"scatterternary\"}],\"surface\":[{\"colorbar\":{\"outlinewidth\":0,\"ticks\":\"\"},\"colorscale\":[[0.0,\"#0d0887\"],[0.1111111111111111,\"#46039f\"],[0.2222222222222222,\"#7201a8\"],[0.3333333333333333,\"#9c179e\"],[0.4444444444444444,\"#bd3786\"],[0.5555555555555556,\"#d8576b\"],[0.6666666666666666,\"#ed7953\"],[0.7777777777777778,\"#fb9f3a\"],[0.8888888888888888,\"#fdca26\"],[1.0,\"#f0f921\"]],\"type\":\"surface\"}],\"table\":[{\"cells\":{\"fill\":{\"color\":\"#EBF0F8\"},\"line\":{\"color\":\"white\"}},\"header\":{\"fill\":{\"color\":\"#C8D4E3\"},\"line\":{\"color\":\"white\"}},\"type\":\"table\"}]},\"layout\":{\"annotationdefaults\":{\"arrowcolor\":\"#2a3f5f\",\"arrowhead\":0,\"arrowwidth\":1},\"autotypenumbers\":\"strict\",\"coloraxis\":{\"colorbar\":{\"outlinewidth\":0,\"ticks\":\"\"}},\"colorscale\":{\"diverging\":[[0,\"#8e0152\"],[0.1,\"#c51b7d\"],[0.2,\"#de77ae\"],[0.3,\"#f1b6da\"],[0.4,\"#fde0ef\"],[0.5,\"#f7f7f7\"],[0.6,\"#e6f5d0\"],[0.7,\"#b8e186\"],[0.8,\"#7fbc41\"],[0.9,\"#4d9221\"],[1,\"#276419\"]],\"sequential\":[[0.0,\"#0d0887\"],[0.1111111111111111,\"#46039f\"],[0.2222222222222222,\"#7201a8\"],[0.3333333333333333,\"#9c179e\"],[0.4444444444444444,\"#bd3786\"],[0.5555555555555556,\"#d8576b\"],[0.6666666666666666,\"#ed7953\"],[0.7777777777777778,\"#fb9f3a\"],[0.8888888888888888,\"#fdca26\"],[1.0,\"#f0f921\"]],\"sequentialminus\":[[0.0,\"#0d0887\"],[0.1111111111111111,\"#46039f\"],[0.2222222222222222,\"#7201a8\"],[0.3333333333333333,\"#9c179e\"],[0.4444444444444444,\"#bd3786\"],[0.5555555555555556,\"#d8576b\"],[0.6666666666666666,\"#ed7953\"],[0.7777777777777778,\"#fb9f3a\"],[0.8888888888888888,\"#fdca26\"],[1.0,\"#f0f921\"]]},\"colorway\":[\"#636efa\",\"#EF553B\",\"#00cc96\",\"#ab63fa\",\"#FFA15A\",\"#19d3f3\",\"#FF6692\",\"#B6E880\",\"#FF97FF\",\"#FECB52\"],\"font\":{\"color\":\"#2a3f5f\"},\"geo\":{\"bgcolor\":\"white\",\"lakecolor\":\"white\",\"landcolor\":\"#E5ECF6\",\"showlakes\":true,\"showland\":true,\"subunitcolor\":\"white\"},\"hoverlabel\":{\"align\":\"left\"},\"hovermode\":\"closest\",\"mapbox\":{\"style\":\"light\"},\"paper_bgcolor\":\"white\",\"plot_bgcolor\":\"#E5ECF6\",\"polar\":{\"angularaxis\":{\"gridcolor\":\"white\",\"linecolor\":\"white\",\"ticks\":\"\"},\"bgcolor\":\"#E5ECF6\",\"radialaxis\":{\"gridcolor\":\"white\",\"linecolor\":\"white\",\"ticks\":\"\"}},\"scene\":{\"xaxis\":{\"backgroundcolor\":\"#E5ECF6\",\"gridcolor\":\"white\",\"gridwidth\":2,\"linecolor\":\"white\",\"showbackground\":true,\"ticks\":\"\",\"zerolinecolor\":\"white\"},\"yaxis\":{\"backgroundcolor\":\"#E5ECF6\",\"gridcolor\":\"white\",\"gridwidth\":2,\"linecolor\":\"white\",\"showbackground\":true,\"ticks\":\"\",\"zerolinecolor\":\"white\"},\"zaxis\":{\"backgroundcolor\":\"#E5ECF6\",\"gridcolor\":\"white\",\"gridwidth\":2,\"linecolor\":\"white\",\"showbackground\":true,\"ticks\":\"\",\"zerolinecolor\":\"white\"}},\"shapedefaults\":{\"line\":{\"color\":\"#2a3f5f\"}},\"ternary\":{\"aaxis\":{\"gridcolor\":\"white\",\"linecolor\":\"white\",\"ticks\":\"\"},\"baxis\":{\"gridcolor\":\"white\",\"linecolor\":\"white\",\"ticks\":\"\"},\"bgcolor\":\"#E5ECF6\",\"caxis\":{\"gridcolor\":\"white\",\"linecolor\":\"white\",\"ticks\":\"\"}},\"title\":{\"x\":0.05},\"xaxis\":{\"automargin\":true,\"gridcolor\":\"white\",\"linecolor\":\"white\",\"ticks\":\"\",\"title\":{\"standoff\":15},\"zerolinecolor\":\"white\",\"zerolinewidth\":2},\"yaxis\":{\"automargin\":true,\"gridcolor\":\"white\",\"linecolor\":\"white\",\"ticks\":\"\",\"title\":{\"standoff\":15},\"zerolinecolor\":\"white\",\"zerolinewidth\":2}}}},                        {\"responsive\": true}                    ).then(function(){\n",
              "                            \n",
              "var gd = document.getElementById('629ad55b-6ef6-4c00-a4ae-d8db671921cc');\n",
              "var x = new MutationObserver(function (mutations, observer) {{\n",
              "        var display = window.getComputedStyle(gd).display;\n",
              "        if (!display || display === 'none') {{\n",
              "            console.log([gd, 'removed!']);\n",
              "            Plotly.purge(gd);\n",
              "            observer.disconnect();\n",
              "        }}\n",
              "}});\n",
              "\n",
              "// Listen for the removal of the full notebook cells\n",
              "var notebookContainer = gd.closest('#notebook-container');\n",
              "if (notebookContainer) {{\n",
              "    x.observe(notebookContainer, {childList: true});\n",
              "}}\n",
              "\n",
              "// Listen for the clearing of the current output cell\n",
              "var outputEl = gd.closest('.output');\n",
              "if (outputEl) {{\n",
              "    x.observe(outputEl, {childList: true});\n",
              "}}\n",
              "\n",
              "                        })                };                            </script>        </div>\n",
              "</body>\n",
              "</html>"
            ]
          },
          "metadata": {}
        }
      ],
      "source": [
        "fig = go.Figure()\n",
        "fig.add_trace(go.Bar(x=age_cons_p.index, y=age_cons_p.yes,\n",
        "                base=0,marker_color='blue',\n",
        "                name='yes'\n",
        "                ))\n",
        "fig.add_trace(go.Bar(x=age_cons_p.index, y=age_cons_p.no,\n",
        "                base=[-65.98,-83.97,-89.8,-90.94,-89.95,-57.8],marker_color='yellow',\n",
        "                name='no'))\n",
        "\n",
        "fig.show()"
      ]
    },
    {
      "cell_type": "markdown",
      "metadata": {
        "id": "je1COBT3cRY1"
      },
      "source": [
        "From the above graph we can say two most insurance buying groups are \n",
        "\n",
        "1) above 60 aged people\n",
        "2) below 20 aged people\n",
        "\n",
        "People likely to get insurance decreases from 20 till age 50 and we can see a sudden rise after 50."
      ]
    },
    {
      "cell_type": "markdown",
      "metadata": {
        "id": "ZUO0jpBwQ7na"
      },
      "source": [
        "# **job**"
      ]
    },
    {
      "cell_type": "code",
      "execution_count": 251,
      "metadata": {
        "colab": {
          "base_uri": "https://localhost:8080/",
          "height": 459
        },
        "id": "Rim2R0mXIBrj",
        "outputId": "62563b6d-b599-4d9e-bdda-7baf264c5948"
      },
      "outputs": [
        {
          "output_type": "execute_result",
          "data": {
            "text/plain": [
              "<matplotlib.axes._subplots.AxesSubplot at 0x7f2da9785310>"
            ]
          },
          "metadata": {},
          "execution_count": 251
        },
        {
          "output_type": "display_data",
          "data": {
            "text/plain": [
              "<Figure size 1080x504 with 1 Axes>"
            ],
            "image/png": "[encoded data removed]"
          },
          "metadata": {
            "needs_background": "light"
          }
        }
      ],
      "source": [
        "plt.figure(figsize=(15,7))\n",
        "sns.countplot(x=df['job'],hue=df['y'],data=df)"
      ]
    },
    {
      "cell_type": "code",
      "execution_count": 252,
      "metadata": {
        "colab": {
          "base_uri": "https://localhost:8080/",
          "height": 542
        },
        "id": "_D2QFLlISOFH",
        "outputId": "48b42a98-b261-4270-a896-dc81cf3ab7aa"
      },
      "outputs": [
        {
          "output_type": "display_data",
          "data": {
            "text/html": [
              "<html>\n",
              "<head><meta charset=\"utf-8\" /></head>\n",
              "<body>\n",
              "    <div>            <script src=\"https://cdnjs.cloudflare.com/ajax/libs/mathjax/2.7.5/MathJax.js?config=TeX-AMS-MML_SVG\"></script><script type=\"text/javascript\">if (window.MathJax) {MathJax.Hub.Config({SVG: {font: \"STIX-Web\"}});}</script>                <script type=\"text/javascript\">window.PlotlyConfig = {MathJaxConfig: 'local'};</script>\n",
              "        <script src=\"https://cdn.plot.ly/plotly-2.8.3.min.js\"></script>                <div id=\"d81902df-93d9-48d4-a075-a578413702d8\" class=\"plotly-graph-div\" style=\"height:525px; width:100%;\"></div>            <script type=\"text/javascript\">                                    window.PLOTLYENV=window.PLOTLYENV || {};                                    if (document.getElementById(\"d81902df-93d9-48d4-a075-a578413702d8\")) {                    Plotly.newPlot(                        \"d81902df-93d9-48d4-a075-a578413702d8\",                        [{\"base\":[0],\"marker\":{\"color\":\"blue\"},\"name\":\"yes\",\"x\":[\"management\",\"technician\",\"entrepreneur\",\"blue-collar\",\"unknown\",\"retired\",\"admin\",\"services\",\"self-employed\",\"unemployed\",\"housemaid\",\"student\"],\"y\":[13.76,11.06,8.27,7.27,11.81,22.79,12.2,8.88,11.84,15.5,8.79,28.68],\"type\":\"bar\"},{\"base\":[-86.24,-88.94,-91.73,-92.73,-88.19,-77.21,-87.8,-91.12,-88.16,-84.5,-91.21,-71.32],\"marker\":{\"color\":\"yellow\"},\"name\":\"no\",\"x\":[\"management\",\"technician\",\"entrepreneur\",\"blue-collar\",\"unknown\",\"retired\",\"admin\",\"services\",\"self-employed\",\"unemployed\",\"housemaid\",\"student\"],\"y\":[86.24,88.94,91.73,92.73,88.19,77.21000000000001,87.8,91.12,88.16,84.5,91.21000000000001,71.32],\"type\":\"bar\"}],                        {\"template\":{\"data\":{\"bar\":[{\"error_x\":{\"color\":\"#2a3f5f\"},\"error_y\":{\"color\":\"#2a3f5f\"},\"marker\":{\"line\":{\"color\":\"#E5ECF6\",\"width\":0.5},\"pattern\":{\"fillmode\":\"overlay\",\"size\":10,\"solidity\":0.2}},\"type\":\"bar\"}],\"barpolar\":[{\"marker\":{\"line\":{\"color\":\"#E5ECF6\",\"width\":0.5},\"pattern\":{\"fillmode\":\"overlay\",\"size\":10,\"solidity\":0.2}},\"type\":\"barpolar\"}],\"carpet\":[{\"aaxis\":{\"endlinecolor\":\"#2a3f5f\",\"gridcolor\":\"white\",\"linecolor\":\"white\",\"minorgridcolor\":\"white\",\"startlinecolor\":\"#2a3f5f\"},\"baxis\":{\"endlinecolor\":\"#2a3f5f\",\"gridcolor\":\"white\",\"linecolor\":\"white\",\"minorgridcolor\":\"white\",\"startlinecolor\":\"#2a3f5f\"},\"type\":\"carpet\"}],\"choropleth\":[{\"colorbar\":{\"outlinewidth\":0,\"ticks\":\"\"},\"type\":\"choropleth\"}],\"contour\":[{\"colorbar\":{\"outlinewidth\":0,\"ticks\":\"\"},\"colorscale\":[[0.0,\"#0d0887\"],[0.1111111111111111,\"#46039f\"],[0.2222222222222222,\"#7201a8\"],[0.3333333333333333,\"#9c179e\"],[0.4444444444444444,\"#bd3786\"],[0.5555555555555556,\"#d8576b\"],[0.6666666666666666,\"#ed7953\"],[0.7777777777777778,\"#fb9f3a\"],[0.8888888888888888,\"#fdca26\"],[1.0,\"#f0f921\"]],\"type\":\"contour\"}],\"contourcarpet\":[{\"colorbar\":{\"outlinewidth\":0,\"ticks\":\"\"},\"type\":\"contourcarpet\"}],\"heatmap\":[{\"colorbar\":{\"outlinewidth\":0,\"ticks\":\"\"},\"colorscale\":[[0.0,\"#0d0887\"],[0.1111111111111111,\"#46039f\"],[0.2222222222222222,\"#7201a8\"],[0.3333333333333333,\"#9c179e\"],[0.4444444444444444,\"#bd3786\"],[0.5555555555555556,\"#d8576b\"],[0.6666666666666666,\"#ed7953\"],[0.7777777777777778,\"#fb9f3a\"],[0.8888888888888888,\"#fdca26\"],[1.0,\"#f0f921\"]],\"type\":\"heatmap\"}],\"heatmapgl\":[{\"colorbar\":{\"outlinewidth\":0,\"ticks\":\"\"},\"colorscale\":[[0.0,\"#0d0887\"],[0.1111111111111111,\"#46039f\"],[0.2222222222222222,\"#7201a8\"],[0.3333333333333333,\"#9c179e\"],[0.4444444444444444,\"#bd3786\"],[0.5555555555555556,\"#d8576b\"],[0.6666666666666666,\"#ed7953\"],[0.7777777777777778,\"#fb9f3a\"],[0.8888888888888888,\"#fdca26\"],[1.0,\"#f0f921\"]],\"type\":\"heatmapgl\"}],\"histogram\":[{\"marker\":{\"pattern\":{\"fillmode\":\"overlay\",\"size\":10,\"solidity\":0.2}},\"type\":\"histogram\"}],\"histogram2d\":[{\"colorbar\":{\"outlinewidth\":0,\"ticks\":\"\"},\"colorscale\":[[0.0,\"#0d0887\"],[0.1111111111111111,\"#46039f\"],[0.2222222222222222,\"#7201a8\"],[0.3333333333333333,\"#9c179e\"],[0.4444444444444444,\"#bd3786\"],[0.5555555555555556,\"#d8576b\"],[0.6666666666666666,\"#ed7953\"],[0.7777777777777778,\"#fb9f3a\"],[0.8888888888888888,\"#fdca26\"],[1.0,\"#f0f921\"]],\"type\":\"histogram2d\"}],\"histogram2dcontour\":[{\"colorbar\":{\"outlinewidth\":0,\"ticks\":\"\"},\"colorscale\":[[0.0,\"#0d0887\"],[0.1111111111111111,\"#46039f\"],[0.2222222222222222,\"#7201a8\"],[0.3333333333333333,\"#9c179e\"],[0.4444444444444444,\"#bd3786\"],[0.5555555555555556,\"#d8576b\"],[0.6666666666666666,\"#ed7953\"],[0.7777777777777778,\"#fb9f3a\"],[0.8888888888888888,\"#fdca26\"],[1.0,\"#f0f921\"]],\"type\":\"histogram2dcontour\"}],\"mesh3d\":[{\"colorbar\":{\"outlinewidth\":0,\"ticks\":\"\"},\"type\":\"mesh3d\"}],\"parcoords\":[{\"line\":{\"colorbar\":{\"outlinewidth\":0,\"ticks\":\"\"}},\"type\":\"parcoords\"}],\"pie\":[{\"automargin\":true,\"type\":\"pie\"}],\"scatter\":[{\"marker\":{\"colorbar\":{\"outlinewidth\":0,\"ticks\":\"\"}},\"type\":\"scatter\"}],\"scatter3d\":[{\"line\":{\"colorbar\":{\"outlinewidth\":0,\"ticks\":\"\"}},\"marker\":{\"colorbar\":{\"outlinewidth\":0,\"ticks\":\"\"}},\"type\":\"scatter3d\"}],\"scattercarpet\":[{\"marker\":{\"colorbar\":{\"outlinewidth\":0,\"ticks\":\"\"}},\"type\":\"scattercarpet\"}],\"scattergeo\":[{\"marker\":{\"colorbar\":{\"outlinewidth\":0,\"ticks\":\"\"}},\"type\":\"scattergeo\"}],\"scattergl\":[{\"marker\":{\"colorbar\":{\"outlinewidth\":0,\"ticks\":\"\"}},\"type\":\"scattergl\"}],\"scattermapbox\":[{\"marker\":{\"colorbar\":{\"outlinewidth\":0,\"ticks\":\"\"}},\"type\":\"scattermapbox\"}],\"scatterpolar\":[{\"marker\":{\"colorbar\":{\"outlinewidth\":0,\"ticks\":\"\"}},\"type\":\"scatterpolar\"}],\"scatterpolargl\":[{\"marker\":{\"colorbar\":{\"outlinewidth\":0,\"ticks\":\"\"}},\"type\":\"scatterpolargl\"}],\"scatterternary\":[{\"marker\":{\"colorbar\":{\"outlinewidth\":0,\"ticks\":\"\"}},\"type\":\"scatterternary\"}],\"surface\":[{\"colorbar\":{\"outlinewidth\":0,\"ticks\":\"\"},\"colorscale\":[[0.0,\"#0d0887\"],[0.1111111111111111,\"#46039f\"],[0.2222222222222222,\"#7201a8\"],[0.3333333333333333,\"#9c179e\"],[0.4444444444444444,\"#bd3786\"],[0.5555555555555556,\"#d8576b\"],[0.6666666666666666,\"#ed7953\"],[0.7777777777777778,\"#fb9f3a\"],[0.8888888888888888,\"#fdca26\"],[1.0,\"#f0f921\"]],\"type\":\"surface\"}],\"table\":[{\"cells\":{\"fill\":{\"color\":\"#EBF0F8\"},\"line\":{\"color\":\"white\"}},\"header\":{\"fill\":{\"color\":\"#C8D4E3\"},\"line\":{\"color\":\"white\"}},\"type\":\"table\"}]},\"layout\":{\"annotationdefaults\":{\"arrowcolor\":\"#2a3f5f\",\"arrowhead\":0,\"arrowwidth\":1},\"autotypenumbers\":\"strict\",\"coloraxis\":{\"colorbar\":{\"outlinewidth\":0,\"ticks\":\"\"}},\"colorscale\":{\"diverging\":[[0,\"#8e0152\"],[0.1,\"#c51b7d\"],[0.2,\"#de77ae\"],[0.3,\"#f1b6da\"],[0.4,\"#fde0ef\"],[0.5,\"#f7f7f7\"],[0.6,\"#e6f5d0\"],[0.7,\"#b8e186\"],[0.8,\"#7fbc41\"],[0.9,\"#4d9221\"],[1,\"#276419\"]],\"sequential\":[[0.0,\"#0d0887\"],[0.1111111111111111,\"#46039f\"],[0.2222222222222222,\"#7201a8\"],[0.3333333333333333,\"#9c179e\"],[0.4444444444444444,\"#bd3786\"],[0.5555555555555556,\"#d8576b\"],[0.6666666666666666,\"#ed7953\"],[0.7777777777777778,\"#fb9f3a\"],[0.8888888888888888,\"#fdca26\"],[1.0,\"#f0f921\"]],\"sequentialminus\":[[0.0,\"#0d0887\"],[0.1111111111111111,\"#46039f\"],[0.2222222222222222,\"#7201a8\"],[0.3333333333333333,\"#9c179e\"],[0.4444444444444444,\"#bd3786\"],[0.5555555555555556,\"#d8576b\"],[0.6666666666666666,\"#ed7953\"],[0.7777777777777778,\"#fb9f3a\"],[0.8888888888888888,\"#fdca26\"],[1.0,\"#f0f921\"]]},\"colorway\":[\"#636efa\",\"#EF553B\",\"#00cc96\",\"#ab63fa\",\"#FFA15A\",\"#19d3f3\",\"#FF6692\",\"#B6E880\",\"#FF97FF\",\"#FECB52\"],\"font\":{\"color\":\"#2a3f5f\"},\"geo\":{\"bgcolor\":\"white\",\"lakecolor\":\"white\",\"landcolor\":\"#E5ECF6\",\"showlakes\":true,\"showland\":true,\"subunitcolor\":\"white\"},\"hoverlabel\":{\"align\":\"left\"},\"hovermode\":\"closest\",\"mapbox\":{\"style\":\"light\"},\"paper_bgcolor\":\"white\",\"plot_bgcolor\":\"#E5ECF6\",\"polar\":{\"angularaxis\":{\"gridcolor\":\"white\",\"linecolor\":\"white\",\"ticks\":\"\"},\"bgcolor\":\"#E5ECF6\",\"radialaxis\":{\"gridcolor\":\"white\",\"linecolor\":\"white\",\"ticks\":\"\"}},\"scene\":{\"xaxis\":{\"backgroundcolor\":\"#E5ECF6\",\"gridcolor\":\"white\",\"gridwidth\":2,\"linecolor\":\"white\",\"showbackground\":true,\"ticks\":\"\",\"zerolinecolor\":\"white\"},\"yaxis\":{\"backgroundcolor\":\"#E5ECF6\",\"gridcolor\":\"white\",\"gridwidth\":2,\"linecolor\":\"white\",\"showbackground\":true,\"ticks\":\"\",\"zerolinecolor\":\"white\"},\"zaxis\":{\"backgroundcolor\":\"#E5ECF6\",\"gridcolor\":\"white\",\"gridwidth\":2,\"linecolor\":\"white\",\"showbackground\":true,\"ticks\":\"\",\"zerolinecolor\":\"white\"}},\"shapedefaults\":{\"line\":{\"color\":\"#2a3f5f\"}},\"ternary\":{\"aaxis\":{\"gridcolor\":\"white\",\"linecolor\":\"white\",\"ticks\":\"\"},\"baxis\":{\"gridcolor\":\"white\",\"linecolor\":\"white\",\"ticks\":\"\"},\"bgcolor\":\"#E5ECF6\",\"caxis\":{\"gridcolor\":\"white\",\"linecolor\":\"white\",\"ticks\":\"\"}},\"title\":{\"x\":0.05},\"xaxis\":{\"automargin\":true,\"gridcolor\":\"white\",\"linecolor\":\"white\",\"ticks\":\"\",\"title\":{\"standoff\":15},\"zerolinecolor\":\"white\",\"zerolinewidth\":2},\"yaxis\":{\"automargin\":true,\"gridcolor\":\"white\",\"linecolor\":\"white\",\"ticks\":\"\",\"title\":{\"standoff\":15},\"zerolinecolor\":\"white\",\"zerolinewidth\":2}}}},                        {\"responsive\": true}                    ).then(function(){\n",
              "                            \n",
              "var gd = document.getElementById('d81902df-93d9-48d4-a075-a578413702d8');\n",
              "var x = new MutationObserver(function (mutations, observer) {{\n",
              "        var display = window.getComputedStyle(gd).display;\n",
              "        if (!display || display === 'none') {{\n",
              "            console.log([gd, 'removed!']);\n",
              "            Plotly.purge(gd);\n",
              "            observer.disconnect();\n",
              "        }}\n",
              "}});\n",
              "\n",
              "// Listen for the removal of the full notebook cells\n",
              "var notebookContainer = gd.closest('#notebook-container');\n",
              "if (notebookContainer) {{\n",
              "    x.observe(notebookContainer, {childList: true});\n",
              "}}\n",
              "\n",
              "// Listen for the clearing of the current output cell\n",
              "var outputEl = gd.closest('.output');\n",
              "if (outputEl) {{\n",
              "    x.observe(outputEl, {childList: true});\n",
              "}}\n",
              "\n",
              "                        })                };                            </script>        </div>\n",
              "</body>\n",
              "</html>"
            ]
          },
          "metadata": {}
        }
      ],
      "source": [
        "# Management Percentage\n",
        "mgt = (df[(df['job']=='management')]['y']).value_counts()\n",
        "mgt_per_yes = ((mgt['yes'] / (mgt['yes'] + mgt['no']))*100).round(2)\n",
        "mgt_per_no = 100 - mgt_per_yes\n",
        "\n",
        "# Technician Percentage\n",
        "tech = (df[(df['job']=='technician')]['y']).value_counts()\n",
        "tech_per_yes = ((tech['yes'] / (tech['yes'] + tech['no']))*100).round(2)\n",
        "tech_per_no = 100 - (tech_per_yes)\n",
        "\n",
        "# Entrepreneur Percentage\n",
        "entr = (df[(df['job']=='entrepreneur')]['y']).value_counts()\n",
        "entr_per_yes = ((entr['yes'] / (entr['yes'] + entr['no']))*100).round(2)\n",
        "entr_per_no = 100 - entr_per_yes\n",
        "\n",
        "# Blue-Collar Percentage\n",
        "blue_col = (df[(df['job']=='blue-collar')]['y']).value_counts()\n",
        "blue_col_per_yes = ((blue_col['yes'] / (blue_col['yes'] + blue_col['no']))*100).round(2)\n",
        "blue_col_per_no = 100 - blue_col_per_yes\n",
        "\n",
        "# Unknown Percentage\n",
        "unko = (df[(df['job']=='unknown')]['y']).value_counts()\n",
        "unko_per_yes = ((unko['yes'] / (unko['yes'] + unko['no']))*100).round(2)\n",
        "unko_per_no = 100 - unko_per_yes\n",
        "\n",
        "# Retired Percentage\n",
        "rtd = (df[(df['job']=='retired')]['y']).value_counts()\n",
        "rtd_per_yes = ((rtd['yes'] / (rtd['yes'] + rtd['no']))*100).round(2)\n",
        "rtd_per_no = 100 - rtd_per_yes\n",
        "\n",
        "# Admin Percentage\n",
        "adm = (df[(df['job']=='admin.')]['y']).value_counts()\n",
        "adm_per_yes = ((adm['yes'] / (adm['yes'] + adm['no']))*100).round(2)\n",
        "adm_per_no = 100 - adm_per_yes\n",
        "\n",
        "# Services Percentage\n",
        "serv = (df[(df['job']=='services')]['y']).value_counts()\n",
        "serv_per_yes = ((serv['yes'] / (serv['yes'] + serv['no']))*100).round(2)\n",
        "serv_per_no = 100 - serv_per_yes\n",
        "\n",
        "# Self-Employed Percentage\n",
        "self_emp = (df[(df['job']=='self-employed')]['y']).value_counts()\n",
        "self_emp_per_yes = ((self_emp['yes'] / (self_emp['yes'] + self_emp['no']))*100).round(2)\n",
        "self_emp_per_no = 100 - self_emp_per_yes\n",
        "\n",
        "# UnEmployed Percentage\n",
        "unemp = (df[(df['job']=='unemployed')]['y']).value_counts()\n",
        "unemp_per_yes = ((unemp['yes'] / (unemp['yes'] + unemp['no']))*100).round(2)\n",
        "unemp_per_no = 100 - unemp_per_yes\n",
        "\n",
        "# Housemaid Percentage\n",
        "maid = (df[(df['job']=='housemaid')]['y']).value_counts()\n",
        "maid_per_yes = ((maid['yes'] / (maid['yes'] + maid['no']))*100).round(2)\n",
        "maid_per_no = 100 - maid_per_yes\n",
        "\n",
        "# Student Percentage\n",
        "stu = (df[(df['job']=='student')]['y']).value_counts()\n",
        "stu_per_yes = ((stu['yes'] / (stu['yes'] + stu['no']))*100).round(2)\n",
        "stu_per_no = 100 - stu_per_yes\n",
        "\n",
        "data = {'no': [mgt_per_no,tech_per_no,entr_per_no,blue_col_per_no,unko_per_no,rtd_per_no,adm_per_no,serv_per_no,self_emp_per_no,unemp_per_no,maid_per_no,stu_per_no],\n",
        "        'yes': [mgt_per_yes,tech_per_yes,entr_per_yes,blue_col_per_yes,unko_per_yes,rtd_per_yes,adm_per_yes,serv_per_yes,self_emp_per_yes,unemp_per_yes,maid_per_yes,stu_per_yes]}\n",
        "job_per = pd.DataFrame(data=data,index=['management','technician','entrepreneur','blue-collar','unknown','retired','admin','services','self-employed','unemployed','housemaid','student'])\n",
        "job_per\n",
        "\n",
        "\n",
        "\n",
        "fig = go.Figure()\n",
        "fig.add_trace(go.Bar(x=job_per.index, y=job_per.yes,\n",
        "                base=[0],marker_color='blue',\n",
        "                name='yes'\n",
        "                ))\n",
        "fig.add_trace(go.Bar(x=job_per.index, y=job_per.no,\n",
        "                base=[-86.24,-88.94,-91.73,-92.73,-88.19,-77.21,-87.80,-91.12,-88.16,-84.50,-91.21,-71.32],marker_color='yellow',\n",
        "                name='no'))\n",
        "\n",
        "fig.show()"
      ]
    },
    {
      "cell_type": "markdown",
      "metadata": {
        "id": "zeIqo-zsswLl"
      },
      "source": [
        "The graph shows Students and Retired persons are more likely to opt for an insurance."
      ]
    },
    {
      "cell_type": "markdown",
      "metadata": {
        "id": "CD97wm2MSuDq"
      },
      "source": [
        "# **marital**"
      ]
    },
    {
      "cell_type": "code",
      "execution_count": 253,
      "metadata": {
        "colab": {
          "base_uri": "https://localhost:8080/",
          "height": 296
        },
        "id": "52H-sBtfRKMM",
        "outputId": "83828d9c-2b81-4d64-814a-dc3bcbbe512d"
      },
      "outputs": [
        {
          "output_type": "execute_result",
          "data": {
            "text/plain": [
              "<matplotlib.axes._subplots.AxesSubplot at 0x7f2dace4ba90>"
            ]
          },
          "metadata": {},
          "execution_count": 253
        },
        {
          "output_type": "display_data",
          "data": {
            "text/plain": [
              "<Figure size 432x288 with 1 Axes>"
            ],
            "image/png": "[encoded data removed]"
          },
          "metadata": {
            "needs_background": "light"
          }
        }
      ],
      "source": [
        "sns.countplot(x=df['marital'],hue=df['y'],data=df)"
      ]
    },
    {
      "cell_type": "code",
      "execution_count": 254,
      "metadata": {
        "colab": {
          "base_uri": "https://localhost:8080/",
          "height": 143
        },
        "id": "BZ21QOJ6S0FB",
        "outputId": "977df9a8-a224-460f-94f5-7a47f230821e"
      },
      "outputs": [
        {
          "output_type": "execute_result",
          "data": {
            "text/plain": [
              "             no   yes\n",
              "single    10878  1912\n",
              "married   24459  2755\n",
              "divorced      0  5207"
            ],
            "text/html": [
              "\n",
              "  <div id=\"df-2b3cdb2a-f635-4a8c-9aa9-e1f642a9da6f\">\n",
              "    <div class=\"colab-df-container\">\n",
              "      <div>\n",
              "<style scoped>\n",
              "    .dataframe tbody tr th:only-of-type {\n",
              "        vertical-align: middle;\n",
              "    }\n",
              "\n",
              "    .dataframe tbody tr th {\n",
              "        vertical-align: top;\n",
              "    }\n",
              "\n",
              "    .dataframe thead th {\n",
              "        text-align: right;\n",
              "    }\n",
              "</style>\n",
              "<table border=\"1\" class=\"dataframe\">\n",
              "  <thead>\n",
              "    <tr style=\"text-align: right;\">\n",
              "      <th></th>\n",
              "      <th>no</th>\n",
              "      <th>yes</th>\n",
              "    </tr>\n",
              "  </thead>\n",
              "  <tbody>\n",
              "    <tr>\n",
              "      <th>single</th>\n",
              "      <td>10878</td>\n",
              "      <td>1912</td>\n",
              "    </tr>\n",
              "    <tr>\n",
              "      <th>married</th>\n",
              "      <td>24459</td>\n",
              "      <td>2755</td>\n",
              "    </tr>\n",
              "    <tr>\n",
              "      <th>divorced</th>\n",
              "      <td>0</td>\n",
              "      <td>5207</td>\n",
              "    </tr>\n",
              "  </tbody>\n",
              "</table>\n",
              "</div>\n",
              "      <button class=\"colab-df-convert\" onclick=\"convertToInteractive('df-2b3cdb2a-f635-4a8c-9aa9-e1f642a9da6f')\"\n",
              "              title=\"Convert this dataframe to an interactive table.\"\n",
              "              style=\"display:none;\">\n",
              "        \n",
              "  <svg xmlns=\"http://www.w3.org/2000/svg\" height=\"24px\"viewBox=\"0 0 24 24\"\n",
              "       width=\"24px\">\n",
              "    <path d=\"M0 0h24v24H0V0z\" fill=\"none\"/>\n",
              "    <path d=\"M18.56 5.44l.94 2.06.94-2.06 2.06-.94-2.06-.94-.94-2.06-.94 2.06-2.06.94zm-11 1L8.5 8.5l.94-2.06 2.06-.94-2.06-.94L8.5 2.5l-.94 2.06-2.06.94zm10 10l.94 2.06.94-2.06 2.06-.94-2.06-.94-.94-2.06-.94 2.06-2.06.94z\"/><path d=\"M17.41 7.96l-1.37-1.37c-.4-.4-.92-.59-1.43-.59-.52 0-1.04.2-1.43.59L10.3 9.45l-7.72 7.72c-.78.78-.78 2.05 0 2.83L4 21.41c.39.39.9.59 1.41.59.51 0 1.02-.2 1.41-.59l7.78-7.78 2.81-2.81c.8-.78.8-2.07 0-2.86zM5.41 20L4 18.59l7.72-7.72 1.47 1.35L5.41 20z\"/>\n",
              "  </svg>\n",
              "      </button>\n",
              "      \n",
              "  <style>\n",
              "    .colab-df-container {\n",
              "      display:flex;\n",
              "      flex-wrap:wrap;\n",
              "      gap: 12px;\n",
              "    }\n",
              "\n",
              "    .colab-df-convert {\n",
              "      background-color: #E8F0FE;\n",
              "      border: none;\n",
              "      border-radius: 50%;\n",
              "      cursor: pointer;\n",
              "      display: none;\n",
              "      fill: #1967D2;\n",
              "      height: 32px;\n",
              "      padding: 0 0 0 0;\n",
              "      width: 32px;\n",
              "    }\n",
              "\n",
              "    .colab-df-convert:hover {\n",
              "      background-color: #E2EBFA;\n",
              "      box-shadow: 0px 1px 2px rgba(60, 64, 67, 0.3), 0px 1px 3px 1px rgba(60, 64, 67, 0.15);\n",
              "      fill: #174EA6;\n",
              "    }\n",
              "\n",
              "    [theme=dark] .colab-df-convert {\n",
              "      background-color: #3B4455;\n",
              "      fill: #D2E3FC;\n",
              "    }\n",
              "\n",
              "    [theme=dark] .colab-df-convert:hover {\n",
              "      background-color: #434B5C;\n",
              "      box-shadow: 0px 1px 3px 1px rgba(0, 0, 0, 0.15);\n",
              "      filter: drop-shadow(0px 1px 2px rgba(0, 0, 0, 0.3));\n",
              "      fill: #FFFFFF;\n",
              "    }\n",
              "  </style>\n",
              "\n",
              "      <script>\n",
              "        const buttonEl =\n",
              "          document.querySelector('#df-2b3cdb2a-f635-4a8c-9aa9-e1f642a9da6f button.colab-df-convert');\n",
              "        buttonEl.style.display =\n",
              "          google.colab.kernel.accessAllowed ? 'block' : 'none';\n",
              "\n",
              "        async function convertToInteractive(key) {\n",
              "          const element = document.querySelector('#df-2b3cdb2a-f635-4a8c-9aa9-e1f642a9da6f');\n",
              "          const dataTable =\n",
              "            await google.colab.kernel.invokeFunction('convertToInteractive',\n",
              "                                                     [key], {});\n",
              "          if (!dataTable) return;\n",
              "\n",
              "          const docLinkHtml = 'Like what you see? Visit the ' +\n",
              "            '<a target=\"_blank\" href=https://colab.research.google.com/notebooks/data_table.ipynb>data table notebook</a>'\n",
              "            + ' to learn more about interactive tables.';\n",
              "          element.innerHTML = '';\n",
              "          dataTable['output_type'] = 'display_data';\n",
              "          await google.colab.output.renderOutput(dataTable, element);\n",
              "          const docLink = document.createElement('div');\n",
              "          docLink.innerHTML = docLinkHtml;\n",
              "          element.appendChild(docLink);\n",
              "        }\n",
              "      </script>\n",
              "    </div>\n",
              "  </div>\n",
              "  "
            ]
          },
          "metadata": {},
          "execution_count": 254
        }
      ],
      "source": [
        "single_0=0\n",
        "single_1=0\n",
        "married_0=0\n",
        "married_1=0\n",
        "divorced_0=0\n",
        "divorced_1=0\n",
        "for i in range(len(df)):\n",
        "  if df.marital.iloc[i]=='single':\n",
        "    if df.y.iloc[i]=='no':\n",
        "      single_0+=1\n",
        "    else:\n",
        "      single_1+=1\n",
        "  elif df.marital.iloc[i]=='married':\n",
        "    if df.y.iloc[i]=='no':\n",
        "      married_0+=1\n",
        "    else:\n",
        "      married_1+=1\n",
        "  else:\n",
        "    if df.marital.iloc[i]=='no':\n",
        "      divorced_0+=1\n",
        "    else:\n",
        "      divorced_1+=1\n",
        "data={'no':[single_0,married_0,divorced_0],\n",
        "      'yes':[single_1,married_1,divorced_1]}\n",
        "marital_cons=pd.DataFrame(data=data,index=['single','married','divorced'])\n",
        "marital_cons"
      ]
    },
    {
      "cell_type": "code",
      "execution_count": 255,
      "metadata": {
        "colab": {
          "base_uri": "https://localhost:8080/",
          "height": 542
        },
        "id": "-zHQcEMlX9Be",
        "outputId": "fa6777b5-1719-466c-bc3d-25d1e7f54bfd"
      },
      "outputs": [
        {
          "output_type": "display_data",
          "data": {
            "text/html": [
              "<html>\n",
              "<head><meta charset=\"utf-8\" /></head>\n",
              "<body>\n",
              "    <div>            <script src=\"https://cdnjs.cloudflare.com/ajax/libs/mathjax/2.7.5/MathJax.js?config=TeX-AMS-MML_SVG\"></script><script type=\"text/javascript\">if (window.MathJax) {MathJax.Hub.Config({SVG: {font: \"STIX-Web\"}});}</script>                <script type=\"text/javascript\">window.PlotlyConfig = {MathJaxConfig: 'local'};</script>\n",
              "        <script src=\"https://cdn.plot.ly/plotly-2.8.3.min.js\"></script>                <div id=\"b6837f87-74ab-4d61-80de-9fe28d35ff4b\" class=\"plotly-graph-div\" style=\"height:525px; width:100%;\"></div>            <script type=\"text/javascript\">                                    window.PLOTLYENV=window.PLOTLYENV || {};                                    if (document.getElementById(\"b6837f87-74ab-4d61-80de-9fe28d35ff4b\")) {                    Plotly.newPlot(                        \"b6837f87-74ab-4d61-80de-9fe28d35ff4b\",                        [{\"base\":[0],\"marker\":{\"color\":\"blue\"},\"name\":\"yes\",\"x\":[\"single\",\"married\",\"divorced\"],\"y\":[1912,2755,5207],\"type\":\"bar\"},{\"base\":[-10878,-24459,0],\"marker\":{\"color\":\"yellow\"},\"name\":\"no\",\"x\":[\"single\",\"married\",\"divorced\"],\"y\":[10878,24459,0],\"type\":\"bar\"}],                        {\"template\":{\"data\":{\"bar\":[{\"error_x\":{\"color\":\"#2a3f5f\"},\"error_y\":{\"color\":\"#2a3f5f\"},\"marker\":{\"line\":{\"color\":\"#E5ECF6\",\"width\":0.5},\"pattern\":{\"fillmode\":\"overlay\",\"size\":10,\"solidity\":0.2}},\"type\":\"bar\"}],\"barpolar\":[{\"marker\":{\"line\":{\"color\":\"#E5ECF6\",\"width\":0.5},\"pattern\":{\"fillmode\":\"overlay\",\"size\":10,\"solidity\":0.2}},\"type\":\"barpolar\"}],\"carpet\":[{\"aaxis\":{\"endlinecolor\":\"#2a3f5f\",\"gridcolor\":\"white\",\"linecolor\":\"white\",\"minorgridcolor\":\"white\",\"startlinecolor\":\"#2a3f5f\"},\"baxis\":{\"endlinecolor\":\"#2a3f5f\",\"gridcolor\":\"white\",\"linecolor\":\"white\",\"minorgridcolor\":\"white\",\"startlinecolor\":\"#2a3f5f\"},\"type\":\"carpet\"}],\"choropleth\":[{\"colorbar\":{\"outlinewidth\":0,\"ticks\":\"\"},\"type\":\"choropleth\"}],\"contour\":[{\"colorbar\":{\"outlinewidth\":0,\"ticks\":\"\"},\"colorscale\":[[0.0,\"#0d0887\"],[0.1111111111111111,\"#46039f\"],[0.2222222222222222,\"#7201a8\"],[0.3333333333333333,\"#9c179e\"],[0.4444444444444444,\"#bd3786\"],[0.5555555555555556,\"#d8576b\"],[0.6666666666666666,\"#ed7953\"],[0.7777777777777778,\"#fb9f3a\"],[0.8888888888888888,\"#fdca26\"],[1.0,\"#f0f921\"]],\"type\":\"contour\"}],\"contourcarpet\":[{\"colorbar\":{\"outlinewidth\":0,\"ticks\":\"\"},\"type\":\"contourcarpet\"}],\"heatmap\":[{\"colorbar\":{\"outlinewidth\":0,\"ticks\":\"\"},\"colorscale\":[[0.0,\"#0d0887\"],[0.1111111111111111,\"#46039f\"],[0.2222222222222222,\"#7201a8\"],[0.3333333333333333,\"#9c179e\"],[0.4444444444444444,\"#bd3786\"],[0.5555555555555556,\"#d8576b\"],[0.6666666666666666,\"#ed7953\"],[0.7777777777777778,\"#fb9f3a\"],[0.8888888888888888,\"#fdca26\"],[1.0,\"#f0f921\"]],\"type\":\"heatmap\"}],\"heatmapgl\":[{\"colorbar\":{\"outlinewidth\":0,\"ticks\":\"\"},\"colorscale\":[[0.0,\"#0d0887\"],[0.1111111111111111,\"#46039f\"],[0.2222222222222222,\"#7201a8\"],[0.3333333333333333,\"#9c179e\"],[0.4444444444444444,\"#bd3786\"],[0.5555555555555556,\"#d8576b\"],[0.6666666666666666,\"#ed7953\"],[0.7777777777777778,\"#fb9f3a\"],[0.8888888888888888,\"#fdca26\"],[1.0,\"#f0f921\"]],\"type\":\"heatmapgl\"}],\"histogram\":[{\"marker\":{\"pattern\":{\"fillmode\":\"overlay\",\"size\":10,\"solidity\":0.2}},\"type\":\"histogram\"}],\"histogram2d\":[{\"colorbar\":{\"outlinewidth\":0,\"ticks\":\"\"},\"colorscale\":[[0.0,\"#0d0887\"],[0.1111111111111111,\"#46039f\"],[0.2222222222222222,\"#7201a8\"],[0.3333333333333333,\"#9c179e\"],[0.4444444444444444,\"#bd3786\"],[0.5555555555555556,\"#d8576b\"],[0.6666666666666666,\"#ed7953\"],[0.7777777777777778,\"#fb9f3a\"],[0.8888888888888888,\"#fdca26\"],[1.0,\"#f0f921\"]],\"type\":\"histogram2d\"}],\"histogram2dcontour\":[{\"colorbar\":{\"outlinewidth\":0,\"ticks\":\"\"},\"colorscale\":[[0.0,\"#0d0887\"],[0.1111111111111111,\"#46039f\"],[0.2222222222222222,\"#7201a8\"],[0.3333333333333333,\"#9c179e\"],[0.4444444444444444,\"#bd3786\"],[0.5555555555555556,\"#d8576b\"],[0.6666666666666666,\"#ed7953\"],[0.7777777777777778,\"#fb9f3a\"],[0.8888888888888888,\"#fdca26\"],[1.0,\"#f0f921\"]],\"type\":\"histogram2dcontour\"}],\"mesh3d\":[{\"colorbar\":{\"outlinewidth\":0,\"ticks\":\"\"},\"type\":\"mesh3d\"}],\"parcoords\":[{\"line\":{\"colorbar\":{\"outlinewidth\":0,\"ticks\":\"\"}},\"type\":\"parcoords\"}],\"pie\":[{\"automargin\":true,\"type\":\"pie\"}],\"scatter\":[{\"marker\":{\"colorbar\":{\"outlinewidth\":0,\"ticks\":\"\"}},\"type\":\"scatter\"}],\"scatter3d\":[{\"line\":{\"colorbar\":{\"outlinewidth\":0,\"ticks\":\"\"}},\"marker\":{\"colorbar\":{\"outlinewidth\":0,\"ticks\":\"\"}},\"type\":\"scatter3d\"}],\"scattercarpet\":[{\"marker\":{\"colorbar\":{\"outlinewidth\":0,\"ticks\":\"\"}},\"type\":\"scattercarpet\"}],\"scattergeo\":[{\"marker\":{\"colorbar\":{\"outlinewidth\":0,\"ticks\":\"\"}},\"type\":\"scattergeo\"}],\"scattergl\":[{\"marker\":{\"colorbar\":{\"outlinewidth\":0,\"ticks\":\"\"}},\"type\":\"scattergl\"}],\"scattermapbox\":[{\"marker\":{\"colorbar\":{\"outlinewidth\":0,\"ticks\":\"\"}},\"type\":\"scattermapbox\"}],\"scatterpolar\":[{\"marker\":{\"colorbar\":{\"outlinewidth\":0,\"ticks\":\"\"}},\"type\":\"scatterpolar\"}],\"scatterpolargl\":[{\"marker\":{\"colorbar\":{\"outlinewidth\":0,\"ticks\":\"\"}},\"type\":\"scatterpolargl\"}],\"scatterternary\":[{\"marker\":{\"colorbar\":{\"outlinewidth\":0,\"ticks\":\"\"}},\"type\":\"scatterternary\"}],\"surface\":[{\"colorbar\":{\"outlinewidth\":0,\"ticks\":\"\"},\"colorscale\":[[0.0,\"#0d0887\"],[0.1111111111111111,\"#46039f\"],[0.2222222222222222,\"#7201a8\"],[0.3333333333333333,\"#9c179e\"],[0.4444444444444444,\"#bd3786\"],[0.5555555555555556,\"#d8576b\"],[0.6666666666666666,\"#ed7953\"],[0.7777777777777778,\"#fb9f3a\"],[0.8888888888888888,\"#fdca26\"],[1.0,\"#f0f921\"]],\"type\":\"surface\"}],\"table\":[{\"cells\":{\"fill\":{\"color\":\"#EBF0F8\"},\"line\":{\"color\":\"white\"}},\"header\":{\"fill\":{\"color\":\"#C8D4E3\"},\"line\":{\"color\":\"white\"}},\"type\":\"table\"}]},\"layout\":{\"annotationdefaults\":{\"arrowcolor\":\"#2a3f5f\",\"arrowhead\":0,\"arrowwidth\":1},\"autotypenumbers\":\"strict\",\"coloraxis\":{\"colorbar\":{\"outlinewidth\":0,\"ticks\":\"\"}},\"colorscale\":{\"diverging\":[[0,\"#8e0152\"],[0.1,\"#c51b7d\"],[0.2,\"#de77ae\"],[0.3,\"#f1b6da\"],[0.4,\"#fde0ef\"],[0.5,\"#f7f7f7\"],[0.6,\"#e6f5d0\"],[0.7,\"#b8e186\"],[0.8,\"#7fbc41\"],[0.9,\"#4d9221\"],[1,\"#276419\"]],\"sequential\":[[0.0,\"#0d0887\"],[0.1111111111111111,\"#46039f\"],[0.2222222222222222,\"#7201a8\"],[0.3333333333333333,\"#9c179e\"],[0.4444444444444444,\"#bd3786\"],[0.5555555555555556,\"#d8576b\"],[0.6666666666666666,\"#ed7953\"],[0.7777777777777778,\"#fb9f3a\"],[0.8888888888888888,\"#fdca26\"],[1.0,\"#f0f921\"]],\"sequentialminus\":[[0.0,\"#0d0887\"],[0.1111111111111111,\"#46039f\"],[0.2222222222222222,\"#7201a8\"],[0.3333333333333333,\"#9c179e\"],[0.4444444444444444,\"#bd3786\"],[0.5555555555555556,\"#d8576b\"],[0.6666666666666666,\"#ed7953\"],[0.7777777777777778,\"#fb9f3a\"],[0.8888888888888888,\"#fdca26\"],[1.0,\"#f0f921\"]]},\"colorway\":[\"#636efa\",\"#EF553B\",\"#00cc96\",\"#ab63fa\",\"#FFA15A\",\"#19d3f3\",\"#FF6692\",\"#B6E880\",\"#FF97FF\",\"#FECB52\"],\"font\":{\"color\":\"#2a3f5f\"},\"geo\":{\"bgcolor\":\"white\",\"lakecolor\":\"white\",\"landcolor\":\"#E5ECF6\",\"showlakes\":true,\"showland\":true,\"subunitcolor\":\"white\"},\"hoverlabel\":{\"align\":\"left\"},\"hovermode\":\"closest\",\"mapbox\":{\"style\":\"light\"},\"paper_bgcolor\":\"white\",\"plot_bgcolor\":\"#E5ECF6\",\"polar\":{\"angularaxis\":{\"gridcolor\":\"white\",\"linecolor\":\"white\",\"ticks\":\"\"},\"bgcolor\":\"#E5ECF6\",\"radialaxis\":{\"gridcolor\":\"white\",\"linecolor\":\"white\",\"ticks\":\"\"}},\"scene\":{\"xaxis\":{\"backgroundcolor\":\"#E5ECF6\",\"gridcolor\":\"white\",\"gridwidth\":2,\"linecolor\":\"white\",\"showbackground\":true,\"ticks\":\"\",\"zerolinecolor\":\"white\"},\"yaxis\":{\"backgroundcolor\":\"#E5ECF6\",\"gridcolor\":\"white\",\"gridwidth\":2,\"linecolor\":\"white\",\"showbackground\":true,\"ticks\":\"\",\"zerolinecolor\":\"white\"},\"zaxis\":{\"backgroundcolor\":\"#E5ECF6\",\"gridcolor\":\"white\",\"gridwidth\":2,\"linecolor\":\"white\",\"showbackground\":true,\"ticks\":\"\",\"zerolinecolor\":\"white\"}},\"shapedefaults\":{\"line\":{\"color\":\"#2a3f5f\"}},\"ternary\":{\"aaxis\":{\"gridcolor\":\"white\",\"linecolor\":\"white\",\"ticks\":\"\"},\"baxis\":{\"gridcolor\":\"white\",\"linecolor\":\"white\",\"ticks\":\"\"},\"bgcolor\":\"#E5ECF6\",\"caxis\":{\"gridcolor\":\"white\",\"linecolor\":\"white\",\"ticks\":\"\"}},\"title\":{\"x\":0.05},\"xaxis\":{\"automargin\":true,\"gridcolor\":\"white\",\"linecolor\":\"white\",\"ticks\":\"\",\"title\":{\"standoff\":15},\"zerolinecolor\":\"white\",\"zerolinewidth\":2},\"yaxis\":{\"automargin\":true,\"gridcolor\":\"white\",\"linecolor\":\"white\",\"ticks\":\"\",\"title\":{\"standoff\":15},\"zerolinecolor\":\"white\",\"zerolinewidth\":2}}}},                        {\"responsive\": true}                    ).then(function(){\n",
              "                            \n",
              "var gd = document.getElementById('b6837f87-74ab-4d61-80de-9fe28d35ff4b');\n",
              "var x = new MutationObserver(function (mutations, observer) {{\n",
              "        var display = window.getComputedStyle(gd).display;\n",
              "        if (!display || display === 'none') {{\n",
              "            console.log([gd, 'removed!']);\n",
              "            Plotly.purge(gd);\n",
              "            observer.disconnect();\n",
              "        }}\n",
              "}});\n",
              "\n",
              "// Listen for the removal of the full notebook cells\n",
              "var notebookContainer = gd.closest('#notebook-container');\n",
              "if (notebookContainer) {{\n",
              "    x.observe(notebookContainer, {childList: true});\n",
              "}}\n",
              "\n",
              "// Listen for the clearing of the current output cell\n",
              "var outputEl = gd.closest('.output');\n",
              "if (outputEl) {{\n",
              "    x.observe(outputEl, {childList: true});\n",
              "}}\n",
              "\n",
              "                        })                };                            </script>        </div>\n",
              "</body>\n",
              "</html>"
            ]
          },
          "metadata": {}
        }
      ],
      "source": [
        "fig = go.Figure()\n",
        "fig.add_trace(go.Bar(x=marital_cons.index, y=marital_cons.yes,\n",
        "                base=[0],marker_color='blue',\n",
        "                name='yes'\n",
        "                ))\n",
        "fig.add_trace(go.Bar(x=marital_cons.index, y=marital_cons.no,\n",
        "                base=[-10878,-24459,0],marker_color='yellow',\n",
        "                name='no'))\n",
        "\n",
        "fig.show()"
      ]
    },
    {
      "cell_type": "code",
      "execution_count": 256,
      "metadata": {
        "colab": {
          "base_uri": "https://localhost:8080/",
          "height": 143
        },
        "id": "pIsxKVqwYfXW",
        "outputId": "86ba830f-5212-4ad6-c986-b419ebfd0b19"
      },
      "outputs": [
        {
          "output_type": "execute_result",
          "data": {
            "text/plain": [
              "                 no         yes\n",
              "single    85.050821   14.949179\n",
              "married   89.876534   10.123466\n",
              "divorced   0.000000  100.000000"
            ],
            "text/html": [
              "\n",
              "  <div id=\"df-f25750b4-6524-49b5-a26f-3757482903cf\">\n",
              "    <div class=\"colab-df-container\">\n",
              "      <div>\n",
              "<style scoped>\n",
              "    .dataframe tbody tr th:only-of-type {\n",
              "        vertical-align: middle;\n",
              "    }\n",
              "\n",
              "    .dataframe tbody tr th {\n",
              "        vertical-align: top;\n",
              "    }\n",
              "\n",
              "    .dataframe thead th {\n",
              "        text-align: right;\n",
              "    }\n",
              "</style>\n",
              "<table border=\"1\" class=\"dataframe\">\n",
              "  <thead>\n",
              "    <tr style=\"text-align: right;\">\n",
              "      <th></th>\n",
              "      <th>no</th>\n",
              "      <th>yes</th>\n",
              "    </tr>\n",
              "  </thead>\n",
              "  <tbody>\n",
              "    <tr>\n",
              "      <th>single</th>\n",
              "      <td>85.050821</td>\n",
              "      <td>14.949179</td>\n",
              "    </tr>\n",
              "    <tr>\n",
              "      <th>married</th>\n",
              "      <td>89.876534</td>\n",
              "      <td>10.123466</td>\n",
              "    </tr>\n",
              "    <tr>\n",
              "      <th>divorced</th>\n",
              "      <td>0.000000</td>\n",
              "      <td>100.000000</td>\n",
              "    </tr>\n",
              "  </tbody>\n",
              "</table>\n",
              "</div>\n",
              "      <button class=\"colab-df-convert\" onclick=\"convertToInteractive('df-f25750b4-6524-49b5-a26f-3757482903cf')\"\n",
              "              title=\"Convert this dataframe to an interactive table.\"\n",
              "              style=\"display:none;\">\n",
              "        \n",
              "  <svg xmlns=\"http://www.w3.org/2000/svg\" height=\"24px\"viewBox=\"0 0 24 24\"\n",
              "       width=\"24px\">\n",
              "    <path d=\"M0 0h24v24H0V0z\" fill=\"none\"/>\n",
              "    <path d=\"M18.56 5.44l.94 2.06.94-2.06 2.06-.94-2.06-.94-.94-2.06-.94 2.06-2.06.94zm-11 1L8.5 8.5l.94-2.06 2.06-.94-2.06-.94L8.5 2.5l-.94 2.06-2.06.94zm10 10l.94 2.06.94-2.06 2.06-.94-2.06-.94-.94-2.06-.94 2.06-2.06.94z\"/><path d=\"M17.41 7.96l-1.37-1.37c-.4-.4-.92-.59-1.43-.59-.52 0-1.04.2-1.43.59L10.3 9.45l-7.72 7.72c-.78.78-.78 2.05 0 2.83L4 21.41c.39.39.9.59 1.41.59.51 0 1.02-.2 1.41-.59l7.78-7.78 2.81-2.81c.8-.78.8-2.07 0-2.86zM5.41 20L4 18.59l7.72-7.72 1.47 1.35L5.41 20z\"/>\n",
              "  </svg>\n",
              "      </button>\n",
              "      \n",
              "  <style>\n",
              "    .colab-df-container {\n",
              "      display:flex;\n",
              "      flex-wrap:wrap;\n",
              "      gap: 12px;\n",
              "    }\n",
              "\n",
              "    .colab-df-convert {\n",
              "      background-color: #E8F0FE;\n",
              "      border: none;\n",
              "      border-radius: 50%;\n",
              "      cursor: pointer;\n",
              "      display: none;\n",
              "      fill: #1967D2;\n",
              "      height: 32px;\n",
              "      padding: 0 0 0 0;\n",
              "      width: 32px;\n",
              "    }\n",
              "\n",
              "    .colab-df-convert:hover {\n",
              "      background-color: #E2EBFA;\n",
              "      box-shadow: 0px 1px 2px rgba(60, 64, 67, 0.3), 0px 1px 3px 1px rgba(60, 64, 67, 0.15);\n",
              "      fill: #174EA6;\n",
              "    }\n",
              "\n",
              "    [theme=dark] .colab-df-convert {\n",
              "      background-color: #3B4455;\n",
              "      fill: #D2E3FC;\n",
              "    }\n",
              "\n",
              "    [theme=dark] .colab-df-convert:hover {\n",
              "      background-color: #434B5C;\n",
              "      box-shadow: 0px 1px 3px 1px rgba(0, 0, 0, 0.15);\n",
              "      filter: drop-shadow(0px 1px 2px rgba(0, 0, 0, 0.3));\n",
              "      fill: #FFFFFF;\n",
              "    }\n",
              "  </style>\n",
              "\n",
              "      <script>\n",
              "        const buttonEl =\n",
              "          document.querySelector('#df-f25750b4-6524-49b5-a26f-3757482903cf button.colab-df-convert');\n",
              "        buttonEl.style.display =\n",
              "          google.colab.kernel.accessAllowed ? 'block' : 'none';\n",
              "\n",
              "        async function convertToInteractive(key) {\n",
              "          const element = document.querySelector('#df-f25750b4-6524-49b5-a26f-3757482903cf');\n",
              "          const dataTable =\n",
              "            await google.colab.kernel.invokeFunction('convertToInteractive',\n",
              "                                                     [key], {});\n",
              "          if (!dataTable) return;\n",
              "\n",
              "          const docLinkHtml = 'Like what you see? Visit the ' +\n",
              "            '<a target=\"_blank\" href=https://colab.research.google.com/notebooks/data_table.ipynb>data table notebook</a>'\n",
              "            + ' to learn more about interactive tables.';\n",
              "          element.innerHTML = '';\n",
              "          dataTable['output_type'] = 'display_data';\n",
              "          await google.colab.output.renderOutput(dataTable, element);\n",
              "          const docLink = document.createElement('div');\n",
              "          docLink.innerHTML = docLinkHtml;\n",
              "          element.appendChild(docLink);\n",
              "        }\n",
              "      </script>\n",
              "    </div>\n",
              "  </div>\n",
              "  "
            ]
          },
          "metadata": {},
          "execution_count": 256
        }
      ],
      "source": [
        "total_single=single_0+single_1\n",
        "single_0p=(single_0/total_single)*100\n",
        "single_1p=100-single_0p\n",
        "\n",
        "total_married=married_0+married_1\n",
        "married_0p=(married_0/total_married)*100\n",
        "married_1p=100-married_0p\n",
        "\n",
        "total_divorced=divorced_0+divorced_1\n",
        "divorced_0p=(divorced_0/total_divorced)*100\n",
        "divorced_1p=100-divorced_0p\n",
        "\n",
        "data={'no':[single_0p,married_0p,divorced_0p],\n",
        "      'yes':[single_1p,married_1p,divorced_1p]}\n",
        "marital_cons_per=pd.DataFrame(data=data,index=['single','married','divorced'])\n",
        "marital_cons_per"
      ]
    },
    {
      "cell_type": "code",
      "execution_count": 257,
      "metadata": {
        "colab": {
          "base_uri": "https://localhost:8080/",
          "height": 542
        },
        "id": "WShWRbFJZlbK",
        "outputId": "1b3bca60-f7b3-4f20-cb65-3170c3b5b0af"
      },
      "outputs": [
        {
          "output_type": "display_data",
          "data": {
            "text/html": [
              "<html>\n",
              "<head><meta charset=\"utf-8\" /></head>\n",
              "<body>\n",
              "    <div>            <script src=\"https://cdnjs.cloudflare.com/ajax/libs/mathjax/2.7.5/MathJax.js?config=TeX-AMS-MML_SVG\"></script><script type=\"text/javascript\">if (window.MathJax) {MathJax.Hub.Config({SVG: {font: \"STIX-Web\"}});}</script>                <script type=\"text/javascript\">window.PlotlyConfig = {MathJaxConfig: 'local'};</script>\n",
              "        <script src=\"https://cdn.plot.ly/plotly-2.8.3.min.js\"></script>                <div id=\"5ec7c582-eef6-42f6-999e-23d1916aec0c\" class=\"plotly-graph-div\" style=\"height:525px; width:100%;\"></div>            <script type=\"text/javascript\">                                    window.PLOTLYENV=window.PLOTLYENV || {};                                    if (document.getElementById(\"5ec7c582-eef6-42f6-999e-23d1916aec0c\")) {                    Plotly.newPlot(                        \"5ec7c582-eef6-42f6-999e-23d1916aec0c\",                        [{\"base\":[0],\"marker\":{\"color\":\"blue\"},\"name\":\"yes\",\"x\":[\"single\",\"married\",\"divorced\"],\"y\":[14.949179046129785,10.123465863158671,100.0],\"type\":\"bar\"},{\"base\":[-85.1,-89.9,0],\"marker\":{\"color\":\"yellow\"},\"name\":\"no\",\"x\":[\"single\",\"married\",\"divorced\"],\"y\":[85.05082095387021,89.87653413684133,0.0],\"type\":\"bar\"}],                        {\"template\":{\"data\":{\"bar\":[{\"error_x\":{\"color\":\"#2a3f5f\"},\"error_y\":{\"color\":\"#2a3f5f\"},\"marker\":{\"line\":{\"color\":\"#E5ECF6\",\"width\":0.5},\"pattern\":{\"fillmode\":\"overlay\",\"size\":10,\"solidity\":0.2}},\"type\":\"bar\"}],\"barpolar\":[{\"marker\":{\"line\":{\"color\":\"#E5ECF6\",\"width\":0.5},\"pattern\":{\"fillmode\":\"overlay\",\"size\":10,\"solidity\":0.2}},\"type\":\"barpolar\"}],\"carpet\":[{\"aaxis\":{\"endlinecolor\":\"#2a3f5f\",\"gridcolor\":\"white\",\"linecolor\":\"white\",\"minorgridcolor\":\"white\",\"startlinecolor\":\"#2a3f5f\"},\"baxis\":{\"endlinecolor\":\"#2a3f5f\",\"gridcolor\":\"white\",\"linecolor\":\"white\",\"minorgridcolor\":\"white\",\"startlinecolor\":\"#2a3f5f\"},\"type\":\"carpet\"}],\"choropleth\":[{\"colorbar\":{\"outlinewidth\":0,\"ticks\":\"\"},\"type\":\"choropleth\"}],\"contour\":[{\"colorbar\":{\"outlinewidth\":0,\"ticks\":\"\"},\"colorscale\":[[0.0,\"#0d0887\"],[0.1111111111111111,\"#46039f\"],[0.2222222222222222,\"#7201a8\"],[0.3333333333333333,\"#9c179e\"],[0.4444444444444444,\"#bd3786\"],[0.5555555555555556,\"#d8576b\"],[0.6666666666666666,\"#ed7953\"],[0.7777777777777778,\"#fb9f3a\"],[0.8888888888888888,\"#fdca26\"],[1.0,\"#f0f921\"]],\"type\":\"contour\"}],\"contourcarpet\":[{\"colorbar\":{\"outlinewidth\":0,\"ticks\":\"\"},\"type\":\"contourcarpet\"}],\"heatmap\":[{\"colorbar\":{\"outlinewidth\":0,\"ticks\":\"\"},\"colorscale\":[[0.0,\"#0d0887\"],[0.1111111111111111,\"#46039f\"],[0.2222222222222222,\"#7201a8\"],[0.3333333333333333,\"#9c179e\"],[0.4444444444444444,\"#bd3786\"],[0.5555555555555556,\"#d8576b\"],[0.6666666666666666,\"#ed7953\"],[0.7777777777777778,\"#fb9f3a\"],[0.8888888888888888,\"#fdca26\"],[1.0,\"#f0f921\"]],\"type\":\"heatmap\"}],\"heatmapgl\":[{\"colorbar\":{\"outlinewidth\":0,\"ticks\":\"\"},\"colorscale\":[[0.0,\"#0d0887\"],[0.1111111111111111,\"#46039f\"],[0.2222222222222222,\"#7201a8\"],[0.3333333333333333,\"#9c179e\"],[0.4444444444444444,\"#bd3786\"],[0.5555555555555556,\"#d8576b\"],[0.6666666666666666,\"#ed7953\"],[0.7777777777777778,\"#fb9f3a\"],[0.8888888888888888,\"#fdca26\"],[1.0,\"#f0f921\"]],\"type\":\"heatmapgl\"}],\"histogram\":[{\"marker\":{\"pattern\":{\"fillmode\":\"overlay\",\"size\":10,\"solidity\":0.2}},\"type\":\"histogram\"}],\"histogram2d\":[{\"colorbar\":{\"outlinewidth\":0,\"ticks\":\"\"},\"colorscale\":[[0.0,\"#0d0887\"],[0.1111111111111111,\"#46039f\"],[0.2222222222222222,\"#7201a8\"],[0.3333333333333333,\"#9c179e\"],[0.4444444444444444,\"#bd3786\"],[0.5555555555555556,\"#d8576b\"],[0.6666666666666666,\"#ed7953\"],[0.7777777777777778,\"#fb9f3a\"],[0.8888888888888888,\"#fdca26\"],[1.0,\"#f0f921\"]],\"type\":\"histogram2d\"}],\"histogram2dcontour\":[{\"colorbar\":{\"outlinewidth\":0,\"ticks\":\"\"},\"colorscale\":[[0.0,\"#0d0887\"],[0.1111111111111111,\"#46039f\"],[0.2222222222222222,\"#7201a8\"],[0.3333333333333333,\"#9c179e\"],[0.4444444444444444,\"#bd3786\"],[0.5555555555555556,\"#d8576b\"],[0.6666666666666666,\"#ed7953\"],[0.7777777777777778,\"#fb9f3a\"],[0.8888888888888888,\"#fdca26\"],[1.0,\"#f0f921\"]],\"type\":\"histogram2dcontour\"}],\"mesh3d\":[{\"colorbar\":{\"outlinewidth\":0,\"ticks\":\"\"},\"type\":\"mesh3d\"}],\"parcoords\":[{\"line\":{\"colorbar\":{\"outlinewidth\":0,\"ticks\":\"\"}},\"type\":\"parcoords\"}],\"pie\":[{\"automargin\":true,\"type\":\"pie\"}],\"scatter\":[{\"marker\":{\"colorbar\":{\"outlinewidth\":0,\"ticks\":\"\"}},\"type\":\"scatter\"}],\"scatter3d\":[{\"line\":{\"colorbar\":{\"outlinewidth\":0,\"ticks\":\"\"}},\"marker\":{\"colorbar\":{\"outlinewidth\":0,\"ticks\":\"\"}},\"type\":\"scatter3d\"}],\"scattercarpet\":[{\"marker\":{\"colorbar\":{\"outlinewidth\":0,\"ticks\":\"\"}},\"type\":\"scattercarpet\"}],\"scattergeo\":[{\"marker\":{\"colorbar\":{\"outlinewidth\":0,\"ticks\":\"\"}},\"type\":\"scattergeo\"}],\"scattergl\":[{\"marker\":{\"colorbar\":{\"outlinewidth\":0,\"ticks\":\"\"}},\"type\":\"scattergl\"}],\"scattermapbox\":[{\"marker\":{\"colorbar\":{\"outlinewidth\":0,\"ticks\":\"\"}},\"type\":\"scattermapbox\"}],\"scatterpolar\":[{\"marker\":{\"colorbar\":{\"outlinewidth\":0,\"ticks\":\"\"}},\"type\":\"scatterpolar\"}],\"scatterpolargl\":[{\"marker\":{\"colorbar\":{\"outlinewidth\":0,\"ticks\":\"\"}},\"type\":\"scatterpolargl\"}],\"scatterternary\":[{\"marker\":{\"colorbar\":{\"outlinewidth\":0,\"ticks\":\"\"}},\"type\":\"scatterternary\"}],\"surface\":[{\"colorbar\":{\"outlinewidth\":0,\"ticks\":\"\"},\"colorscale\":[[0.0,\"#0d0887\"],[0.1111111111111111,\"#46039f\"],[0.2222222222222222,\"#7201a8\"],[0.3333333333333333,\"#9c179e\"],[0.4444444444444444,\"#bd3786\"],[0.5555555555555556,\"#d8576b\"],[0.6666666666666666,\"#ed7953\"],[0.7777777777777778,\"#fb9f3a\"],[0.8888888888888888,\"#fdca26\"],[1.0,\"#f0f921\"]],\"type\":\"surface\"}],\"table\":[{\"cells\":{\"fill\":{\"color\":\"#EBF0F8\"},\"line\":{\"color\":\"white\"}},\"header\":{\"fill\":{\"color\":\"#C8D4E3\"},\"line\":{\"color\":\"white\"}},\"type\":\"table\"}]},\"layout\":{\"annotationdefaults\":{\"arrowcolor\":\"#2a3f5f\",\"arrowhead\":0,\"arrowwidth\":1},\"autotypenumbers\":\"strict\",\"coloraxis\":{\"colorbar\":{\"outlinewidth\":0,\"ticks\":\"\"}},\"colorscale\":{\"diverging\":[[0,\"#8e0152\"],[0.1,\"#c51b7d\"],[0.2,\"#de77ae\"],[0.3,\"#f1b6da\"],[0.4,\"#fde0ef\"],[0.5,\"#f7f7f7\"],[0.6,\"#e6f5d0\"],[0.7,\"#b8e186\"],[0.8,\"#7fbc41\"],[0.9,\"#4d9221\"],[1,\"#276419\"]],\"sequential\":[[0.0,\"#0d0887\"],[0.1111111111111111,\"#46039f\"],[0.2222222222222222,\"#7201a8\"],[0.3333333333333333,\"#9c179e\"],[0.4444444444444444,\"#bd3786\"],[0.5555555555555556,\"#d8576b\"],[0.6666666666666666,\"#ed7953\"],[0.7777777777777778,\"#fb9f3a\"],[0.8888888888888888,\"#fdca26\"],[1.0,\"#f0f921\"]],\"sequentialminus\":[[0.0,\"#0d0887\"],[0.1111111111111111,\"#46039f\"],[0.2222222222222222,\"#7201a8\"],[0.3333333333333333,\"#9c179e\"],[0.4444444444444444,\"#bd3786\"],[0.5555555555555556,\"#d8576b\"],[0.6666666666666666,\"#ed7953\"],[0.7777777777777778,\"#fb9f3a\"],[0.8888888888888888,\"#fdca26\"],[1.0,\"#f0f921\"]]},\"colorway\":[\"#636efa\",\"#EF553B\",\"#00cc96\",\"#ab63fa\",\"#FFA15A\",\"#19d3f3\",\"#FF6692\",\"#B6E880\",\"#FF97FF\",\"#FECB52\"],\"font\":{\"color\":\"#2a3f5f\"},\"geo\":{\"bgcolor\":\"white\",\"lakecolor\":\"white\",\"landcolor\":\"#E5ECF6\",\"showlakes\":true,\"showland\":true,\"subunitcolor\":\"white\"},\"hoverlabel\":{\"align\":\"left\"},\"hovermode\":\"closest\",\"mapbox\":{\"style\":\"light\"},\"paper_bgcolor\":\"white\",\"plot_bgcolor\":\"#E5ECF6\",\"polar\":{\"angularaxis\":{\"gridcolor\":\"white\",\"linecolor\":\"white\",\"ticks\":\"\"},\"bgcolor\":\"#E5ECF6\",\"radialaxis\":{\"gridcolor\":\"white\",\"linecolor\":\"white\",\"ticks\":\"\"}},\"scene\":{\"xaxis\":{\"backgroundcolor\":\"#E5ECF6\",\"gridcolor\":\"white\",\"gridwidth\":2,\"linecolor\":\"white\",\"showbackground\":true,\"ticks\":\"\",\"zerolinecolor\":\"white\"},\"yaxis\":{\"backgroundcolor\":\"#E5ECF6\",\"gridcolor\":\"white\",\"gridwidth\":2,\"linecolor\":\"white\",\"showbackground\":true,\"ticks\":\"\",\"zerolinecolor\":\"white\"},\"zaxis\":{\"backgroundcolor\":\"#E5ECF6\",\"gridcolor\":\"white\",\"gridwidth\":2,\"linecolor\":\"white\",\"showbackground\":true,\"ticks\":\"\",\"zerolinecolor\":\"white\"}},\"shapedefaults\":{\"line\":{\"color\":\"#2a3f5f\"}},\"ternary\":{\"aaxis\":{\"gridcolor\":\"white\",\"linecolor\":\"white\",\"ticks\":\"\"},\"baxis\":{\"gridcolor\":\"white\",\"linecolor\":\"white\",\"ticks\":\"\"},\"bgcolor\":\"#E5ECF6\",\"caxis\":{\"gridcolor\":\"white\",\"linecolor\":\"white\",\"ticks\":\"\"}},\"title\":{\"x\":0.05},\"xaxis\":{\"automargin\":true,\"gridcolor\":\"white\",\"linecolor\":\"white\",\"ticks\":\"\",\"title\":{\"standoff\":15},\"zerolinecolor\":\"white\",\"zerolinewidth\":2},\"yaxis\":{\"automargin\":true,\"gridcolor\":\"white\",\"linecolor\":\"white\",\"ticks\":\"\",\"title\":{\"standoff\":15},\"zerolinecolor\":\"white\",\"zerolinewidth\":2}}}},                        {\"responsive\": true}                    ).then(function(){\n",
              "                            \n",
              "var gd = document.getElementById('5ec7c582-eef6-42f6-999e-23d1916aec0c');\n",
              "var x = new MutationObserver(function (mutations, observer) {{\n",
              "        var display = window.getComputedStyle(gd).display;\n",
              "        if (!display || display === 'none') {{\n",
              "            console.log([gd, 'removed!']);\n",
              "            Plotly.purge(gd);\n",
              "            observer.disconnect();\n",
              "        }}\n",
              "}});\n",
              "\n",
              "// Listen for the removal of the full notebook cells\n",
              "var notebookContainer = gd.closest('#notebook-container');\n",
              "if (notebookContainer) {{\n",
              "    x.observe(notebookContainer, {childList: true});\n",
              "}}\n",
              "\n",
              "// Listen for the clearing of the current output cell\n",
              "var outputEl = gd.closest('.output');\n",
              "if (outputEl) {{\n",
              "    x.observe(outputEl, {childList: true});\n",
              "}}\n",
              "\n",
              "                        })                };                            </script>        </div>\n",
              "</body>\n",
              "</html>"
            ]
          },
          "metadata": {}
        }
      ],
      "source": [
        "fig = go.Figure()\n",
        "fig.add_trace(go.Bar(x=marital_cons_per.index, y=marital_cons_per.yes,\n",
        "                base=[0],marker_color='blue',\n",
        "                name='yes'\n",
        "                ))\n",
        "fig.add_trace(go.Bar(x=marital_cons_per.index, y=marital_cons_per.no,\n",
        "                base=[-85.1,-89.9,0],marker_color='yellow',\n",
        "                name='no'))\n",
        "\n",
        "fig.show()"
      ]
    },
    {
      "cell_type": "markdown",
      "metadata": {
        "id": "dMP43SU9dSS1"
      },
      "source": [
        "From the above graph we can say,\n",
        "\n",
        "1) People from divorced group getting an insurance is very high\n",
        "\n",
        "2)Many were getting insured after a married life."
      ]
    },
    {
      "cell_type": "markdown",
      "metadata": {
        "id": "lk_BpBedaGH8"
      },
      "source": [
        "# **edu_qual**"
      ]
    },
    {
      "cell_type": "code",
      "execution_count": 258,
      "metadata": {
        "colab": {
          "base_uri": "https://localhost:8080/",
          "height": 296
        },
        "id": "smBKHxlZVGys",
        "outputId": "ee04923d-c620-43e9-952d-440c9eda20a6"
      },
      "outputs": [
        {
          "output_type": "execute_result",
          "data": {
            "text/plain": [
              "<matplotlib.axes._subplots.AxesSubplot at 0x7f2da5ab75d0>"
            ]
          },
          "metadata": {},
          "execution_count": 258
        },
        {
          "output_type": "display_data",
          "data": {
            "text/plain": [
              "<Figure size 432x288 with 1 Axes>"
            ],
            "image/png": "[encoded data removed]"
          },
          "metadata": {
            "needs_background": "light"
          }
        }
      ],
      "source": [
        "sns.countplot(x=df['y'],hue=df['education_qual'],data=df)"
      ]
    },
    {
      "cell_type": "code",
      "execution_count": 259,
      "metadata": {
        "colab": {
          "base_uri": "https://localhost:8080/",
          "height": 175
        },
        "id": "TPNaf6EEaPI2",
        "outputId": "93f09c07-43c4-4eb4-b6c6-56bab28db5fc"
      },
      "outputs": [
        {
          "output_type": "execute_result",
          "data": {
            "text/plain": [
              "              no   yes\n",
              "primary     6260   591\n",
              "secondary  20752  2450\n",
              "tertiary   11305  1996\n",
              "unknown     1605   252"
            ],
            "text/html": [
              "\n",
              "  <div id=\"df-09a342c1-76da-4ddf-ab20-987e55476fef\">\n",
              "    <div class=\"colab-df-container\">\n",
              "      <div>\n",
              "<style scoped>\n",
              "    .dataframe tbody tr th:only-of-type {\n",
              "        vertical-align: middle;\n",
              "    }\n",
              "\n",
              "    .dataframe tbody tr th {\n",
              "        vertical-align: top;\n",
              "    }\n",
              "\n",
              "    .dataframe thead th {\n",
              "        text-align: right;\n",
              "    }\n",
              "</style>\n",
              "<table border=\"1\" class=\"dataframe\">\n",
              "  <thead>\n",
              "    <tr style=\"text-align: right;\">\n",
              "      <th></th>\n",
              "      <th>no</th>\n",
              "      <th>yes</th>\n",
              "    </tr>\n",
              "  </thead>\n",
              "  <tbody>\n",
              "    <tr>\n",
              "      <th>primary</th>\n",
              "      <td>6260</td>\n",
              "      <td>591</td>\n",
              "    </tr>\n",
              "    <tr>\n",
              "      <th>secondary</th>\n",
              "      <td>20752</td>\n",
              "      <td>2450</td>\n",
              "    </tr>\n",
              "    <tr>\n",
              "      <th>tertiary</th>\n",
              "      <td>11305</td>\n",
              "      <td>1996</td>\n",
              "    </tr>\n",
              "    <tr>\n",
              "      <th>unknown</th>\n",
              "      <td>1605</td>\n",
              "      <td>252</td>\n",
              "    </tr>\n",
              "  </tbody>\n",
              "</table>\n",
              "</div>\n",
              "      <button class=\"colab-df-convert\" onclick=\"convertToInteractive('df-09a342c1-76da-4ddf-ab20-987e55476fef')\"\n",
              "              title=\"Convert this dataframe to an interactive table.\"\n",
              "              style=\"display:none;\">\n",
              "        \n",
              "  <svg xmlns=\"http://www.w3.org/2000/svg\" height=\"24px\"viewBox=\"0 0 24 24\"\n",
              "       width=\"24px\">\n",
              "    <path d=\"M0 0h24v24H0V0z\" fill=\"none\"/>\n",
              "    <path d=\"M18.56 5.44l.94 2.06.94-2.06 2.06-.94-2.06-.94-.94-2.06-.94 2.06-2.06.94zm-11 1L8.5 8.5l.94-2.06 2.06-.94-2.06-.94L8.5 2.5l-.94 2.06-2.06.94zm10 10l.94 2.06.94-2.06 2.06-.94-2.06-.94-.94-2.06-.94 2.06-2.06.94z\"/><path d=\"M17.41 7.96l-1.37-1.37c-.4-.4-.92-.59-1.43-.59-.52 0-1.04.2-1.43.59L10.3 9.45l-7.72 7.72c-.78.78-.78 2.05 0 2.83L4 21.41c.39.39.9.59 1.41.59.51 0 1.02-.2 1.41-.59l7.78-7.78 2.81-2.81c.8-.78.8-2.07 0-2.86zM5.41 20L4 18.59l7.72-7.72 1.47 1.35L5.41 20z\"/>\n",
              "  </svg>\n",
              "      </button>\n",
              "      \n",
              "  <style>\n",
              "    .colab-df-container {\n",
              "      display:flex;\n",
              "      flex-wrap:wrap;\n",
              "      gap: 12px;\n",
              "    }\n",
              "\n",
              "    .colab-df-convert {\n",
              "      background-color: #E8F0FE;\n",
              "      border: none;\n",
              "      border-radius: 50%;\n",
              "      cursor: pointer;\n",
              "      display: none;\n",
              "      fill: #1967D2;\n",
              "      height: 32px;\n",
              "      padding: 0 0 0 0;\n",
              "      width: 32px;\n",
              "    }\n",
              "\n",
              "    .colab-df-convert:hover {\n",
              "      background-color: #E2EBFA;\n",
              "      box-shadow: 0px 1px 2px rgba(60, 64, 67, 0.3), 0px 1px 3px 1px rgba(60, 64, 67, 0.15);\n",
              "      fill: #174EA6;\n",
              "    }\n",
              "\n",
              "    [theme=dark] .colab-df-convert {\n",
              "      background-color: #3B4455;\n",
              "      fill: #D2E3FC;\n",
              "    }\n",
              "\n",
              "    [theme=dark] .colab-df-convert:hover {\n",
              "      background-color: #434B5C;\n",
              "      box-shadow: 0px 1px 3px 1px rgba(0, 0, 0, 0.15);\n",
              "      filter: drop-shadow(0px 1px 2px rgba(0, 0, 0, 0.3));\n",
              "      fill: #FFFFFF;\n",
              "    }\n",
              "  </style>\n",
              "\n",
              "      <script>\n",
              "        const buttonEl =\n",
              "          document.querySelector('#df-09a342c1-76da-4ddf-ab20-987e55476fef button.colab-df-convert');\n",
              "        buttonEl.style.display =\n",
              "          google.colab.kernel.accessAllowed ? 'block' : 'none';\n",
              "\n",
              "        async function convertToInteractive(key) {\n",
              "          const element = document.querySelector('#df-09a342c1-76da-4ddf-ab20-987e55476fef');\n",
              "          const dataTable =\n",
              "            await google.colab.kernel.invokeFunction('convertToInteractive',\n",
              "                                                     [key], {});\n",
              "          if (!dataTable) return;\n",
              "\n",
              "          const docLinkHtml = 'Like what you see? Visit the ' +\n",
              "            '<a target=\"_blank\" href=https://colab.research.google.com/notebooks/data_table.ipynb>data table notebook</a>'\n",
              "            + ' to learn more about interactive tables.';\n",
              "          element.innerHTML = '';\n",
              "          dataTable['output_type'] = 'display_data';\n",
              "          await google.colab.output.renderOutput(dataTable, element);\n",
              "          const docLink = document.createElement('div');\n",
              "          docLink.innerHTML = docLinkHtml;\n",
              "          element.appendChild(docLink);\n",
              "        }\n",
              "      </script>\n",
              "    </div>\n",
              "  </div>\n",
              "  "
            ]
          },
          "metadata": {},
          "execution_count": 259
        }
      ],
      "source": [
        "primary_0=0\n",
        "primary_1=0\n",
        "secondary_0=0\n",
        "secondary_1=0\n",
        "tertiary_0=0\n",
        "tertiary_1=0\n",
        "unknown_0=0\n",
        "unknown_1=0\n",
        "for i in range(len(df)):\n",
        "  if df.education_qual.iloc[i]=='primary':\n",
        "    if df.y.iloc[i]=='no':\n",
        "      primary_0+=1\n",
        "    else:\n",
        "      primary_1+=1\n",
        "  elif df.education_qual.iloc[i]=='secondary':\n",
        "    if df.y.iloc[i]=='no':\n",
        "      secondary_0+=1\n",
        "    else:\n",
        "      secondary_1+=1\n",
        "  elif df.education_qual.iloc[i]=='tertiary':\n",
        "    if df.y.iloc[i]=='no':\n",
        "      tertiary_0+=1\n",
        "    else:\n",
        "      tertiary_1+=1\n",
        "  else:\n",
        "    if df.y.iloc[i]=='no':\n",
        "      unknown_0+=1\n",
        "    else:\n",
        "      unknown_1+=1\n",
        "data={'no':[primary_0,secondary_0,tertiary_0,unknown_0],\n",
        "      'yes':[primary_1,secondary_1,tertiary_1,unknown_1]}\n",
        "edu_cons=pd.DataFrame(data=data,index=['primary','secondary','tertiary','unknown'])\n",
        "edu_cons"
      ]
    },
    {
      "cell_type": "code",
      "execution_count": 260,
      "metadata": {
        "colab": {
          "base_uri": "https://localhost:8080/",
          "height": 175
        },
        "id": "L1jHkYjacYck",
        "outputId": "e142e145-2916-47e0-e381-0b73e0916c99"
      },
      "outputs": [
        {
          "output_type": "execute_result",
          "data": {
            "text/plain": [
              "                  no        yes\n",
              "primary    91.373522   8.626478\n",
              "secondary  89.440565  10.559435\n",
              "tertiary   84.993610  15.006390\n",
              "unknown    86.429725  13.570275"
            ],
            "text/html": [
              "\n",
              "  <div id=\"df-c56d9753-8097-4e7d-9d7c-a4de1c52d8f6\">\n",
              "    <div class=\"colab-df-container\">\n",
              "      <div>\n",
              "<style scoped>\n",
              "    .dataframe tbody tr th:only-of-type {\n",
              "        vertical-align: middle;\n",
              "    }\n",
              "\n",
              "    .dataframe tbody tr th {\n",
              "        vertical-align: top;\n",
              "    }\n",
              "\n",
              "    .dataframe thead th {\n",
              "        text-align: right;\n",
              "    }\n",
              "</style>\n",
              "<table border=\"1\" class=\"dataframe\">\n",
              "  <thead>\n",
              "    <tr style=\"text-align: right;\">\n",
              "      <th></th>\n",
              "      <th>no</th>\n",
              "      <th>yes</th>\n",
              "    </tr>\n",
              "  </thead>\n",
              "  <tbody>\n",
              "    <tr>\n",
              "      <th>primary</th>\n",
              "      <td>91.373522</td>\n",
              "      <td>8.626478</td>\n",
              "    </tr>\n",
              "    <tr>\n",
              "      <th>secondary</th>\n",
              "      <td>89.440565</td>\n",
              "      <td>10.559435</td>\n",
              "    </tr>\n",
              "    <tr>\n",
              "      <th>tertiary</th>\n",
              "      <td>84.993610</td>\n",
              "      <td>15.006390</td>\n",
              "    </tr>\n",
              "    <tr>\n",
              "      <th>unknown</th>\n",
              "      <td>86.429725</td>\n",
              "      <td>13.570275</td>\n",
              "    </tr>\n",
              "  </tbody>\n",
              "</table>\n",
              "</div>\n",
              "      <button class=\"colab-df-convert\" onclick=\"convertToInteractive('df-c56d9753-8097-4e7d-9d7c-a4de1c52d8f6')\"\n",
              "              title=\"Convert this dataframe to an interactive table.\"\n",
              "              style=\"display:none;\">\n",
              "        \n",
              "  <svg xmlns=\"http://www.w3.org/2000/svg\" height=\"24px\"viewBox=\"0 0 24 24\"\n",
              "       width=\"24px\">\n",
              "    <path d=\"M0 0h24v24H0V0z\" fill=\"none\"/>\n",
              "    <path d=\"M18.56 5.44l.94 2.06.94-2.06 2.06-.94-2.06-.94-.94-2.06-.94 2.06-2.06.94zm-11 1L8.5 8.5l.94-2.06 2.06-.94-2.06-.94L8.5 2.5l-.94 2.06-2.06.94zm10 10l.94 2.06.94-2.06 2.06-.94-2.06-.94-.94-2.06-.94 2.06-2.06.94z\"/><path d=\"M17.41 7.96l-1.37-1.37c-.4-.4-.92-.59-1.43-.59-.52 0-1.04.2-1.43.59L10.3 9.45l-7.72 7.72c-.78.78-.78 2.05 0 2.83L4 21.41c.39.39.9.59 1.41.59.51 0 1.02-.2 1.41-.59l7.78-7.78 2.81-2.81c.8-.78.8-2.07 0-2.86zM5.41 20L4 18.59l7.72-7.72 1.47 1.35L5.41 20z\"/>\n",
              "  </svg>\n",
              "      </button>\n",
              "      \n",
              "  <style>\n",
              "    .colab-df-container {\n",
              "      display:flex;\n",
              "      flex-wrap:wrap;\n",
              "      gap: 12px;\n",
              "    }\n",
              "\n",
              "    .colab-df-convert {\n",
              "      background-color: #E8F0FE;\n",
              "      border: none;\n",
              "      border-radius: 50%;\n",
              "      cursor: pointer;\n",
              "      display: none;\n",
              "      fill: #1967D2;\n",
              "      height: 32px;\n",
              "      padding: 0 0 0 0;\n",
              "      width: 32px;\n",
              "    }\n",
              "\n",
              "    .colab-df-convert:hover {\n",
              "      background-color: #E2EBFA;\n",
              "      box-shadow: 0px 1px 2px rgba(60, 64, 67, 0.3), 0px 1px 3px 1px rgba(60, 64, 67, 0.15);\n",
              "      fill: #174EA6;\n",
              "    }\n",
              "\n",
              "    [theme=dark] .colab-df-convert {\n",
              "      background-color: #3B4455;\n",
              "      fill: #D2E3FC;\n",
              "    }\n",
              "\n",
              "    [theme=dark] .colab-df-convert:hover {\n",
              "      background-color: #434B5C;\n",
              "      box-shadow: 0px 1px 3px 1px rgba(0, 0, 0, 0.15);\n",
              "      filter: drop-shadow(0px 1px 2px rgba(0, 0, 0, 0.3));\n",
              "      fill: #FFFFFF;\n",
              "    }\n",
              "  </style>\n",
              "\n",
              "      <script>\n",
              "        const buttonEl =\n",
              "          document.querySelector('#df-c56d9753-8097-4e7d-9d7c-a4de1c52d8f6 button.colab-df-convert');\n",
              "        buttonEl.style.display =\n",
              "          google.colab.kernel.accessAllowed ? 'block' : 'none';\n",
              "\n",
              "        async function convertToInteractive(key) {\n",
              "          const element = document.querySelector('#df-c56d9753-8097-4e7d-9d7c-a4de1c52d8f6');\n",
              "          const dataTable =\n",
              "            await google.colab.kernel.invokeFunction('convertToInteractive',\n",
              "                                                     [key], {});\n",
              "          if (!dataTable) return;\n",
              "\n",
              "          const docLinkHtml = 'Like what you see? Visit the ' +\n",
              "            '<a target=\"_blank\" href=https://colab.research.google.com/notebooks/data_table.ipynb>data table notebook</a>'\n",
              "            + ' to learn more about interactive tables.';\n",
              "          element.innerHTML = '';\n",
              "          dataTable['output_type'] = 'display_data';\n",
              "          await google.colab.output.renderOutput(dataTable, element);\n",
              "          const docLink = document.createElement('div');\n",
              "          docLink.innerHTML = docLinkHtml;\n",
              "          element.appendChild(docLink);\n",
              "        }\n",
              "      </script>\n",
              "    </div>\n",
              "  </div>\n",
              "  "
            ]
          },
          "metadata": {},
          "execution_count": 260
        }
      ],
      "source": [
        "total_primary=primary_0+primary_1\n",
        "primary_0p=(primary_0/total_primary)*100\n",
        "primary_1p=100-primary_0p\n",
        "\n",
        "total_secondary=secondary_0+secondary_1\n",
        "secondary_0p=(secondary_0/total_secondary)*100\n",
        "secondary_1p=100-secondary_0p\n",
        "\n",
        "total_tertiary=tertiary_0+tertiary_1\n",
        "tertiary_0p=(tertiary_0/total_tertiary)*100\n",
        "tertiary_1p=100-tertiary_0p\n",
        "\n",
        "total_unknown=unknown_0+unknown_1\n",
        "unknown_0p=(unknown_0/total_unknown)*100\n",
        "unknown_1p=100-unknown_0p\n",
        "\n",
        "data={'no':[primary_0p,secondary_0p,tertiary_0p,unknown_0p],\n",
        "      'yes':[primary_1p,secondary_1p,tertiary_1p,unknown_1p]}\n",
        "edu_cons_per=pd.DataFrame(data=data,index=[\"primary\",\"secondary\",\"tertiary\",\"unknown\"])\n",
        "edu_cons_per"
      ]
    },
    {
      "cell_type": "code",
      "execution_count": 261,
      "metadata": {
        "colab": {
          "base_uri": "https://localhost:8080/",
          "height": 542
        },
        "id": "FYR9sZJ1eGuk",
        "outputId": "bc5c3990-cbda-499c-918b-bdc0c80d7530"
      },
      "outputs": [
        {
          "output_type": "display_data",
          "data": {
            "text/html": [
              "<html>\n",
              "<head><meta charset=\"utf-8\" /></head>\n",
              "<body>\n",
              "    <div>            <script src=\"https://cdnjs.cloudflare.com/ajax/libs/mathjax/2.7.5/MathJax.js?config=TeX-AMS-MML_SVG\"></script><script type=\"text/javascript\">if (window.MathJax) {MathJax.Hub.Config({SVG: {font: \"STIX-Web\"}});}</script>                <script type=\"text/javascript\">window.PlotlyConfig = {MathJaxConfig: 'local'};</script>\n",
              "        <script src=\"https://cdn.plot.ly/plotly-2.8.3.min.js\"></script>                <div id=\"c45a0d2b-65a7-4dd4-aa5d-430d8c4cb2bc\" class=\"plotly-graph-div\" style=\"height:525px; width:100%;\"></div>            <script type=\"text/javascript\">                                    window.PLOTLYENV=window.PLOTLYENV || {};                                    if (document.getElementById(\"c45a0d2b-65a7-4dd4-aa5d-430d8c4cb2bc\")) {                    Plotly.newPlot(                        \"c45a0d2b-65a7-4dd4-aa5d-430d8c4cb2bc\",                        [{\"base\":[0],\"marker\":{\"color\":\"blue\"},\"name\":\"yes\",\"x\":[\"primary\",\"secondary\",\"tertiary\",\"unknown\"],\"y\":[8.626477886439929,10.5594345315059,15.006390496955106,13.570274636510504],\"type\":\"bar\"},{\"base\":[-91.4,-89.5,-85,-86.5],\"marker\":{\"color\":\"yellow\"},\"name\":\"no\",\"x\":[\"primary\",\"secondary\",\"tertiary\",\"unknown\"],\"y\":[91.37352211356007,89.4405654684941,84.9936095030449,86.4297253634895],\"type\":\"bar\"}],                        {\"template\":{\"data\":{\"bar\":[{\"error_x\":{\"color\":\"#2a3f5f\"},\"error_y\":{\"color\":\"#2a3f5f\"},\"marker\":{\"line\":{\"color\":\"#E5ECF6\",\"width\":0.5},\"pattern\":{\"fillmode\":\"overlay\",\"size\":10,\"solidity\":0.2}},\"type\":\"bar\"}],\"barpolar\":[{\"marker\":{\"line\":{\"color\":\"#E5ECF6\",\"width\":0.5},\"pattern\":{\"fillmode\":\"overlay\",\"size\":10,\"solidity\":0.2}},\"type\":\"barpolar\"}],\"carpet\":[{\"aaxis\":{\"endlinecolor\":\"#2a3f5f\",\"gridcolor\":\"white\",\"linecolor\":\"white\",\"minorgridcolor\":\"white\",\"startlinecolor\":\"#2a3f5f\"},\"baxis\":{\"endlinecolor\":\"#2a3f5f\",\"gridcolor\":\"white\",\"linecolor\":\"white\",\"minorgridcolor\":\"white\",\"startlinecolor\":\"#2a3f5f\"},\"type\":\"carpet\"}],\"choropleth\":[{\"colorbar\":{\"outlinewidth\":0,\"ticks\":\"\"},\"type\":\"choropleth\"}],\"contour\":[{\"colorbar\":{\"outlinewidth\":0,\"ticks\":\"\"},\"colorscale\":[[0.0,\"#0d0887\"],[0.1111111111111111,\"#46039f\"],[0.2222222222222222,\"#7201a8\"],[0.3333333333333333,\"#9c179e\"],[0.4444444444444444,\"#bd3786\"],[0.5555555555555556,\"#d8576b\"],[0.6666666666666666,\"#ed7953\"],[0.7777777777777778,\"#fb9f3a\"],[0.8888888888888888,\"#fdca26\"],[1.0,\"#f0f921\"]],\"type\":\"contour\"}],\"contourcarpet\":[{\"colorbar\":{\"outlinewidth\":0,\"ticks\":\"\"},\"type\":\"contourcarpet\"}],\"heatmap\":[{\"colorbar\":{\"outlinewidth\":0,\"ticks\":\"\"},\"colorscale\":[[0.0,\"#0d0887\"],[0.1111111111111111,\"#46039f\"],[0.2222222222222222,\"#7201a8\"],[0.3333333333333333,\"#9c179e\"],[0.4444444444444444,\"#bd3786\"],[0.5555555555555556,\"#d8576b\"],[0.6666666666666666,\"#ed7953\"],[0.7777777777777778,\"#fb9f3a\"],[0.8888888888888888,\"#fdca26\"],[1.0,\"#f0f921\"]],\"type\":\"heatmap\"}],\"heatmapgl\":[{\"colorbar\":{\"outlinewidth\":0,\"ticks\":\"\"},\"colorscale\":[[0.0,\"#0d0887\"],[0.1111111111111111,\"#46039f\"],[0.2222222222222222,\"#7201a8\"],[0.3333333333333333,\"#9c179e\"],[0.4444444444444444,\"#bd3786\"],[0.5555555555555556,\"#d8576b\"],[0.6666666666666666,\"#ed7953\"],[0.7777777777777778,\"#fb9f3a\"],[0.8888888888888888,\"#fdca26\"],[1.0,\"#f0f921\"]],\"type\":\"heatmapgl\"}],\"histogram\":[{\"marker\":{\"pattern\":{\"fillmode\":\"overlay\",\"size\":10,\"solidity\":0.2}},\"type\":\"histogram\"}],\"histogram2d\":[{\"colorbar\":{\"outlinewidth\":0,\"ticks\":\"\"},\"colorscale\":[[0.0,\"#0d0887\"],[0.1111111111111111,\"#46039f\"],[0.2222222222222222,\"#7201a8\"],[0.3333333333333333,\"#9c179e\"],[0.4444444444444444,\"#bd3786\"],[0.5555555555555556,\"#d8576b\"],[0.6666666666666666,\"#ed7953\"],[0.7777777777777778,\"#fb9f3a\"],[0.8888888888888888,\"#fdca26\"],[1.0,\"#f0f921\"]],\"type\":\"histogram2d\"}],\"histogram2dcontour\":[{\"colorbar\":{\"outlinewidth\":0,\"ticks\":\"\"},\"colorscale\":[[0.0,\"#0d0887\"],[0.1111111111111111,\"#46039f\"],[0.2222222222222222,\"#7201a8\"],[0.3333333333333333,\"#9c179e\"],[0.4444444444444444,\"#bd3786\"],[0.5555555555555556,\"#d8576b\"],[0.6666666666666666,\"#ed7953\"],[0.7777777777777778,\"#fb9f3a\"],[0.8888888888888888,\"#fdca26\"],[1.0,\"#f0f921\"]],\"type\":\"histogram2dcontour\"}],\"mesh3d\":[{\"colorbar\":{\"outlinewidth\":0,\"ticks\":\"\"},\"type\":\"mesh3d\"}],\"parcoords\":[{\"line\":{\"colorbar\":{\"outlinewidth\":0,\"ticks\":\"\"}},\"type\":\"parcoords\"}],\"pie\":[{\"automargin\":true,\"type\":\"pie\"}],\"scatter\":[{\"marker\":{\"colorbar\":{\"outlinewidth\":0,\"ticks\":\"\"}},\"type\":\"scatter\"}],\"scatter3d\":[{\"line\":{\"colorbar\":{\"outlinewidth\":0,\"ticks\":\"\"}},\"marker\":{\"colorbar\":{\"outlinewidth\":0,\"ticks\":\"\"}},\"type\":\"scatter3d\"}],\"scattercarpet\":[{\"marker\":{\"colorbar\":{\"outlinewidth\":0,\"ticks\":\"\"}},\"type\":\"scattercarpet\"}],\"scattergeo\":[{\"marker\":{\"colorbar\":{\"outlinewidth\":0,\"ticks\":\"\"}},\"type\":\"scattergeo\"}],\"scattergl\":[{\"marker\":{\"colorbar\":{\"outlinewidth\":0,\"ticks\":\"\"}},\"type\":\"scattergl\"}],\"scattermapbox\":[{\"marker\":{\"colorbar\":{\"outlinewidth\":0,\"ticks\":\"\"}},\"type\":\"scattermapbox\"}],\"scatterpolar\":[{\"marker\":{\"colorbar\":{\"outlinewidth\":0,\"ticks\":\"\"}},\"type\":\"scatterpolar\"}],\"scatterpolargl\":[{\"marker\":{\"colorbar\":{\"outlinewidth\":0,\"ticks\":\"\"}},\"type\":\"scatterpolargl\"}],\"scatterternary\":[{\"marker\":{\"colorbar\":{\"outlinewidth\":0,\"ticks\":\"\"}},\"type\":\"scatterternary\"}],\"surface\":[{\"colorbar\":{\"outlinewidth\":0,\"ticks\":\"\"},\"colorscale\":[[0.0,\"#0d0887\"],[0.1111111111111111,\"#46039f\"],[0.2222222222222222,\"#7201a8\"],[0.3333333333333333,\"#9c179e\"],[0.4444444444444444,\"#bd3786\"],[0.5555555555555556,\"#d8576b\"],[0.6666666666666666,\"#ed7953\"],[0.7777777777777778,\"#fb9f3a\"],[0.8888888888888888,\"#fdca26\"],[1.0,\"#f0f921\"]],\"type\":\"surface\"}],\"table\":[{\"cells\":{\"fill\":{\"color\":\"#EBF0F8\"},\"line\":{\"color\":\"white\"}},\"header\":{\"fill\":{\"color\":\"#C8D4E3\"},\"line\":{\"color\":\"white\"}},\"type\":\"table\"}]},\"layout\":{\"annotationdefaults\":{\"arrowcolor\":\"#2a3f5f\",\"arrowhead\":0,\"arrowwidth\":1},\"autotypenumbers\":\"strict\",\"coloraxis\":{\"colorbar\":{\"outlinewidth\":0,\"ticks\":\"\"}},\"colorscale\":{\"diverging\":[[0,\"#8e0152\"],[0.1,\"#c51b7d\"],[0.2,\"#de77ae\"],[0.3,\"#f1b6da\"],[0.4,\"#fde0ef\"],[0.5,\"#f7f7f7\"],[0.6,\"#e6f5d0\"],[0.7,\"#b8e186\"],[0.8,\"#7fbc41\"],[0.9,\"#4d9221\"],[1,\"#276419\"]],\"sequential\":[[0.0,\"#0d0887\"],[0.1111111111111111,\"#46039f\"],[0.2222222222222222,\"#7201a8\"],[0.3333333333333333,\"#9c179e\"],[0.4444444444444444,\"#bd3786\"],[0.5555555555555556,\"#d8576b\"],[0.6666666666666666,\"#ed7953\"],[0.7777777777777778,\"#fb9f3a\"],[0.8888888888888888,\"#fdca26\"],[1.0,\"#f0f921\"]],\"sequentialminus\":[[0.0,\"#0d0887\"],[0.1111111111111111,\"#46039f\"],[0.2222222222222222,\"#7201a8\"],[0.3333333333333333,\"#9c179e\"],[0.4444444444444444,\"#bd3786\"],[0.5555555555555556,\"#d8576b\"],[0.6666666666666666,\"#ed7953\"],[0.7777777777777778,\"#fb9f3a\"],[0.8888888888888888,\"#fdca26\"],[1.0,\"#f0f921\"]]},\"colorway\":[\"#636efa\",\"#EF553B\",\"#00cc96\",\"#ab63fa\",\"#FFA15A\",\"#19d3f3\",\"#FF6692\",\"#B6E880\",\"#FF97FF\",\"#FECB52\"],\"font\":{\"color\":\"#2a3f5f\"},\"geo\":{\"bgcolor\":\"white\",\"lakecolor\":\"white\",\"landcolor\":\"#E5ECF6\",\"showlakes\":true,\"showland\":true,\"subunitcolor\":\"white\"},\"hoverlabel\":{\"align\":\"left\"},\"hovermode\":\"closest\",\"mapbox\":{\"style\":\"light\"},\"paper_bgcolor\":\"white\",\"plot_bgcolor\":\"#E5ECF6\",\"polar\":{\"angularaxis\":{\"gridcolor\":\"white\",\"linecolor\":\"white\",\"ticks\":\"\"},\"bgcolor\":\"#E5ECF6\",\"radialaxis\":{\"gridcolor\":\"white\",\"linecolor\":\"white\",\"ticks\":\"\"}},\"scene\":{\"xaxis\":{\"backgroundcolor\":\"#E5ECF6\",\"gridcolor\":\"white\",\"gridwidth\":2,\"linecolor\":\"white\",\"showbackground\":true,\"ticks\":\"\",\"zerolinecolor\":\"white\"},\"yaxis\":{\"backgroundcolor\":\"#E5ECF6\",\"gridcolor\":\"white\",\"gridwidth\":2,\"linecolor\":\"white\",\"showbackground\":true,\"ticks\":\"\",\"zerolinecolor\":\"white\"},\"zaxis\":{\"backgroundcolor\":\"#E5ECF6\",\"gridcolor\":\"white\",\"gridwidth\":2,\"linecolor\":\"white\",\"showbackground\":true,\"ticks\":\"\",\"zerolinecolor\":\"white\"}},\"shapedefaults\":{\"line\":{\"color\":\"#2a3f5f\"}},\"ternary\":{\"aaxis\":{\"gridcolor\":\"white\",\"linecolor\":\"white\",\"ticks\":\"\"},\"baxis\":{\"gridcolor\":\"white\",\"linecolor\":\"white\",\"ticks\":\"\"},\"bgcolor\":\"#E5ECF6\",\"caxis\":{\"gridcolor\":\"white\",\"linecolor\":\"white\",\"ticks\":\"\"}},\"title\":{\"x\":0.05},\"xaxis\":{\"automargin\":true,\"gridcolor\":\"white\",\"linecolor\":\"white\",\"ticks\":\"\",\"title\":{\"standoff\":15},\"zerolinecolor\":\"white\",\"zerolinewidth\":2},\"yaxis\":{\"automargin\":true,\"gridcolor\":\"white\",\"linecolor\":\"white\",\"ticks\":\"\",\"title\":{\"standoff\":15},\"zerolinecolor\":\"white\",\"zerolinewidth\":2}}}},                        {\"responsive\": true}                    ).then(function(){\n",
              "                            \n",
              "var gd = document.getElementById('c45a0d2b-65a7-4dd4-aa5d-430d8c4cb2bc');\n",
              "var x = new MutationObserver(function (mutations, observer) {{\n",
              "        var display = window.getComputedStyle(gd).display;\n",
              "        if (!display || display === 'none') {{\n",
              "            console.log([gd, 'removed!']);\n",
              "            Plotly.purge(gd);\n",
              "            observer.disconnect();\n",
              "        }}\n",
              "}});\n",
              "\n",
              "// Listen for the removal of the full notebook cells\n",
              "var notebookContainer = gd.closest('#notebook-container');\n",
              "if (notebookContainer) {{\n",
              "    x.observe(notebookContainer, {childList: true});\n",
              "}}\n",
              "\n",
              "// Listen for the clearing of the current output cell\n",
              "var outputEl = gd.closest('.output');\n",
              "if (outputEl) {{\n",
              "    x.observe(outputEl, {childList: true});\n",
              "}}\n",
              "\n",
              "                        })                };                            </script>        </div>\n",
              "</body>\n",
              "</html>"
            ]
          },
          "metadata": {}
        }
      ],
      "source": [
        "fig = go.Figure()\n",
        "fig.add_trace(go.Bar(x=edu_cons_per.index, y=edu_cons_per.yes,\n",
        "                base=[0],marker_color='blue',\n",
        "                name='yes'\n",
        "                ))\n",
        "fig.add_trace(go.Bar(x=edu_cons_per.index, y=edu_cons_per.no,\n",
        "                base=[-91.4,-89.5,-85,-86.5],marker_color='yellow',\n",
        "                name='no'))\n",
        "\n",
        "fig.show()"
      ]
    },
    {
      "cell_type": "markdown",
      "metadata": {
        "id": "_u2P4yccd1YD"
      },
      "source": [
        "The above graph can be interepreted as with increase in Educational qualification the person opting for an insurance increases.\n",
        "\n",
        "1)Higher educated people are going to be a good choice for the company to make a call."
      ]
    },
    {
      "cell_type": "code",
      "execution_count": 261,
      "metadata": {
        "id": "SgN-mdlOMzU9"
      },
      "outputs": [],
      "source": []
    },
    {
      "cell_type": "markdown",
      "metadata": {
        "id": "eBnX_WU2eivh"
      },
      "source": [
        "# **call_type**"
      ]
    },
    {
      "cell_type": "code",
      "execution_count": 262,
      "metadata": {
        "colab": {
          "base_uri": "https://localhost:8080/",
          "height": 297
        },
        "id": "GnJm3VC_UMVK",
        "outputId": "a8344b0f-0912-4469-f10f-da768a2a6ef9"
      },
      "outputs": [
        {
          "output_type": "execute_result",
          "data": {
            "text/plain": [
              "<matplotlib.axes._subplots.AxesSubplot at 0x7f2da5a64050>"
            ]
          },
          "metadata": {},
          "execution_count": 262
        },
        {
          "output_type": "display_data",
          "data": {
            "text/plain": [
              "<Figure size 432x288 with 1 Axes>"
            ],
            "image/png": "[encoded data removed]"
          },
          "metadata": {
            "needs_background": "light"
          }
        }
      ],
      "source": [
        "sns.countplot(x=df['call_type'],hue=df['y'])"
      ]
    },
    {
      "cell_type": "code",
      "execution_count": 263,
      "metadata": {
        "colab": {
          "base_uri": "https://localhost:8080/",
          "height": 143
        },
        "id": "0PQbe9pBMzRC",
        "outputId": "b4be48d6-b931-42b9-dd45-54b3acd2bdfd"
      },
      "outputs": [
        {
          "output_type": "execute_result",
          "data": {
            "text/plain": [
              "              no   yes\n",
              "unknown    12490   530\n",
              "cellular   24916  4369\n",
              "telephone   2516   390"
            ],
            "text/html": [
              "\n",
              "  <div id=\"df-b24211d8-82c8-47fc-85aa-f1affef3e837\">\n",
              "    <div class=\"colab-df-container\">\n",
              "      <div>\n",
              "<style scoped>\n",
              "    .dataframe tbody tr th:only-of-type {\n",
              "        vertical-align: middle;\n",
              "    }\n",
              "\n",
              "    .dataframe tbody tr th {\n",
              "        vertical-align: top;\n",
              "    }\n",
              "\n",
              "    .dataframe thead th {\n",
              "        text-align: right;\n",
              "    }\n",
              "</style>\n",
              "<table border=\"1\" class=\"dataframe\">\n",
              "  <thead>\n",
              "    <tr style=\"text-align: right;\">\n",
              "      <th></th>\n",
              "      <th>no</th>\n",
              "      <th>yes</th>\n",
              "    </tr>\n",
              "  </thead>\n",
              "  <tbody>\n",
              "    <tr>\n",
              "      <th>unknown</th>\n",
              "      <td>12490</td>\n",
              "      <td>530</td>\n",
              "    </tr>\n",
              "    <tr>\n",
              "      <th>cellular</th>\n",
              "      <td>24916</td>\n",
              "      <td>4369</td>\n",
              "    </tr>\n",
              "    <tr>\n",
              "      <th>telephone</th>\n",
              "      <td>2516</td>\n",
              "      <td>390</td>\n",
              "    </tr>\n",
              "  </tbody>\n",
              "</table>\n",
              "</div>\n",
              "      <button class=\"colab-df-convert\" onclick=\"convertToInteractive('df-b24211d8-82c8-47fc-85aa-f1affef3e837')\"\n",
              "              title=\"Convert this dataframe to an interactive table.\"\n",
              "              style=\"display:none;\">\n",
              "        \n",
              "  <svg xmlns=\"http://www.w3.org/2000/svg\" height=\"24px\"viewBox=\"0 0 24 24\"\n",
              "       width=\"24px\">\n",
              "    <path d=\"M0 0h24v24H0V0z\" fill=\"none\"/>\n",
              "    <path d=\"M18.56 5.44l.94 2.06.94-2.06 2.06-.94-2.06-.94-.94-2.06-.94 2.06-2.06.94zm-11 1L8.5 8.5l.94-2.06 2.06-.94-2.06-.94L8.5 2.5l-.94 2.06-2.06.94zm10 10l.94 2.06.94-2.06 2.06-.94-2.06-.94-.94-2.06-.94 2.06-2.06.94z\"/><path d=\"M17.41 7.96l-1.37-1.37c-.4-.4-.92-.59-1.43-.59-.52 0-1.04.2-1.43.59L10.3 9.45l-7.72 7.72c-.78.78-.78 2.05 0 2.83L4 21.41c.39.39.9.59 1.41.59.51 0 1.02-.2 1.41-.59l7.78-7.78 2.81-2.81c.8-.78.8-2.07 0-2.86zM5.41 20L4 18.59l7.72-7.72 1.47 1.35L5.41 20z\"/>\n",
              "  </svg>\n",
              "      </button>\n",
              "      \n",
              "  <style>\n",
              "    .colab-df-container {\n",
              "      display:flex;\n",
              "      flex-wrap:wrap;\n",
              "      gap: 12px;\n",
              "    }\n",
              "\n",
              "    .colab-df-convert {\n",
              "      background-color: #E8F0FE;\n",
              "      border: none;\n",
              "      border-radius: 50%;\n",
              "      cursor: pointer;\n",
              "      display: none;\n",
              "      fill: #1967D2;\n",
              "      height: 32px;\n",
              "      padding: 0 0 0 0;\n",
              "      width: 32px;\n",
              "    }\n",
              "\n",
              "    .colab-df-convert:hover {\n",
              "      background-color: #E2EBFA;\n",
              "      box-shadow: 0px 1px 2px rgba(60, 64, 67, 0.3), 0px 1px 3px 1px rgba(60, 64, 67, 0.15);\n",
              "      fill: #174EA6;\n",
              "    }\n",
              "\n",
              "    [theme=dark] .colab-df-convert {\n",
              "      background-color: #3B4455;\n",
              "      fill: #D2E3FC;\n",
              "    }\n",
              "\n",
              "    [theme=dark] .colab-df-convert:hover {\n",
              "      background-color: #434B5C;\n",
              "      box-shadow: 0px 1px 3px 1px rgba(0, 0, 0, 0.15);\n",
              "      filter: drop-shadow(0px 1px 2px rgba(0, 0, 0, 0.3));\n",
              "      fill: #FFFFFF;\n",
              "    }\n",
              "  </style>\n",
              "\n",
              "      <script>\n",
              "        const buttonEl =\n",
              "          document.querySelector('#df-b24211d8-82c8-47fc-85aa-f1affef3e837 button.colab-df-convert');\n",
              "        buttonEl.style.display =\n",
              "          google.colab.kernel.accessAllowed ? 'block' : 'none';\n",
              "\n",
              "        async function convertToInteractive(key) {\n",
              "          const element = document.querySelector('#df-b24211d8-82c8-47fc-85aa-f1affef3e837');\n",
              "          const dataTable =\n",
              "            await google.colab.kernel.invokeFunction('convertToInteractive',\n",
              "                                                     [key], {});\n",
              "          if (!dataTable) return;\n",
              "\n",
              "          const docLinkHtml = 'Like what you see? Visit the ' +\n",
              "            '<a target=\"_blank\" href=https://colab.research.google.com/notebooks/data_table.ipynb>data table notebook</a>'\n",
              "            + ' to learn more about interactive tables.';\n",
              "          element.innerHTML = '';\n",
              "          dataTable['output_type'] = 'display_data';\n",
              "          await google.colab.output.renderOutput(dataTable, element);\n",
              "          const docLink = document.createElement('div');\n",
              "          docLink.innerHTML = docLinkHtml;\n",
              "          element.appendChild(docLink);\n",
              "        }\n",
              "      </script>\n",
              "    </div>\n",
              "  </div>\n",
              "  "
            ]
          },
          "metadata": {},
          "execution_count": 263
        }
      ],
      "source": [
        "unknown_0=0\n",
        "unknown_1=0\n",
        "cellular_0=0\n",
        "cellular_1=0\n",
        "telephone_0=0\n",
        "telephone_1=0\n",
        "for i in range(len(df)):\n",
        "  if df.call_type.iloc[i]=='unknown':\n",
        "    if df.y.iloc[i]=='no':\n",
        "      unknown_0+=1\n",
        "    else:\n",
        "      unknown_1+=1\n",
        "  elif df.call_type.iloc[i]=='cellular':\n",
        "    if df.y.iloc[i]=='no':\n",
        "      cellular_0+=1\n",
        "    else:\n",
        "      cellular_1+=1\n",
        "  else:\n",
        "    if df.y.iloc[i]=='no':\n",
        "      telephone_0+=1\n",
        "    else:\n",
        "      telephone_1+=1\n",
        "data={'no':[unknown_0,cellular_0,telephone_0],\n",
        "      'yes':[unknown_1,cellular_1,telephone_1]}\n",
        "call_type_cons=pd.DataFrame(data=data,index=['unknown','cellular','telephone'])\n",
        "call_type_cons"
      ]
    },
    {
      "cell_type": "code",
      "execution_count": 264,
      "metadata": {
        "colab": {
          "base_uri": "https://localhost:8080/",
          "height": 542
        },
        "id": "km3qvlK6MzLq",
        "outputId": "fbe8c87e-1a31-4443-96f6-89f41935afb6"
      },
      "outputs": [
        {
          "output_type": "display_data",
          "data": {
            "text/html": [
              "<html>\n",
              "<head><meta charset=\"utf-8\" /></head>\n",
              "<body>\n",
              "    <div>            <script src=\"https://cdnjs.cloudflare.com/ajax/libs/mathjax/2.7.5/MathJax.js?config=TeX-AMS-MML_SVG\"></script><script type=\"text/javascript\">if (window.MathJax) {MathJax.Hub.Config({SVG: {font: \"STIX-Web\"}});}</script>                <script type=\"text/javascript\">window.PlotlyConfig = {MathJaxConfig: 'local'};</script>\n",
              "        <script src=\"https://cdn.plot.ly/plotly-2.8.3.min.js\"></script>                <div id=\"b4f81c84-b4bc-4e80-95df-d9470091581d\" class=\"plotly-graph-div\" style=\"height:525px; width:100%;\"></div>            <script type=\"text/javascript\">                                    window.PLOTLYENV=window.PLOTLYENV || {};                                    if (document.getElementById(\"b4f81c84-b4bc-4e80-95df-d9470091581d\")) {                    Plotly.newPlot(                        \"b4f81c84-b4bc-4e80-95df-d9470091581d\",                        [{\"base\":[0],\"marker\":{\"color\":\"blue\"},\"name\":\"yes\",\"x\":[\"unknown\",\"cellular\",\"telephone\"],\"y\":[530,4369,390],\"type\":\"bar\"},{\"base\":[-12490,-24916,-2516],\"marker\":{\"color\":\"yellow\"},\"name\":\"no\",\"x\":[\"unknown\",\"cellular\",\"telephone\"],\"y\":[12490,24916,2516],\"type\":\"bar\"}],                        {\"template\":{\"data\":{\"bar\":[{\"error_x\":{\"color\":\"#2a3f5f\"},\"error_y\":{\"color\":\"#2a3f5f\"},\"marker\":{\"line\":{\"color\":\"#E5ECF6\",\"width\":0.5},\"pattern\":{\"fillmode\":\"overlay\",\"size\":10,\"solidity\":0.2}},\"type\":\"bar\"}],\"barpolar\":[{\"marker\":{\"line\":{\"color\":\"#E5ECF6\",\"width\":0.5},\"pattern\":{\"fillmode\":\"overlay\",\"size\":10,\"solidity\":0.2}},\"type\":\"barpolar\"}],\"carpet\":[{\"aaxis\":{\"endlinecolor\":\"#2a3f5f\",\"gridcolor\":\"white\",\"linecolor\":\"white\",\"minorgridcolor\":\"white\",\"startlinecolor\":\"#2a3f5f\"},\"baxis\":{\"endlinecolor\":\"#2a3f5f\",\"gridcolor\":\"white\",\"linecolor\":\"white\",\"minorgridcolor\":\"white\",\"startlinecolor\":\"#2a3f5f\"},\"type\":\"carpet\"}],\"choropleth\":[{\"colorbar\":{\"outlinewidth\":0,\"ticks\":\"\"},\"type\":\"choropleth\"}],\"contour\":[{\"colorbar\":{\"outlinewidth\":0,\"ticks\":\"\"},\"colorscale\":[[0.0,\"#0d0887\"],[0.1111111111111111,\"#46039f\"],[0.2222222222222222,\"#7201a8\"],[0.3333333333333333,\"#9c179e\"],[0.4444444444444444,\"#bd3786\"],[0.5555555555555556,\"#d8576b\"],[0.6666666666666666,\"#ed7953\"],[0.7777777777777778,\"#fb9f3a\"],[0.8888888888888888,\"#fdca26\"],[1.0,\"#f0f921\"]],\"type\":\"contour\"}],\"contourcarpet\":[{\"colorbar\":{\"outlinewidth\":0,\"ticks\":\"\"},\"type\":\"contourcarpet\"}],\"heatmap\":[{\"colorbar\":{\"outlinewidth\":0,\"ticks\":\"\"},\"colorscale\":[[0.0,\"#0d0887\"],[0.1111111111111111,\"#46039f\"],[0.2222222222222222,\"#7201a8\"],[0.3333333333333333,\"#9c179e\"],[0.4444444444444444,\"#bd3786\"],[0.5555555555555556,\"#d8576b\"],[0.6666666666666666,\"#ed7953\"],[0.7777777777777778,\"#fb9f3a\"],[0.8888888888888888,\"#fdca26\"],[1.0,\"#f0f921\"]],\"type\":\"heatmap\"}],\"heatmapgl\":[{\"colorbar\":{\"outlinewidth\":0,\"ticks\":\"\"},\"colorscale\":[[0.0,\"#0d0887\"],[0.1111111111111111,\"#46039f\"],[0.2222222222222222,\"#7201a8\"],[0.3333333333333333,\"#9c179e\"],[0.4444444444444444,\"#bd3786\"],[0.5555555555555556,\"#d8576b\"],[0.6666666666666666,\"#ed7953\"],[0.7777777777777778,\"#fb9f3a\"],[0.8888888888888888,\"#fdca26\"],[1.0,\"#f0f921\"]],\"type\":\"heatmapgl\"}],\"histogram\":[{\"marker\":{\"pattern\":{\"fillmode\":\"overlay\",\"size\":10,\"solidity\":0.2}},\"type\":\"histogram\"}],\"histogram2d\":[{\"colorbar\":{\"outlinewidth\":0,\"ticks\":\"\"},\"colorscale\":[[0.0,\"#0d0887\"],[0.1111111111111111,\"#46039f\"],[0.2222222222222222,\"#7201a8\"],[0.3333333333333333,\"#9c179e\"],[0.4444444444444444,\"#bd3786\"],[0.5555555555555556,\"#d8576b\"],[0.6666666666666666,\"#ed7953\"],[0.7777777777777778,\"#fb9f3a\"],[0.8888888888888888,\"#fdca26\"],[1.0,\"#f0f921\"]],\"type\":\"histogram2d\"}],\"histogram2dcontour\":[{\"colorbar\":{\"outlinewidth\":0,\"ticks\":\"\"},\"colorscale\":[[0.0,\"#0d0887\"],[0.1111111111111111,\"#46039f\"],[0.2222222222222222,\"#7201a8\"],[0.3333333333333333,\"#9c179e\"],[0.4444444444444444,\"#bd3786\"],[0.5555555555555556,\"#d8576b\"],[0.6666666666666666,\"#ed7953\"],[0.7777777777777778,\"#fb9f3a\"],[0.8888888888888888,\"#fdca26\"],[1.0,\"#f0f921\"]],\"type\":\"histogram2dcontour\"}],\"mesh3d\":[{\"colorbar\":{\"outlinewidth\":0,\"ticks\":\"\"},\"type\":\"mesh3d\"}],\"parcoords\":[{\"line\":{\"colorbar\":{\"outlinewidth\":0,\"ticks\":\"\"}},\"type\":\"parcoords\"}],\"pie\":[{\"automargin\":true,\"type\":\"pie\"}],\"scatter\":[{\"marker\":{\"colorbar\":{\"outlinewidth\":0,\"ticks\":\"\"}},\"type\":\"scatter\"}],\"scatter3d\":[{\"line\":{\"colorbar\":{\"outlinewidth\":0,\"ticks\":\"\"}},\"marker\":{\"colorbar\":{\"outlinewidth\":0,\"ticks\":\"\"}},\"type\":\"scatter3d\"}],\"scattercarpet\":[{\"marker\":{\"colorbar\":{\"outlinewidth\":0,\"ticks\":\"\"}},\"type\":\"scattercarpet\"}],\"scattergeo\":[{\"marker\":{\"colorbar\":{\"outlinewidth\":0,\"ticks\":\"\"}},\"type\":\"scattergeo\"}],\"scattergl\":[{\"marker\":{\"colorbar\":{\"outlinewidth\":0,\"ticks\":\"\"}},\"type\":\"scattergl\"}],\"scattermapbox\":[{\"marker\":{\"colorbar\":{\"outlinewidth\":0,\"ticks\":\"\"}},\"type\":\"scattermapbox\"}],\"scatterpolar\":[{\"marker\":{\"colorbar\":{\"outlinewidth\":0,\"ticks\":\"\"}},\"type\":\"scatterpolar\"}],\"scatterpolargl\":[{\"marker\":{\"colorbar\":{\"outlinewidth\":0,\"ticks\":\"\"}},\"type\":\"scatterpolargl\"}],\"scatterternary\":[{\"marker\":{\"colorbar\":{\"outlinewidth\":0,\"ticks\":\"\"}},\"type\":\"scatterternary\"}],\"surface\":[{\"colorbar\":{\"outlinewidth\":0,\"ticks\":\"\"},\"colorscale\":[[0.0,\"#0d0887\"],[0.1111111111111111,\"#46039f\"],[0.2222222222222222,\"#7201a8\"],[0.3333333333333333,\"#9c179e\"],[0.4444444444444444,\"#bd3786\"],[0.5555555555555556,\"#d8576b\"],[0.6666666666666666,\"#ed7953\"],[0.7777777777777778,\"#fb9f3a\"],[0.8888888888888888,\"#fdca26\"],[1.0,\"#f0f921\"]],\"type\":\"surface\"}],\"table\":[{\"cells\":{\"fill\":{\"color\":\"#EBF0F8\"},\"line\":{\"color\":\"white\"}},\"header\":{\"fill\":{\"color\":\"#C8D4E3\"},\"line\":{\"color\":\"white\"}},\"type\":\"table\"}]},\"layout\":{\"annotationdefaults\":{\"arrowcolor\":\"#2a3f5f\",\"arrowhead\":0,\"arrowwidth\":1},\"autotypenumbers\":\"strict\",\"coloraxis\":{\"colorbar\":{\"outlinewidth\":0,\"ticks\":\"\"}},\"colorscale\":{\"diverging\":[[0,\"#8e0152\"],[0.1,\"#c51b7d\"],[0.2,\"#de77ae\"],[0.3,\"#f1b6da\"],[0.4,\"#fde0ef\"],[0.5,\"#f7f7f7\"],[0.6,\"#e6f5d0\"],[0.7,\"#b8e186\"],[0.8,\"#7fbc41\"],[0.9,\"#4d9221\"],[1,\"#276419\"]],\"sequential\":[[0.0,\"#0d0887\"],[0.1111111111111111,\"#46039f\"],[0.2222222222222222,\"#7201a8\"],[0.3333333333333333,\"#9c179e\"],[0.4444444444444444,\"#bd3786\"],[0.5555555555555556,\"#d8576b\"],[0.6666666666666666,\"#ed7953\"],[0.7777777777777778,\"#fb9f3a\"],[0.8888888888888888,\"#fdca26\"],[1.0,\"#f0f921\"]],\"sequentialminus\":[[0.0,\"#0d0887\"],[0.1111111111111111,\"#46039f\"],[0.2222222222222222,\"#7201a8\"],[0.3333333333333333,\"#9c179e\"],[0.4444444444444444,\"#bd3786\"],[0.5555555555555556,\"#d8576b\"],[0.6666666666666666,\"#ed7953\"],[0.7777777777777778,\"#fb9f3a\"],[0.8888888888888888,\"#fdca26\"],[1.0,\"#f0f921\"]]},\"colorway\":[\"#636efa\",\"#EF553B\",\"#00cc96\",\"#ab63fa\",\"#FFA15A\",\"#19d3f3\",\"#FF6692\",\"#B6E880\",\"#FF97FF\",\"#FECB52\"],\"font\":{\"color\":\"#2a3f5f\"},\"geo\":{\"bgcolor\":\"white\",\"lakecolor\":\"white\",\"landcolor\":\"#E5ECF6\",\"showlakes\":true,\"showland\":true,\"subunitcolor\":\"white\"},\"hoverlabel\":{\"align\":\"left\"},\"hovermode\":\"closest\",\"mapbox\":{\"style\":\"light\"},\"paper_bgcolor\":\"white\",\"plot_bgcolor\":\"#E5ECF6\",\"polar\":{\"angularaxis\":{\"gridcolor\":\"white\",\"linecolor\":\"white\",\"ticks\":\"\"},\"bgcolor\":\"#E5ECF6\",\"radialaxis\":{\"gridcolor\":\"white\",\"linecolor\":\"white\",\"ticks\":\"\"}},\"scene\":{\"xaxis\":{\"backgroundcolor\":\"#E5ECF6\",\"gridcolor\":\"white\",\"gridwidth\":2,\"linecolor\":\"white\",\"showbackground\":true,\"ticks\":\"\",\"zerolinecolor\":\"white\"},\"yaxis\":{\"backgroundcolor\":\"#E5ECF6\",\"gridcolor\":\"white\",\"gridwidth\":2,\"linecolor\":\"white\",\"showbackground\":true,\"ticks\":\"\",\"zerolinecolor\":\"white\"},\"zaxis\":{\"backgroundcolor\":\"#E5ECF6\",\"gridcolor\":\"white\",\"gridwidth\":2,\"linecolor\":\"white\",\"showbackground\":true,\"ticks\":\"\",\"zerolinecolor\":\"white\"}},\"shapedefaults\":{\"line\":{\"color\":\"#2a3f5f\"}},\"ternary\":{\"aaxis\":{\"gridcolor\":\"white\",\"linecolor\":\"white\",\"ticks\":\"\"},\"baxis\":{\"gridcolor\":\"white\",\"linecolor\":\"white\",\"ticks\":\"\"},\"bgcolor\":\"#E5ECF6\",\"caxis\":{\"gridcolor\":\"white\",\"linecolor\":\"white\",\"ticks\":\"\"}},\"title\":{\"x\":0.05},\"xaxis\":{\"automargin\":true,\"gridcolor\":\"white\",\"linecolor\":\"white\",\"ticks\":\"\",\"title\":{\"standoff\":15},\"zerolinecolor\":\"white\",\"zerolinewidth\":2},\"yaxis\":{\"automargin\":true,\"gridcolor\":\"white\",\"linecolor\":\"white\",\"ticks\":\"\",\"title\":{\"standoff\":15},\"zerolinecolor\":\"white\",\"zerolinewidth\":2}}}},                        {\"responsive\": true}                    ).then(function(){\n",
              "                            \n",
              "var gd = document.getElementById('b4f81c84-b4bc-4e80-95df-d9470091581d');\n",
              "var x = new MutationObserver(function (mutations, observer) {{\n",
              "        var display = window.getComputedStyle(gd).display;\n",
              "        if (!display || display === 'none') {{\n",
              "            console.log([gd, 'removed!']);\n",
              "            Plotly.purge(gd);\n",
              "            observer.disconnect();\n",
              "        }}\n",
              "}});\n",
              "\n",
              "// Listen for the removal of the full notebook cells\n",
              "var notebookContainer = gd.closest('#notebook-container');\n",
              "if (notebookContainer) {{\n",
              "    x.observe(notebookContainer, {childList: true});\n",
              "}}\n",
              "\n",
              "// Listen for the clearing of the current output cell\n",
              "var outputEl = gd.closest('.output');\n",
              "if (outputEl) {{\n",
              "    x.observe(outputEl, {childList: true});\n",
              "}}\n",
              "\n",
              "                        })                };                            </script>        </div>\n",
              "</body>\n",
              "</html>"
            ]
          },
          "metadata": {}
        }
      ],
      "source": [
        "fig = go.Figure()\n",
        "fig.add_trace(go.Bar(x=call_type_cons.index, y=call_type_cons.yes,\n",
        "                base=[0],marker_color='blue',\n",
        "                name='yes'\n",
        "                ))\n",
        "fig.add_trace(go.Bar(x=call_type_cons.index, y=call_type_cons.no,\n",
        "                base=[-12490,-24916,-2516],marker_color='yellow',\n",
        "                name='no'))\n",
        "\n",
        "fig.show()"
      ]
    },
    {
      "cell_type": "code",
      "execution_count": 265,
      "metadata": {
        "colab": {
          "base_uri": "https://localhost:8080/",
          "height": 143
        },
        "id": "wqyB2cS7MzHy",
        "outputId": "17896eb0-0d42-41b8-9110-8234f99332ba"
      },
      "outputs": [
        {
          "output_type": "execute_result",
          "data": {
            "text/plain": [
              "                  no        yes\n",
              "unknown    95.929339   4.070661\n",
              "cellular   85.081100  14.918900\n",
              "telephone  86.579491  13.420509"
            ],
            "text/html": [
              "\n",
              "  <div id=\"df-6b6a8df4-18f9-4258-ba6f-40dac8aa52c5\">\n",
              "    <div class=\"colab-df-container\">\n",
              "      <div>\n",
              "<style scoped>\n",
              "    .dataframe tbody tr th:only-of-type {\n",
              "        vertical-align: middle;\n",
              "    }\n",
              "\n",
              "    .dataframe tbody tr th {\n",
              "        vertical-align: top;\n",
              "    }\n",
              "\n",
              "    .dataframe thead th {\n",
              "        text-align: right;\n",
              "    }\n",
              "</style>\n",
              "<table border=\"1\" class=\"dataframe\">\n",
              "  <thead>\n",
              "    <tr style=\"text-align: right;\">\n",
              "      <th></th>\n",
              "      <th>no</th>\n",
              "      <th>yes</th>\n",
              "    </tr>\n",
              "  </thead>\n",
              "  <tbody>\n",
              "    <tr>\n",
              "      <th>unknown</th>\n",
              "      <td>95.929339</td>\n",
              "      <td>4.070661</td>\n",
              "    </tr>\n",
              "    <tr>\n",
              "      <th>cellular</th>\n",
              "      <td>85.081100</td>\n",
              "      <td>14.918900</td>\n",
              "    </tr>\n",
              "    <tr>\n",
              "      <th>telephone</th>\n",
              "      <td>86.579491</td>\n",
              "      <td>13.420509</td>\n",
              "    </tr>\n",
              "  </tbody>\n",
              "</table>\n",
              "</div>\n",
              "      <button class=\"colab-df-convert\" onclick=\"convertToInteractive('df-6b6a8df4-18f9-4258-ba6f-40dac8aa52c5')\"\n",
              "              title=\"Convert this dataframe to an interactive table.\"\n",
              "              style=\"display:none;\">\n",
              "        \n",
              "  <svg xmlns=\"http://www.w3.org/2000/svg\" height=\"24px\"viewBox=\"0 0 24 24\"\n",
              "       width=\"24px\">\n",
              "    <path d=\"M0 0h24v24H0V0z\" fill=\"none\"/>\n",
              "    <path d=\"M18.56 5.44l.94 2.06.94-2.06 2.06-.94-2.06-.94-.94-2.06-.94 2.06-2.06.94zm-11 1L8.5 8.5l.94-2.06 2.06-.94-2.06-.94L8.5 2.5l-.94 2.06-2.06.94zm10 10l.94 2.06.94-2.06 2.06-.94-2.06-.94-.94-2.06-.94 2.06-2.06.94z\"/><path d=\"M17.41 7.96l-1.37-1.37c-.4-.4-.92-.59-1.43-.59-.52 0-1.04.2-1.43.59L10.3 9.45l-7.72 7.72c-.78.78-.78 2.05 0 2.83L4 21.41c.39.39.9.59 1.41.59.51 0 1.02-.2 1.41-.59l7.78-7.78 2.81-2.81c.8-.78.8-2.07 0-2.86zM5.41 20L4 18.59l7.72-7.72 1.47 1.35L5.41 20z\"/>\n",
              "  </svg>\n",
              "      </button>\n",
              "      \n",
              "  <style>\n",
              "    .colab-df-container {\n",
              "      display:flex;\n",
              "      flex-wrap:wrap;\n",
              "      gap: 12px;\n",
              "    }\n",
              "\n",
              "    .colab-df-convert {\n",
              "      background-color: #E8F0FE;\n",
              "      border: none;\n",
              "      border-radius: 50%;\n",
              "      cursor: pointer;\n",
              "      display: none;\n",
              "      fill: #1967D2;\n",
              "      height: 32px;\n",
              "      padding: 0 0 0 0;\n",
              "      width: 32px;\n",
              "    }\n",
              "\n",
              "    .colab-df-convert:hover {\n",
              "      background-color: #E2EBFA;\n",
              "      box-shadow: 0px 1px 2px rgba(60, 64, 67, 0.3), 0px 1px 3px 1px rgba(60, 64, 67, 0.15);\n",
              "      fill: #174EA6;\n",
              "    }\n",
              "\n",
              "    [theme=dark] .colab-df-convert {\n",
              "      background-color: #3B4455;\n",
              "      fill: #D2E3FC;\n",
              "    }\n",
              "\n",
              "    [theme=dark] .colab-df-convert:hover {\n",
              "      background-color: #434B5C;\n",
              "      box-shadow: 0px 1px 3px 1px rgba(0, 0, 0, 0.15);\n",
              "      filter: drop-shadow(0px 1px 2px rgba(0, 0, 0, 0.3));\n",
              "      fill: #FFFFFF;\n",
              "    }\n",
              "  </style>\n",
              "\n",
              "      <script>\n",
              "        const buttonEl =\n",
              "          document.querySelector('#df-6b6a8df4-18f9-4258-ba6f-40dac8aa52c5 button.colab-df-convert');\n",
              "        buttonEl.style.display =\n",
              "          google.colab.kernel.accessAllowed ? 'block' : 'none';\n",
              "\n",
              "        async function convertToInteractive(key) {\n",
              "          const element = document.querySelector('#df-6b6a8df4-18f9-4258-ba6f-40dac8aa52c5');\n",
              "          const dataTable =\n",
              "            await google.colab.kernel.invokeFunction('convertToInteractive',\n",
              "                                                     [key], {});\n",
              "          if (!dataTable) return;\n",
              "\n",
              "          const docLinkHtml = 'Like what you see? Visit the ' +\n",
              "            '<a target=\"_blank\" href=https://colab.research.google.com/notebooks/data_table.ipynb>data table notebook</a>'\n",
              "            + ' to learn more about interactive tables.';\n",
              "          element.innerHTML = '';\n",
              "          dataTable['output_type'] = 'display_data';\n",
              "          await google.colab.output.renderOutput(dataTable, element);\n",
              "          const docLink = document.createElement('div');\n",
              "          docLink.innerHTML = docLinkHtml;\n",
              "          element.appendChild(docLink);\n",
              "        }\n",
              "      </script>\n",
              "    </div>\n",
              "  </div>\n",
              "  "
            ]
          },
          "metadata": {},
          "execution_count": 265
        }
      ],
      "source": [
        "total_unknown=unknown_0+unknown_1\n",
        "unknown_0p=(unknown_0/total_unknown)*100\n",
        "unknown_1p=100-unknown_0p\n",
        "\n",
        "total_cellular=cellular_0+cellular_1\n",
        "cellular_0p=(cellular_0/total_cellular)*100\n",
        "cellular_1p=100-cellular_0p\n",
        "\n",
        "total_telephone=telephone_0+telephone_1\n",
        "telephone_0p=(telephone_0/total_telephone)*100\n",
        "telephone_1p=100-telephone_0p\n",
        "\n",
        "data={'no':[unknown_0p,cellular_0p,telephone_0p],\n",
        "      'yes':[unknown_1p,cellular_1p,telephone_1p]}\n",
        "call_cons_per=pd.DataFrame(data=data,index=['unknown','cellular','telephone'])\n",
        "call_cons_per"
      ]
    },
    {
      "cell_type": "code",
      "execution_count": 266,
      "metadata": {
        "colab": {
          "base_uri": "https://localhost:8080/",
          "height": 542
        },
        "id": "Q8heieJdhsqw",
        "outputId": "b6e2ef1c-402b-43c9-aaa7-37cc693a0e3c"
      },
      "outputs": [
        {
          "output_type": "display_data",
          "data": {
            "text/html": [
              "<html>\n",
              "<head><meta charset=\"utf-8\" /></head>\n",
              "<body>\n",
              "    <div>            <script src=\"https://cdnjs.cloudflare.com/ajax/libs/mathjax/2.7.5/MathJax.js?config=TeX-AMS-MML_SVG\"></script><script type=\"text/javascript\">if (window.MathJax) {MathJax.Hub.Config({SVG: {font: \"STIX-Web\"}});}</script>                <script type=\"text/javascript\">window.PlotlyConfig = {MathJaxConfig: 'local'};</script>\n",
              "        <script src=\"https://cdn.plot.ly/plotly-2.8.3.min.js\"></script>                <div id=\"8fea8ec2-0e3f-45b0-b633-68cd921c0bd9\" class=\"plotly-graph-div\" style=\"height:525px; width:100%;\"></div>            <script type=\"text/javascript\">                                    window.PLOTLYENV=window.PLOTLYENV || {};                                    if (document.getElementById(\"8fea8ec2-0e3f-45b0-b633-68cd921c0bd9\")) {                    Plotly.newPlot(                        \"8fea8ec2-0e3f-45b0-b633-68cd921c0bd9\",                        [{\"base\":[0],\"marker\":{\"color\":\"blue\"},\"name\":\"yes\",\"x\":[\"unknown\",\"cellular\",\"telephone\"],\"y\":[4.070660522273428,14.918900460986848,13.420509291121817],\"type\":\"bar\"},{\"base\":[-96,-85.1,-86.6],\"marker\":{\"color\":\"yellow\"},\"name\":\"no\",\"x\":[\"unknown\",\"cellular\",\"telephone\"],\"y\":[95.92933947772657,85.08109953901315,86.57949070887818],\"type\":\"bar\"}],                        {\"template\":{\"data\":{\"bar\":[{\"error_x\":{\"color\":\"#2a3f5f\"},\"error_y\":{\"color\":\"#2a3f5f\"},\"marker\":{\"line\":{\"color\":\"#E5ECF6\",\"width\":0.5},\"pattern\":{\"fillmode\":\"overlay\",\"size\":10,\"solidity\":0.2}},\"type\":\"bar\"}],\"barpolar\":[{\"marker\":{\"line\":{\"color\":\"#E5ECF6\",\"width\":0.5},\"pattern\":{\"fillmode\":\"overlay\",\"size\":10,\"solidity\":0.2}},\"type\":\"barpolar\"}],\"carpet\":[{\"aaxis\":{\"endlinecolor\":\"#2a3f5f\",\"gridcolor\":\"white\",\"linecolor\":\"white\",\"minorgridcolor\":\"white\",\"startlinecolor\":\"#2a3f5f\"},\"baxis\":{\"endlinecolor\":\"#2a3f5f\",\"gridcolor\":\"white\",\"linecolor\":\"white\",\"minorgridcolor\":\"white\",\"startlinecolor\":\"#2a3f5f\"},\"type\":\"carpet\"}],\"choropleth\":[{\"colorbar\":{\"outlinewidth\":0,\"ticks\":\"\"},\"type\":\"choropleth\"}],\"contour\":[{\"colorbar\":{\"outlinewidth\":0,\"ticks\":\"\"},\"colorscale\":[[0.0,\"#0d0887\"],[0.1111111111111111,\"#46039f\"],[0.2222222222222222,\"#7201a8\"],[0.3333333333333333,\"#9c179e\"],[0.4444444444444444,\"#bd3786\"],[0.5555555555555556,\"#d8576b\"],[0.6666666666666666,\"#ed7953\"],[0.7777777777777778,\"#fb9f3a\"],[0.8888888888888888,\"#fdca26\"],[1.0,\"#f0f921\"]],\"type\":\"contour\"}],\"contourcarpet\":[{\"colorbar\":{\"outlinewidth\":0,\"ticks\":\"\"},\"type\":\"contourcarpet\"}],\"heatmap\":[{\"colorbar\":{\"outlinewidth\":0,\"ticks\":\"\"},\"colorscale\":[[0.0,\"#0d0887\"],[0.1111111111111111,\"#46039f\"],[0.2222222222222222,\"#7201a8\"],[0.3333333333333333,\"#9c179e\"],[0.4444444444444444,\"#bd3786\"],[0.5555555555555556,\"#d8576b\"],[0.6666666666666666,\"#ed7953\"],[0.7777777777777778,\"#fb9f3a\"],[0.8888888888888888,\"#fdca26\"],[1.0,\"#f0f921\"]],\"type\":\"heatmap\"}],\"heatmapgl\":[{\"colorbar\":{\"outlinewidth\":0,\"ticks\":\"\"},\"colorscale\":[[0.0,\"#0d0887\"],[0.1111111111111111,\"#46039f\"],[0.2222222222222222,\"#7201a8\"],[0.3333333333333333,\"#9c179e\"],[0.4444444444444444,\"#bd3786\"],[0.5555555555555556,\"#d8576b\"],[0.6666666666666666,\"#ed7953\"],[0.7777777777777778,\"#fb9f3a\"],[0.8888888888888888,\"#fdca26\"],[1.0,\"#f0f921\"]],\"type\":\"heatmapgl\"}],\"histogram\":[{\"marker\":{\"pattern\":{\"fillmode\":\"overlay\",\"size\":10,\"solidity\":0.2}},\"type\":\"histogram\"}],\"histogram2d\":[{\"colorbar\":{\"outlinewidth\":0,\"ticks\":\"\"},\"colorscale\":[[0.0,\"#0d0887\"],[0.1111111111111111,\"#46039f\"],[0.2222222222222222,\"#7201a8\"],[0.3333333333333333,\"#9c179e\"],[0.4444444444444444,\"#bd3786\"],[0.5555555555555556,\"#d8576b\"],[0.6666666666666666,\"#ed7953\"],[0.7777777777777778,\"#fb9f3a\"],[0.8888888888888888,\"#fdca26\"],[1.0,\"#f0f921\"]],\"type\":\"histogram2d\"}],\"histogram2dcontour\":[{\"colorbar\":{\"outlinewidth\":0,\"ticks\":\"\"},\"colorscale\":[[0.0,\"#0d0887\"],[0.1111111111111111,\"#46039f\"],[0.2222222222222222,\"#7201a8\"],[0.3333333333333333,\"#9c179e\"],[0.4444444444444444,\"#bd3786\"],[0.5555555555555556,\"#d8576b\"],[0.6666666666666666,\"#ed7953\"],[0.7777777777777778,\"#fb9f3a\"],[0.8888888888888888,\"#fdca26\"],[1.0,\"#f0f921\"]],\"type\":\"histogram2dcontour\"}],\"mesh3d\":[{\"colorbar\":{\"outlinewidth\":0,\"ticks\":\"\"},\"type\":\"mesh3d\"}],\"parcoords\":[{\"line\":{\"colorbar\":{\"outlinewidth\":0,\"ticks\":\"\"}},\"type\":\"parcoords\"}],\"pie\":[{\"automargin\":true,\"type\":\"pie\"}],\"scatter\":[{\"marker\":{\"colorbar\":{\"outlinewidth\":0,\"ticks\":\"\"}},\"type\":\"scatter\"}],\"scatter3d\":[{\"line\":{\"colorbar\":{\"outlinewidth\":0,\"ticks\":\"\"}},\"marker\":{\"colorbar\":{\"outlinewidth\":0,\"ticks\":\"\"}},\"type\":\"scatter3d\"}],\"scattercarpet\":[{\"marker\":{\"colorbar\":{\"outlinewidth\":0,\"ticks\":\"\"}},\"type\":\"scattercarpet\"}],\"scattergeo\":[{\"marker\":{\"colorbar\":{\"outlinewidth\":0,\"ticks\":\"\"}},\"type\":\"scattergeo\"}],\"scattergl\":[{\"marker\":{\"colorbar\":{\"outlinewidth\":0,\"ticks\":\"\"}},\"type\":\"scattergl\"}],\"scattermapbox\":[{\"marker\":{\"colorbar\":{\"outlinewidth\":0,\"ticks\":\"\"}},\"type\":\"scattermapbox\"}],\"scatterpolar\":[{\"marker\":{\"colorbar\":{\"outlinewidth\":0,\"ticks\":\"\"}},\"type\":\"scatterpolar\"}],\"scatterpolargl\":[{\"marker\":{\"colorbar\":{\"outlinewidth\":0,\"ticks\":\"\"}},\"type\":\"scatterpolargl\"}],\"scatterternary\":[{\"marker\":{\"colorbar\":{\"outlinewidth\":0,\"ticks\":\"\"}},\"type\":\"scatterternary\"}],\"surface\":[{\"colorbar\":{\"outlinewidth\":0,\"ticks\":\"\"},\"colorscale\":[[0.0,\"#0d0887\"],[0.1111111111111111,\"#46039f\"],[0.2222222222222222,\"#7201a8\"],[0.3333333333333333,\"#9c179e\"],[0.4444444444444444,\"#bd3786\"],[0.5555555555555556,\"#d8576b\"],[0.6666666666666666,\"#ed7953\"],[0.7777777777777778,\"#fb9f3a\"],[0.8888888888888888,\"#fdca26\"],[1.0,\"#f0f921\"]],\"type\":\"surface\"}],\"table\":[{\"cells\":{\"fill\":{\"color\":\"#EBF0F8\"},\"line\":{\"color\":\"white\"}},\"header\":{\"fill\":{\"color\":\"#C8D4E3\"},\"line\":{\"color\":\"white\"}},\"type\":\"table\"}]},\"layout\":{\"annotationdefaults\":{\"arrowcolor\":\"#2a3f5f\",\"arrowhead\":0,\"arrowwidth\":1},\"autotypenumbers\":\"strict\",\"coloraxis\":{\"colorbar\":{\"outlinewidth\":0,\"ticks\":\"\"}},\"colorscale\":{\"diverging\":[[0,\"#8e0152\"],[0.1,\"#c51b7d\"],[0.2,\"#de77ae\"],[0.3,\"#f1b6da\"],[0.4,\"#fde0ef\"],[0.5,\"#f7f7f7\"],[0.6,\"#e6f5d0\"],[0.7,\"#b8e186\"],[0.8,\"#7fbc41\"],[0.9,\"#4d9221\"],[1,\"#276419\"]],\"sequential\":[[0.0,\"#0d0887\"],[0.1111111111111111,\"#46039f\"],[0.2222222222222222,\"#7201a8\"],[0.3333333333333333,\"#9c179e\"],[0.4444444444444444,\"#bd3786\"],[0.5555555555555556,\"#d8576b\"],[0.6666666666666666,\"#ed7953\"],[0.7777777777777778,\"#fb9f3a\"],[0.8888888888888888,\"#fdca26\"],[1.0,\"#f0f921\"]],\"sequentialminus\":[[0.0,\"#0d0887\"],[0.1111111111111111,\"#46039f\"],[0.2222222222222222,\"#7201a8\"],[0.3333333333333333,\"#9c179e\"],[0.4444444444444444,\"#bd3786\"],[0.5555555555555556,\"#d8576b\"],[0.6666666666666666,\"#ed7953\"],[0.7777777777777778,\"#fb9f3a\"],[0.8888888888888888,\"#fdca26\"],[1.0,\"#f0f921\"]]},\"colorway\":[\"#636efa\",\"#EF553B\",\"#00cc96\",\"#ab63fa\",\"#FFA15A\",\"#19d3f3\",\"#FF6692\",\"#B6E880\",\"#FF97FF\",\"#FECB52\"],\"font\":{\"color\":\"#2a3f5f\"},\"geo\":{\"bgcolor\":\"white\",\"lakecolor\":\"white\",\"landcolor\":\"#E5ECF6\",\"showlakes\":true,\"showland\":true,\"subunitcolor\":\"white\"},\"hoverlabel\":{\"align\":\"left\"},\"hovermode\":\"closest\",\"mapbox\":{\"style\":\"light\"},\"paper_bgcolor\":\"white\",\"plot_bgcolor\":\"#E5ECF6\",\"polar\":{\"angularaxis\":{\"gridcolor\":\"white\",\"linecolor\":\"white\",\"ticks\":\"\"},\"bgcolor\":\"#E5ECF6\",\"radialaxis\":{\"gridcolor\":\"white\",\"linecolor\":\"white\",\"ticks\":\"\"}},\"scene\":{\"xaxis\":{\"backgroundcolor\":\"#E5ECF6\",\"gridcolor\":\"white\",\"gridwidth\":2,\"linecolor\":\"white\",\"showbackground\":true,\"ticks\":\"\",\"zerolinecolor\":\"white\"},\"yaxis\":{\"backgroundcolor\":\"#E5ECF6\",\"gridcolor\":\"white\",\"gridwidth\":2,\"linecolor\":\"white\",\"showbackground\":true,\"ticks\":\"\",\"zerolinecolor\":\"white\"},\"zaxis\":{\"backgroundcolor\":\"#E5ECF6\",\"gridcolor\":\"white\",\"gridwidth\":2,\"linecolor\":\"white\",\"showbackground\":true,\"ticks\":\"\",\"zerolinecolor\":\"white\"}},\"shapedefaults\":{\"line\":{\"color\":\"#2a3f5f\"}},\"ternary\":{\"aaxis\":{\"gridcolor\":\"white\",\"linecolor\":\"white\",\"ticks\":\"\"},\"baxis\":{\"gridcolor\":\"white\",\"linecolor\":\"white\",\"ticks\":\"\"},\"bgcolor\":\"#E5ECF6\",\"caxis\":{\"gridcolor\":\"white\",\"linecolor\":\"white\",\"ticks\":\"\"}},\"title\":{\"x\":0.05},\"xaxis\":{\"automargin\":true,\"gridcolor\":\"white\",\"linecolor\":\"white\",\"ticks\":\"\",\"title\":{\"standoff\":15},\"zerolinecolor\":\"white\",\"zerolinewidth\":2},\"yaxis\":{\"automargin\":true,\"gridcolor\":\"white\",\"linecolor\":\"white\",\"ticks\":\"\",\"title\":{\"standoff\":15},\"zerolinecolor\":\"white\",\"zerolinewidth\":2}}}},                        {\"responsive\": true}                    ).then(function(){\n",
              "                            \n",
              "var gd = document.getElementById('8fea8ec2-0e3f-45b0-b633-68cd921c0bd9');\n",
              "var x = new MutationObserver(function (mutations, observer) {{\n",
              "        var display = window.getComputedStyle(gd).display;\n",
              "        if (!display || display === 'none') {{\n",
              "            console.log([gd, 'removed!']);\n",
              "            Plotly.purge(gd);\n",
              "            observer.disconnect();\n",
              "        }}\n",
              "}});\n",
              "\n",
              "// Listen for the removal of the full notebook cells\n",
              "var notebookContainer = gd.closest('#notebook-container');\n",
              "if (notebookContainer) {{\n",
              "    x.observe(notebookContainer, {childList: true});\n",
              "}}\n",
              "\n",
              "// Listen for the clearing of the current output cell\n",
              "var outputEl = gd.closest('.output');\n",
              "if (outputEl) {{\n",
              "    x.observe(outputEl, {childList: true});\n",
              "}}\n",
              "\n",
              "                        })                };                            </script>        </div>\n",
              "</body>\n",
              "</html>"
            ]
          },
          "metadata": {}
        }
      ],
      "source": [
        "fig = go.Figure()\n",
        "fig.add_trace(go.Bar(x=call_cons_per.index, y=call_cons_per.yes,\n",
        "                base=[0],marker_color='blue',\n",
        "                name='yes'\n",
        "                ))\n",
        "fig.add_trace(go.Bar(x=call_cons_per.index, y=call_cons_per.no,\n",
        "                base=[-96,-85.1,-86.6],marker_color='yellow',\n",
        "                name='no'))\n",
        "\n",
        "fig.show()"
      ]
    },
    {
      "cell_type": "markdown",
      "metadata": {
        "id": "KnOVGCKxeYtN"
      },
      "source": [
        "This graph shows the Insurance company employees are making good use of Cellular phones to get a customer."
      ]
    },
    {
      "cell_type": "markdown",
      "metadata": {
        "id": "jnc0-nmYiMFS"
      },
      "source": [
        "## **day**"
      ]
    },
    {
      "cell_type": "code",
      "execution_count": 267,
      "metadata": {
        "colab": {
          "base_uri": "https://localhost:8080/",
          "height": 175
        },
        "id": "J0iBfboZDdCd",
        "outputId": "0fb3c763-7961-4af9-fd9d-4feca0298922"
      },
      "outputs": [
        {
          "output_type": "execute_result",
          "data": {
            "text/plain": [
              "           no   yes\n",
              "week_1   8565  1233\n",
              "week_2   9065  1377\n",
              "week_3  12551  1349\n",
              "week_4   9741  1330"
            ],
            "text/html": [
              "\n",
              "  <div id=\"df-31d6dd81-cd6b-4b63-b160-b8ddc8339990\">\n",
              "    <div class=\"colab-df-container\">\n",
              "      <div>\n",
              "<style scoped>\n",
              "    .dataframe tbody tr th:only-of-type {\n",
              "        vertical-align: middle;\n",
              "    }\n",
              "\n",
              "    .dataframe tbody tr th {\n",
              "        vertical-align: top;\n",
              "    }\n",
              "\n",
              "    .dataframe thead th {\n",
              "        text-align: right;\n",
              "    }\n",
              "</style>\n",
              "<table border=\"1\" class=\"dataframe\">\n",
              "  <thead>\n",
              "    <tr style=\"text-align: right;\">\n",
              "      <th></th>\n",
              "      <th>no</th>\n",
              "      <th>yes</th>\n",
              "    </tr>\n",
              "  </thead>\n",
              "  <tbody>\n",
              "    <tr>\n",
              "      <th>week_1</th>\n",
              "      <td>8565</td>\n",
              "      <td>1233</td>\n",
              "    </tr>\n",
              "    <tr>\n",
              "      <th>week_2</th>\n",
              "      <td>9065</td>\n",
              "      <td>1377</td>\n",
              "    </tr>\n",
              "    <tr>\n",
              "      <th>week_3</th>\n",
              "      <td>12551</td>\n",
              "      <td>1349</td>\n",
              "    </tr>\n",
              "    <tr>\n",
              "      <th>week_4</th>\n",
              "      <td>9741</td>\n",
              "      <td>1330</td>\n",
              "    </tr>\n",
              "  </tbody>\n",
              "</table>\n",
              "</div>\n",
              "      <button class=\"colab-df-convert\" onclick=\"convertToInteractive('df-31d6dd81-cd6b-4b63-b160-b8ddc8339990')\"\n",
              "              title=\"Convert this dataframe to an interactive table.\"\n",
              "              style=\"display:none;\">\n",
              "        \n",
              "  <svg xmlns=\"http://www.w3.org/2000/svg\" height=\"24px\"viewBox=\"0 0 24 24\"\n",
              "       width=\"24px\">\n",
              "    <path d=\"M0 0h24v24H0V0z\" fill=\"none\"/>\n",
              "    <path d=\"M18.56 5.44l.94 2.06.94-2.06 2.06-.94-2.06-.94-.94-2.06-.94 2.06-2.06.94zm-11 1L8.5 8.5l.94-2.06 2.06-.94-2.06-.94L8.5 2.5l-.94 2.06-2.06.94zm10 10l.94 2.06.94-2.06 2.06-.94-2.06-.94-.94-2.06-.94 2.06-2.06.94z\"/><path d=\"M17.41 7.96l-1.37-1.37c-.4-.4-.92-.59-1.43-.59-.52 0-1.04.2-1.43.59L10.3 9.45l-7.72 7.72c-.78.78-.78 2.05 0 2.83L4 21.41c.39.39.9.59 1.41.59.51 0 1.02-.2 1.41-.59l7.78-7.78 2.81-2.81c.8-.78.8-2.07 0-2.86zM5.41 20L4 18.59l7.72-7.72 1.47 1.35L5.41 20z\"/>\n",
              "  </svg>\n",
              "      </button>\n",
              "      \n",
              "  <style>\n",
              "    .colab-df-container {\n",
              "      display:flex;\n",
              "      flex-wrap:wrap;\n",
              "      gap: 12px;\n",
              "    }\n",
              "\n",
              "    .colab-df-convert {\n",
              "      background-color: #E8F0FE;\n",
              "      border: none;\n",
              "      border-radius: 50%;\n",
              "      cursor: pointer;\n",
              "      display: none;\n",
              "      fill: #1967D2;\n",
              "      height: 32px;\n",
              "      padding: 0 0 0 0;\n",
              "      width: 32px;\n",
              "    }\n",
              "\n",
              "    .colab-df-convert:hover {\n",
              "      background-color: #E2EBFA;\n",
              "      box-shadow: 0px 1px 2px rgba(60, 64, 67, 0.3), 0px 1px 3px 1px rgba(60, 64, 67, 0.15);\n",
              "      fill: #174EA6;\n",
              "    }\n",
              "\n",
              "    [theme=dark] .colab-df-convert {\n",
              "      background-color: #3B4455;\n",
              "      fill: #D2E3FC;\n",
              "    }\n",
              "\n",
              "    [theme=dark] .colab-df-convert:hover {\n",
              "      background-color: #434B5C;\n",
              "      box-shadow: 0px 1px 3px 1px rgba(0, 0, 0, 0.15);\n",
              "      filter: drop-shadow(0px 1px 2px rgba(0, 0, 0, 0.3));\n",
              "      fill: #FFFFFF;\n",
              "    }\n",
              "  </style>\n",
              "\n",
              "      <script>\n",
              "        const buttonEl =\n",
              "          document.querySelector('#df-31d6dd81-cd6b-4b63-b160-b8ddc8339990 button.colab-df-convert');\n",
              "        buttonEl.style.display =\n",
              "          google.colab.kernel.accessAllowed ? 'block' : 'none';\n",
              "\n",
              "        async function convertToInteractive(key) {\n",
              "          const element = document.querySelector('#df-31d6dd81-cd6b-4b63-b160-b8ddc8339990');\n",
              "          const dataTable =\n",
              "            await google.colab.kernel.invokeFunction('convertToInteractive',\n",
              "                                                     [key], {});\n",
              "          if (!dataTable) return;\n",
              "\n",
              "          const docLinkHtml = 'Like what you see? Visit the ' +\n",
              "            '<a target=\"_blank\" href=https://colab.research.google.com/notebooks/data_table.ipynb>data table notebook</a>'\n",
              "            + ' to learn more about interactive tables.';\n",
              "          element.innerHTML = '';\n",
              "          dataTable['output_type'] = 'display_data';\n",
              "          await google.colab.output.renderOutput(dataTable, element);\n",
              "          const docLink = document.createElement('div');\n",
              "          docLink.innerHTML = docLinkHtml;\n",
              "          element.appendChild(docLink);\n",
              "        }\n",
              "      </script>\n",
              "    </div>\n",
              "  </div>\n",
              "  "
            ]
          },
          "metadata": {},
          "execution_count": 267
        }
      ],
      "source": [
        "week_1_0=0\n",
        "week_1_1=0\n",
        "week_2_0=0\n",
        "week_2_1=0\n",
        "week_3_0=0\n",
        "week_3_1=0\n",
        "week_4_0=0\n",
        "week_4_1=0\n",
        "for i in range(len(df)):\n",
        "  if df.day.iloc[i]<8:\n",
        "    if df.y.iloc[i]=='no':\n",
        "      week_1_0+=1\n",
        "    else:\n",
        "      week_1_1+=1\n",
        "  elif df.day.iloc[i]>=8 and df.day.iloc[i]<15:\n",
        "    if df.y.iloc[i]=='no':\n",
        "      week_2_0+=1\n",
        "    else:\n",
        "      week_2_1+=1\n",
        "  elif df.day.iloc[i]>=15 and df.day.iloc[i]<22:\n",
        "    if df.y.iloc[i]=='no':\n",
        "      week_3_0+=1\n",
        "    else:\n",
        "      week_3_1+=1\n",
        "  else:\n",
        "    if df.y.iloc[i]=='no':\n",
        "      week_4_0+=1\n",
        "    else:\n",
        "      week_4_1+=1\n",
        "data={'no':[week_1_0,week_2_0,week_3_0,week_4_0],\n",
        "      'yes':[week_1_1,week_2_1,week_3_1,week_4_1]\n",
        "      }\n",
        "day_cons=pd.DataFrame(data=data,index=['week_1','week_2','week_3','week_4'])\n",
        "day_cons"
      ]
    },
    {
      "cell_type": "code",
      "execution_count": 268,
      "metadata": {
        "id": "Dv-BYWk7ma2V"
      },
      "outputs": [],
      "source": [
        "week_1_total = week_1_0 + week_1_1\n",
        "\n",
        "week_1_0_per = (week_1_0/week_1_total)*100\n",
        "\n",
        "week_1_1_per = 100-week_1_0_per"
      ]
    },
    {
      "cell_type": "code",
      "execution_count": 269,
      "metadata": {
        "colab": {
          "base_uri": "https://localhost:8080/",
          "height": 542
        },
        "id": "68KDFNPsDc1g",
        "outputId": "c49a90fa-86b7-4730-d829-97077a4e9aec"
      },
      "outputs": [
        {
          "output_type": "display_data",
          "data": {
            "text/html": [
              "<html>\n",
              "<head><meta charset=\"utf-8\" /></head>\n",
              "<body>\n",
              "    <div>            <script src=\"https://cdnjs.cloudflare.com/ajax/libs/mathjax/2.7.5/MathJax.js?config=TeX-AMS-MML_SVG\"></script><script type=\"text/javascript\">if (window.MathJax) {MathJax.Hub.Config({SVG: {font: \"STIX-Web\"}});}</script>                <script type=\"text/javascript\">window.PlotlyConfig = {MathJaxConfig: 'local'};</script>\n",
              "        <script src=\"https://cdn.plot.ly/plotly-2.8.3.min.js\"></script>                <div id=\"11ded799-2d5a-4c69-bcdb-2e037c9304cd\" class=\"plotly-graph-div\" style=\"height:525px; width:100%;\"></div>            <script type=\"text/javascript\">                                    window.PLOTLYENV=window.PLOTLYENV || {};                                    if (document.getElementById(\"11ded799-2d5a-4c69-bcdb-2e037c9304cd\")) {                    Plotly.newPlot(                        \"11ded799-2d5a-4c69-bcdb-2e037c9304cd\",                        [{\"base\":0,\"marker\":{\"color\":\"lightslategrey\"},\"name\":\"no\",\"x\":[\"week_1\",\"week_2\",\"week_3\",\"week_4\"],\"y\":[8565,9065,12551,9741],\"type\":\"bar\"},{\"base\":[0],\"marker\":{\"color\":\"blue\"},\"name\":\"yes\",\"x\":[\"week_1\",\"week_2\",\"week_3\",\"week_4\"],\"y\":[1233,1377,1349,1330],\"type\":\"bar\"}],                        {\"template\":{\"data\":{\"bar\":[{\"error_x\":{\"color\":\"#2a3f5f\"},\"error_y\":{\"color\":\"#2a3f5f\"},\"marker\":{\"line\":{\"color\":\"#E5ECF6\",\"width\":0.5},\"pattern\":{\"fillmode\":\"overlay\",\"size\":10,\"solidity\":0.2}},\"type\":\"bar\"}],\"barpolar\":[{\"marker\":{\"line\":{\"color\":\"#E5ECF6\",\"width\":0.5},\"pattern\":{\"fillmode\":\"overlay\",\"size\":10,\"solidity\":0.2}},\"type\":\"barpolar\"}],\"carpet\":[{\"aaxis\":{\"endlinecolor\":\"#2a3f5f\",\"gridcolor\":\"white\",\"linecolor\":\"white\",\"minorgridcolor\":\"white\",\"startlinecolor\":\"#2a3f5f\"},\"baxis\":{\"endlinecolor\":\"#2a3f5f\",\"gridcolor\":\"white\",\"linecolor\":\"white\",\"minorgridcolor\":\"white\",\"startlinecolor\":\"#2a3f5f\"},\"type\":\"carpet\"}],\"choropleth\":[{\"colorbar\":{\"outlinewidth\":0,\"ticks\":\"\"},\"type\":\"choropleth\"}],\"contour\":[{\"colorbar\":{\"outlinewidth\":0,\"ticks\":\"\"},\"colorscale\":[[0.0,\"#0d0887\"],[0.1111111111111111,\"#46039f\"],[0.2222222222222222,\"#7201a8\"],[0.3333333333333333,\"#9c179e\"],[0.4444444444444444,\"#bd3786\"],[0.5555555555555556,\"#d8576b\"],[0.6666666666666666,\"#ed7953\"],[0.7777777777777778,\"#fb9f3a\"],[0.8888888888888888,\"#fdca26\"],[1.0,\"#f0f921\"]],\"type\":\"contour\"}],\"contourcarpet\":[{\"colorbar\":{\"outlinewidth\":0,\"ticks\":\"\"},\"type\":\"contourcarpet\"}],\"heatmap\":[{\"colorbar\":{\"outlinewidth\":0,\"ticks\":\"\"},\"colorscale\":[[0.0,\"#0d0887\"],[0.1111111111111111,\"#46039f\"],[0.2222222222222222,\"#7201a8\"],[0.3333333333333333,\"#9c179e\"],[0.4444444444444444,\"#bd3786\"],[0.5555555555555556,\"#d8576b\"],[0.6666666666666666,\"#ed7953\"],[0.7777777777777778,\"#fb9f3a\"],[0.8888888888888888,\"#fdca26\"],[1.0,\"#f0f921\"]],\"type\":\"heatmap\"}],\"heatmapgl\":[{\"colorbar\":{\"outlinewidth\":0,\"ticks\":\"\"},\"colorscale\":[[0.0,\"#0d0887\"],[0.1111111111111111,\"#46039f\"],[0.2222222222222222,\"#7201a8\"],[0.3333333333333333,\"#9c179e\"],[0.4444444444444444,\"#bd3786\"],[0.5555555555555556,\"#d8576b\"],[0.6666666666666666,\"#ed7953\"],[0.7777777777777778,\"#fb9f3a\"],[0.8888888888888888,\"#fdca26\"],[1.0,\"#f0f921\"]],\"type\":\"heatmapgl\"}],\"histogram\":[{\"marker\":{\"pattern\":{\"fillmode\":\"overlay\",\"size\":10,\"solidity\":0.2}},\"type\":\"histogram\"}],\"histogram2d\":[{\"colorbar\":{\"outlinewidth\":0,\"ticks\":\"\"},\"colorscale\":[[0.0,\"#0d0887\"],[0.1111111111111111,\"#46039f\"],[0.2222222222222222,\"#7201a8\"],[0.3333333333333333,\"#9c179e\"],[0.4444444444444444,\"#bd3786\"],[0.5555555555555556,\"#d8576b\"],[0.6666666666666666,\"#ed7953\"],[0.7777777777777778,\"#fb9f3a\"],[0.8888888888888888,\"#fdca26\"],[1.0,\"#f0f921\"]],\"type\":\"histogram2d\"}],\"histogram2dcontour\":[{\"colorbar\":{\"outlinewidth\":0,\"ticks\":\"\"},\"colorscale\":[[0.0,\"#0d0887\"],[0.1111111111111111,\"#46039f\"],[0.2222222222222222,\"#7201a8\"],[0.3333333333333333,\"#9c179e\"],[0.4444444444444444,\"#bd3786\"],[0.5555555555555556,\"#d8576b\"],[0.6666666666666666,\"#ed7953\"],[0.7777777777777778,\"#fb9f3a\"],[0.8888888888888888,\"#fdca26\"],[1.0,\"#f0f921\"]],\"type\":\"histogram2dcontour\"}],\"mesh3d\":[{\"colorbar\":{\"outlinewidth\":0,\"ticks\":\"\"},\"type\":\"mesh3d\"}],\"parcoords\":[{\"line\":{\"colorbar\":{\"outlinewidth\":0,\"ticks\":\"\"}},\"type\":\"parcoords\"}],\"pie\":[{\"automargin\":true,\"type\":\"pie\"}],\"scatter\":[{\"marker\":{\"colorbar\":{\"outlinewidth\":0,\"ticks\":\"\"}},\"type\":\"scatter\"}],\"scatter3d\":[{\"line\":{\"colorbar\":{\"outlinewidth\":0,\"ticks\":\"\"}},\"marker\":{\"colorbar\":{\"outlinewidth\":0,\"ticks\":\"\"}},\"type\":\"scatter3d\"}],\"scattercarpet\":[{\"marker\":{\"colorbar\":{\"outlinewidth\":0,\"ticks\":\"\"}},\"type\":\"scattercarpet\"}],\"scattergeo\":[{\"marker\":{\"colorbar\":{\"outlinewidth\":0,\"ticks\":\"\"}},\"type\":\"scattergeo\"}],\"scattergl\":[{\"marker\":{\"colorbar\":{\"outlinewidth\":0,\"ticks\":\"\"}},\"type\":\"scattergl\"}],\"scattermapbox\":[{\"marker\":{\"colorbar\":{\"outlinewidth\":0,\"ticks\":\"\"}},\"type\":\"scattermapbox\"}],\"scatterpolar\":[{\"marker\":{\"colorbar\":{\"outlinewidth\":0,\"ticks\":\"\"}},\"type\":\"scatterpolar\"}],\"scatterpolargl\":[{\"marker\":{\"colorbar\":{\"outlinewidth\":0,\"ticks\":\"\"}},\"type\":\"scatterpolargl\"}],\"scatterternary\":[{\"marker\":{\"colorbar\":{\"outlinewidth\":0,\"ticks\":\"\"}},\"type\":\"scatterternary\"}],\"surface\":[{\"colorbar\":{\"outlinewidth\":0,\"ticks\":\"\"},\"colorscale\":[[0.0,\"#0d0887\"],[0.1111111111111111,\"#46039f\"],[0.2222222222222222,\"#7201a8\"],[0.3333333333333333,\"#9c179e\"],[0.4444444444444444,\"#bd3786\"],[0.5555555555555556,\"#d8576b\"],[0.6666666666666666,\"#ed7953\"],[0.7777777777777778,\"#fb9f3a\"],[0.8888888888888888,\"#fdca26\"],[1.0,\"#f0f921\"]],\"type\":\"surface\"}],\"table\":[{\"cells\":{\"fill\":{\"color\":\"#EBF0F8\"},\"line\":{\"color\":\"white\"}},\"header\":{\"fill\":{\"color\":\"#C8D4E3\"},\"line\":{\"color\":\"white\"}},\"type\":\"table\"}]},\"layout\":{\"annotationdefaults\":{\"arrowcolor\":\"#2a3f5f\",\"arrowhead\":0,\"arrowwidth\":1},\"autotypenumbers\":\"strict\",\"coloraxis\":{\"colorbar\":{\"outlinewidth\":0,\"ticks\":\"\"}},\"colorscale\":{\"diverging\":[[0,\"#8e0152\"],[0.1,\"#c51b7d\"],[0.2,\"#de77ae\"],[0.3,\"#f1b6da\"],[0.4,\"#fde0ef\"],[0.5,\"#f7f7f7\"],[0.6,\"#e6f5d0\"],[0.7,\"#b8e186\"],[0.8,\"#7fbc41\"],[0.9,\"#4d9221\"],[1,\"#276419\"]],\"sequential\":[[0.0,\"#0d0887\"],[0.1111111111111111,\"#46039f\"],[0.2222222222222222,\"#7201a8\"],[0.3333333333333333,\"#9c179e\"],[0.4444444444444444,\"#bd3786\"],[0.5555555555555556,\"#d8576b\"],[0.6666666666666666,\"#ed7953\"],[0.7777777777777778,\"#fb9f3a\"],[0.8888888888888888,\"#fdca26\"],[1.0,\"#f0f921\"]],\"sequentialminus\":[[0.0,\"#0d0887\"],[0.1111111111111111,\"#46039f\"],[0.2222222222222222,\"#7201a8\"],[0.3333333333333333,\"#9c179e\"],[0.4444444444444444,\"#bd3786\"],[0.5555555555555556,\"#d8576b\"],[0.6666666666666666,\"#ed7953\"],[0.7777777777777778,\"#fb9f3a\"],[0.8888888888888888,\"#fdca26\"],[1.0,\"#f0f921\"]]},\"colorway\":[\"#636efa\",\"#EF553B\",\"#00cc96\",\"#ab63fa\",\"#FFA15A\",\"#19d3f3\",\"#FF6692\",\"#B6E880\",\"#FF97FF\",\"#FECB52\"],\"font\":{\"color\":\"#2a3f5f\"},\"geo\":{\"bgcolor\":\"white\",\"lakecolor\":\"white\",\"landcolor\":\"#E5ECF6\",\"showlakes\":true,\"showland\":true,\"subunitcolor\":\"white\"},\"hoverlabel\":{\"align\":\"left\"},\"hovermode\":\"closest\",\"mapbox\":{\"style\":\"light\"},\"paper_bgcolor\":\"white\",\"plot_bgcolor\":\"#E5ECF6\",\"polar\":{\"angularaxis\":{\"gridcolor\":\"white\",\"linecolor\":\"white\",\"ticks\":\"\"},\"bgcolor\":\"#E5ECF6\",\"radialaxis\":{\"gridcolor\":\"white\",\"linecolor\":\"white\",\"ticks\":\"\"}},\"scene\":{\"xaxis\":{\"backgroundcolor\":\"#E5ECF6\",\"gridcolor\":\"white\",\"gridwidth\":2,\"linecolor\":\"white\",\"showbackground\":true,\"ticks\":\"\",\"zerolinecolor\":\"white\"},\"yaxis\":{\"backgroundcolor\":\"#E5ECF6\",\"gridcolor\":\"white\",\"gridwidth\":2,\"linecolor\":\"white\",\"showbackground\":true,\"ticks\":\"\",\"zerolinecolor\":\"white\"},\"zaxis\":{\"backgroundcolor\":\"#E5ECF6\",\"gridcolor\":\"white\",\"gridwidth\":2,\"linecolor\":\"white\",\"showbackground\":true,\"ticks\":\"\",\"zerolinecolor\":\"white\"}},\"shapedefaults\":{\"line\":{\"color\":\"#2a3f5f\"}},\"ternary\":{\"aaxis\":{\"gridcolor\":\"white\",\"linecolor\":\"white\",\"ticks\":\"\"},\"baxis\":{\"gridcolor\":\"white\",\"linecolor\":\"white\",\"ticks\":\"\"},\"bgcolor\":\"#E5ECF6\",\"caxis\":{\"gridcolor\":\"white\",\"linecolor\":\"white\",\"ticks\":\"\"}},\"title\":{\"x\":0.05},\"xaxis\":{\"automargin\":true,\"gridcolor\":\"white\",\"linecolor\":\"white\",\"ticks\":\"\",\"title\":{\"standoff\":15},\"zerolinecolor\":\"white\",\"zerolinewidth\":2},\"yaxis\":{\"automargin\":true,\"gridcolor\":\"white\",\"linecolor\":\"white\",\"ticks\":\"\",\"title\":{\"standoff\":15},\"zerolinecolor\":\"white\",\"zerolinewidth\":2}}}},                        {\"responsive\": true}                    ).then(function(){\n",
              "                            \n",
              "var gd = document.getElementById('11ded799-2d5a-4c69-bcdb-2e037c9304cd');\n",
              "var x = new MutationObserver(function (mutations, observer) {{\n",
              "        var display = window.getComputedStyle(gd).display;\n",
              "        if (!display || display === 'none') {{\n",
              "            console.log([gd, 'removed!']);\n",
              "            Plotly.purge(gd);\n",
              "            observer.disconnect();\n",
              "        }}\n",
              "}});\n",
              "\n",
              "// Listen for the removal of the full notebook cells\n",
              "var notebookContainer = gd.closest('#notebook-container');\n",
              "if (notebookContainer) {{\n",
              "    x.observe(notebookContainer, {childList: true});\n",
              "}}\n",
              "\n",
              "// Listen for the clearing of the current output cell\n",
              "var outputEl = gd.closest('.output');\n",
              "if (outputEl) {{\n",
              "    x.observe(outputEl, {childList: true});\n",
              "}}\n",
              "\n",
              "                        })                };                            </script>        </div>\n",
              "</body>\n",
              "</html>"
            ]
          },
          "metadata": {}
        }
      ],
      "source": [
        "fig = go.Figure()\n",
        "fig.add_trace(go.Bar(x=day_cons.index, y=day_cons.no,\n",
        "                base=0,marker_color='lightslategrey',\n",
        "                name='no'\n",
        "                ))\n",
        "fig.add_trace(go.Bar(x=day_cons.index, y=day_cons.yes,\n",
        "                base=[0],marker_color='blue',\n",
        "                name='yes'))\n",
        "\n",
        "fig.show()"
      ]
    },
    {
      "cell_type": "code",
      "execution_count": 270,
      "metadata": {
        "colab": {
          "base_uri": "https://localhost:8080/",
          "height": 175
        },
        "id": "5hdhknHvNhhi",
        "outputId": "3a926116-b149-4d67-edb1-0c42b208af73"
      },
      "outputs": [
        {
          "output_type": "execute_result",
          "data": {
            "text/plain": [
              "               no        yes\n",
              "week_1  87.415799  12.584201\n",
              "week_2  86.812871  13.187129\n",
              "week_3  90.294964   9.705036\n",
              "week_4  87.986632  12.013368"
            ],
            "text/html": [
              "\n",
              "  <div id=\"df-835b42c5-13e4-4737-886a-850fcee954d7\">\n",
              "    <div class=\"colab-df-container\">\n",
              "      <div>\n",
              "<style scoped>\n",
              "    .dataframe tbody tr th:only-of-type {\n",
              "        vertical-align: middle;\n",
              "    }\n",
              "\n",
              "    .dataframe tbody tr th {\n",
              "        vertical-align: top;\n",
              "    }\n",
              "\n",
              "    .dataframe thead th {\n",
              "        text-align: right;\n",
              "    }\n",
              "</style>\n",
              "<table border=\"1\" class=\"dataframe\">\n",
              "  <thead>\n",
              "    <tr style=\"text-align: right;\">\n",
              "      <th></th>\n",
              "      <th>no</th>\n",
              "      <th>yes</th>\n",
              "    </tr>\n",
              "  </thead>\n",
              "  <tbody>\n",
              "    <tr>\n",
              "      <th>week_1</th>\n",
              "      <td>87.415799</td>\n",
              "      <td>12.584201</td>\n",
              "    </tr>\n",
              "    <tr>\n",
              "      <th>week_2</th>\n",
              "      <td>86.812871</td>\n",
              "      <td>13.187129</td>\n",
              "    </tr>\n",
              "    <tr>\n",
              "      <th>week_3</th>\n",
              "      <td>90.294964</td>\n",
              "      <td>9.705036</td>\n",
              "    </tr>\n",
              "    <tr>\n",
              "      <th>week_4</th>\n",
              "      <td>87.986632</td>\n",
              "      <td>12.013368</td>\n",
              "    </tr>\n",
              "  </tbody>\n",
              "</table>\n",
              "</div>\n",
              "      <button class=\"colab-df-convert\" onclick=\"convertToInteractive('df-835b42c5-13e4-4737-886a-850fcee954d7')\"\n",
              "              title=\"Convert this dataframe to an interactive table.\"\n",
              "              style=\"display:none;\">\n",
              "        \n",
              "  <svg xmlns=\"http://www.w3.org/2000/svg\" height=\"24px\"viewBox=\"0 0 24 24\"\n",
              "       width=\"24px\">\n",
              "    <path d=\"M0 0h24v24H0V0z\" fill=\"none\"/>\n",
              "    <path d=\"M18.56 5.44l.94 2.06.94-2.06 2.06-.94-2.06-.94-.94-2.06-.94 2.06-2.06.94zm-11 1L8.5 8.5l.94-2.06 2.06-.94-2.06-.94L8.5 2.5l-.94 2.06-2.06.94zm10 10l.94 2.06.94-2.06 2.06-.94-2.06-.94-.94-2.06-.94 2.06-2.06.94z\"/><path d=\"M17.41 7.96l-1.37-1.37c-.4-.4-.92-.59-1.43-.59-.52 0-1.04.2-1.43.59L10.3 9.45l-7.72 7.72c-.78.78-.78 2.05 0 2.83L4 21.41c.39.39.9.59 1.41.59.51 0 1.02-.2 1.41-.59l7.78-7.78 2.81-2.81c.8-.78.8-2.07 0-2.86zM5.41 20L4 18.59l7.72-7.72 1.47 1.35L5.41 20z\"/>\n",
              "  </svg>\n",
              "      </button>\n",
              "      \n",
              "  <style>\n",
              "    .colab-df-container {\n",
              "      display:flex;\n",
              "      flex-wrap:wrap;\n",
              "      gap: 12px;\n",
              "    }\n",
              "\n",
              "    .colab-df-convert {\n",
              "      background-color: #E8F0FE;\n",
              "      border: none;\n",
              "      border-radius: 50%;\n",
              "      cursor: pointer;\n",
              "      display: none;\n",
              "      fill: #1967D2;\n",
              "      height: 32px;\n",
              "      padding: 0 0 0 0;\n",
              "      width: 32px;\n",
              "    }\n",
              "\n",
              "    .colab-df-convert:hover {\n",
              "      background-color: #E2EBFA;\n",
              "      box-shadow: 0px 1px 2px rgba(60, 64, 67, 0.3), 0px 1px 3px 1px rgba(60, 64, 67, 0.15);\n",
              "      fill: #174EA6;\n",
              "    }\n",
              "\n",
              "    [theme=dark] .colab-df-convert {\n",
              "      background-color: #3B4455;\n",
              "      fill: #D2E3FC;\n",
              "    }\n",
              "\n",
              "    [theme=dark] .colab-df-convert:hover {\n",
              "      background-color: #434B5C;\n",
              "      box-shadow: 0px 1px 3px 1px rgba(0, 0, 0, 0.15);\n",
              "      filter: drop-shadow(0px 1px 2px rgba(0, 0, 0, 0.3));\n",
              "      fill: #FFFFFF;\n",
              "    }\n",
              "  </style>\n",
              "\n",
              "      <script>\n",
              "        const buttonEl =\n",
              "          document.querySelector('#df-835b42c5-13e4-4737-886a-850fcee954d7 button.colab-df-convert');\n",
              "        buttonEl.style.display =\n",
              "          google.colab.kernel.accessAllowed ? 'block' : 'none';\n",
              "\n",
              "        async function convertToInteractive(key) {\n",
              "          const element = document.querySelector('#df-835b42c5-13e4-4737-886a-850fcee954d7');\n",
              "          const dataTable =\n",
              "            await google.colab.kernel.invokeFunction('convertToInteractive',\n",
              "                                                     [key], {});\n",
              "          if (!dataTable) return;\n",
              "\n",
              "          const docLinkHtml = 'Like what you see? Visit the ' +\n",
              "            '<a target=\"_blank\" href=https://colab.research.google.com/notebooks/data_table.ipynb>data table notebook</a>'\n",
              "            + ' to learn more about interactive tables.';\n",
              "          element.innerHTML = '';\n",
              "          dataTable['output_type'] = 'display_data';\n",
              "          await google.colab.output.renderOutput(dataTable, element);\n",
              "          const docLink = document.createElement('div');\n",
              "          docLink.innerHTML = docLinkHtml;\n",
              "          element.appendChild(docLink);\n",
              "        }\n",
              "      </script>\n",
              "    </div>\n",
              "  </div>\n",
              "  "
            ]
          },
          "metadata": {},
          "execution_count": 270
        }
      ],
      "source": [
        "total_week_1=week_1_0+week_1_1\n",
        "week_1_0p=(week_1_0/total_week_1)*100\n",
        "week_1_1p=100-week_1_0p\n",
        "\n",
        "total_week_2=week_2_0+week_2_1\n",
        "week_2_0p=(week_2_0/total_week_2)*100\n",
        "week_2_1p=100-week_2_0p\n",
        "\n",
        "total_week_3=week_3_0+week_3_1\n",
        "week_3_0p=(week_3_0/total_week_3)*100\n",
        "week_3_1p=100-week_3_0p\n",
        "\n",
        "total_week_4=week_4_0+week_4_1\n",
        "week_4_0p=(week_4_0/total_week_4)*100\n",
        "week_4_1p=100-week_4_0p\n",
        "\n",
        "\n",
        "data={'no':[week_1_0p,week_2_0p,week_3_0p,week_4_0p],\n",
        "      'yes':[week_1_1p,week_2_1p,week_3_1p,week_4_1p]}\n",
        "week_cons_per=pd.DataFrame(data=data,index=['week_1','week_2','week_3','week_4'])\n",
        "week_cons_per"
      ]
    },
    {
      "cell_type": "code",
      "execution_count": 271,
      "metadata": {
        "colab": {
          "base_uri": "https://localhost:8080/",
          "height": 542
        },
        "id": "Q25N5dGXkjnc",
        "outputId": "83b7a6ba-a506-47e1-f377-03d29dce5b43"
      },
      "outputs": [
        {
          "output_type": "display_data",
          "data": {
            "text/html": [
              "<html>\n",
              "<head><meta charset=\"utf-8\" /></head>\n",
              "<body>\n",
              "    <div>            <script src=\"https://cdnjs.cloudflare.com/ajax/libs/mathjax/2.7.5/MathJax.js?config=TeX-AMS-MML_SVG\"></script><script type=\"text/javascript\">if (window.MathJax) {MathJax.Hub.Config({SVG: {font: \"STIX-Web\"}});}</script>                <script type=\"text/javascript\">window.PlotlyConfig = {MathJaxConfig: 'local'};</script>\n",
              "        <script src=\"https://cdn.plot.ly/plotly-2.8.3.min.js\"></script>                <div id=\"687f4def-03e1-4073-86fa-cca5a5397b06\" class=\"plotly-graph-div\" style=\"height:525px; width:100%;\"></div>            <script type=\"text/javascript\">                                    window.PLOTLYENV=window.PLOTLYENV || {};                                    if (document.getElementById(\"687f4def-03e1-4073-86fa-cca5a5397b06\")) {                    Plotly.newPlot(                        \"687f4def-03e1-4073-86fa-cca5a5397b06\",                        [{\"base\":[0],\"marker\":{\"color\":\"blue\"},\"name\":\"yes\",\"x\":[\"week_1\",\"week_2\",\"week_3\",\"week_4\"],\"y\":[12.584200857317825,13.187128902509087,9.705035971223026,12.013368259416495],\"type\":\"bar\"},{\"base\":[-87.42,-86.9,-90.3,-88],\"marker\":{\"color\":\"yellow\"},\"name\":\"no\",\"x\":[\"week_1\",\"week_2\",\"week_3\",\"week_4\"],\"y\":[87.41579914268218,86.81287109749091,90.29496402877697,87.9866317405835],\"type\":\"bar\"}],                        {\"template\":{\"data\":{\"bar\":[{\"error_x\":{\"color\":\"#2a3f5f\"},\"error_y\":{\"color\":\"#2a3f5f\"},\"marker\":{\"line\":{\"color\":\"#E5ECF6\",\"width\":0.5},\"pattern\":{\"fillmode\":\"overlay\",\"size\":10,\"solidity\":0.2}},\"type\":\"bar\"}],\"barpolar\":[{\"marker\":{\"line\":{\"color\":\"#E5ECF6\",\"width\":0.5},\"pattern\":{\"fillmode\":\"overlay\",\"size\":10,\"solidity\":0.2}},\"type\":\"barpolar\"}],\"carpet\":[{\"aaxis\":{\"endlinecolor\":\"#2a3f5f\",\"gridcolor\":\"white\",\"linecolor\":\"white\",\"minorgridcolor\":\"white\",\"startlinecolor\":\"#2a3f5f\"},\"baxis\":{\"endlinecolor\":\"#2a3f5f\",\"gridcolor\":\"white\",\"linecolor\":\"white\",\"minorgridcolor\":\"white\",\"startlinecolor\":\"#2a3f5f\"},\"type\":\"carpet\"}],\"choropleth\":[{\"colorbar\":{\"outlinewidth\":0,\"ticks\":\"\"},\"type\":\"choropleth\"}],\"contour\":[{\"colorbar\":{\"outlinewidth\":0,\"ticks\":\"\"},\"colorscale\":[[0.0,\"#0d0887\"],[0.1111111111111111,\"#46039f\"],[0.2222222222222222,\"#7201a8\"],[0.3333333333333333,\"#9c179e\"],[0.4444444444444444,\"#bd3786\"],[0.5555555555555556,\"#d8576b\"],[0.6666666666666666,\"#ed7953\"],[0.7777777777777778,\"#fb9f3a\"],[0.8888888888888888,\"#fdca26\"],[1.0,\"#f0f921\"]],\"type\":\"contour\"}],\"contourcarpet\":[{\"colorbar\":{\"outlinewidth\":0,\"ticks\":\"\"},\"type\":\"contourcarpet\"}],\"heatmap\":[{\"colorbar\":{\"outlinewidth\":0,\"ticks\":\"\"},\"colorscale\":[[0.0,\"#0d0887\"],[0.1111111111111111,\"#46039f\"],[0.2222222222222222,\"#7201a8\"],[0.3333333333333333,\"#9c179e\"],[0.4444444444444444,\"#bd3786\"],[0.5555555555555556,\"#d8576b\"],[0.6666666666666666,\"#ed7953\"],[0.7777777777777778,\"#fb9f3a\"],[0.8888888888888888,\"#fdca26\"],[1.0,\"#f0f921\"]],\"type\":\"heatmap\"}],\"heatmapgl\":[{\"colorbar\":{\"outlinewidth\":0,\"ticks\":\"\"},\"colorscale\":[[0.0,\"#0d0887\"],[0.1111111111111111,\"#46039f\"],[0.2222222222222222,\"#7201a8\"],[0.3333333333333333,\"#9c179e\"],[0.4444444444444444,\"#bd3786\"],[0.5555555555555556,\"#d8576b\"],[0.6666666666666666,\"#ed7953\"],[0.7777777777777778,\"#fb9f3a\"],[0.8888888888888888,\"#fdca26\"],[1.0,\"#f0f921\"]],\"type\":\"heatmapgl\"}],\"histogram\":[{\"marker\":{\"pattern\":{\"fillmode\":\"overlay\",\"size\":10,\"solidity\":0.2}},\"type\":\"histogram\"}],\"histogram2d\":[{\"colorbar\":{\"outlinewidth\":0,\"ticks\":\"\"},\"colorscale\":[[0.0,\"#0d0887\"],[0.1111111111111111,\"#46039f\"],[0.2222222222222222,\"#7201a8\"],[0.3333333333333333,\"#9c179e\"],[0.4444444444444444,\"#bd3786\"],[0.5555555555555556,\"#d8576b\"],[0.6666666666666666,\"#ed7953\"],[0.7777777777777778,\"#fb9f3a\"],[0.8888888888888888,\"#fdca26\"],[1.0,\"#f0f921\"]],\"type\":\"histogram2d\"}],\"histogram2dcontour\":[{\"colorbar\":{\"outlinewidth\":0,\"ticks\":\"\"},\"colorscale\":[[0.0,\"#0d0887\"],[0.1111111111111111,\"#46039f\"],[0.2222222222222222,\"#7201a8\"],[0.3333333333333333,\"#9c179e\"],[0.4444444444444444,\"#bd3786\"],[0.5555555555555556,\"#d8576b\"],[0.6666666666666666,\"#ed7953\"],[0.7777777777777778,\"#fb9f3a\"],[0.8888888888888888,\"#fdca26\"],[1.0,\"#f0f921\"]],\"type\":\"histogram2dcontour\"}],\"mesh3d\":[{\"colorbar\":{\"outlinewidth\":0,\"ticks\":\"\"},\"type\":\"mesh3d\"}],\"parcoords\":[{\"line\":{\"colorbar\":{\"outlinewidth\":0,\"ticks\":\"\"}},\"type\":\"parcoords\"}],\"pie\":[{\"automargin\":true,\"type\":\"pie\"}],\"scatter\":[{\"marker\":{\"colorbar\":{\"outlinewidth\":0,\"ticks\":\"\"}},\"type\":\"scatter\"}],\"scatter3d\":[{\"line\":{\"colorbar\":{\"outlinewidth\":0,\"ticks\":\"\"}},\"marker\":{\"colorbar\":{\"outlinewidth\":0,\"ticks\":\"\"}},\"type\":\"scatter3d\"}],\"scattercarpet\":[{\"marker\":{\"colorbar\":{\"outlinewidth\":0,\"ticks\":\"\"}},\"type\":\"scattercarpet\"}],\"scattergeo\":[{\"marker\":{\"colorbar\":{\"outlinewidth\":0,\"ticks\":\"\"}},\"type\":\"scattergeo\"}],\"scattergl\":[{\"marker\":{\"colorbar\":{\"outlinewidth\":0,\"ticks\":\"\"}},\"type\":\"scattergl\"}],\"scattermapbox\":[{\"marker\":{\"colorbar\":{\"outlinewidth\":0,\"ticks\":\"\"}},\"type\":\"scattermapbox\"}],\"scatterpolar\":[{\"marker\":{\"colorbar\":{\"outlinewidth\":0,\"ticks\":\"\"}},\"type\":\"scatterpolar\"}],\"scatterpolargl\":[{\"marker\":{\"colorbar\":{\"outlinewidth\":0,\"ticks\":\"\"}},\"type\":\"scatterpolargl\"}],\"scatterternary\":[{\"marker\":{\"colorbar\":{\"outlinewidth\":0,\"ticks\":\"\"}},\"type\":\"scatterternary\"}],\"surface\":[{\"colorbar\":{\"outlinewidth\":0,\"ticks\":\"\"},\"colorscale\":[[0.0,\"#0d0887\"],[0.1111111111111111,\"#46039f\"],[0.2222222222222222,\"#7201a8\"],[0.3333333333333333,\"#9c179e\"],[0.4444444444444444,\"#bd3786\"],[0.5555555555555556,\"#d8576b\"],[0.6666666666666666,\"#ed7953\"],[0.7777777777777778,\"#fb9f3a\"],[0.8888888888888888,\"#fdca26\"],[1.0,\"#f0f921\"]],\"type\":\"surface\"}],\"table\":[{\"cells\":{\"fill\":{\"color\":\"#EBF0F8\"},\"line\":{\"color\":\"white\"}},\"header\":{\"fill\":{\"color\":\"#C8D4E3\"},\"line\":{\"color\":\"white\"}},\"type\":\"table\"}]},\"layout\":{\"annotationdefaults\":{\"arrowcolor\":\"#2a3f5f\",\"arrowhead\":0,\"arrowwidth\":1},\"autotypenumbers\":\"strict\",\"coloraxis\":{\"colorbar\":{\"outlinewidth\":0,\"ticks\":\"\"}},\"colorscale\":{\"diverging\":[[0,\"#8e0152\"],[0.1,\"#c51b7d\"],[0.2,\"#de77ae\"],[0.3,\"#f1b6da\"],[0.4,\"#fde0ef\"],[0.5,\"#f7f7f7\"],[0.6,\"#e6f5d0\"],[0.7,\"#b8e186\"],[0.8,\"#7fbc41\"],[0.9,\"#4d9221\"],[1,\"#276419\"]],\"sequential\":[[0.0,\"#0d0887\"],[0.1111111111111111,\"#46039f\"],[0.2222222222222222,\"#7201a8\"],[0.3333333333333333,\"#9c179e\"],[0.4444444444444444,\"#bd3786\"],[0.5555555555555556,\"#d8576b\"],[0.6666666666666666,\"#ed7953\"],[0.7777777777777778,\"#fb9f3a\"],[0.8888888888888888,\"#fdca26\"],[1.0,\"#f0f921\"]],\"sequentialminus\":[[0.0,\"#0d0887\"],[0.1111111111111111,\"#46039f\"],[0.2222222222222222,\"#7201a8\"],[0.3333333333333333,\"#9c179e\"],[0.4444444444444444,\"#bd3786\"],[0.5555555555555556,\"#d8576b\"],[0.6666666666666666,\"#ed7953\"],[0.7777777777777778,\"#fb9f3a\"],[0.8888888888888888,\"#fdca26\"],[1.0,\"#f0f921\"]]},\"colorway\":[\"#636efa\",\"#EF553B\",\"#00cc96\",\"#ab63fa\",\"#FFA15A\",\"#19d3f3\",\"#FF6692\",\"#B6E880\",\"#FF97FF\",\"#FECB52\"],\"font\":{\"color\":\"#2a3f5f\"},\"geo\":{\"bgcolor\":\"white\",\"lakecolor\":\"white\",\"landcolor\":\"#E5ECF6\",\"showlakes\":true,\"showland\":true,\"subunitcolor\":\"white\"},\"hoverlabel\":{\"align\":\"left\"},\"hovermode\":\"closest\",\"mapbox\":{\"style\":\"light\"},\"paper_bgcolor\":\"white\",\"plot_bgcolor\":\"#E5ECF6\",\"polar\":{\"angularaxis\":{\"gridcolor\":\"white\",\"linecolor\":\"white\",\"ticks\":\"\"},\"bgcolor\":\"#E5ECF6\",\"radialaxis\":{\"gridcolor\":\"white\",\"linecolor\":\"white\",\"ticks\":\"\"}},\"scene\":{\"xaxis\":{\"backgroundcolor\":\"#E5ECF6\",\"gridcolor\":\"white\",\"gridwidth\":2,\"linecolor\":\"white\",\"showbackground\":true,\"ticks\":\"\",\"zerolinecolor\":\"white\"},\"yaxis\":{\"backgroundcolor\":\"#E5ECF6\",\"gridcolor\":\"white\",\"gridwidth\":2,\"linecolor\":\"white\",\"showbackground\":true,\"ticks\":\"\",\"zerolinecolor\":\"white\"},\"zaxis\":{\"backgroundcolor\":\"#E5ECF6\",\"gridcolor\":\"white\",\"gridwidth\":2,\"linecolor\":\"white\",\"showbackground\":true,\"ticks\":\"\",\"zerolinecolor\":\"white\"}},\"shapedefaults\":{\"line\":{\"color\":\"#2a3f5f\"}},\"ternary\":{\"aaxis\":{\"gridcolor\":\"white\",\"linecolor\":\"white\",\"ticks\":\"\"},\"baxis\":{\"gridcolor\":\"white\",\"linecolor\":\"white\",\"ticks\":\"\"},\"bgcolor\":\"#E5ECF6\",\"caxis\":{\"gridcolor\":\"white\",\"linecolor\":\"white\",\"ticks\":\"\"}},\"title\":{\"x\":0.05},\"xaxis\":{\"automargin\":true,\"gridcolor\":\"white\",\"linecolor\":\"white\",\"ticks\":\"\",\"title\":{\"standoff\":15},\"zerolinecolor\":\"white\",\"zerolinewidth\":2},\"yaxis\":{\"automargin\":true,\"gridcolor\":\"white\",\"linecolor\":\"white\",\"ticks\":\"\",\"title\":{\"standoff\":15},\"zerolinecolor\":\"white\",\"zerolinewidth\":2}}}},                        {\"responsive\": true}                    ).then(function(){\n",
              "                            \n",
              "var gd = document.getElementById('687f4def-03e1-4073-86fa-cca5a5397b06');\n",
              "var x = new MutationObserver(function (mutations, observer) {{\n",
              "        var display = window.getComputedStyle(gd).display;\n",
              "        if (!display || display === 'none') {{\n",
              "            console.log([gd, 'removed!']);\n",
              "            Plotly.purge(gd);\n",
              "            observer.disconnect();\n",
              "        }}\n",
              "}});\n",
              "\n",
              "// Listen for the removal of the full notebook cells\n",
              "var notebookContainer = gd.closest('#notebook-container');\n",
              "if (notebookContainer) {{\n",
              "    x.observe(notebookContainer, {childList: true});\n",
              "}}\n",
              "\n",
              "// Listen for the clearing of the current output cell\n",
              "var outputEl = gd.closest('.output');\n",
              "if (outputEl) {{\n",
              "    x.observe(outputEl, {childList: true});\n",
              "}}\n",
              "\n",
              "                        })                };                            </script>        </div>\n",
              "</body>\n",
              "</html>"
            ]
          },
          "metadata": {}
        }
      ],
      "source": [
        "fig = go.Figure()\n",
        "fig.add_trace(go.Bar(x=week_cons_per.index, y=week_cons_per.yes,\n",
        "                base=[0],marker_color='blue',\n",
        "                name='yes'))\n",
        "fig.add_trace(go.Bar(x=week_cons_per.index, y=week_cons_per.no,\n",
        "                base=[-87.42,-86.9,-90.3,-88],marker_color='yellow',\n",
        "                name='no'\n",
        "                ))\n",
        "\n",
        "fig.show()"
      ]
    },
    {
      "cell_type": "markdown",
      "metadata": {
        "id": "eQ-XNgoXesr4"
      },
      "source": [
        "The above graph shows, \n",
        "\n",
        "1)People are more likely to get an insurance in the second week of the month\n",
        "\n",
        "2)The Third week is a bad week to ask customers for insurance"
      ]
    },
    {
      "cell_type": "markdown",
      "metadata": {
        "id": "9Wlrf1r-nHc-"
      },
      "source": [
        "## **month**"
      ]
    },
    {
      "cell_type": "code",
      "execution_count": 272,
      "metadata": {
        "colab": {
          "base_uri": "https://localhost:8080/",
          "height": 296
        },
        "id": "h19Cq1_XVbgD",
        "outputId": "875e74c6-d7a3-4e7e-981c-f5358debe92b"
      },
      "outputs": [
        {
          "output_type": "execute_result",
          "data": {
            "text/plain": [
              "<matplotlib.axes._subplots.AxesSubplot at 0x7f2da5702210>"
            ]
          },
          "metadata": {},
          "execution_count": 272
        },
        {
          "output_type": "display_data",
          "data": {
            "text/plain": [
              "<Figure size 432x288 with 1 Axes>"
            ],
            "image/png": "[encoded data removed]"
          },
          "metadata": {
            "needs_background": "light"
          }
        }
      ],
      "source": [
        "sns.countplot(x=df['mon'],hue=df['y'])"
      ]
    },
    {
      "cell_type": "code",
      "execution_count": 273,
      "metadata": {
        "colab": {
          "base_uri": "https://localhost:8080/"
        },
        "id": "SQejSRAMxInK",
        "outputId": "ab640d2f-86fb-40f6-c9bc-5ba7cd779dbf"
      },
      "outputs": [
        {
          "output_type": "stream",
          "name": "stdout",
          "text": [
            "                 no   yes\n",
            "first_quart    3698   831\n",
            "second_quart  19991  2048\n",
            "third_quart   12137  1584\n",
            "fourth_quart   4096   826\n"
          ]
        }
      ],
      "source": [
        "df['mon']=df['mon'].replace({'jan':0,'feb':1,'mar':2,'apr':3,'may':4,'jun':5,'jul':6,'aug':7,'sep':8,'oct':9,'nov':10,'dec':11})\n",
        "first_quart_0 =0\n",
        "first_quart_1 =0\n",
        "second_quart_0 =0\n",
        "second_quart_1 =0\n",
        "third_quart_0 =0\n",
        "third_quart_1 =0\n",
        "fourth_quart_0 =0\n",
        "fourth_quart_1 =0\n",
        "\n",
        "for i in range(len(df)):\n",
        "  if df.mon.iloc[i]<3:\n",
        "    if df.y.iloc[i]=='no':\n",
        "      first_quart_0+=1\n",
        "    else:\n",
        "      first_quart_1+=1\n",
        "  elif df.mon.iloc[i]>=3 and df.mon.iloc[i]<6:\n",
        "    if df.y.iloc[i]=='no':\n",
        "      second_quart_0+=1\n",
        "    else:\n",
        "      second_quart_1+=1\n",
        "  elif df.mon.iloc[i]>=6 and df.mon.iloc[i]<9:\n",
        "    if df.y.iloc[i]=='no':\n",
        "      third_quart_0+=1\n",
        "    else:\n",
        "      third_quart_1+=1\n",
        "  else:\n",
        "    if df.y.iloc[i]=='no':\n",
        "      fourth_quart_0+=1\n",
        "    else:\n",
        "      fourth_quart_1+=1\n",
        "\n",
        "\n",
        "data={'no':[first_quart_0,second_quart_0,third_quart_0,fourth_quart_0],\n",
        "      'yes':[first_quart_1,second_quart_1,third_quart_1,fourth_quart_1]\n",
        "      }\n",
        "mon_cons=pd.DataFrame(data=data,index=['first_quart','second_quart','third_quart','fourth_quart'])\n",
        "print(mon_cons)\n",
        "\n",
        "\n"
      ]
    },
    {
      "cell_type": "code",
      "execution_count": 274,
      "metadata": {
        "colab": {
          "base_uri": "https://localhost:8080/",
          "height": 542
        },
        "id": "4700moKxxMnF",
        "outputId": "523bb646-9489-4930-ec0a-1135234386db"
      },
      "outputs": [
        {
          "output_type": "display_data",
          "data": {
            "text/html": [
              "<html>\n",
              "<head><meta charset=\"utf-8\" /></head>\n",
              "<body>\n",
              "    <div>            <script src=\"https://cdnjs.cloudflare.com/ajax/libs/mathjax/2.7.5/MathJax.js?config=TeX-AMS-MML_SVG\"></script><script type=\"text/javascript\">if (window.MathJax) {MathJax.Hub.Config({SVG: {font: \"STIX-Web\"}});}</script>                <script type=\"text/javascript\">window.PlotlyConfig = {MathJaxConfig: 'local'};</script>\n",
              "        <script src=\"https://cdn.plot.ly/plotly-2.8.3.min.js\"></script>                <div id=\"a6b88e77-070c-45b1-87b7-cbcca3237dde\" class=\"plotly-graph-div\" style=\"height:525px; width:100%;\"></div>            <script type=\"text/javascript\">                                    window.PLOTLYENV=window.PLOTLYENV || {};                                    if (document.getElementById(\"a6b88e77-070c-45b1-87b7-cbcca3237dde\")) {                    Plotly.newPlot(                        \"a6b88e77-070c-45b1-87b7-cbcca3237dde\",                        [{\"base\":0,\"marker\":{\"color\":\"red\"},\"name\":\"no\",\"x\":[\"first_quart\",\"second_quart\",\"third_quart\",\"fourth_quart\"],\"y\":[3698,19991,12137,4096],\"type\":\"bar\"},{\"base\":[-831,-2048,-1584,-826],\"marker\":{\"color\":\"green\"},\"name\":\"yes\",\"x\":[\"first_quart\",\"second_quart\",\"third_quart\",\"fourth_quart\"],\"y\":[831,2048,1584,826],\"type\":\"bar\"}],                        {\"template\":{\"data\":{\"bar\":[{\"error_x\":{\"color\":\"#2a3f5f\"},\"error_y\":{\"color\":\"#2a3f5f\"},\"marker\":{\"line\":{\"color\":\"#E5ECF6\",\"width\":0.5},\"pattern\":{\"fillmode\":\"overlay\",\"size\":10,\"solidity\":0.2}},\"type\":\"bar\"}],\"barpolar\":[{\"marker\":{\"line\":{\"color\":\"#E5ECF6\",\"width\":0.5},\"pattern\":{\"fillmode\":\"overlay\",\"size\":10,\"solidity\":0.2}},\"type\":\"barpolar\"}],\"carpet\":[{\"aaxis\":{\"endlinecolor\":\"#2a3f5f\",\"gridcolor\":\"white\",\"linecolor\":\"white\",\"minorgridcolor\":\"white\",\"startlinecolor\":\"#2a3f5f\"},\"baxis\":{\"endlinecolor\":\"#2a3f5f\",\"gridcolor\":\"white\",\"linecolor\":\"white\",\"minorgridcolor\":\"white\",\"startlinecolor\":\"#2a3f5f\"},\"type\":\"carpet\"}],\"choropleth\":[{\"colorbar\":{\"outlinewidth\":0,\"ticks\":\"\"},\"type\":\"choropleth\"}],\"contour\":[{\"colorbar\":{\"outlinewidth\":0,\"ticks\":\"\"},\"colorscale\":[[0.0,\"#0d0887\"],[0.1111111111111111,\"#46039f\"],[0.2222222222222222,\"#7201a8\"],[0.3333333333333333,\"#9c179e\"],[0.4444444444444444,\"#bd3786\"],[0.5555555555555556,\"#d8576b\"],[0.6666666666666666,\"#ed7953\"],[0.7777777777777778,\"#fb9f3a\"],[0.8888888888888888,\"#fdca26\"],[1.0,\"#f0f921\"]],\"type\":\"contour\"}],\"contourcarpet\":[{\"colorbar\":{\"outlinewidth\":0,\"ticks\":\"\"},\"type\":\"contourcarpet\"}],\"heatmap\":[{\"colorbar\":{\"outlinewidth\":0,\"ticks\":\"\"},\"colorscale\":[[0.0,\"#0d0887\"],[0.1111111111111111,\"#46039f\"],[0.2222222222222222,\"#7201a8\"],[0.3333333333333333,\"#9c179e\"],[0.4444444444444444,\"#bd3786\"],[0.5555555555555556,\"#d8576b\"],[0.6666666666666666,\"#ed7953\"],[0.7777777777777778,\"#fb9f3a\"],[0.8888888888888888,\"#fdca26\"],[1.0,\"#f0f921\"]],\"type\":\"heatmap\"}],\"heatmapgl\":[{\"colorbar\":{\"outlinewidth\":0,\"ticks\":\"\"},\"colorscale\":[[0.0,\"#0d0887\"],[0.1111111111111111,\"#46039f\"],[0.2222222222222222,\"#7201a8\"],[0.3333333333333333,\"#9c179e\"],[0.4444444444444444,\"#bd3786\"],[0.5555555555555556,\"#d8576b\"],[0.6666666666666666,\"#ed7953\"],[0.7777777777777778,\"#fb9f3a\"],[0.8888888888888888,\"#fdca26\"],[1.0,\"#f0f921\"]],\"type\":\"heatmapgl\"}],\"histogram\":[{\"marker\":{\"pattern\":{\"fillmode\":\"overlay\",\"size\":10,\"solidity\":0.2}},\"type\":\"histogram\"}],\"histogram2d\":[{\"colorbar\":{\"outlinewidth\":0,\"ticks\":\"\"},\"colorscale\":[[0.0,\"#0d0887\"],[0.1111111111111111,\"#46039f\"],[0.2222222222222222,\"#7201a8\"],[0.3333333333333333,\"#9c179e\"],[0.4444444444444444,\"#bd3786\"],[0.5555555555555556,\"#d8576b\"],[0.6666666666666666,\"#ed7953\"],[0.7777777777777778,\"#fb9f3a\"],[0.8888888888888888,\"#fdca26\"],[1.0,\"#f0f921\"]],\"type\":\"histogram2d\"}],\"histogram2dcontour\":[{\"colorbar\":{\"outlinewidth\":0,\"ticks\":\"\"},\"colorscale\":[[0.0,\"#0d0887\"],[0.1111111111111111,\"#46039f\"],[0.2222222222222222,\"#7201a8\"],[0.3333333333333333,\"#9c179e\"],[0.4444444444444444,\"#bd3786\"],[0.5555555555555556,\"#d8576b\"],[0.6666666666666666,\"#ed7953\"],[0.7777777777777778,\"#fb9f3a\"],[0.8888888888888888,\"#fdca26\"],[1.0,\"#f0f921\"]],\"type\":\"histogram2dcontour\"}],\"mesh3d\":[{\"colorbar\":{\"outlinewidth\":0,\"ticks\":\"\"},\"type\":\"mesh3d\"}],\"parcoords\":[{\"line\":{\"colorbar\":{\"outlinewidth\":0,\"ticks\":\"\"}},\"type\":\"parcoords\"}],\"pie\":[{\"automargin\":true,\"type\":\"pie\"}],\"scatter\":[{\"marker\":{\"colorbar\":{\"outlinewidth\":0,\"ticks\":\"\"}},\"type\":\"scatter\"}],\"scatter3d\":[{\"line\":{\"colorbar\":{\"outlinewidth\":0,\"ticks\":\"\"}},\"marker\":{\"colorbar\":{\"outlinewidth\":0,\"ticks\":\"\"}},\"type\":\"scatter3d\"}],\"scattercarpet\":[{\"marker\":{\"colorbar\":{\"outlinewidth\":0,\"ticks\":\"\"}},\"type\":\"scattercarpet\"}],\"scattergeo\":[{\"marker\":{\"colorbar\":{\"outlinewidth\":0,\"ticks\":\"\"}},\"type\":\"scattergeo\"}],\"scattergl\":[{\"marker\":{\"colorbar\":{\"outlinewidth\":0,\"ticks\":\"\"}},\"type\":\"scattergl\"}],\"scattermapbox\":[{\"marker\":{\"colorbar\":{\"outlinewidth\":0,\"ticks\":\"\"}},\"type\":\"scattermapbox\"}],\"scatterpolar\":[{\"marker\":{\"colorbar\":{\"outlinewidth\":0,\"ticks\":\"\"}},\"type\":\"scatterpolar\"}],\"scatterpolargl\":[{\"marker\":{\"colorbar\":{\"outlinewidth\":0,\"ticks\":\"\"}},\"type\":\"scatterpolargl\"}],\"scatterternary\":[{\"marker\":{\"colorbar\":{\"outlinewidth\":0,\"ticks\":\"\"}},\"type\":\"scatterternary\"}],\"surface\":[{\"colorbar\":{\"outlinewidth\":0,\"ticks\":\"\"},\"colorscale\":[[0.0,\"#0d0887\"],[0.1111111111111111,\"#46039f\"],[0.2222222222222222,\"#7201a8\"],[0.3333333333333333,\"#9c179e\"],[0.4444444444444444,\"#bd3786\"],[0.5555555555555556,\"#d8576b\"],[0.6666666666666666,\"#ed7953\"],[0.7777777777777778,\"#fb9f3a\"],[0.8888888888888888,\"#fdca26\"],[1.0,\"#f0f921\"]],\"type\":\"surface\"}],\"table\":[{\"cells\":{\"fill\":{\"color\":\"#EBF0F8\"},\"line\":{\"color\":\"white\"}},\"header\":{\"fill\":{\"color\":\"#C8D4E3\"},\"line\":{\"color\":\"white\"}},\"type\":\"table\"}]},\"layout\":{\"annotationdefaults\":{\"arrowcolor\":\"#2a3f5f\",\"arrowhead\":0,\"arrowwidth\":1},\"autotypenumbers\":\"strict\",\"coloraxis\":{\"colorbar\":{\"outlinewidth\":0,\"ticks\":\"\"}},\"colorscale\":{\"diverging\":[[0,\"#8e0152\"],[0.1,\"#c51b7d\"],[0.2,\"#de77ae\"],[0.3,\"#f1b6da\"],[0.4,\"#fde0ef\"],[0.5,\"#f7f7f7\"],[0.6,\"#e6f5d0\"],[0.7,\"#b8e186\"],[0.8,\"#7fbc41\"],[0.9,\"#4d9221\"],[1,\"#276419\"]],\"sequential\":[[0.0,\"#0d0887\"],[0.1111111111111111,\"#46039f\"],[0.2222222222222222,\"#7201a8\"],[0.3333333333333333,\"#9c179e\"],[0.4444444444444444,\"#bd3786\"],[0.5555555555555556,\"#d8576b\"],[0.6666666666666666,\"#ed7953\"],[0.7777777777777778,\"#fb9f3a\"],[0.8888888888888888,\"#fdca26\"],[1.0,\"#f0f921\"]],\"sequentialminus\":[[0.0,\"#0d0887\"],[0.1111111111111111,\"#46039f\"],[0.2222222222222222,\"#7201a8\"],[0.3333333333333333,\"#9c179e\"],[0.4444444444444444,\"#bd3786\"],[0.5555555555555556,\"#d8576b\"],[0.6666666666666666,\"#ed7953\"],[0.7777777777777778,\"#fb9f3a\"],[0.8888888888888888,\"#fdca26\"],[1.0,\"#f0f921\"]]},\"colorway\":[\"#636efa\",\"#EF553B\",\"#00cc96\",\"#ab63fa\",\"#FFA15A\",\"#19d3f3\",\"#FF6692\",\"#B6E880\",\"#FF97FF\",\"#FECB52\"],\"font\":{\"color\":\"#2a3f5f\"},\"geo\":{\"bgcolor\":\"white\",\"lakecolor\":\"white\",\"landcolor\":\"#E5ECF6\",\"showlakes\":true,\"showland\":true,\"subunitcolor\":\"white\"},\"hoverlabel\":{\"align\":\"left\"},\"hovermode\":\"closest\",\"mapbox\":{\"style\":\"light\"},\"paper_bgcolor\":\"white\",\"plot_bgcolor\":\"#E5ECF6\",\"polar\":{\"angularaxis\":{\"gridcolor\":\"white\",\"linecolor\":\"white\",\"ticks\":\"\"},\"bgcolor\":\"#E5ECF6\",\"radialaxis\":{\"gridcolor\":\"white\",\"linecolor\":\"white\",\"ticks\":\"\"}},\"scene\":{\"xaxis\":{\"backgroundcolor\":\"#E5ECF6\",\"gridcolor\":\"white\",\"gridwidth\":2,\"linecolor\":\"white\",\"showbackground\":true,\"ticks\":\"\",\"zerolinecolor\":\"white\"},\"yaxis\":{\"backgroundcolor\":\"#E5ECF6\",\"gridcolor\":\"white\",\"gridwidth\":2,\"linecolor\":\"white\",\"showbackground\":true,\"ticks\":\"\",\"zerolinecolor\":\"white\"},\"zaxis\":{\"backgroundcolor\":\"#E5ECF6\",\"gridcolor\":\"white\",\"gridwidth\":2,\"linecolor\":\"white\",\"showbackground\":true,\"ticks\":\"\",\"zerolinecolor\":\"white\"}},\"shapedefaults\":{\"line\":{\"color\":\"#2a3f5f\"}},\"ternary\":{\"aaxis\":{\"gridcolor\":\"white\",\"linecolor\":\"white\",\"ticks\":\"\"},\"baxis\":{\"gridcolor\":\"white\",\"linecolor\":\"white\",\"ticks\":\"\"},\"bgcolor\":\"#E5ECF6\",\"caxis\":{\"gridcolor\":\"white\",\"linecolor\":\"white\",\"ticks\":\"\"}},\"title\":{\"x\":0.05},\"xaxis\":{\"automargin\":true,\"gridcolor\":\"white\",\"linecolor\":\"white\",\"ticks\":\"\",\"title\":{\"standoff\":15},\"zerolinecolor\":\"white\",\"zerolinewidth\":2},\"yaxis\":{\"automargin\":true,\"gridcolor\":\"white\",\"linecolor\":\"white\",\"ticks\":\"\",\"title\":{\"standoff\":15},\"zerolinecolor\":\"white\",\"zerolinewidth\":2}}}},                        {\"responsive\": true}                    ).then(function(){\n",
              "                            \n",
              "var gd = document.getElementById('a6b88e77-070c-45b1-87b7-cbcca3237dde');\n",
              "var x = new MutationObserver(function (mutations, observer) {{\n",
              "        var display = window.getComputedStyle(gd).display;\n",
              "        if (!display || display === 'none') {{\n",
              "            console.log([gd, 'removed!']);\n",
              "            Plotly.purge(gd);\n",
              "            observer.disconnect();\n",
              "        }}\n",
              "}});\n",
              "\n",
              "// Listen for the removal of the full notebook cells\n",
              "var notebookContainer = gd.closest('#notebook-container');\n",
              "if (notebookContainer) {{\n",
              "    x.observe(notebookContainer, {childList: true});\n",
              "}}\n",
              "\n",
              "// Listen for the clearing of the current output cell\n",
              "var outputEl = gd.closest('.output');\n",
              "if (outputEl) {{\n",
              "    x.observe(outputEl, {childList: true});\n",
              "}}\n",
              "\n",
              "                        })                };                            </script>        </div>\n",
              "</body>\n",
              "</html>"
            ]
          },
          "metadata": {}
        }
      ],
      "source": [
        "import plotly.graph_objects as go\n",
        "fig = go.Figure()\n",
        "fig.add_trace(go.Bar(x=mon_cons.index, y=mon_cons.no,\n",
        "                base=0,marker_color='red',\n",
        "                name='no'))\n",
        "fig.add_trace(go.Bar(x=mon_cons.index, y=mon_cons.yes,\n",
        "                base=[-831,-2048,-1584,-826],marker_color='green',\n",
        "                name='yes'\n",
        "                ))\n",
        "fig.show()"
      ]
    },
    {
      "cell_type": "code",
      "execution_count": 275,
      "metadata": {
        "colab": {
          "base_uri": "https://localhost:8080/",
          "height": 175
        },
        "id": "se3HDQUcGHxw",
        "outputId": "f2606670-93cd-4777-b805-7154f0499f48"
      },
      "outputs": [
        {
          "output_type": "execute_result",
          "data": {
            "text/plain": [
              "                     no        yes\n",
              "first_quart   81.651579  18.348421\n",
              "second_quart  90.707382   9.292618\n",
              "third_quart   88.455652  11.544348\n",
              "fourth_quart  83.218204  16.781796"
            ],
            "text/html": [
              "\n",
              "  <div id=\"df-d652a9e5-fbb3-4671-9686-e3d0ac25fd36\">\n",
              "    <div class=\"colab-df-container\">\n",
              "      <div>\n",
              "<style scoped>\n",
              "    .dataframe tbody tr th:only-of-type {\n",
              "        vertical-align: middle;\n",
              "    }\n",
              "\n",
              "    .dataframe tbody tr th {\n",
              "        vertical-align: top;\n",
              "    }\n",
              "\n",
              "    .dataframe thead th {\n",
              "        text-align: right;\n",
              "    }\n",
              "</style>\n",
              "<table border=\"1\" class=\"dataframe\">\n",
              "  <thead>\n",
              "    <tr style=\"text-align: right;\">\n",
              "      <th></th>\n",
              "      <th>no</th>\n",
              "      <th>yes</th>\n",
              "    </tr>\n",
              "  </thead>\n",
              "  <tbody>\n",
              "    <tr>\n",
              "      <th>first_quart</th>\n",
              "      <td>81.651579</td>\n",
              "      <td>18.348421</td>\n",
              "    </tr>\n",
              "    <tr>\n",
              "      <th>second_quart</th>\n",
              "      <td>90.707382</td>\n",
              "      <td>9.292618</td>\n",
              "    </tr>\n",
              "    <tr>\n",
              "      <th>third_quart</th>\n",
              "      <td>88.455652</td>\n",
              "      <td>11.544348</td>\n",
              "    </tr>\n",
              "    <tr>\n",
              "      <th>fourth_quart</th>\n",
              "      <td>83.218204</td>\n",
              "      <td>16.781796</td>\n",
              "    </tr>\n",
              "  </tbody>\n",
              "</table>\n",
              "</div>\n",
              "      <button class=\"colab-df-convert\" onclick=\"convertToInteractive('df-d652a9e5-fbb3-4671-9686-e3d0ac25fd36')\"\n",
              "              title=\"Convert this dataframe to an interactive table.\"\n",
              "              style=\"display:none;\">\n",
              "        \n",
              "  <svg xmlns=\"http://www.w3.org/2000/svg\" height=\"24px\"viewBox=\"0 0 24 24\"\n",
              "       width=\"24px\">\n",
              "    <path d=\"M0 0h24v24H0V0z\" fill=\"none\"/>\n",
              "    <path d=\"M18.56 5.44l.94 2.06.94-2.06 2.06-.94-2.06-.94-.94-2.06-.94 2.06-2.06.94zm-11 1L8.5 8.5l.94-2.06 2.06-.94-2.06-.94L8.5 2.5l-.94 2.06-2.06.94zm10 10l.94 2.06.94-2.06 2.06-.94-2.06-.94-.94-2.06-.94 2.06-2.06.94z\"/><path d=\"M17.41 7.96l-1.37-1.37c-.4-.4-.92-.59-1.43-.59-.52 0-1.04.2-1.43.59L10.3 9.45l-7.72 7.72c-.78.78-.78 2.05 0 2.83L4 21.41c.39.39.9.59 1.41.59.51 0 1.02-.2 1.41-.59l7.78-7.78 2.81-2.81c.8-.78.8-2.07 0-2.86zM5.41 20L4 18.59l7.72-7.72 1.47 1.35L5.41 20z\"/>\n",
              "  </svg>\n",
              "      </button>\n",
              "      \n",
              "  <style>\n",
              "    .colab-df-container {\n",
              "      display:flex;\n",
              "      flex-wrap:wrap;\n",
              "      gap: 12px;\n",
              "    }\n",
              "\n",
              "    .colab-df-convert {\n",
              "      background-color: #E8F0FE;\n",
              "      border: none;\n",
              "      border-radius: 50%;\n",
              "      cursor: pointer;\n",
              "      display: none;\n",
              "      fill: #1967D2;\n",
              "      height: 32px;\n",
              "      padding: 0 0 0 0;\n",
              "      width: 32px;\n",
              "    }\n",
              "\n",
              "    .colab-df-convert:hover {\n",
              "      background-color: #E2EBFA;\n",
              "      box-shadow: 0px 1px 2px rgba(60, 64, 67, 0.3), 0px 1px 3px 1px rgba(60, 64, 67, 0.15);\n",
              "      fill: #174EA6;\n",
              "    }\n",
              "\n",
              "    [theme=dark] .colab-df-convert {\n",
              "      background-color: #3B4455;\n",
              "      fill: #D2E3FC;\n",
              "    }\n",
              "\n",
              "    [theme=dark] .colab-df-convert:hover {\n",
              "      background-color: #434B5C;\n",
              "      box-shadow: 0px 1px 3px 1px rgba(0, 0, 0, 0.15);\n",
              "      filter: drop-shadow(0px 1px 2px rgba(0, 0, 0, 0.3));\n",
              "      fill: #FFFFFF;\n",
              "    }\n",
              "  </style>\n",
              "\n",
              "      <script>\n",
              "        const buttonEl =\n",
              "          document.querySelector('#df-d652a9e5-fbb3-4671-9686-e3d0ac25fd36 button.colab-df-convert');\n",
              "        buttonEl.style.display =\n",
              "          google.colab.kernel.accessAllowed ? 'block' : 'none';\n",
              "\n",
              "        async function convertToInteractive(key) {\n",
              "          const element = document.querySelector('#df-d652a9e5-fbb3-4671-9686-e3d0ac25fd36');\n",
              "          const dataTable =\n",
              "            await google.colab.kernel.invokeFunction('convertToInteractive',\n",
              "                                                     [key], {});\n",
              "          if (!dataTable) return;\n",
              "\n",
              "          const docLinkHtml = 'Like what you see? Visit the ' +\n",
              "            '<a target=\"_blank\" href=https://colab.research.google.com/notebooks/data_table.ipynb>data table notebook</a>'\n",
              "            + ' to learn more about interactive tables.';\n",
              "          element.innerHTML = '';\n",
              "          dataTable['output_type'] = 'display_data';\n",
              "          await google.colab.output.renderOutput(dataTable, element);\n",
              "          const docLink = document.createElement('div');\n",
              "          docLink.innerHTML = docLinkHtml;\n",
              "          element.appendChild(docLink);\n",
              "        }\n",
              "      </script>\n",
              "    </div>\n",
              "  </div>\n",
              "  "
            ]
          },
          "metadata": {},
          "execution_count": 275
        }
      ],
      "source": [
        "total_first_quart=first_quart_0+first_quart_1\n",
        "first_quart_0p=(first_quart_0/total_first_quart)*100\n",
        "first_quart_1p=100-first_quart_0p\n",
        "\n",
        "total_second_quart=second_quart_0+second_quart_1\n",
        "second_quart_0p=(second_quart_0/total_second_quart)*100\n",
        "second_quart_1p=100-second_quart_0p\n",
        "\n",
        "\n",
        "total_third_quart=third_quart_0+third_quart_1\n",
        "third_quart_0p=(third_quart_0/total_third_quart)*100\n",
        "third_quart_1p=100-third_quart_0p\n",
        "\n",
        "total_fourth_quart=fourth_quart_0+fourth_quart_1\n",
        "fourth_quart_0p=(fourth_quart_0/total_fourth_quart)*100\n",
        "fourth_quart_1p=100-fourth_quart_0p\n",
        "\n",
        "data={'no':[first_quart_0p,second_quart_0p,third_quart_0p,fourth_quart_0p],\n",
        "      'yes':[first_quart_1p,second_quart_1p,third_quart_1p,fourth_quart_1p]}\n",
        "mon_cons_per=pd.DataFrame(data=data,index=['first_quart','second_quart','third_quart','fourth_quart'])\n",
        "mon_cons_per"
      ]
    },
    {
      "cell_type": "code",
      "execution_count": 276,
      "metadata": {
        "colab": {
          "base_uri": "https://localhost:8080/",
          "height": 542
        },
        "id": "jMbn5UveJjIq",
        "outputId": "e669f3cb-f6d1-41b3-e492-eaadaf8e4190"
      },
      "outputs": [
        {
          "output_type": "display_data",
          "data": {
            "text/html": [
              "<html>\n",
              "<head><meta charset=\"utf-8\" /></head>\n",
              "<body>\n",
              "    <div>            <script src=\"https://cdnjs.cloudflare.com/ajax/libs/mathjax/2.7.5/MathJax.js?config=TeX-AMS-MML_SVG\"></script><script type=\"text/javascript\">if (window.MathJax) {MathJax.Hub.Config({SVG: {font: \"STIX-Web\"}});}</script>                <script type=\"text/javascript\">window.PlotlyConfig = {MathJaxConfig: 'local'};</script>\n",
              "        <script src=\"https://cdn.plot.ly/plotly-2.8.3.min.js\"></script>                <div id=\"8d7bb4fb-cebd-4db2-ab71-41b0aa62ce37\" class=\"plotly-graph-div\" style=\"height:525px; width:100%;\"></div>            <script type=\"text/javascript\">                                    window.PLOTLYENV=window.PLOTLYENV || {};                                    if (document.getElementById(\"8d7bb4fb-cebd-4db2-ab71-41b0aa62ce37\")) {                    Plotly.newPlot(                        \"8d7bb4fb-cebd-4db2-ab71-41b0aa62ce37\",                        [{\"base\":[0],\"marker\":{\"color\":\"green\"},\"name\":\"yes\",\"x\":[\"first_quart\",\"second_quart\",\"third_quart\",\"fourth_quart\"],\"y\":[18.348421285051884,9.292617632378963,11.54434807958603,16.781796017878918],\"type\":\"bar\"},{\"base\":[-81.7,-90.7,-88.5,-83.2],\"marker\":{\"color\":\"red\"},\"name\":\"no\",\"x\":[\"first_quart\",\"second_quart\",\"third_quart\",\"fourth_quart\"],\"y\":[81.65157871494812,90.70738236762104,88.45565192041397,83.21820398212108],\"type\":\"bar\"}],                        {\"template\":{\"data\":{\"bar\":[{\"error_x\":{\"color\":\"#2a3f5f\"},\"error_y\":{\"color\":\"#2a3f5f\"},\"marker\":{\"line\":{\"color\":\"#E5ECF6\",\"width\":0.5},\"pattern\":{\"fillmode\":\"overlay\",\"size\":10,\"solidity\":0.2}},\"type\":\"bar\"}],\"barpolar\":[{\"marker\":{\"line\":{\"color\":\"#E5ECF6\",\"width\":0.5},\"pattern\":{\"fillmode\":\"overlay\",\"size\":10,\"solidity\":0.2}},\"type\":\"barpolar\"}],\"carpet\":[{\"aaxis\":{\"endlinecolor\":\"#2a3f5f\",\"gridcolor\":\"white\",\"linecolor\":\"white\",\"minorgridcolor\":\"white\",\"startlinecolor\":\"#2a3f5f\"},\"baxis\":{\"endlinecolor\":\"#2a3f5f\",\"gridcolor\":\"white\",\"linecolor\":\"white\",\"minorgridcolor\":\"white\",\"startlinecolor\":\"#2a3f5f\"},\"type\":\"carpet\"}],\"choropleth\":[{\"colorbar\":{\"outlinewidth\":0,\"ticks\":\"\"},\"type\":\"choropleth\"}],\"contour\":[{\"colorbar\":{\"outlinewidth\":0,\"ticks\":\"\"},\"colorscale\":[[0.0,\"#0d0887\"],[0.1111111111111111,\"#46039f\"],[0.2222222222222222,\"#7201a8\"],[0.3333333333333333,\"#9c179e\"],[0.4444444444444444,\"#bd3786\"],[0.5555555555555556,\"#d8576b\"],[0.6666666666666666,\"#ed7953\"],[0.7777777777777778,\"#fb9f3a\"],[0.8888888888888888,\"#fdca26\"],[1.0,\"#f0f921\"]],\"type\":\"contour\"}],\"contourcarpet\":[{\"colorbar\":{\"outlinewidth\":0,\"ticks\":\"\"},\"type\":\"contourcarpet\"}],\"heatmap\":[{\"colorbar\":{\"outlinewidth\":0,\"ticks\":\"\"},\"colorscale\":[[0.0,\"#0d0887\"],[0.1111111111111111,\"#46039f\"],[0.2222222222222222,\"#7201a8\"],[0.3333333333333333,\"#9c179e\"],[0.4444444444444444,\"#bd3786\"],[0.5555555555555556,\"#d8576b\"],[0.6666666666666666,\"#ed7953\"],[0.7777777777777778,\"#fb9f3a\"],[0.8888888888888888,\"#fdca26\"],[1.0,\"#f0f921\"]],\"type\":\"heatmap\"}],\"heatmapgl\":[{\"colorbar\":{\"outlinewidth\":0,\"ticks\":\"\"},\"colorscale\":[[0.0,\"#0d0887\"],[0.1111111111111111,\"#46039f\"],[0.2222222222222222,\"#7201a8\"],[0.3333333333333333,\"#9c179e\"],[0.4444444444444444,\"#bd3786\"],[0.5555555555555556,\"#d8576b\"],[0.6666666666666666,\"#ed7953\"],[0.7777777777777778,\"#fb9f3a\"],[0.8888888888888888,\"#fdca26\"],[1.0,\"#f0f921\"]],\"type\":\"heatmapgl\"}],\"histogram\":[{\"marker\":{\"pattern\":{\"fillmode\":\"overlay\",\"size\":10,\"solidity\":0.2}},\"type\":\"histogram\"}],\"histogram2d\":[{\"colorbar\":{\"outlinewidth\":0,\"ticks\":\"\"},\"colorscale\":[[0.0,\"#0d0887\"],[0.1111111111111111,\"#46039f\"],[0.2222222222222222,\"#7201a8\"],[0.3333333333333333,\"#9c179e\"],[0.4444444444444444,\"#bd3786\"],[0.5555555555555556,\"#d8576b\"],[0.6666666666666666,\"#ed7953\"],[0.7777777777777778,\"#fb9f3a\"],[0.8888888888888888,\"#fdca26\"],[1.0,\"#f0f921\"]],\"type\":\"histogram2d\"}],\"histogram2dcontour\":[{\"colorbar\":{\"outlinewidth\":0,\"ticks\":\"\"},\"colorscale\":[[0.0,\"#0d0887\"],[0.1111111111111111,\"#46039f\"],[0.2222222222222222,\"#7201a8\"],[0.3333333333333333,\"#9c179e\"],[0.4444444444444444,\"#bd3786\"],[0.5555555555555556,\"#d8576b\"],[0.6666666666666666,\"#ed7953\"],[0.7777777777777778,\"#fb9f3a\"],[0.8888888888888888,\"#fdca26\"],[1.0,\"#f0f921\"]],\"type\":\"histogram2dcontour\"}],\"mesh3d\":[{\"colorbar\":{\"outlinewidth\":0,\"ticks\":\"\"},\"type\":\"mesh3d\"}],\"parcoords\":[{\"line\":{\"colorbar\":{\"outlinewidth\":0,\"ticks\":\"\"}},\"type\":\"parcoords\"}],\"pie\":[{\"automargin\":true,\"type\":\"pie\"}],\"scatter\":[{\"marker\":{\"colorbar\":{\"outlinewidth\":0,\"ticks\":\"\"}},\"type\":\"scatter\"}],\"scatter3d\":[{\"line\":{\"colorbar\":{\"outlinewidth\":0,\"ticks\":\"\"}},\"marker\":{\"colorbar\":{\"outlinewidth\":0,\"ticks\":\"\"}},\"type\":\"scatter3d\"}],\"scattercarpet\":[{\"marker\":{\"colorbar\":{\"outlinewidth\":0,\"ticks\":\"\"}},\"type\":\"scattercarpet\"}],\"scattergeo\":[{\"marker\":{\"colorbar\":{\"outlinewidth\":0,\"ticks\":\"\"}},\"type\":\"scattergeo\"}],\"scattergl\":[{\"marker\":{\"colorbar\":{\"outlinewidth\":0,\"ticks\":\"\"}},\"type\":\"scattergl\"}],\"scattermapbox\":[{\"marker\":{\"colorbar\":{\"outlinewidth\":0,\"ticks\":\"\"}},\"type\":\"scattermapbox\"}],\"scatterpolar\":[{\"marker\":{\"colorbar\":{\"outlinewidth\":0,\"ticks\":\"\"}},\"type\":\"scatterpolar\"}],\"scatterpolargl\":[{\"marker\":{\"colorbar\":{\"outlinewidth\":0,\"ticks\":\"\"}},\"type\":\"scatterpolargl\"}],\"scatterternary\":[{\"marker\":{\"colorbar\":{\"outlinewidth\":0,\"ticks\":\"\"}},\"type\":\"scatterternary\"}],\"surface\":[{\"colorbar\":{\"outlinewidth\":0,\"ticks\":\"\"},\"colorscale\":[[0.0,\"#0d0887\"],[0.1111111111111111,\"#46039f\"],[0.2222222222222222,\"#7201a8\"],[0.3333333333333333,\"#9c179e\"],[0.4444444444444444,\"#bd3786\"],[0.5555555555555556,\"#d8576b\"],[0.6666666666666666,\"#ed7953\"],[0.7777777777777778,\"#fb9f3a\"],[0.8888888888888888,\"#fdca26\"],[1.0,\"#f0f921\"]],\"type\":\"surface\"}],\"table\":[{\"cells\":{\"fill\":{\"color\":\"#EBF0F8\"},\"line\":{\"color\":\"white\"}},\"header\":{\"fill\":{\"color\":\"#C8D4E3\"},\"line\":{\"color\":\"white\"}},\"type\":\"table\"}]},\"layout\":{\"annotationdefaults\":{\"arrowcolor\":\"#2a3f5f\",\"arrowhead\":0,\"arrowwidth\":1},\"autotypenumbers\":\"strict\",\"coloraxis\":{\"colorbar\":{\"outlinewidth\":0,\"ticks\":\"\"}},\"colorscale\":{\"diverging\":[[0,\"#8e0152\"],[0.1,\"#c51b7d\"],[0.2,\"#de77ae\"],[0.3,\"#f1b6da\"],[0.4,\"#fde0ef\"],[0.5,\"#f7f7f7\"],[0.6,\"#e6f5d0\"],[0.7,\"#b8e186\"],[0.8,\"#7fbc41\"],[0.9,\"#4d9221\"],[1,\"#276419\"]],\"sequential\":[[0.0,\"#0d0887\"],[0.1111111111111111,\"#46039f\"],[0.2222222222222222,\"#7201a8\"],[0.3333333333333333,\"#9c179e\"],[0.4444444444444444,\"#bd3786\"],[0.5555555555555556,\"#d8576b\"],[0.6666666666666666,\"#ed7953\"],[0.7777777777777778,\"#fb9f3a\"],[0.8888888888888888,\"#fdca26\"],[1.0,\"#f0f921\"]],\"sequentialminus\":[[0.0,\"#0d0887\"],[0.1111111111111111,\"#46039f\"],[0.2222222222222222,\"#7201a8\"],[0.3333333333333333,\"#9c179e\"],[0.4444444444444444,\"#bd3786\"],[0.5555555555555556,\"#d8576b\"],[0.6666666666666666,\"#ed7953\"],[0.7777777777777778,\"#fb9f3a\"],[0.8888888888888888,\"#fdca26\"],[1.0,\"#f0f921\"]]},\"colorway\":[\"#636efa\",\"#EF553B\",\"#00cc96\",\"#ab63fa\",\"#FFA15A\",\"#19d3f3\",\"#FF6692\",\"#B6E880\",\"#FF97FF\",\"#FECB52\"],\"font\":{\"color\":\"#2a3f5f\"},\"geo\":{\"bgcolor\":\"white\",\"lakecolor\":\"white\",\"landcolor\":\"#E5ECF6\",\"showlakes\":true,\"showland\":true,\"subunitcolor\":\"white\"},\"hoverlabel\":{\"align\":\"left\"},\"hovermode\":\"closest\",\"mapbox\":{\"style\":\"light\"},\"paper_bgcolor\":\"white\",\"plot_bgcolor\":\"#E5ECF6\",\"polar\":{\"angularaxis\":{\"gridcolor\":\"white\",\"linecolor\":\"white\",\"ticks\":\"\"},\"bgcolor\":\"#E5ECF6\",\"radialaxis\":{\"gridcolor\":\"white\",\"linecolor\":\"white\",\"ticks\":\"\"}},\"scene\":{\"xaxis\":{\"backgroundcolor\":\"#E5ECF6\",\"gridcolor\":\"white\",\"gridwidth\":2,\"linecolor\":\"white\",\"showbackground\":true,\"ticks\":\"\",\"zerolinecolor\":\"white\"},\"yaxis\":{\"backgroundcolor\":\"#E5ECF6\",\"gridcolor\":\"white\",\"gridwidth\":2,\"linecolor\":\"white\",\"showbackground\":true,\"ticks\":\"\",\"zerolinecolor\":\"white\"},\"zaxis\":{\"backgroundcolor\":\"#E5ECF6\",\"gridcolor\":\"white\",\"gridwidth\":2,\"linecolor\":\"white\",\"showbackground\":true,\"ticks\":\"\",\"zerolinecolor\":\"white\"}},\"shapedefaults\":{\"line\":{\"color\":\"#2a3f5f\"}},\"ternary\":{\"aaxis\":{\"gridcolor\":\"white\",\"linecolor\":\"white\",\"ticks\":\"\"},\"baxis\":{\"gridcolor\":\"white\",\"linecolor\":\"white\",\"ticks\":\"\"},\"bgcolor\":\"#E5ECF6\",\"caxis\":{\"gridcolor\":\"white\",\"linecolor\":\"white\",\"ticks\":\"\"}},\"title\":{\"x\":0.05},\"xaxis\":{\"automargin\":true,\"gridcolor\":\"white\",\"linecolor\":\"white\",\"ticks\":\"\",\"title\":{\"standoff\":15},\"zerolinecolor\":\"white\",\"zerolinewidth\":2},\"yaxis\":{\"automargin\":true,\"gridcolor\":\"white\",\"linecolor\":\"white\",\"ticks\":\"\",\"title\":{\"standoff\":15},\"zerolinecolor\":\"white\",\"zerolinewidth\":2}}}},                        {\"responsive\": true}                    ).then(function(){\n",
              "                            \n",
              "var gd = document.getElementById('8d7bb4fb-cebd-4db2-ab71-41b0aa62ce37');\n",
              "var x = new MutationObserver(function (mutations, observer) {{\n",
              "        var display = window.getComputedStyle(gd).display;\n",
              "        if (!display || display === 'none') {{\n",
              "            console.log([gd, 'removed!']);\n",
              "            Plotly.purge(gd);\n",
              "            observer.disconnect();\n",
              "        }}\n",
              "}});\n",
              "\n",
              "// Listen for the removal of the full notebook cells\n",
              "var notebookContainer = gd.closest('#notebook-container');\n",
              "if (notebookContainer) {{\n",
              "    x.observe(notebookContainer, {childList: true});\n",
              "}}\n",
              "\n",
              "// Listen for the clearing of the current output cell\n",
              "var outputEl = gd.closest('.output');\n",
              "if (outputEl) {{\n",
              "    x.observe(outputEl, {childList: true});\n",
              "}}\n",
              "\n",
              "                        })                };                            </script>        </div>\n",
              "</body>\n",
              "</html>"
            ]
          },
          "metadata": {}
        }
      ],
      "source": [
        "fig = go.Figure()\n",
        "\n",
        "fig.add_trace(go.Bar(x=mon_cons_per.index, y=mon_cons_per.yes,\n",
        "                base=[0],marker_color='green',\n",
        "                name='yes'\n",
        "                ))\n",
        "fig.add_trace(go.Bar(x=mon_cons_per.index, y=mon_cons_per.no,\n",
        "                base=[-81.7,-90.7,-88.5,-83.2],marker_color='red',\n",
        "                name='no'))\n",
        "\n",
        "fig.show()"
      ]
    },
    {
      "cell_type": "markdown",
      "metadata": {
        "id": "2CSDdy8wfPs5"
      },
      "source": [
        "The month graph shows People are more likely to get an insurance in the beginning and the end of the year.\n",
        "\n",
        "Here the second quarter is the worst time for a client to ask insurance from customers."
      ]
    },
    {
      "cell_type": "code",
      "execution_count": 277,
      "metadata": {
        "colab": {
          "base_uri": "https://localhost:8080/",
          "height": 629
        },
        "id": "I0EnRnq5D-nI",
        "outputId": "61fb9d8d-6412-466b-82f1-cd45cd1decb0"
      },
      "outputs": [
        {
          "output_type": "stream",
          "name": "stdout",
          "text": [
            "                       no   yes\n",
            "num_calls_below_3   30990  4580\n",
            "num_calls_below_6    6029   548\n",
            "num_calls_below_10   1754   114\n",
            "num_calls_above_10   1149    47\n"
          ]
        },
        {
          "output_type": "display_data",
          "data": {
            "text/html": [
              "<html>\n",
              "<head><meta charset=\"utf-8\" /></head>\n",
              "<body>\n",
              "    <div>            <script src=\"https://cdnjs.cloudflare.com/ajax/libs/mathjax/2.7.5/MathJax.js?config=TeX-AMS-MML_SVG\"></script><script type=\"text/javascript\">if (window.MathJax) {MathJax.Hub.Config({SVG: {font: \"STIX-Web\"}});}</script>                <script type=\"text/javascript\">window.PlotlyConfig = {MathJaxConfig: 'local'};</script>\n",
              "        <script src=\"https://cdn.plot.ly/plotly-2.8.3.min.js\"></script>                <div id=\"48342817-2b6c-487e-bfd9-5e7fb6a470f1\" class=\"plotly-graph-div\" style=\"height:525px; width:100%;\"></div>            <script type=\"text/javascript\">                                    window.PLOTLYENV=window.PLOTLYENV || {};                                    if (document.getElementById(\"48342817-2b6c-487e-bfd9-5e7fb6a470f1\")) {                    Plotly.newPlot(                        \"48342817-2b6c-487e-bfd9-5e7fb6a470f1\",                        [{\"base\":0,\"marker\":{\"color\":\"blue\"},\"name\":\"no\",\"x\":[\"num_calls_below_3\",\"num_calls_below_6\",\"num_calls_below_10\",\"num_calls_above_10\"],\"y\":[30990,6029,1754,1149],\"type\":\"bar\"},{\"base\":0,\"marker\":{\"color\":\"green\"},\"name\":\"yes\",\"x\":[\"num_calls_below_3\",\"num_calls_below_6\",\"num_calls_below_10\",\"num_calls_above_10\"],\"y\":[4580,548,114,47],\"type\":\"bar\"}],                        {\"template\":{\"data\":{\"bar\":[{\"error_x\":{\"color\":\"#2a3f5f\"},\"error_y\":{\"color\":\"#2a3f5f\"},\"marker\":{\"line\":{\"color\":\"#E5ECF6\",\"width\":0.5},\"pattern\":{\"fillmode\":\"overlay\",\"size\":10,\"solidity\":0.2}},\"type\":\"bar\"}],\"barpolar\":[{\"marker\":{\"line\":{\"color\":\"#E5ECF6\",\"width\":0.5},\"pattern\":{\"fillmode\":\"overlay\",\"size\":10,\"solidity\":0.2}},\"type\":\"barpolar\"}],\"carpet\":[{\"aaxis\":{\"endlinecolor\":\"#2a3f5f\",\"gridcolor\":\"white\",\"linecolor\":\"white\",\"minorgridcolor\":\"white\",\"startlinecolor\":\"#2a3f5f\"},\"baxis\":{\"endlinecolor\":\"#2a3f5f\",\"gridcolor\":\"white\",\"linecolor\":\"white\",\"minorgridcolor\":\"white\",\"startlinecolor\":\"#2a3f5f\"},\"type\":\"carpet\"}],\"choropleth\":[{\"colorbar\":{\"outlinewidth\":0,\"ticks\":\"\"},\"type\":\"choropleth\"}],\"contour\":[{\"colorbar\":{\"outlinewidth\":0,\"ticks\":\"\"},\"colorscale\":[[0.0,\"#0d0887\"],[0.1111111111111111,\"#46039f\"],[0.2222222222222222,\"#7201a8\"],[0.3333333333333333,\"#9c179e\"],[0.4444444444444444,\"#bd3786\"],[0.5555555555555556,\"#d8576b\"],[0.6666666666666666,\"#ed7953\"],[0.7777777777777778,\"#fb9f3a\"],[0.8888888888888888,\"#fdca26\"],[1.0,\"#f0f921\"]],\"type\":\"contour\"}],\"contourcarpet\":[{\"colorbar\":{\"outlinewidth\":0,\"ticks\":\"\"},\"type\":\"contourcarpet\"}],\"heatmap\":[{\"colorbar\":{\"outlinewidth\":0,\"ticks\":\"\"},\"colorscale\":[[0.0,\"#0d0887\"],[0.1111111111111111,\"#46039f\"],[0.2222222222222222,\"#7201a8\"],[0.3333333333333333,\"#9c179e\"],[0.4444444444444444,\"#bd3786\"],[0.5555555555555556,\"#d8576b\"],[0.6666666666666666,\"#ed7953\"],[0.7777777777777778,\"#fb9f3a\"],[0.8888888888888888,\"#fdca26\"],[1.0,\"#f0f921\"]],\"type\":\"heatmap\"}],\"heatmapgl\":[{\"colorbar\":{\"outlinewidth\":0,\"ticks\":\"\"},\"colorscale\":[[0.0,\"#0d0887\"],[0.1111111111111111,\"#46039f\"],[0.2222222222222222,\"#7201a8\"],[0.3333333333333333,\"#9c179e\"],[0.4444444444444444,\"#bd3786\"],[0.5555555555555556,\"#d8576b\"],[0.6666666666666666,\"#ed7953\"],[0.7777777777777778,\"#fb9f3a\"],[0.8888888888888888,\"#fdca26\"],[1.0,\"#f0f921\"]],\"type\":\"heatmapgl\"}],\"histogram\":[{\"marker\":{\"pattern\":{\"fillmode\":\"overlay\",\"size\":10,\"solidity\":0.2}},\"type\":\"histogram\"}],\"histogram2d\":[{\"colorbar\":{\"outlinewidth\":0,\"ticks\":\"\"},\"colorscale\":[[0.0,\"#0d0887\"],[0.1111111111111111,\"#46039f\"],[0.2222222222222222,\"#7201a8\"],[0.3333333333333333,\"#9c179e\"],[0.4444444444444444,\"#bd3786\"],[0.5555555555555556,\"#d8576b\"],[0.6666666666666666,\"#ed7953\"],[0.7777777777777778,\"#fb9f3a\"],[0.8888888888888888,\"#fdca26\"],[1.0,\"#f0f921\"]],\"type\":\"histogram2d\"}],\"histogram2dcontour\":[{\"colorbar\":{\"outlinewidth\":0,\"ticks\":\"\"},\"colorscale\":[[0.0,\"#0d0887\"],[0.1111111111111111,\"#46039f\"],[0.2222222222222222,\"#7201a8\"],[0.3333333333333333,\"#9c179e\"],[0.4444444444444444,\"#bd3786\"],[0.5555555555555556,\"#d8576b\"],[0.6666666666666666,\"#ed7953\"],[0.7777777777777778,\"#fb9f3a\"],[0.8888888888888888,\"#fdca26\"],[1.0,\"#f0f921\"]],\"type\":\"histogram2dcontour\"}],\"mesh3d\":[{\"colorbar\":{\"outlinewidth\":0,\"ticks\":\"\"},\"type\":\"mesh3d\"}],\"parcoords\":[{\"line\":{\"colorbar\":{\"outlinewidth\":0,\"ticks\":\"\"}},\"type\":\"parcoords\"}],\"pie\":[{\"automargin\":true,\"type\":\"pie\"}],\"scatter\":[{\"marker\":{\"colorbar\":{\"outlinewidth\":0,\"ticks\":\"\"}},\"type\":\"scatter\"}],\"scatter3d\":[{\"line\":{\"colorbar\":{\"outlinewidth\":0,\"ticks\":\"\"}},\"marker\":{\"colorbar\":{\"outlinewidth\":0,\"ticks\":\"\"}},\"type\":\"scatter3d\"}],\"scattercarpet\":[{\"marker\":{\"colorbar\":{\"outlinewidth\":0,\"ticks\":\"\"}},\"type\":\"scattercarpet\"}],\"scattergeo\":[{\"marker\":{\"colorbar\":{\"outlinewidth\":0,\"ticks\":\"\"}},\"type\":\"scattergeo\"}],\"scattergl\":[{\"marker\":{\"colorbar\":{\"outlinewidth\":0,\"ticks\":\"\"}},\"type\":\"scattergl\"}],\"scattermapbox\":[{\"marker\":{\"colorbar\":{\"outlinewidth\":0,\"ticks\":\"\"}},\"type\":\"scattermapbox\"}],\"scatterpolar\":[{\"marker\":{\"colorbar\":{\"outlinewidth\":0,\"ticks\":\"\"}},\"type\":\"scatterpolar\"}],\"scatterpolargl\":[{\"marker\":{\"colorbar\":{\"outlinewidth\":0,\"ticks\":\"\"}},\"type\":\"scatterpolargl\"}],\"scatterternary\":[{\"marker\":{\"colorbar\":{\"outlinewidth\":0,\"ticks\":\"\"}},\"type\":\"scatterternary\"}],\"surface\":[{\"colorbar\":{\"outlinewidth\":0,\"ticks\":\"\"},\"colorscale\":[[0.0,\"#0d0887\"],[0.1111111111111111,\"#46039f\"],[0.2222222222222222,\"#7201a8\"],[0.3333333333333333,\"#9c179e\"],[0.4444444444444444,\"#bd3786\"],[0.5555555555555556,\"#d8576b\"],[0.6666666666666666,\"#ed7953\"],[0.7777777777777778,\"#fb9f3a\"],[0.8888888888888888,\"#fdca26\"],[1.0,\"#f0f921\"]],\"type\":\"surface\"}],\"table\":[{\"cells\":{\"fill\":{\"color\":\"#EBF0F8\"},\"line\":{\"color\":\"white\"}},\"header\":{\"fill\":{\"color\":\"#C8D4E3\"},\"line\":{\"color\":\"white\"}},\"type\":\"table\"}]},\"layout\":{\"annotationdefaults\":{\"arrowcolor\":\"#2a3f5f\",\"arrowhead\":0,\"arrowwidth\":1},\"autotypenumbers\":\"strict\",\"coloraxis\":{\"colorbar\":{\"outlinewidth\":0,\"ticks\":\"\"}},\"colorscale\":{\"diverging\":[[0,\"#8e0152\"],[0.1,\"#c51b7d\"],[0.2,\"#de77ae\"],[0.3,\"#f1b6da\"],[0.4,\"#fde0ef\"],[0.5,\"#f7f7f7\"],[0.6,\"#e6f5d0\"],[0.7,\"#b8e186\"],[0.8,\"#7fbc41\"],[0.9,\"#4d9221\"],[1,\"#276419\"]],\"sequential\":[[0.0,\"#0d0887\"],[0.1111111111111111,\"#46039f\"],[0.2222222222222222,\"#7201a8\"],[0.3333333333333333,\"#9c179e\"],[0.4444444444444444,\"#bd3786\"],[0.5555555555555556,\"#d8576b\"],[0.6666666666666666,\"#ed7953\"],[0.7777777777777778,\"#fb9f3a\"],[0.8888888888888888,\"#fdca26\"],[1.0,\"#f0f921\"]],\"sequentialminus\":[[0.0,\"#0d0887\"],[0.1111111111111111,\"#46039f\"],[0.2222222222222222,\"#7201a8\"],[0.3333333333333333,\"#9c179e\"],[0.4444444444444444,\"#bd3786\"],[0.5555555555555556,\"#d8576b\"],[0.6666666666666666,\"#ed7953\"],[0.7777777777777778,\"#fb9f3a\"],[0.8888888888888888,\"#fdca26\"],[1.0,\"#f0f921\"]]},\"colorway\":[\"#636efa\",\"#EF553B\",\"#00cc96\",\"#ab63fa\",\"#FFA15A\",\"#19d3f3\",\"#FF6692\",\"#B6E880\",\"#FF97FF\",\"#FECB52\"],\"font\":{\"color\":\"#2a3f5f\"},\"geo\":{\"bgcolor\":\"white\",\"lakecolor\":\"white\",\"landcolor\":\"#E5ECF6\",\"showlakes\":true,\"showland\":true,\"subunitcolor\":\"white\"},\"hoverlabel\":{\"align\":\"left\"},\"hovermode\":\"closest\",\"mapbox\":{\"style\":\"light\"},\"paper_bgcolor\":\"white\",\"plot_bgcolor\":\"#E5ECF6\",\"polar\":{\"angularaxis\":{\"gridcolor\":\"white\",\"linecolor\":\"white\",\"ticks\":\"\"},\"bgcolor\":\"#E5ECF6\",\"radialaxis\":{\"gridcolor\":\"white\",\"linecolor\":\"white\",\"ticks\":\"\"}},\"scene\":{\"xaxis\":{\"backgroundcolor\":\"#E5ECF6\",\"gridcolor\":\"white\",\"gridwidth\":2,\"linecolor\":\"white\",\"showbackground\":true,\"ticks\":\"\",\"zerolinecolor\":\"white\"},\"yaxis\":{\"backgroundcolor\":\"#E5ECF6\",\"gridcolor\":\"white\",\"gridwidth\":2,\"linecolor\":\"white\",\"showbackground\":true,\"ticks\":\"\",\"zerolinecolor\":\"white\"},\"zaxis\":{\"backgroundcolor\":\"#E5ECF6\",\"gridcolor\":\"white\",\"gridwidth\":2,\"linecolor\":\"white\",\"showbackground\":true,\"ticks\":\"\",\"zerolinecolor\":\"white\"}},\"shapedefaults\":{\"line\":{\"color\":\"#2a3f5f\"}},\"ternary\":{\"aaxis\":{\"gridcolor\":\"white\",\"linecolor\":\"white\",\"ticks\":\"\"},\"baxis\":{\"gridcolor\":\"white\",\"linecolor\":\"white\",\"ticks\":\"\"},\"bgcolor\":\"#E5ECF6\",\"caxis\":{\"gridcolor\":\"white\",\"linecolor\":\"white\",\"ticks\":\"\"}},\"title\":{\"x\":0.05},\"xaxis\":{\"automargin\":true,\"gridcolor\":\"white\",\"linecolor\":\"white\",\"ticks\":\"\",\"title\":{\"standoff\":15},\"zerolinecolor\":\"white\",\"zerolinewidth\":2},\"yaxis\":{\"automargin\":true,\"gridcolor\":\"white\",\"linecolor\":\"white\",\"ticks\":\"\",\"title\":{\"standoff\":15},\"zerolinecolor\":\"white\",\"zerolinewidth\":2}}}},                        {\"responsive\": true}                    ).then(function(){\n",
              "                            \n",
              "var gd = document.getElementById('48342817-2b6c-487e-bfd9-5e7fb6a470f1');\n",
              "var x = new MutationObserver(function (mutations, observer) {{\n",
              "        var display = window.getComputedStyle(gd).display;\n",
              "        if (!display || display === 'none') {{\n",
              "            console.log([gd, 'removed!']);\n",
              "            Plotly.purge(gd);\n",
              "            observer.disconnect();\n",
              "        }}\n",
              "}});\n",
              "\n",
              "// Listen for the removal of the full notebook cells\n",
              "var notebookContainer = gd.closest('#notebook-container');\n",
              "if (notebookContainer) {{\n",
              "    x.observe(notebookContainer, {childList: true});\n",
              "}}\n",
              "\n",
              "// Listen for the clearing of the current output cell\n",
              "var outputEl = gd.closest('.output');\n",
              "if (outputEl) {{\n",
              "    x.observe(outputEl, {childList: true});\n",
              "}}\n",
              "\n",
              "                        })                };                            </script>        </div>\n",
              "</body>\n",
              "</html>"
            ]
          },
          "metadata": {}
        }
      ],
      "source": [
        "num_calls_below_3_n = 0\n",
        "num_calls_below_3_y = 0\n",
        "num_calls_below_6_n = 0\n",
        "num_calls_below_6_y = 0\n",
        "num_calls_below_10_n = 0\n",
        "num_calls_below_10_y = 0\n",
        "num_calls_above_10_n = 0\n",
        "num_calls_above_10_y = 0\n",
        "for i in range(len(df)):\n",
        "  if df.num_calls.iloc[i]<=3:\n",
        "    if df.y.iloc[i] ==\"no\":\n",
        "      num_calls_below_3_n += 1\n",
        "    else:\n",
        "      num_calls_below_3_y += 1\n",
        "  elif df.num_calls.iloc[i]<=6 and df.num_calls.iloc[i] > 3:\n",
        "    if df.y.iloc[i] ==\"no\":\n",
        "      num_calls_below_6_n += 1\n",
        "    else:\n",
        "      num_calls_below_6_y += 1\n",
        "  elif df.num_calls.iloc[i]<=10 and df.num_calls.iloc[i] > 5:\n",
        "    if df.y.iloc[i] ==\"no\":\n",
        "      num_calls_below_10_n += 1\n",
        "    else:\n",
        "      num_calls_below_10_y += 1\n",
        "  elif df.num_calls.iloc[i]>10 :\n",
        "    if df.y.iloc[i] ==\"no\":\n",
        "      num_calls_above_10_n += 1\n",
        "    else:\n",
        "      num_calls_above_10_y += 1  \n",
        " \n",
        "num_calls_data = {\"no\":[num_calls_below_3_n,num_calls_below_6_n,num_calls_below_10_n,num_calls_above_10_n],\n",
        "                  \"yes\":[num_calls_below_3_y,num_calls_below_6_y,num_calls_below_10_y,num_calls_above_10_y]}   \n",
        "\n",
        "num_calls_cons = pd.DataFrame(data = num_calls_data,index=['num_calls_below_3','num_calls_below_6','num_calls_below_10','num_calls_above_10'])\n",
        "print(num_calls_cons)\n",
        "\n",
        "\n",
        "fig = go.Figure()\n",
        "fig.add_trace(go.Bar(x=num_calls_cons.index, y=num_calls_cons.no,\n",
        "                base=0,marker_color='blue',\n",
        "                name='no'))\n",
        "fig.add_trace(go.Bar(x=num_calls_cons.index, y=num_calls_cons.yes,\n",
        "                base=0,marker_color='green',\n",
        "                name='yes'\n",
        "                ))\n",
        "\n",
        "fig.show()"
      ]
    },
    {
      "cell_type": "code",
      "execution_count": 278,
      "metadata": {
        "colab": {
          "base_uri": "https://localhost:8080/",
          "height": 175
        },
        "id": "yZQPcaDaKbvB",
        "outputId": "96290165-3eb9-4a1f-fea0-ddeb9a3b914c"
      },
      "outputs": [
        {
          "output_type": "execute_result",
          "data": {
            "text/plain": [
              "                           no        yes\n",
              "num_calls_below_3   87.123981  12.876019\n",
              "num_calls_below_6   91.667934   8.332066\n",
              "num_calls_below_10  93.897216   6.102784\n",
              "num_calls_above_10  96.070234   3.929766"
            ],
            "text/html": [
              "\n",
              "  <div id=\"df-dcbcfbb0-8c20-4855-a1c9-052330de901b\">\n",
              "    <div class=\"colab-df-container\">\n",
              "      <div>\n",
              "<style scoped>\n",
              "    .dataframe tbody tr th:only-of-type {\n",
              "        vertical-align: middle;\n",
              "    }\n",
              "\n",
              "    .dataframe tbody tr th {\n",
              "        vertical-align: top;\n",
              "    }\n",
              "\n",
              "    .dataframe thead th {\n",
              "        text-align: right;\n",
              "    }\n",
              "</style>\n",
              "<table border=\"1\" class=\"dataframe\">\n",
              "  <thead>\n",
              "    <tr style=\"text-align: right;\">\n",
              "      <th></th>\n",
              "      <th>no</th>\n",
              "      <th>yes</th>\n",
              "    </tr>\n",
              "  </thead>\n",
              "  <tbody>\n",
              "    <tr>\n",
              "      <th>num_calls_below_3</th>\n",
              "      <td>87.123981</td>\n",
              "      <td>12.876019</td>\n",
              "    </tr>\n",
              "    <tr>\n",
              "      <th>num_calls_below_6</th>\n",
              "      <td>91.667934</td>\n",
              "      <td>8.332066</td>\n",
              "    </tr>\n",
              "    <tr>\n",
              "      <th>num_calls_below_10</th>\n",
              "      <td>93.897216</td>\n",
              "      <td>6.102784</td>\n",
              "    </tr>\n",
              "    <tr>\n",
              "      <th>num_calls_above_10</th>\n",
              "      <td>96.070234</td>\n",
              "      <td>3.929766</td>\n",
              "    </tr>\n",
              "  </tbody>\n",
              "</table>\n",
              "</div>\n",
              "      <button class=\"colab-df-convert\" onclick=\"convertToInteractive('df-dcbcfbb0-8c20-4855-a1c9-052330de901b')\"\n",
              "              title=\"Convert this dataframe to an interactive table.\"\n",
              "              style=\"display:none;\">\n",
              "        \n",
              "  <svg xmlns=\"http://www.w3.org/2000/svg\" height=\"24px\"viewBox=\"0 0 24 24\"\n",
              "       width=\"24px\">\n",
              "    <path d=\"M0 0h24v24H0V0z\" fill=\"none\"/>\n",
              "    <path d=\"M18.56 5.44l.94 2.06.94-2.06 2.06-.94-2.06-.94-.94-2.06-.94 2.06-2.06.94zm-11 1L8.5 8.5l.94-2.06 2.06-.94-2.06-.94L8.5 2.5l-.94 2.06-2.06.94zm10 10l.94 2.06.94-2.06 2.06-.94-2.06-.94-.94-2.06-.94 2.06-2.06.94z\"/><path d=\"M17.41 7.96l-1.37-1.37c-.4-.4-.92-.59-1.43-.59-.52 0-1.04.2-1.43.59L10.3 9.45l-7.72 7.72c-.78.78-.78 2.05 0 2.83L4 21.41c.39.39.9.59 1.41.59.51 0 1.02-.2 1.41-.59l7.78-7.78 2.81-2.81c.8-.78.8-2.07 0-2.86zM5.41 20L4 18.59l7.72-7.72 1.47 1.35L5.41 20z\"/>\n",
              "  </svg>\n",
              "      </button>\n",
              "      \n",
              "  <style>\n",
              "    .colab-df-container {\n",
              "      display:flex;\n",
              "      flex-wrap:wrap;\n",
              "      gap: 12px;\n",
              "    }\n",
              "\n",
              "    .colab-df-convert {\n",
              "      background-color: #E8F0FE;\n",
              "      border: none;\n",
              "      border-radius: 50%;\n",
              "      cursor: pointer;\n",
              "      display: none;\n",
              "      fill: #1967D2;\n",
              "      height: 32px;\n",
              "      padding: 0 0 0 0;\n",
              "      width: 32px;\n",
              "    }\n",
              "\n",
              "    .colab-df-convert:hover {\n",
              "      background-color: #E2EBFA;\n",
              "      box-shadow: 0px 1px 2px rgba(60, 64, 67, 0.3), 0px 1px 3px 1px rgba(60, 64, 67, 0.15);\n",
              "      fill: #174EA6;\n",
              "    }\n",
              "\n",
              "    [theme=dark] .colab-df-convert {\n",
              "      background-color: #3B4455;\n",
              "      fill: #D2E3FC;\n",
              "    }\n",
              "\n",
              "    [theme=dark] .colab-df-convert:hover {\n",
              "      background-color: #434B5C;\n",
              "      box-shadow: 0px 1px 3px 1px rgba(0, 0, 0, 0.15);\n",
              "      filter: drop-shadow(0px 1px 2px rgba(0, 0, 0, 0.3));\n",
              "      fill: #FFFFFF;\n",
              "    }\n",
              "  </style>\n",
              "\n",
              "      <script>\n",
              "        const buttonEl =\n",
              "          document.querySelector('#df-dcbcfbb0-8c20-4855-a1c9-052330de901b button.colab-df-convert');\n",
              "        buttonEl.style.display =\n",
              "          google.colab.kernel.accessAllowed ? 'block' : 'none';\n",
              "\n",
              "        async function convertToInteractive(key) {\n",
              "          const element = document.querySelector('#df-dcbcfbb0-8c20-4855-a1c9-052330de901b');\n",
              "          const dataTable =\n",
              "            await google.colab.kernel.invokeFunction('convertToInteractive',\n",
              "                                                     [key], {});\n",
              "          if (!dataTable) return;\n",
              "\n",
              "          const docLinkHtml = 'Like what you see? Visit the ' +\n",
              "            '<a target=\"_blank\" href=https://colab.research.google.com/notebooks/data_table.ipynb>data table notebook</a>'\n",
              "            + ' to learn more about interactive tables.';\n",
              "          element.innerHTML = '';\n",
              "          dataTable['output_type'] = 'display_data';\n",
              "          await google.colab.output.renderOutput(dataTable, element);\n",
              "          const docLink = document.createElement('div');\n",
              "          docLink.innerHTML = docLinkHtml;\n",
              "          element.appendChild(docLink);\n",
              "        }\n",
              "      </script>\n",
              "    </div>\n",
              "  </div>\n",
              "  "
            ]
          },
          "metadata": {},
          "execution_count": 278
        }
      ],
      "source": [
        "num_calls_below_3 = num_calls_below_3_n + num_calls_below_3_y\n",
        "num_calls_below_3_n_p=(num_calls_below_3_n/num_calls_below_3)*100\n",
        "num_calls_below_3_y_p=100-num_calls_below_3_n_p\n",
        "\n",
        "num_calls_below_6 = num_calls_below_6_n + num_calls_below_6_y\n",
        "num_calls_below_6_n_p=(num_calls_below_6_n/num_calls_below_6)*100\n",
        "num_calls_below_6_y_p=100-num_calls_below_6_n_p\n",
        "\n",
        "num_calls_below_10 = num_calls_below_10_n + num_calls_below_10_y\n",
        "num_calls_below_10_n_p=(num_calls_below_10_n/num_calls_below_10)*100\n",
        "num_calls_below_10_y_p=100-num_calls_below_10_n_p\n",
        "\n",
        "num_calls_above_10 = num_calls_above_10_n + num_calls_above_10_y\n",
        "num_calls_above_10_n_p=(num_calls_above_10_n/num_calls_above_10)*100\n",
        "num_calls_above_10_y_p=100-num_calls_above_10_n_p\n",
        "\n",
        "\n",
        "data={'no':[num_calls_below_3_n_p,num_calls_below_6_n_p,num_calls_below_10_n_p,num_calls_above_10_n_p],\n",
        "      'yes':[num_calls_below_3_y_p,num_calls_below_6_y_p,num_calls_below_10_y_p,num_calls_above_10_y_p,]}\n",
        "num_calls_per=pd.DataFrame(data=data,index=['num_calls_below_3','num_calls_below_6','num_calls_below_10','num_calls_above_10'])\n",
        "num_calls_per"
      ]
    },
    {
      "cell_type": "code",
      "execution_count": 279,
      "metadata": {
        "colab": {
          "base_uri": "https://localhost:8080/",
          "height": 542
        },
        "id": "ITEZ9lcALDkq",
        "outputId": "f15ae0cd-3c3b-41bb-8104-98d55ef8e841"
      },
      "outputs": [
        {
          "output_type": "display_data",
          "data": {
            "text/html": [
              "<html>\n",
              "<head><meta charset=\"utf-8\" /></head>\n",
              "<body>\n",
              "    <div>            <script src=\"https://cdnjs.cloudflare.com/ajax/libs/mathjax/2.7.5/MathJax.js?config=TeX-AMS-MML_SVG\"></script><script type=\"text/javascript\">if (window.MathJax) {MathJax.Hub.Config({SVG: {font: \"STIX-Web\"}});}</script>                <script type=\"text/javascript\">window.PlotlyConfig = {MathJaxConfig: 'local'};</script>\n",
              "        <script src=\"https://cdn.plot.ly/plotly-2.8.3.min.js\"></script>                <div id=\"28fdd40c-7138-42c1-b49b-d44c175337af\" class=\"plotly-graph-div\" style=\"height:525px; width:100%;\"></div>            <script type=\"text/javascript\">                                    window.PLOTLYENV=window.PLOTLYENV || {};                                    if (document.getElementById(\"28fdd40c-7138-42c1-b49b-d44c175337af\")) {                    Plotly.newPlot(                        \"28fdd40c-7138-42c1-b49b-d44c175337af\",                        [{\"base\":[0],\"marker\":{\"color\":\"blue\"},\"name\":\"yes\",\"x\":[\"num_calls_below_3\",\"num_calls_below_6\",\"num_calls_below_10\",\"num_calls_above_10\"],\"y\":[12.876019117233625,8.332066291622326,6.102783725910072,3.929765886287626],\"type\":\"bar\"},{\"base\":[-87.1,-91.7,-93.89,-96],\"marker\":{\"color\":\"yellow\"},\"name\":\"no\",\"x\":[\"num_calls_below_3\",\"num_calls_below_6\",\"num_calls_below_10\",\"num_calls_above_10\"],\"y\":[87.12398088276638,91.66793370837767,93.89721627408993,96.07023411371237],\"type\":\"bar\"}],                        {\"template\":{\"data\":{\"bar\":[{\"error_x\":{\"color\":\"#2a3f5f\"},\"error_y\":{\"color\":\"#2a3f5f\"},\"marker\":{\"line\":{\"color\":\"#E5ECF6\",\"width\":0.5},\"pattern\":{\"fillmode\":\"overlay\",\"size\":10,\"solidity\":0.2}},\"type\":\"bar\"}],\"barpolar\":[{\"marker\":{\"line\":{\"color\":\"#E5ECF6\",\"width\":0.5},\"pattern\":{\"fillmode\":\"overlay\",\"size\":10,\"solidity\":0.2}},\"type\":\"barpolar\"}],\"carpet\":[{\"aaxis\":{\"endlinecolor\":\"#2a3f5f\",\"gridcolor\":\"white\",\"linecolor\":\"white\",\"minorgridcolor\":\"white\",\"startlinecolor\":\"#2a3f5f\"},\"baxis\":{\"endlinecolor\":\"#2a3f5f\",\"gridcolor\":\"white\",\"linecolor\":\"white\",\"minorgridcolor\":\"white\",\"startlinecolor\":\"#2a3f5f\"},\"type\":\"carpet\"}],\"choropleth\":[{\"colorbar\":{\"outlinewidth\":0,\"ticks\":\"\"},\"type\":\"choropleth\"}],\"contour\":[{\"colorbar\":{\"outlinewidth\":0,\"ticks\":\"\"},\"colorscale\":[[0.0,\"#0d0887\"],[0.1111111111111111,\"#46039f\"],[0.2222222222222222,\"#7201a8\"],[0.3333333333333333,\"#9c179e\"],[0.4444444444444444,\"#bd3786\"],[0.5555555555555556,\"#d8576b\"],[0.6666666666666666,\"#ed7953\"],[0.7777777777777778,\"#fb9f3a\"],[0.8888888888888888,\"#fdca26\"],[1.0,\"#f0f921\"]],\"type\":\"contour\"}],\"contourcarpet\":[{\"colorbar\":{\"outlinewidth\":0,\"ticks\":\"\"},\"type\":\"contourcarpet\"}],\"heatmap\":[{\"colorbar\":{\"outlinewidth\":0,\"ticks\":\"\"},\"colorscale\":[[0.0,\"#0d0887\"],[0.1111111111111111,\"#46039f\"],[0.2222222222222222,\"#7201a8\"],[0.3333333333333333,\"#9c179e\"],[0.4444444444444444,\"#bd3786\"],[0.5555555555555556,\"#d8576b\"],[0.6666666666666666,\"#ed7953\"],[0.7777777777777778,\"#fb9f3a\"],[0.8888888888888888,\"#fdca26\"],[1.0,\"#f0f921\"]],\"type\":\"heatmap\"}],\"heatmapgl\":[{\"colorbar\":{\"outlinewidth\":0,\"ticks\":\"\"},\"colorscale\":[[0.0,\"#0d0887\"],[0.1111111111111111,\"#46039f\"],[0.2222222222222222,\"#7201a8\"],[0.3333333333333333,\"#9c179e\"],[0.4444444444444444,\"#bd3786\"],[0.5555555555555556,\"#d8576b\"],[0.6666666666666666,\"#ed7953\"],[0.7777777777777778,\"#fb9f3a\"],[0.8888888888888888,\"#fdca26\"],[1.0,\"#f0f921\"]],\"type\":\"heatmapgl\"}],\"histogram\":[{\"marker\":{\"pattern\":{\"fillmode\":\"overlay\",\"size\":10,\"solidity\":0.2}},\"type\":\"histogram\"}],\"histogram2d\":[{\"colorbar\":{\"outlinewidth\":0,\"ticks\":\"\"},\"colorscale\":[[0.0,\"#0d0887\"],[0.1111111111111111,\"#46039f\"],[0.2222222222222222,\"#7201a8\"],[0.3333333333333333,\"#9c179e\"],[0.4444444444444444,\"#bd3786\"],[0.5555555555555556,\"#d8576b\"],[0.6666666666666666,\"#ed7953\"],[0.7777777777777778,\"#fb9f3a\"],[0.8888888888888888,\"#fdca26\"],[1.0,\"#f0f921\"]],\"type\":\"histogram2d\"}],\"histogram2dcontour\":[{\"colorbar\":{\"outlinewidth\":0,\"ticks\":\"\"},\"colorscale\":[[0.0,\"#0d0887\"],[0.1111111111111111,\"#46039f\"],[0.2222222222222222,\"#7201a8\"],[0.3333333333333333,\"#9c179e\"],[0.4444444444444444,\"#bd3786\"],[0.5555555555555556,\"#d8576b\"],[0.6666666666666666,\"#ed7953\"],[0.7777777777777778,\"#fb9f3a\"],[0.8888888888888888,\"#fdca26\"],[1.0,\"#f0f921\"]],\"type\":\"histogram2dcontour\"}],\"mesh3d\":[{\"colorbar\":{\"outlinewidth\":0,\"ticks\":\"\"},\"type\":\"mesh3d\"}],\"parcoords\":[{\"line\":{\"colorbar\":{\"outlinewidth\":0,\"ticks\":\"\"}},\"type\":\"parcoords\"}],\"pie\":[{\"automargin\":true,\"type\":\"pie\"}],\"scatter\":[{\"marker\":{\"colorbar\":{\"outlinewidth\":0,\"ticks\":\"\"}},\"type\":\"scatter\"}],\"scatter3d\":[{\"line\":{\"colorbar\":{\"outlinewidth\":0,\"ticks\":\"\"}},\"marker\":{\"colorbar\":{\"outlinewidth\":0,\"ticks\":\"\"}},\"type\":\"scatter3d\"}],\"scattercarpet\":[{\"marker\":{\"colorbar\":{\"outlinewidth\":0,\"ticks\":\"\"}},\"type\":\"scattercarpet\"}],\"scattergeo\":[{\"marker\":{\"colorbar\":{\"outlinewidth\":0,\"ticks\":\"\"}},\"type\":\"scattergeo\"}],\"scattergl\":[{\"marker\":{\"colorbar\":{\"outlinewidth\":0,\"ticks\":\"\"}},\"type\":\"scattergl\"}],\"scattermapbox\":[{\"marker\":{\"colorbar\":{\"outlinewidth\":0,\"ticks\":\"\"}},\"type\":\"scattermapbox\"}],\"scatterpolar\":[{\"marker\":{\"colorbar\":{\"outlinewidth\":0,\"ticks\":\"\"}},\"type\":\"scatterpolar\"}],\"scatterpolargl\":[{\"marker\":{\"colorbar\":{\"outlinewidth\":0,\"ticks\":\"\"}},\"type\":\"scatterpolargl\"}],\"scatterternary\":[{\"marker\":{\"colorbar\":{\"outlinewidth\":0,\"ticks\":\"\"}},\"type\":\"scatterternary\"}],\"surface\":[{\"colorbar\":{\"outlinewidth\":0,\"ticks\":\"\"},\"colorscale\":[[0.0,\"#0d0887\"],[0.1111111111111111,\"#46039f\"],[0.2222222222222222,\"#7201a8\"],[0.3333333333333333,\"#9c179e\"],[0.4444444444444444,\"#bd3786\"],[0.5555555555555556,\"#d8576b\"],[0.6666666666666666,\"#ed7953\"],[0.7777777777777778,\"#fb9f3a\"],[0.8888888888888888,\"#fdca26\"],[1.0,\"#f0f921\"]],\"type\":\"surface\"}],\"table\":[{\"cells\":{\"fill\":{\"color\":\"#EBF0F8\"},\"line\":{\"color\":\"white\"}},\"header\":{\"fill\":{\"color\":\"#C8D4E3\"},\"line\":{\"color\":\"white\"}},\"type\":\"table\"}]},\"layout\":{\"annotationdefaults\":{\"arrowcolor\":\"#2a3f5f\",\"arrowhead\":0,\"arrowwidth\":1},\"autotypenumbers\":\"strict\",\"coloraxis\":{\"colorbar\":{\"outlinewidth\":0,\"ticks\":\"\"}},\"colorscale\":{\"diverging\":[[0,\"#8e0152\"],[0.1,\"#c51b7d\"],[0.2,\"#de77ae\"],[0.3,\"#f1b6da\"],[0.4,\"#fde0ef\"],[0.5,\"#f7f7f7\"],[0.6,\"#e6f5d0\"],[0.7,\"#b8e186\"],[0.8,\"#7fbc41\"],[0.9,\"#4d9221\"],[1,\"#276419\"]],\"sequential\":[[0.0,\"#0d0887\"],[0.1111111111111111,\"#46039f\"],[0.2222222222222222,\"#7201a8\"],[0.3333333333333333,\"#9c179e\"],[0.4444444444444444,\"#bd3786\"],[0.5555555555555556,\"#d8576b\"],[0.6666666666666666,\"#ed7953\"],[0.7777777777777778,\"#fb9f3a\"],[0.8888888888888888,\"#fdca26\"],[1.0,\"#f0f921\"]],\"sequentialminus\":[[0.0,\"#0d0887\"],[0.1111111111111111,\"#46039f\"],[0.2222222222222222,\"#7201a8\"],[0.3333333333333333,\"#9c179e\"],[0.4444444444444444,\"#bd3786\"],[0.5555555555555556,\"#d8576b\"],[0.6666666666666666,\"#ed7953\"],[0.7777777777777778,\"#fb9f3a\"],[0.8888888888888888,\"#fdca26\"],[1.0,\"#f0f921\"]]},\"colorway\":[\"#636efa\",\"#EF553B\",\"#00cc96\",\"#ab63fa\",\"#FFA15A\",\"#19d3f3\",\"#FF6692\",\"#B6E880\",\"#FF97FF\",\"#FECB52\"],\"font\":{\"color\":\"#2a3f5f\"},\"geo\":{\"bgcolor\":\"white\",\"lakecolor\":\"white\",\"landcolor\":\"#E5ECF6\",\"showlakes\":true,\"showland\":true,\"subunitcolor\":\"white\"},\"hoverlabel\":{\"align\":\"left\"},\"hovermode\":\"closest\",\"mapbox\":{\"style\":\"light\"},\"paper_bgcolor\":\"white\",\"plot_bgcolor\":\"#E5ECF6\",\"polar\":{\"angularaxis\":{\"gridcolor\":\"white\",\"linecolor\":\"white\",\"ticks\":\"\"},\"bgcolor\":\"#E5ECF6\",\"radialaxis\":{\"gridcolor\":\"white\",\"linecolor\":\"white\",\"ticks\":\"\"}},\"scene\":{\"xaxis\":{\"backgroundcolor\":\"#E5ECF6\",\"gridcolor\":\"white\",\"gridwidth\":2,\"linecolor\":\"white\",\"showbackground\":true,\"ticks\":\"\",\"zerolinecolor\":\"white\"},\"yaxis\":{\"backgroundcolor\":\"#E5ECF6\",\"gridcolor\":\"white\",\"gridwidth\":2,\"linecolor\":\"white\",\"showbackground\":true,\"ticks\":\"\",\"zerolinecolor\":\"white\"},\"zaxis\":{\"backgroundcolor\":\"#E5ECF6\",\"gridcolor\":\"white\",\"gridwidth\":2,\"linecolor\":\"white\",\"showbackground\":true,\"ticks\":\"\",\"zerolinecolor\":\"white\"}},\"shapedefaults\":{\"line\":{\"color\":\"#2a3f5f\"}},\"ternary\":{\"aaxis\":{\"gridcolor\":\"white\",\"linecolor\":\"white\",\"ticks\":\"\"},\"baxis\":{\"gridcolor\":\"white\",\"linecolor\":\"white\",\"ticks\":\"\"},\"bgcolor\":\"#E5ECF6\",\"caxis\":{\"gridcolor\":\"white\",\"linecolor\":\"white\",\"ticks\":\"\"}},\"title\":{\"x\":0.05},\"xaxis\":{\"automargin\":true,\"gridcolor\":\"white\",\"linecolor\":\"white\",\"ticks\":\"\",\"title\":{\"standoff\":15},\"zerolinecolor\":\"white\",\"zerolinewidth\":2},\"yaxis\":{\"automargin\":true,\"gridcolor\":\"white\",\"linecolor\":\"white\",\"ticks\":\"\",\"title\":{\"standoff\":15},\"zerolinecolor\":\"white\",\"zerolinewidth\":2}}}},                        {\"responsive\": true}                    ).then(function(){\n",
              "                            \n",
              "var gd = document.getElementById('28fdd40c-7138-42c1-b49b-d44c175337af');\n",
              "var x = new MutationObserver(function (mutations, observer) {{\n",
              "        var display = window.getComputedStyle(gd).display;\n",
              "        if (!display || display === 'none') {{\n",
              "            console.log([gd, 'removed!']);\n",
              "            Plotly.purge(gd);\n",
              "            observer.disconnect();\n",
              "        }}\n",
              "}});\n",
              "\n",
              "// Listen for the removal of the full notebook cells\n",
              "var notebookContainer = gd.closest('#notebook-container');\n",
              "if (notebookContainer) {{\n",
              "    x.observe(notebookContainer, {childList: true});\n",
              "}}\n",
              "\n",
              "// Listen for the clearing of the current output cell\n",
              "var outputEl = gd.closest('.output');\n",
              "if (outputEl) {{\n",
              "    x.observe(outputEl, {childList: true});\n",
              "}}\n",
              "\n",
              "                        })                };                            </script>        </div>\n",
              "</body>\n",
              "</html>"
            ]
          },
          "metadata": {}
        }
      ],
      "source": [
        "fig = go.Figure()\n",
        "fig.add_trace(go.Bar(x=num_calls_per.index, y=num_calls_per.yes,\n",
        "                base=[0],marker_color='blue',\n",
        "                name='yes'))\n",
        "fig.add_trace(go.Bar(x=num_calls_per.index, y=num_calls_per.no,\n",
        "                base=[-87.1,-91.7,-93.89,-96],marker_color='yellow',\n",
        "                name='no'\n",
        "                ))\n",
        "\n",
        "fig.show()"
      ]
    },
    {
      "cell_type": "markdown",
      "metadata": {
        "id": "0pZZjrr8fyWi"
      },
      "source": [
        "From the graph we can know the potential of a customer getting insured with 3 calls itself.\n",
        "\n",
        "Any calls more than 10 times is not showing us the desirable output."
      ]
    },
    {
      "cell_type": "code",
      "execution_count": 280,
      "metadata": {
        "colab": {
          "base_uri": "https://localhost:8080/",
          "height": 646
        },
        "id": "tmwh8QIJECgA",
        "outputId": "3fc3b9b9-7d27-424a-83e9-0dadb3eb3cdd"
      },
      "outputs": [
        {
          "output_type": "stream",
          "name": "stdout",
          "text": [
            "                                no   yes\n",
            "duration below 250 seconds   28154  1380\n",
            "duration below 500 seconds    8674  1632\n",
            "duration below 750 seconds    2065  1044\n",
            "duration below 1000 seconds    603   601\n",
            "duration above 1000 seconds    426   632\n"
          ]
        },
        {
          "output_type": "display_data",
          "data": {
            "text/html": [
              "<html>\n",
              "<head><meta charset=\"utf-8\" /></head>\n",
              "<body>\n",
              "    <div>            <script src=\"https://cdnjs.cloudflare.com/ajax/libs/mathjax/2.7.5/MathJax.js?config=TeX-AMS-MML_SVG\"></script><script type=\"text/javascript\">if (window.MathJax) {MathJax.Hub.Config({SVG: {font: \"STIX-Web\"}});}</script>                <script type=\"text/javascript\">window.PlotlyConfig = {MathJaxConfig: 'local'};</script>\n",
              "        <script src=\"https://cdn.plot.ly/plotly-2.8.3.min.js\"></script>                <div id=\"6cb36626-f50d-4098-9c43-23288e1cdcab\" class=\"plotly-graph-div\" style=\"height:525px; width:100%;\"></div>            <script type=\"text/javascript\">                                    window.PLOTLYENV=window.PLOTLYENV || {};                                    if (document.getElementById(\"6cb36626-f50d-4098-9c43-23288e1cdcab\")) {                    Plotly.newPlot(                        \"6cb36626-f50d-4098-9c43-23288e1cdcab\",                        [{\"base\":[-28154,-8674,-2065,-603,-426],\"marker\":{\"color\":\"blue\"},\"name\":\"no\",\"x\":[\"duration below 250 seconds\",\"duration below 500 seconds\",\"duration below 750 seconds\",\"duration below 1000 seconds\",\"duration above 1000 seconds\"],\"y\":[28154,8674,2065,603,426],\"type\":\"bar\"},{\"base\":0,\"marker\":{\"color\":\"green\"},\"name\":\"yes\",\"x\":[\"duration below 250 seconds\",\"duration below 500 seconds\",\"duration below 750 seconds\",\"duration below 1000 seconds\",\"duration above 1000 seconds\"],\"y\":[1380,1632,1044,601,632],\"type\":\"bar\"}],                        {\"template\":{\"data\":{\"bar\":[{\"error_x\":{\"color\":\"#2a3f5f\"},\"error_y\":{\"color\":\"#2a3f5f\"},\"marker\":{\"line\":{\"color\":\"#E5ECF6\",\"width\":0.5},\"pattern\":{\"fillmode\":\"overlay\",\"size\":10,\"solidity\":0.2}},\"type\":\"bar\"}],\"barpolar\":[{\"marker\":{\"line\":{\"color\":\"#E5ECF6\",\"width\":0.5},\"pattern\":{\"fillmode\":\"overlay\",\"size\":10,\"solidity\":0.2}},\"type\":\"barpolar\"}],\"carpet\":[{\"aaxis\":{\"endlinecolor\":\"#2a3f5f\",\"gridcolor\":\"white\",\"linecolor\":\"white\",\"minorgridcolor\":\"white\",\"startlinecolor\":\"#2a3f5f\"},\"baxis\":{\"endlinecolor\":\"#2a3f5f\",\"gridcolor\":\"white\",\"linecolor\":\"white\",\"minorgridcolor\":\"white\",\"startlinecolor\":\"#2a3f5f\"},\"type\":\"carpet\"}],\"choropleth\":[{\"colorbar\":{\"outlinewidth\":0,\"ticks\":\"\"},\"type\":\"choropleth\"}],\"contour\":[{\"colorbar\":{\"outlinewidth\":0,\"ticks\":\"\"},\"colorscale\":[[0.0,\"#0d0887\"],[0.1111111111111111,\"#46039f\"],[0.2222222222222222,\"#7201a8\"],[0.3333333333333333,\"#9c179e\"],[0.4444444444444444,\"#bd3786\"],[0.5555555555555556,\"#d8576b\"],[0.6666666666666666,\"#ed7953\"],[0.7777777777777778,\"#fb9f3a\"],[0.8888888888888888,\"#fdca26\"],[1.0,\"#f0f921\"]],\"type\":\"contour\"}],\"contourcarpet\":[{\"colorbar\":{\"outlinewidth\":0,\"ticks\":\"\"},\"type\":\"contourcarpet\"}],\"heatmap\":[{\"colorbar\":{\"outlinewidth\":0,\"ticks\":\"\"},\"colorscale\":[[0.0,\"#0d0887\"],[0.1111111111111111,\"#46039f\"],[0.2222222222222222,\"#7201a8\"],[0.3333333333333333,\"#9c179e\"],[0.4444444444444444,\"#bd3786\"],[0.5555555555555556,\"#d8576b\"],[0.6666666666666666,\"#ed7953\"],[0.7777777777777778,\"#fb9f3a\"],[0.8888888888888888,\"#fdca26\"],[1.0,\"#f0f921\"]],\"type\":\"heatmap\"}],\"heatmapgl\":[{\"colorbar\":{\"outlinewidth\":0,\"ticks\":\"\"},\"colorscale\":[[0.0,\"#0d0887\"],[0.1111111111111111,\"#46039f\"],[0.2222222222222222,\"#7201a8\"],[0.3333333333333333,\"#9c179e\"],[0.4444444444444444,\"#bd3786\"],[0.5555555555555556,\"#d8576b\"],[0.6666666666666666,\"#ed7953\"],[0.7777777777777778,\"#fb9f3a\"],[0.8888888888888888,\"#fdca26\"],[1.0,\"#f0f921\"]],\"type\":\"heatmapgl\"}],\"histogram\":[{\"marker\":{\"pattern\":{\"fillmode\":\"overlay\",\"size\":10,\"solidity\":0.2}},\"type\":\"histogram\"}],\"histogram2d\":[{\"colorbar\":{\"outlinewidth\":0,\"ticks\":\"\"},\"colorscale\":[[0.0,\"#0d0887\"],[0.1111111111111111,\"#46039f\"],[0.2222222222222222,\"#7201a8\"],[0.3333333333333333,\"#9c179e\"],[0.4444444444444444,\"#bd3786\"],[0.5555555555555556,\"#d8576b\"],[0.6666666666666666,\"#ed7953\"],[0.7777777777777778,\"#fb9f3a\"],[0.8888888888888888,\"#fdca26\"],[1.0,\"#f0f921\"]],\"type\":\"histogram2d\"}],\"histogram2dcontour\":[{\"colorbar\":{\"outlinewidth\":0,\"ticks\":\"\"},\"colorscale\":[[0.0,\"#0d0887\"],[0.1111111111111111,\"#46039f\"],[0.2222222222222222,\"#7201a8\"],[0.3333333333333333,\"#9c179e\"],[0.4444444444444444,\"#bd3786\"],[0.5555555555555556,\"#d8576b\"],[0.6666666666666666,\"#ed7953\"],[0.7777777777777778,\"#fb9f3a\"],[0.8888888888888888,\"#fdca26\"],[1.0,\"#f0f921\"]],\"type\":\"histogram2dcontour\"}],\"mesh3d\":[{\"colorbar\":{\"outlinewidth\":0,\"ticks\":\"\"},\"type\":\"mesh3d\"}],\"parcoords\":[{\"line\":{\"colorbar\":{\"outlinewidth\":0,\"ticks\":\"\"}},\"type\":\"parcoords\"}],\"pie\":[{\"automargin\":true,\"type\":\"pie\"}],\"scatter\":[{\"marker\":{\"colorbar\":{\"outlinewidth\":0,\"ticks\":\"\"}},\"type\":\"scatter\"}],\"scatter3d\":[{\"line\":{\"colorbar\":{\"outlinewidth\":0,\"ticks\":\"\"}},\"marker\":{\"colorbar\":{\"outlinewidth\":0,\"ticks\":\"\"}},\"type\":\"scatter3d\"}],\"scattercarpet\":[{\"marker\":{\"colorbar\":{\"outlinewidth\":0,\"ticks\":\"\"}},\"type\":\"scattercarpet\"}],\"scattergeo\":[{\"marker\":{\"colorbar\":{\"outlinewidth\":0,\"ticks\":\"\"}},\"type\":\"scattergeo\"}],\"scattergl\":[{\"marker\":{\"colorbar\":{\"outlinewidth\":0,\"ticks\":\"\"}},\"type\":\"scattergl\"}],\"scattermapbox\":[{\"marker\":{\"colorbar\":{\"outlinewidth\":0,\"ticks\":\"\"}},\"type\":\"scattermapbox\"}],\"scatterpolar\":[{\"marker\":{\"colorbar\":{\"outlinewidth\":0,\"ticks\":\"\"}},\"type\":\"scatterpolar\"}],\"scatterpolargl\":[{\"marker\":{\"colorbar\":{\"outlinewidth\":0,\"ticks\":\"\"}},\"type\":\"scatterpolargl\"}],\"scatterternary\":[{\"marker\":{\"colorbar\":{\"outlinewidth\":0,\"ticks\":\"\"}},\"type\":\"scatterternary\"}],\"surface\":[{\"colorbar\":{\"outlinewidth\":0,\"ticks\":\"\"},\"colorscale\":[[0.0,\"#0d0887\"],[0.1111111111111111,\"#46039f\"],[0.2222222222222222,\"#7201a8\"],[0.3333333333333333,\"#9c179e\"],[0.4444444444444444,\"#bd3786\"],[0.5555555555555556,\"#d8576b\"],[0.6666666666666666,\"#ed7953\"],[0.7777777777777778,\"#fb9f3a\"],[0.8888888888888888,\"#fdca26\"],[1.0,\"#f0f921\"]],\"type\":\"surface\"}],\"table\":[{\"cells\":{\"fill\":{\"color\":\"#EBF0F8\"},\"line\":{\"color\":\"white\"}},\"header\":{\"fill\":{\"color\":\"#C8D4E3\"},\"line\":{\"color\":\"white\"}},\"type\":\"table\"}]},\"layout\":{\"annotationdefaults\":{\"arrowcolor\":\"#2a3f5f\",\"arrowhead\":0,\"arrowwidth\":1},\"autotypenumbers\":\"strict\",\"coloraxis\":{\"colorbar\":{\"outlinewidth\":0,\"ticks\":\"\"}},\"colorscale\":{\"diverging\":[[0,\"#8e0152\"],[0.1,\"#c51b7d\"],[0.2,\"#de77ae\"],[0.3,\"#f1b6da\"],[0.4,\"#fde0ef\"],[0.5,\"#f7f7f7\"],[0.6,\"#e6f5d0\"],[0.7,\"#b8e186\"],[0.8,\"#7fbc41\"],[0.9,\"#4d9221\"],[1,\"#276419\"]],\"sequential\":[[0.0,\"#0d0887\"],[0.1111111111111111,\"#46039f\"],[0.2222222222222222,\"#7201a8\"],[0.3333333333333333,\"#9c179e\"],[0.4444444444444444,\"#bd3786\"],[0.5555555555555556,\"#d8576b\"],[0.6666666666666666,\"#ed7953\"],[0.7777777777777778,\"#fb9f3a\"],[0.8888888888888888,\"#fdca26\"],[1.0,\"#f0f921\"]],\"sequentialminus\":[[0.0,\"#0d0887\"],[0.1111111111111111,\"#46039f\"],[0.2222222222222222,\"#7201a8\"],[0.3333333333333333,\"#9c179e\"],[0.4444444444444444,\"#bd3786\"],[0.5555555555555556,\"#d8576b\"],[0.6666666666666666,\"#ed7953\"],[0.7777777777777778,\"#fb9f3a\"],[0.8888888888888888,\"#fdca26\"],[1.0,\"#f0f921\"]]},\"colorway\":[\"#636efa\",\"#EF553B\",\"#00cc96\",\"#ab63fa\",\"#FFA15A\",\"#19d3f3\",\"#FF6692\",\"#B6E880\",\"#FF97FF\",\"#FECB52\"],\"font\":{\"color\":\"#2a3f5f\"},\"geo\":{\"bgcolor\":\"white\",\"lakecolor\":\"white\",\"landcolor\":\"#E5ECF6\",\"showlakes\":true,\"showland\":true,\"subunitcolor\":\"white\"},\"hoverlabel\":{\"align\":\"left\"},\"hovermode\":\"closest\",\"mapbox\":{\"style\":\"light\"},\"paper_bgcolor\":\"white\",\"plot_bgcolor\":\"#E5ECF6\",\"polar\":{\"angularaxis\":{\"gridcolor\":\"white\",\"linecolor\":\"white\",\"ticks\":\"\"},\"bgcolor\":\"#E5ECF6\",\"radialaxis\":{\"gridcolor\":\"white\",\"linecolor\":\"white\",\"ticks\":\"\"}},\"scene\":{\"xaxis\":{\"backgroundcolor\":\"#E5ECF6\",\"gridcolor\":\"white\",\"gridwidth\":2,\"linecolor\":\"white\",\"showbackground\":true,\"ticks\":\"\",\"zerolinecolor\":\"white\"},\"yaxis\":{\"backgroundcolor\":\"#E5ECF6\",\"gridcolor\":\"white\",\"gridwidth\":2,\"linecolor\":\"white\",\"showbackground\":true,\"ticks\":\"\",\"zerolinecolor\":\"white\"},\"zaxis\":{\"backgroundcolor\":\"#E5ECF6\",\"gridcolor\":\"white\",\"gridwidth\":2,\"linecolor\":\"white\",\"showbackground\":true,\"ticks\":\"\",\"zerolinecolor\":\"white\"}},\"shapedefaults\":{\"line\":{\"color\":\"#2a3f5f\"}},\"ternary\":{\"aaxis\":{\"gridcolor\":\"white\",\"linecolor\":\"white\",\"ticks\":\"\"},\"baxis\":{\"gridcolor\":\"white\",\"linecolor\":\"white\",\"ticks\":\"\"},\"bgcolor\":\"#E5ECF6\",\"caxis\":{\"gridcolor\":\"white\",\"linecolor\":\"white\",\"ticks\":\"\"}},\"title\":{\"x\":0.05},\"xaxis\":{\"automargin\":true,\"gridcolor\":\"white\",\"linecolor\":\"white\",\"ticks\":\"\",\"title\":{\"standoff\":15},\"zerolinecolor\":\"white\",\"zerolinewidth\":2},\"yaxis\":{\"automargin\":true,\"gridcolor\":\"white\",\"linecolor\":\"white\",\"ticks\":\"\",\"title\":{\"standoff\":15},\"zerolinecolor\":\"white\",\"zerolinewidth\":2}}}},                        {\"responsive\": true}                    ).then(function(){\n",
              "                            \n",
              "var gd = document.getElementById('6cb36626-f50d-4098-9c43-23288e1cdcab');\n",
              "var x = new MutationObserver(function (mutations, observer) {{\n",
              "        var display = window.getComputedStyle(gd).display;\n",
              "        if (!display || display === 'none') {{\n",
              "            console.log([gd, 'removed!']);\n",
              "            Plotly.purge(gd);\n",
              "            observer.disconnect();\n",
              "        }}\n",
              "}});\n",
              "\n",
              "// Listen for the removal of the full notebook cells\n",
              "var notebookContainer = gd.closest('#notebook-container');\n",
              "if (notebookContainer) {{\n",
              "    x.observe(notebookContainer, {childList: true});\n",
              "}}\n",
              "\n",
              "// Listen for the clearing of the current output cell\n",
              "var outputEl = gd.closest('.output');\n",
              "if (outputEl) {{\n",
              "    x.observe(outputEl, {childList: true});\n",
              "}}\n",
              "\n",
              "                        })                };                            </script>        </div>\n",
              "</body>\n",
              "</html>"
            ]
          },
          "metadata": {}
        }
      ],
      "source": [
        "duration_below_250_n = 0\n",
        "duration_below_250_y = 0\n",
        "duration_below_500_n = 0\n",
        "duration_below_500_y = 0\n",
        "duration_below_750_n = 0\n",
        "duration_below_750_y = 0\n",
        "duration_below_1000_n = 0\n",
        "duration_below_1000_y = 0\n",
        "duration_above_1000_n = 0\n",
        "duration_above_1000_y = 0\n",
        "\n",
        "for i in range(len(df)):\n",
        "    if df.dur.iloc[i]<=250:\n",
        "      if df.y.iloc[i]=='no':\n",
        "        duration_below_250_n+=1\n",
        "      else:\n",
        "        duration_below_250_y+=1\n",
        "    elif df.dur.iloc[i]>250 and df.dur.iloc[i]<=500:\n",
        "      if df.y.iloc[i]=='no':\n",
        "        duration_below_500_n+=1\n",
        "      else:\n",
        "        duration_below_500_y+=1\n",
        "    elif df.dur.iloc[i]>500 and df.dur.iloc[i]<=750:\n",
        "      if df.y.iloc[i]=='no':\n",
        "        duration_below_750_n+=1\n",
        "      else:\n",
        "        duration_below_750_y+=1\n",
        "    elif df.dur.iloc[i]>750 and df.dur.iloc[i]<=1000:\n",
        "      if df.y.iloc[i]=='no':\n",
        "        duration_below_1000_n+=1\n",
        "      else:\n",
        "        duration_below_1000_y+=1\n",
        "    elif df.dur.iloc[i]>1000:\n",
        "      if df.y.iloc[i]=='no':\n",
        "        duration_above_1000_n+=1\n",
        "      else:\n",
        "        duration_above_1000_y+=1\n",
        "\n",
        "duration_data={'no':[duration_below_250_n,duration_below_500_n,duration_below_750_n,duration_below_1000_n,duration_above_1000_n],\n",
        "               'yes':[duration_below_250_y,duration_below_500_y,duration_below_750_y,duration_below_1000_y,duration_above_1000_y]}\n",
        "\n",
        "duration_cons = pd.DataFrame(data=duration_data,index=['duration below 250 seconds','duration below 500 seconds','duration below 750 seconds','duration below 1000 seconds','duration above 1000 seconds'])\n",
        "print(duration_cons)\n",
        "\n",
        "\n",
        "fig = go.Figure()\n",
        "fig.add_trace(go.Bar(x=duration_cons.index, y=duration_cons.no,\n",
        "                base=[-28154,-8674,-2065,-603,-426],marker_color='blue',\n",
        "                name='no'))\n",
        "fig.add_trace(go.Bar(x=duration_cons.index, y=duration_cons.yes,\n",
        "                base=0,marker_color='green',\n",
        "                name='yes'\n",
        "                ))\n",
        "\n",
        "fig.show()"
      ]
    },
    {
      "cell_type": "code",
      "execution_count": 281,
      "metadata": {
        "colab": {
          "base_uri": "https://localhost:8080/",
          "height": 646
        },
        "id": "6IpYlPkoL5mO",
        "outputId": "ee1d38d1-f20e-4d48-f1cc-6a19a867562b"
      },
      "outputs": [
        {
          "output_type": "stream",
          "name": "stdout",
          "text": [
            "                                    no        yes\n",
            "duration below 250 seconds   95.327419   4.672581\n",
            "duration below 500 seconds   84.164564  15.835436\n",
            "duration below 750 seconds   66.420071  33.579929\n",
            "duration below 1000 seconds  50.083056  49.916944\n",
            "duration above 1000 seconds  40.264650  59.735350\n"
          ]
        },
        {
          "output_type": "display_data",
          "data": {
            "text/html": [
              "<html>\n",
              "<head><meta charset=\"utf-8\" /></head>\n",
              "<body>\n",
              "    <div>            <script src=\"https://cdnjs.cloudflare.com/ajax/libs/mathjax/2.7.5/MathJax.js?config=TeX-AMS-MML_SVG\"></script><script type=\"text/javascript\">if (window.MathJax) {MathJax.Hub.Config({SVG: {font: \"STIX-Web\"}});}</script>                <script type=\"text/javascript\">window.PlotlyConfig = {MathJaxConfig: 'local'};</script>\n",
              "        <script src=\"https://cdn.plot.ly/plotly-2.8.3.min.js\"></script>                <div id=\"74a72f6d-ce41-49ee-b0af-d952fa598325\" class=\"plotly-graph-div\" style=\"height:525px; width:100%;\"></div>            <script type=\"text/javascript\">                                    window.PLOTLYENV=window.PLOTLYENV || {};                                    if (document.getElementById(\"74a72f6d-ce41-49ee-b0af-d952fa598325\")) {                    Plotly.newPlot(                        \"74a72f6d-ce41-49ee-b0af-d952fa598325\",                        [{\"base\":[0],\"marker\":{\"color\":\"blue\"},\"name\":\"yes\",\"x\":[\"duration below 250 seconds\",\"duration below 500 seconds\",\"duration below 750 seconds\",\"duration below 1000 seconds\",\"duration above 1000 seconds\"],\"y\":[4.672580754384782,15.835435668542601,33.579929237697,49.91694352159468,59.73534971644612],\"type\":\"bar\"},{\"base\":[-95.32,-84.16,-66.42,-50.08,-40.26],\"marker\":{\"color\":\"yellow\"},\"name\":\"no\",\"x\":[\"duration below 250 seconds\",\"duration below 500 seconds\",\"duration below 750 seconds\",\"duration below 1000 seconds\",\"duration above 1000 seconds\"],\"y\":[95.32741924561522,84.1645643314574,66.420070762303,50.08305647840532,40.26465028355388],\"type\":\"bar\"}],                        {\"template\":{\"data\":{\"bar\":[{\"error_x\":{\"color\":\"#2a3f5f\"},\"error_y\":{\"color\":\"#2a3f5f\"},\"marker\":{\"line\":{\"color\":\"#E5ECF6\",\"width\":0.5},\"pattern\":{\"fillmode\":\"overlay\",\"size\":10,\"solidity\":0.2}},\"type\":\"bar\"}],\"barpolar\":[{\"marker\":{\"line\":{\"color\":\"#E5ECF6\",\"width\":0.5},\"pattern\":{\"fillmode\":\"overlay\",\"size\":10,\"solidity\":0.2}},\"type\":\"barpolar\"}],\"carpet\":[{\"aaxis\":{\"endlinecolor\":\"#2a3f5f\",\"gridcolor\":\"white\",\"linecolor\":\"white\",\"minorgridcolor\":\"white\",\"startlinecolor\":\"#2a3f5f\"},\"baxis\":{\"endlinecolor\":\"#2a3f5f\",\"gridcolor\":\"white\",\"linecolor\":\"white\",\"minorgridcolor\":\"white\",\"startlinecolor\":\"#2a3f5f\"},\"type\":\"carpet\"}],\"choropleth\":[{\"colorbar\":{\"outlinewidth\":0,\"ticks\":\"\"},\"type\":\"choropleth\"}],\"contour\":[{\"colorbar\":{\"outlinewidth\":0,\"ticks\":\"\"},\"colorscale\":[[0.0,\"#0d0887\"],[0.1111111111111111,\"#46039f\"],[0.2222222222222222,\"#7201a8\"],[0.3333333333333333,\"#9c179e\"],[0.4444444444444444,\"#bd3786\"],[0.5555555555555556,\"#d8576b\"],[0.6666666666666666,\"#ed7953\"],[0.7777777777777778,\"#fb9f3a\"],[0.8888888888888888,\"#fdca26\"],[1.0,\"#f0f921\"]],\"type\":\"contour\"}],\"contourcarpet\":[{\"colorbar\":{\"outlinewidth\":0,\"ticks\":\"\"},\"type\":\"contourcarpet\"}],\"heatmap\":[{\"colorbar\":{\"outlinewidth\":0,\"ticks\":\"\"},\"colorscale\":[[0.0,\"#0d0887\"],[0.1111111111111111,\"#46039f\"],[0.2222222222222222,\"#7201a8\"],[0.3333333333333333,\"#9c179e\"],[0.4444444444444444,\"#bd3786\"],[0.5555555555555556,\"#d8576b\"],[0.6666666666666666,\"#ed7953\"],[0.7777777777777778,\"#fb9f3a\"],[0.8888888888888888,\"#fdca26\"],[1.0,\"#f0f921\"]],\"type\":\"heatmap\"}],\"heatmapgl\":[{\"colorbar\":{\"outlinewidth\":0,\"ticks\":\"\"},\"colorscale\":[[0.0,\"#0d0887\"],[0.1111111111111111,\"#46039f\"],[0.2222222222222222,\"#7201a8\"],[0.3333333333333333,\"#9c179e\"],[0.4444444444444444,\"#bd3786\"],[0.5555555555555556,\"#d8576b\"],[0.6666666666666666,\"#ed7953\"],[0.7777777777777778,\"#fb9f3a\"],[0.8888888888888888,\"#fdca26\"],[1.0,\"#f0f921\"]],\"type\":\"heatmapgl\"}],\"histogram\":[{\"marker\":{\"pattern\":{\"fillmode\":\"overlay\",\"size\":10,\"solidity\":0.2}},\"type\":\"histogram\"}],\"histogram2d\":[{\"colorbar\":{\"outlinewidth\":0,\"ticks\":\"\"},\"colorscale\":[[0.0,\"#0d0887\"],[0.1111111111111111,\"#46039f\"],[0.2222222222222222,\"#7201a8\"],[0.3333333333333333,\"#9c179e\"],[0.4444444444444444,\"#bd3786\"],[0.5555555555555556,\"#d8576b\"],[0.6666666666666666,\"#ed7953\"],[0.7777777777777778,\"#fb9f3a\"],[0.8888888888888888,\"#fdca26\"],[1.0,\"#f0f921\"]],\"type\":\"histogram2d\"}],\"histogram2dcontour\":[{\"colorbar\":{\"outlinewidth\":0,\"ticks\":\"\"},\"colorscale\":[[0.0,\"#0d0887\"],[0.1111111111111111,\"#46039f\"],[0.2222222222222222,\"#7201a8\"],[0.3333333333333333,\"#9c179e\"],[0.4444444444444444,\"#bd3786\"],[0.5555555555555556,\"#d8576b\"],[0.6666666666666666,\"#ed7953\"],[0.7777777777777778,\"#fb9f3a\"],[0.8888888888888888,\"#fdca26\"],[1.0,\"#f0f921\"]],\"type\":\"histogram2dcontour\"}],\"mesh3d\":[{\"colorbar\":{\"outlinewidth\":0,\"ticks\":\"\"},\"type\":\"mesh3d\"}],\"parcoords\":[{\"line\":{\"colorbar\":{\"outlinewidth\":0,\"ticks\":\"\"}},\"type\":\"parcoords\"}],\"pie\":[{\"automargin\":true,\"type\":\"pie\"}],\"scatter\":[{\"marker\":{\"colorbar\":{\"outlinewidth\":0,\"ticks\":\"\"}},\"type\":\"scatter\"}],\"scatter3d\":[{\"line\":{\"colorbar\":{\"outlinewidth\":0,\"ticks\":\"\"}},\"marker\":{\"colorbar\":{\"outlinewidth\":0,\"ticks\":\"\"}},\"type\":\"scatter3d\"}],\"scattercarpet\":[{\"marker\":{\"colorbar\":{\"outlinewidth\":0,\"ticks\":\"\"}},\"type\":\"scattercarpet\"}],\"scattergeo\":[{\"marker\":{\"colorbar\":{\"outlinewidth\":0,\"ticks\":\"\"}},\"type\":\"scattergeo\"}],\"scattergl\":[{\"marker\":{\"colorbar\":{\"outlinewidth\":0,\"ticks\":\"\"}},\"type\":\"scattergl\"}],\"scattermapbox\":[{\"marker\":{\"colorbar\":{\"outlinewidth\":0,\"ticks\":\"\"}},\"type\":\"scattermapbox\"}],\"scatterpolar\":[{\"marker\":{\"colorbar\":{\"outlinewidth\":0,\"ticks\":\"\"}},\"type\":\"scatterpolar\"}],\"scatterpolargl\":[{\"marker\":{\"colorbar\":{\"outlinewidth\":0,\"ticks\":\"\"}},\"type\":\"scatterpolargl\"}],\"scatterternary\":[{\"marker\":{\"colorbar\":{\"outlinewidth\":0,\"ticks\":\"\"}},\"type\":\"scatterternary\"}],\"surface\":[{\"colorbar\":{\"outlinewidth\":0,\"ticks\":\"\"},\"colorscale\":[[0.0,\"#0d0887\"],[0.1111111111111111,\"#46039f\"],[0.2222222222222222,\"#7201a8\"],[0.3333333333333333,\"#9c179e\"],[0.4444444444444444,\"#bd3786\"],[0.5555555555555556,\"#d8576b\"],[0.6666666666666666,\"#ed7953\"],[0.7777777777777778,\"#fb9f3a\"],[0.8888888888888888,\"#fdca26\"],[1.0,\"#f0f921\"]],\"type\":\"surface\"}],\"table\":[{\"cells\":{\"fill\":{\"color\":\"#EBF0F8\"},\"line\":{\"color\":\"white\"}},\"header\":{\"fill\":{\"color\":\"#C8D4E3\"},\"line\":{\"color\":\"white\"}},\"type\":\"table\"}]},\"layout\":{\"annotationdefaults\":{\"arrowcolor\":\"#2a3f5f\",\"arrowhead\":0,\"arrowwidth\":1},\"autotypenumbers\":\"strict\",\"coloraxis\":{\"colorbar\":{\"outlinewidth\":0,\"ticks\":\"\"}},\"colorscale\":{\"diverging\":[[0,\"#8e0152\"],[0.1,\"#c51b7d\"],[0.2,\"#de77ae\"],[0.3,\"#f1b6da\"],[0.4,\"#fde0ef\"],[0.5,\"#f7f7f7\"],[0.6,\"#e6f5d0\"],[0.7,\"#b8e186\"],[0.8,\"#7fbc41\"],[0.9,\"#4d9221\"],[1,\"#276419\"]],\"sequential\":[[0.0,\"#0d0887\"],[0.1111111111111111,\"#46039f\"],[0.2222222222222222,\"#7201a8\"],[0.3333333333333333,\"#9c179e\"],[0.4444444444444444,\"#bd3786\"],[0.5555555555555556,\"#d8576b\"],[0.6666666666666666,\"#ed7953\"],[0.7777777777777778,\"#fb9f3a\"],[0.8888888888888888,\"#fdca26\"],[1.0,\"#f0f921\"]],\"sequentialminus\":[[0.0,\"#0d0887\"],[0.1111111111111111,\"#46039f\"],[0.2222222222222222,\"#7201a8\"],[0.3333333333333333,\"#9c179e\"],[0.4444444444444444,\"#bd3786\"],[0.5555555555555556,\"#d8576b\"],[0.6666666666666666,\"#ed7953\"],[0.7777777777777778,\"#fb9f3a\"],[0.8888888888888888,\"#fdca26\"],[1.0,\"#f0f921\"]]},\"colorway\":[\"#636efa\",\"#EF553B\",\"#00cc96\",\"#ab63fa\",\"#FFA15A\",\"#19d3f3\",\"#FF6692\",\"#B6E880\",\"#FF97FF\",\"#FECB52\"],\"font\":{\"color\":\"#2a3f5f\"},\"geo\":{\"bgcolor\":\"white\",\"lakecolor\":\"white\",\"landcolor\":\"#E5ECF6\",\"showlakes\":true,\"showland\":true,\"subunitcolor\":\"white\"},\"hoverlabel\":{\"align\":\"left\"},\"hovermode\":\"closest\",\"mapbox\":{\"style\":\"light\"},\"paper_bgcolor\":\"white\",\"plot_bgcolor\":\"#E5ECF6\",\"polar\":{\"angularaxis\":{\"gridcolor\":\"white\",\"linecolor\":\"white\",\"ticks\":\"\"},\"bgcolor\":\"#E5ECF6\",\"radialaxis\":{\"gridcolor\":\"white\",\"linecolor\":\"white\",\"ticks\":\"\"}},\"scene\":{\"xaxis\":{\"backgroundcolor\":\"#E5ECF6\",\"gridcolor\":\"white\",\"gridwidth\":2,\"linecolor\":\"white\",\"showbackground\":true,\"ticks\":\"\",\"zerolinecolor\":\"white\"},\"yaxis\":{\"backgroundcolor\":\"#E5ECF6\",\"gridcolor\":\"white\",\"gridwidth\":2,\"linecolor\":\"white\",\"showbackground\":true,\"ticks\":\"\",\"zerolinecolor\":\"white\"},\"zaxis\":{\"backgroundcolor\":\"#E5ECF6\",\"gridcolor\":\"white\",\"gridwidth\":2,\"linecolor\":\"white\",\"showbackground\":true,\"ticks\":\"\",\"zerolinecolor\":\"white\"}},\"shapedefaults\":{\"line\":{\"color\":\"#2a3f5f\"}},\"ternary\":{\"aaxis\":{\"gridcolor\":\"white\",\"linecolor\":\"white\",\"ticks\":\"\"},\"baxis\":{\"gridcolor\":\"white\",\"linecolor\":\"white\",\"ticks\":\"\"},\"bgcolor\":\"#E5ECF6\",\"caxis\":{\"gridcolor\":\"white\",\"linecolor\":\"white\",\"ticks\":\"\"}},\"title\":{\"x\":0.05},\"xaxis\":{\"automargin\":true,\"gridcolor\":\"white\",\"linecolor\":\"white\",\"ticks\":\"\",\"title\":{\"standoff\":15},\"zerolinecolor\":\"white\",\"zerolinewidth\":2},\"yaxis\":{\"automargin\":true,\"gridcolor\":\"white\",\"linecolor\":\"white\",\"ticks\":\"\",\"title\":{\"standoff\":15},\"zerolinecolor\":\"white\",\"zerolinewidth\":2}}}},                        {\"responsive\": true}                    ).then(function(){\n",
              "                            \n",
              "var gd = document.getElementById('74a72f6d-ce41-49ee-b0af-d952fa598325');\n",
              "var x = new MutationObserver(function (mutations, observer) {{\n",
              "        var display = window.getComputedStyle(gd).display;\n",
              "        if (!display || display === 'none') {{\n",
              "            console.log([gd, 'removed!']);\n",
              "            Plotly.purge(gd);\n",
              "            observer.disconnect();\n",
              "        }}\n",
              "}});\n",
              "\n",
              "// Listen for the removal of the full notebook cells\n",
              "var notebookContainer = gd.closest('#notebook-container');\n",
              "if (notebookContainer) {{\n",
              "    x.observe(notebookContainer, {childList: true});\n",
              "}}\n",
              "\n",
              "// Listen for the clearing of the current output cell\n",
              "var outputEl = gd.closest('.output');\n",
              "if (outputEl) {{\n",
              "    x.observe(outputEl, {childList: true});\n",
              "}}\n",
              "\n",
              "                        })                };                            </script>        </div>\n",
              "</body>\n",
              "</html>"
            ]
          },
          "metadata": {}
        }
      ],
      "source": [
        "\n",
        "duration_below_250 = duration_below_250_n + duration_below_250_y\n",
        "duration_below_250_n_p=(duration_below_250_n/duration_below_250)*100\n",
        "duration_below_250_y_p=100-duration_below_250_n_p\n",
        "\n",
        "duration_below_500 = duration_below_500_n + duration_below_500_y\n",
        "duration_below_500_n_p=(duration_below_500_n/duration_below_500)*100\n",
        "duration_below_500_y_p=100-duration_below_500_n_p\n",
        "\n",
        "duration_below_750 = duration_below_750_n + duration_below_750_y\n",
        "duration_below_750_n_p=(duration_below_750_n/duration_below_750)*100\n",
        "duration_below_750_y_p=100-duration_below_750_n_p\n",
        "\n",
        "duration_below_1000 = duration_below_1000_n + duration_below_1000_y\n",
        "duration_below_1000_n_p=(duration_below_1000_n/duration_below_1000)*100\n",
        "duration_below_1000_y_p=100-duration_below_1000_n_p\n",
        "\n",
        "duration_above_1000 = duration_above_1000_n + duration_above_1000_y\n",
        "duration_above_1000_n_p=(duration_above_1000_n/duration_above_1000)*100\n",
        "duration_above_1000_y_p=100-duration_above_1000_n_p\n",
        "\n",
        "\n",
        "data={'no':[duration_below_250_n_p,duration_below_500_n_p,duration_below_750_n_p,duration_below_1000_n_p,duration_above_1000_n_p],\n",
        "      'yes':[duration_below_250_y_p,duration_below_500_y_p,duration_below_750_y_p,duration_below_1000_y_p,duration_above_1000_y_p]}\n",
        "duration_data_per=pd.DataFrame(data=data,index=['duration below 250 seconds','duration below 500 seconds','duration below 750 seconds','duration below 1000 seconds','duration above 1000 seconds'])\n",
        "print(duration_data_per)\n",
        "\n",
        "\n",
        "fig = go.Figure()\n",
        "fig.add_trace(go.Bar(x=duration_data_per.index, y=duration_data_per.yes,\n",
        "                base=[0],marker_color='blue',\n",
        "                name='yes'))\n",
        "fig.add_trace(go.Bar(x=duration_data_per.index, y=duration_data_per.no,\n",
        "                base=[-95.32,-84.16,-66.42,-50.08,-40.26],marker_color='yellow',\n",
        "                name='no'\n",
        "                ))\n",
        "\n",
        "fig.show()"
      ]
    },
    {
      "cell_type": "markdown",
      "metadata": {
        "id": "_4qeZilGgOXf"
      },
      "source": [
        "A customer like;y to get an insurance increases gradually with duration of call.\n",
        "\n",
        "This may be due to trust issues."
      ]
    },
    {
      "cell_type": "code",
      "execution_count": 282,
      "metadata": {
        "id": "OSp3pA4NAdAo"
      },
      "outputs": [],
      "source": [
        "df['prev_outcome']=df['prev_outcome'].replace({\"other\":\"unknown\"})\n"
      ]
    },
    {
      "cell_type": "code",
      "execution_count": 283,
      "metadata": {
        "colab": {
          "base_uri": "https://localhost:8080/"
        },
        "id": "2ad8-mOaN4vz",
        "outputId": "d4a0591f-e073-4d71-b1de-219d14ce514f"
      },
      "outputs": [
        {
          "output_type": "execute_result",
          "data": {
            "text/plain": [
              "array(['unknown', 'failure', 'success'], dtype=object)"
            ]
          },
          "metadata": {},
          "execution_count": 283
        }
      ],
      "source": [
        "df['prev_outcome'].unique()"
      ]
    },
    {
      "cell_type": "code",
      "execution_count": 284,
      "metadata": {
        "id": "b6dbL8qaVT8b"
      },
      "outputs": [],
      "source": [
        "# Applying One hot encoding to job column\n",
        "\n",
        "one_hot = pd.get_dummies(df['job'])\n"
      ]
    },
    {
      "cell_type": "code",
      "execution_count": 285,
      "metadata": {
        "id": "8MDyy2iqvEkw"
      },
      "outputs": [],
      "source": [
        "df = df.drop('job',axis=1)"
      ]
    },
    {
      "cell_type": "code",
      "execution_count": 286,
      "metadata": {
        "colab": {
          "base_uri": "https://localhost:8080/",
          "height": 236
        },
        "id": "-0_C2QOzuxw_",
        "outputId": "8417b5a3-6efe-43f3-eafa-bed1ebe73929"
      },
      "outputs": [
        {
          "output_type": "execute_result",
          "data": {
            "text/plain": [
              "   age  marital education_qual call_type  day  mon  dur  num_calls  \\\n",
              "0   58  married       tertiary   unknown    5    4  261          1   \n",
              "1   44   single      secondary   unknown    5    4  151          1   \n",
              "2   33  married      secondary   unknown    5    4   76          1   \n",
              "3   47  married        unknown   unknown    5    4   92          1   \n",
              "4   33   single        unknown   unknown    5    4  198          1   \n",
              "\n",
              "  prev_outcome   y  ...  entrepreneur  housemaid  management  retired  \\\n",
              "0      unknown  no  ...             0          0           1        0   \n",
              "1      unknown  no  ...             0          0           0        0   \n",
              "2      unknown  no  ...             1          0           0        0   \n",
              "3      unknown  no  ...             0          0           0        0   \n",
              "4      unknown  no  ...             0          0           0        0   \n",
              "\n",
              "   self-employed  services  student  technician  unemployed  unknown  \n",
              "0              0         0        0           0           0        0  \n",
              "1              0         0        0           1           0        0  \n",
              "2              0         0        0           0           0        0  \n",
              "3              0         0        0           0           0        0  \n",
              "4              0         0        0           0           0        1  \n",
              "\n",
              "[5 rows x 22 columns]"
            ],
            "text/html": [
              "\n",
              "  <div id=\"df-7cddd93c-7589-44ce-a8fb-958c6413d604\">\n",
              "    <div class=\"colab-df-container\">\n",
              "      <div>\n",
              "<style scoped>\n",
              "    .dataframe tbody tr th:only-of-type {\n",
              "        vertical-align: middle;\n",
              "    }\n",
              "\n",
              "    .dataframe tbody tr th {\n",
              "        vertical-align: top;\n",
              "    }\n",
              "\n",
              "    .dataframe thead th {\n",
              "        text-align: right;\n",
              "    }\n",
              "</style>\n",
              "<table border=\"1\" class=\"dataframe\">\n",
              "  <thead>\n",
              "    <tr style=\"text-align: right;\">\n",
              "      <th></th>\n",
              "      <th>age</th>\n",
              "      <th>marital</th>\n",
              "      <th>education_qual</th>\n",
              "      <th>call_type</th>\n",
              "      <th>day</th>\n",
              "      <th>mon</th>\n",
              "      <th>dur</th>\n",
              "      <th>num_calls</th>\n",
              "      <th>prev_outcome</th>\n",
              "      <th>y</th>\n",
              "      <th>...</th>\n",
              "      <th>entrepreneur</th>\n",
              "      <th>housemaid</th>\n",
              "      <th>management</th>\n",
              "      <th>retired</th>\n",
              "      <th>self-employed</th>\n",
              "      <th>services</th>\n",
              "      <th>student</th>\n",
              "      <th>technician</th>\n",
              "      <th>unemployed</th>\n",
              "      <th>unknown</th>\n",
              "    </tr>\n",
              "  </thead>\n",
              "  <tbody>\n",
              "    <tr>\n",
              "      <th>0</th>\n",
              "      <td>58</td>\n",
              "      <td>married</td>\n",
              "      <td>tertiary</td>\n",
              "      <td>unknown</td>\n",
              "      <td>5</td>\n",
              "      <td>4</td>\n",
              "      <td>261</td>\n",
              "      <td>1</td>\n",
              "      <td>unknown</td>\n",
              "      <td>no</td>\n",
              "      <td>...</td>\n",
              "      <td>0</td>\n",
              "      <td>0</td>\n",
              "      <td>1</td>\n",
              "      <td>0</td>\n",
              "      <td>0</td>\n",
              "      <td>0</td>\n",
              "      <td>0</td>\n",
              "      <td>0</td>\n",
              "      <td>0</td>\n",
              "      <td>0</td>\n",
              "    </tr>\n",
              "    <tr>\n",
              "      <th>1</th>\n",
              "      <td>44</td>\n",
              "      <td>single</td>\n",
              "      <td>secondary</td>\n",
              "      <td>unknown</td>\n",
              "      <td>5</td>\n",
              "      <td>4</td>\n",
              "      <td>151</td>\n",
              "      <td>1</td>\n",
              "      <td>unknown</td>\n",
              "      <td>no</td>\n",
              "      <td>...</td>\n",
              "      <td>0</td>\n",
              "      <td>0</td>\n",
              "      <td>0</td>\n",
              "      <td>0</td>\n",
              "      <td>0</td>\n",
              "      <td>0</td>\n",
              "      <td>0</td>\n",
              "      <td>1</td>\n",
              "      <td>0</td>\n",
              "      <td>0</td>\n",
              "    </tr>\n",
              "    <tr>\n",
              "      <th>2</th>\n",
              "      <td>33</td>\n",
              "      <td>married</td>\n",
              "      <td>secondary</td>\n",
              "      <td>unknown</td>\n",
              "      <td>5</td>\n",
              "      <td>4</td>\n",
              "      <td>76</td>\n",
              "      <td>1</td>\n",
              "      <td>unknown</td>\n",
              "      <td>no</td>\n",
              "      <td>...</td>\n",
              "      <td>1</td>\n",
              "      <td>0</td>\n",
              "      <td>0</td>\n",
              "      <td>0</td>\n",
              "      <td>0</td>\n",
              "      <td>0</td>\n",
              "      <td>0</td>\n",
              "      <td>0</td>\n",
              "      <td>0</td>\n",
              "      <td>0</td>\n",
              "    </tr>\n",
              "    <tr>\n",
              "      <th>3</th>\n",
              "      <td>47</td>\n",
              "      <td>married</td>\n",
              "      <td>unknown</td>\n",
              "      <td>unknown</td>\n",
              "      <td>5</td>\n",
              "      <td>4</td>\n",
              "      <td>92</td>\n",
              "      <td>1</td>\n",
              "      <td>unknown</td>\n",
              "      <td>no</td>\n",
              "      <td>...</td>\n",
              "      <td>0</td>\n",
              "      <td>0</td>\n",
              "      <td>0</td>\n",
              "      <td>0</td>\n",
              "      <td>0</td>\n",
              "      <td>0</td>\n",
              "      <td>0</td>\n",
              "      <td>0</td>\n",
              "      <td>0</td>\n",
              "      <td>0</td>\n",
              "    </tr>\n",
              "    <tr>\n",
              "      <th>4</th>\n",
              "      <td>33</td>\n",
              "      <td>single</td>\n",
              "      <td>unknown</td>\n",
              "      <td>unknown</td>\n",
              "      <td>5</td>\n",
              "      <td>4</td>\n",
              "      <td>198</td>\n",
              "      <td>1</td>\n",
              "      <td>unknown</td>\n",
              "      <td>no</td>\n",
              "      <td>...</td>\n",
              "      <td>0</td>\n",
              "      <td>0</td>\n",
              "      <td>0</td>\n",
              "      <td>0</td>\n",
              "      <td>0</td>\n",
              "      <td>0</td>\n",
              "      <td>0</td>\n",
              "      <td>0</td>\n",
              "      <td>0</td>\n",
              "      <td>1</td>\n",
              "    </tr>\n",
              "  </tbody>\n",
              "</table>\n",
              "<p>5 rows × 22 columns</p>\n",
              "</div>\n",
              "      <button class=\"colab-df-convert\" onclick=\"convertToInteractive('df-7cddd93c-7589-44ce-a8fb-958c6413d604')\"\n",
              "              title=\"Convert this dataframe to an interactive table.\"\n",
              "              style=\"display:none;\">\n",
              "        \n",
              "  <svg xmlns=\"http://www.w3.org/2000/svg\" height=\"24px\"viewBox=\"0 0 24 24\"\n",
              "       width=\"24px\">\n",
              "    <path d=\"M0 0h24v24H0V0z\" fill=\"none\"/>\n",
              "    <path d=\"M18.56 5.44l.94 2.06.94-2.06 2.06-.94-2.06-.94-.94-2.06-.94 2.06-2.06.94zm-11 1L8.5 8.5l.94-2.06 2.06-.94-2.06-.94L8.5 2.5l-.94 2.06-2.06.94zm10 10l.94 2.06.94-2.06 2.06-.94-2.06-.94-.94-2.06-.94 2.06-2.06.94z\"/><path d=\"M17.41 7.96l-1.37-1.37c-.4-.4-.92-.59-1.43-.59-.52 0-1.04.2-1.43.59L10.3 9.45l-7.72 7.72c-.78.78-.78 2.05 0 2.83L4 21.41c.39.39.9.59 1.41.59.51 0 1.02-.2 1.41-.59l7.78-7.78 2.81-2.81c.8-.78.8-2.07 0-2.86zM5.41 20L4 18.59l7.72-7.72 1.47 1.35L5.41 20z\"/>\n",
              "  </svg>\n",
              "      </button>\n",
              "      \n",
              "  <style>\n",
              "    .colab-df-container {\n",
              "      display:flex;\n",
              "      flex-wrap:wrap;\n",
              "      gap: 12px;\n",
              "    }\n",
              "\n",
              "    .colab-df-convert {\n",
              "      background-color: #E8F0FE;\n",
              "      border: none;\n",
              "      border-radius: 50%;\n",
              "      cursor: pointer;\n",
              "      display: none;\n",
              "      fill: #1967D2;\n",
              "      height: 32px;\n",
              "      padding: 0 0 0 0;\n",
              "      width: 32px;\n",
              "    }\n",
              "\n",
              "    .colab-df-convert:hover {\n",
              "      background-color: #E2EBFA;\n",
              "      box-shadow: 0px 1px 2px rgba(60, 64, 67, 0.3), 0px 1px 3px 1px rgba(60, 64, 67, 0.15);\n",
              "      fill: #174EA6;\n",
              "    }\n",
              "\n",
              "    [theme=dark] .colab-df-convert {\n",
              "      background-color: #3B4455;\n",
              "      fill: #D2E3FC;\n",
              "    }\n",
              "\n",
              "    [theme=dark] .colab-df-convert:hover {\n",
              "      background-color: #434B5C;\n",
              "      box-shadow: 0px 1px 3px 1px rgba(0, 0, 0, 0.15);\n",
              "      filter: drop-shadow(0px 1px 2px rgba(0, 0, 0, 0.3));\n",
              "      fill: #FFFFFF;\n",
              "    }\n",
              "  </style>\n",
              "\n",
              "      <script>\n",
              "        const buttonEl =\n",
              "          document.querySelector('#df-7cddd93c-7589-44ce-a8fb-958c6413d604 button.colab-df-convert');\n",
              "        buttonEl.style.display =\n",
              "          google.colab.kernel.accessAllowed ? 'block' : 'none';\n",
              "\n",
              "        async function convertToInteractive(key) {\n",
              "          const element = document.querySelector('#df-7cddd93c-7589-44ce-a8fb-958c6413d604');\n",
              "          const dataTable =\n",
              "            await google.colab.kernel.invokeFunction('convertToInteractive',\n",
              "                                                     [key], {});\n",
              "          if (!dataTable) return;\n",
              "\n",
              "          const docLinkHtml = 'Like what you see? Visit the ' +\n",
              "            '<a target=\"_blank\" href=https://colab.research.google.com/notebooks/data_table.ipynb>data table notebook</a>'\n",
              "            + ' to learn more about interactive tables.';\n",
              "          element.innerHTML = '';\n",
              "          dataTable['output_type'] = 'display_data';\n",
              "          await google.colab.output.renderOutput(dataTable, element);\n",
              "          const docLink = document.createElement('div');\n",
              "          docLink.innerHTML = docLinkHtml;\n",
              "          element.appendChild(docLink);\n",
              "        }\n",
              "      </script>\n",
              "    </div>\n",
              "  </div>\n",
              "  "
            ]
          },
          "metadata": {},
          "execution_count": 286
        }
      ],
      "source": [
        "df = df.join(one_hot)\n",
        "df.head()"
      ]
    },
    {
      "cell_type": "code",
      "execution_count": 287,
      "metadata": {
        "colab": {
          "base_uri": "https://localhost:8080/",
          "height": 236
        },
        "id": "SLkX2Uw-vASe",
        "outputId": "a5158ceb-6ade-4823-fdfb-3e872a66ade1"
      },
      "outputs": [
        {
          "output_type": "execute_result",
          "data": {
            "text/plain": [
              "   age  marital education_qual call_type  day  mon  dur  num_calls  \\\n",
              "0   58        1       tertiary   unknown    5    4  261          1   \n",
              "1   44        0      secondary   unknown    5    4  151          1   \n",
              "2   33        1      secondary   unknown    5    4   76          1   \n",
              "3   47        1        unknown   unknown    5    4   92          1   \n",
              "4   33        0        unknown   unknown    5    4  198          1   \n",
              "\n",
              "  prev_outcome   y  ...  entrepreneur  housemaid  management  retired  \\\n",
              "0      unknown  no  ...             0          0           1        0   \n",
              "1      unknown  no  ...             0          0           0        0   \n",
              "2      unknown  no  ...             1          0           0        0   \n",
              "3      unknown  no  ...             0          0           0        0   \n",
              "4      unknown  no  ...             0          0           0        0   \n",
              "\n",
              "   self-employed  services  student  technician  unemployed  unknown  \n",
              "0              0         0        0           0           0        0  \n",
              "1              0         0        0           1           0        0  \n",
              "2              0         0        0           0           0        0  \n",
              "3              0         0        0           0           0        0  \n",
              "4              0         0        0           0           0        1  \n",
              "\n",
              "[5 rows x 22 columns]"
            ],
            "text/html": [
              "\n",
              "  <div id=\"df-610d346c-a6b5-4a5a-970c-c405ae081581\">\n",
              "    <div class=\"colab-df-container\">\n",
              "      <div>\n",
              "<style scoped>\n",
              "    .dataframe tbody tr th:only-of-type {\n",
              "        vertical-align: middle;\n",
              "    }\n",
              "\n",
              "    .dataframe tbody tr th {\n",
              "        vertical-align: top;\n",
              "    }\n",
              "\n",
              "    .dataframe thead th {\n",
              "        text-align: right;\n",
              "    }\n",
              "</style>\n",
              "<table border=\"1\" class=\"dataframe\">\n",
              "  <thead>\n",
              "    <tr style=\"text-align: right;\">\n",
              "      <th></th>\n",
              "      <th>age</th>\n",
              "      <th>marital</th>\n",
              "      <th>education_qual</th>\n",
              "      <th>call_type</th>\n",
              "      <th>day</th>\n",
              "      <th>mon</th>\n",
              "      <th>dur</th>\n",
              "      <th>num_calls</th>\n",
              "      <th>prev_outcome</th>\n",
              "      <th>y</th>\n",
              "      <th>...</th>\n",
              "      <th>entrepreneur</th>\n",
              "      <th>housemaid</th>\n",
              "      <th>management</th>\n",
              "      <th>retired</th>\n",
              "      <th>self-employed</th>\n",
              "      <th>services</th>\n",
              "      <th>student</th>\n",
              "      <th>technician</th>\n",
              "      <th>unemployed</th>\n",
              "      <th>unknown</th>\n",
              "    </tr>\n",
              "  </thead>\n",
              "  <tbody>\n",
              "    <tr>\n",
              "      <th>0</th>\n",
              "      <td>58</td>\n",
              "      <td>1</td>\n",
              "      <td>tertiary</td>\n",
              "      <td>unknown</td>\n",
              "      <td>5</td>\n",
              "      <td>4</td>\n",
              "      <td>261</td>\n",
              "      <td>1</td>\n",
              "      <td>unknown</td>\n",
              "      <td>no</td>\n",
              "      <td>...</td>\n",
              "      <td>0</td>\n",
              "      <td>0</td>\n",
              "      <td>1</td>\n",
              "      <td>0</td>\n",
              "      <td>0</td>\n",
              "      <td>0</td>\n",
              "      <td>0</td>\n",
              "      <td>0</td>\n",
              "      <td>0</td>\n",
              "      <td>0</td>\n",
              "    </tr>\n",
              "    <tr>\n",
              "      <th>1</th>\n",
              "      <td>44</td>\n",
              "      <td>0</td>\n",
              "      <td>secondary</td>\n",
              "      <td>unknown</td>\n",
              "      <td>5</td>\n",
              "      <td>4</td>\n",
              "      <td>151</td>\n",
              "      <td>1</td>\n",
              "      <td>unknown</td>\n",
              "      <td>no</td>\n",
              "      <td>...</td>\n",
              "      <td>0</td>\n",
              "      <td>0</td>\n",
              "      <td>0</td>\n",
              "      <td>0</td>\n",
              "      <td>0</td>\n",
              "      <td>0</td>\n",
              "      <td>0</td>\n",
              "      <td>1</td>\n",
              "      <td>0</td>\n",
              "      <td>0</td>\n",
              "    </tr>\n",
              "    <tr>\n",
              "      <th>2</th>\n",
              "      <td>33</td>\n",
              "      <td>1</td>\n",
              "      <td>secondary</td>\n",
              "      <td>unknown</td>\n",
              "      <td>5</td>\n",
              "      <td>4</td>\n",
              "      <td>76</td>\n",
              "      <td>1</td>\n",
              "      <td>unknown</td>\n",
              "      <td>no</td>\n",
              "      <td>...</td>\n",
              "      <td>1</td>\n",
              "      <td>0</td>\n",
              "      <td>0</td>\n",
              "      <td>0</td>\n",
              "      <td>0</td>\n",
              "      <td>0</td>\n",
              "      <td>0</td>\n",
              "      <td>0</td>\n",
              "      <td>0</td>\n",
              "      <td>0</td>\n",
              "    </tr>\n",
              "    <tr>\n",
              "      <th>3</th>\n",
              "      <td>47</td>\n",
              "      <td>1</td>\n",
              "      <td>unknown</td>\n",
              "      <td>unknown</td>\n",
              "      <td>5</td>\n",
              "      <td>4</td>\n",
              "      <td>92</td>\n",
              "      <td>1</td>\n",
              "      <td>unknown</td>\n",
              "      <td>no</td>\n",
              "      <td>...</td>\n",
              "      <td>0</td>\n",
              "      <td>0</td>\n",
              "      <td>0</td>\n",
              "      <td>0</td>\n",
              "      <td>0</td>\n",
              "      <td>0</td>\n",
              "      <td>0</td>\n",
              "      <td>0</td>\n",
              "      <td>0</td>\n",
              "      <td>0</td>\n",
              "    </tr>\n",
              "    <tr>\n",
              "      <th>4</th>\n",
              "      <td>33</td>\n",
              "      <td>0</td>\n",
              "      <td>unknown</td>\n",
              "      <td>unknown</td>\n",
              "      <td>5</td>\n",
              "      <td>4</td>\n",
              "      <td>198</td>\n",
              "      <td>1</td>\n",
              "      <td>unknown</td>\n",
              "      <td>no</td>\n",
              "      <td>...</td>\n",
              "      <td>0</td>\n",
              "      <td>0</td>\n",
              "      <td>0</td>\n",
              "      <td>0</td>\n",
              "      <td>0</td>\n",
              "      <td>0</td>\n",
              "      <td>0</td>\n",
              "      <td>0</td>\n",
              "      <td>0</td>\n",
              "      <td>1</td>\n",
              "    </tr>\n",
              "  </tbody>\n",
              "</table>\n",
              "<p>5 rows × 22 columns</p>\n",
              "</div>\n",
              "      <button class=\"colab-df-convert\" onclick=\"convertToInteractive('df-610d346c-a6b5-4a5a-970c-c405ae081581')\"\n",
              "              title=\"Convert this dataframe to an interactive table.\"\n",
              "              style=\"display:none;\">\n",
              "        \n",
              "  <svg xmlns=\"http://www.w3.org/2000/svg\" height=\"24px\"viewBox=\"0 0 24 24\"\n",
              "       width=\"24px\">\n",
              "    <path d=\"M0 0h24v24H0V0z\" fill=\"none\"/>\n",
              "    <path d=\"M18.56 5.44l.94 2.06.94-2.06 2.06-.94-2.06-.94-.94-2.06-.94 2.06-2.06.94zm-11 1L8.5 8.5l.94-2.06 2.06-.94-2.06-.94L8.5 2.5l-.94 2.06-2.06.94zm10 10l.94 2.06.94-2.06 2.06-.94-2.06-.94-.94-2.06-.94 2.06-2.06.94z\"/><path d=\"M17.41 7.96l-1.37-1.37c-.4-.4-.92-.59-1.43-.59-.52 0-1.04.2-1.43.59L10.3 9.45l-7.72 7.72c-.78.78-.78 2.05 0 2.83L4 21.41c.39.39.9.59 1.41.59.51 0 1.02-.2 1.41-.59l7.78-7.78 2.81-2.81c.8-.78.8-2.07 0-2.86zM5.41 20L4 18.59l7.72-7.72 1.47 1.35L5.41 20z\"/>\n",
              "  </svg>\n",
              "      </button>\n",
              "      \n",
              "  <style>\n",
              "    .colab-df-container {\n",
              "      display:flex;\n",
              "      flex-wrap:wrap;\n",
              "      gap: 12px;\n",
              "    }\n",
              "\n",
              "    .colab-df-convert {\n",
              "      background-color: #E8F0FE;\n",
              "      border: none;\n",
              "      border-radius: 50%;\n",
              "      cursor: pointer;\n",
              "      display: none;\n",
              "      fill: #1967D2;\n",
              "      height: 32px;\n",
              "      padding: 0 0 0 0;\n",
              "      width: 32px;\n",
              "    }\n",
              "\n",
              "    .colab-df-convert:hover {\n",
              "      background-color: #E2EBFA;\n",
              "      box-shadow: 0px 1px 2px rgba(60, 64, 67, 0.3), 0px 1px 3px 1px rgba(60, 64, 67, 0.15);\n",
              "      fill: #174EA6;\n",
              "    }\n",
              "\n",
              "    [theme=dark] .colab-df-convert {\n",
              "      background-color: #3B4455;\n",
              "      fill: #D2E3FC;\n",
              "    }\n",
              "\n",
              "    [theme=dark] .colab-df-convert:hover {\n",
              "      background-color: #434B5C;\n",
              "      box-shadow: 0px 1px 3px 1px rgba(0, 0, 0, 0.15);\n",
              "      filter: drop-shadow(0px 1px 2px rgba(0, 0, 0, 0.3));\n",
              "      fill: #FFFFFF;\n",
              "    }\n",
              "  </style>\n",
              "\n",
              "      <script>\n",
              "        const buttonEl =\n",
              "          document.querySelector('#df-610d346c-a6b5-4a5a-970c-c405ae081581 button.colab-df-convert');\n",
              "        buttonEl.style.display =\n",
              "          google.colab.kernel.accessAllowed ? 'block' : 'none';\n",
              "\n",
              "        async function convertToInteractive(key) {\n",
              "          const element = document.querySelector('#df-610d346c-a6b5-4a5a-970c-c405ae081581');\n",
              "          const dataTable =\n",
              "            await google.colab.kernel.invokeFunction('convertToInteractive',\n",
              "                                                     [key], {});\n",
              "          if (!dataTable) return;\n",
              "\n",
              "          const docLinkHtml = 'Like what you see? Visit the ' +\n",
              "            '<a target=\"_blank\" href=https://colab.research.google.com/notebooks/data_table.ipynb>data table notebook</a>'\n",
              "            + ' to learn more about interactive tables.';\n",
              "          element.innerHTML = '';\n",
              "          dataTable['output_type'] = 'display_data';\n",
              "          await google.colab.output.renderOutput(dataTable, element);\n",
              "          const docLink = document.createElement('div');\n",
              "          docLink.innerHTML = docLinkHtml;\n",
              "          element.appendChild(docLink);\n",
              "        }\n",
              "      </script>\n",
              "    </div>\n",
              "  </div>\n",
              "  "
            ]
          },
          "metadata": {},
          "execution_count": 287
        }
      ],
      "source": [
        "# Mapping values to marital status\n",
        "df['marital'] = df['marital'].map({'single':0,'married':1,'divorced':2}).astype(int)\n",
        "df.head()"
      ]
    },
    {
      "cell_type": "code",
      "execution_count": 288,
      "metadata": {
        "colab": {
          "base_uri": "https://localhost:8080/",
          "height": 236
        },
        "id": "IxtEdNUiwMl6",
        "outputId": "79334ef9-ac5e-4231-e4d9-691c13c314b4"
      },
      "outputs": [
        {
          "output_type": "execute_result",
          "data": {
            "text/plain": [
              "   age  marital  education_qual call_type  day  mon  dur  num_calls  \\\n",
              "0   58        1               3   unknown    5    4  261          1   \n",
              "1   44        0               2   unknown    5    4  151          1   \n",
              "2   33        1               2   unknown    5    4   76          1   \n",
              "3   47        1               0   unknown    5    4   92          1   \n",
              "4   33        0               0   unknown    5    4  198          1   \n",
              "\n",
              "  prev_outcome   y  ...  entrepreneur  housemaid  management  retired  \\\n",
              "0      unknown  no  ...             0          0           1        0   \n",
              "1      unknown  no  ...             0          0           0        0   \n",
              "2      unknown  no  ...             1          0           0        0   \n",
              "3      unknown  no  ...             0          0           0        0   \n",
              "4      unknown  no  ...             0          0           0        0   \n",
              "\n",
              "   self-employed  services  student  technician  unemployed  unknown  \n",
              "0              0         0        0           0           0        0  \n",
              "1              0         0        0           1           0        0  \n",
              "2              0         0        0           0           0        0  \n",
              "3              0         0        0           0           0        0  \n",
              "4              0         0        0           0           0        1  \n",
              "\n",
              "[5 rows x 22 columns]"
            ],
            "text/html": [
              "\n",
              "  <div id=\"df-ebf441c2-bfd8-4aec-bb88-f3094ef386a9\">\n",
              "    <div class=\"colab-df-container\">\n",
              "      <div>\n",
              "<style scoped>\n",
              "    .dataframe tbody tr th:only-of-type {\n",
              "        vertical-align: middle;\n",
              "    }\n",
              "\n",
              "    .dataframe tbody tr th {\n",
              "        vertical-align: top;\n",
              "    }\n",
              "\n",
              "    .dataframe thead th {\n",
              "        text-align: right;\n",
              "    }\n",
              "</style>\n",
              "<table border=\"1\" class=\"dataframe\">\n",
              "  <thead>\n",
              "    <tr style=\"text-align: right;\">\n",
              "      <th></th>\n",
              "      <th>age</th>\n",
              "      <th>marital</th>\n",
              "      <th>education_qual</th>\n",
              "      <th>call_type</th>\n",
              "      <th>day</th>\n",
              "      <th>mon</th>\n",
              "      <th>dur</th>\n",
              "      <th>num_calls</th>\n",
              "      <th>prev_outcome</th>\n",
              "      <th>y</th>\n",
              "      <th>...</th>\n",
              "      <th>entrepreneur</th>\n",
              "      <th>housemaid</th>\n",
              "      <th>management</th>\n",
              "      <th>retired</th>\n",
              "      <th>self-employed</th>\n",
              "      <th>services</th>\n",
              "      <th>student</th>\n",
              "      <th>technician</th>\n",
              "      <th>unemployed</th>\n",
              "      <th>unknown</th>\n",
              "    </tr>\n",
              "  </thead>\n",
              "  <tbody>\n",
              "    <tr>\n",
              "      <th>0</th>\n",
              "      <td>58</td>\n",
              "      <td>1</td>\n",
              "      <td>3</td>\n",
              "      <td>unknown</td>\n",
              "      <td>5</td>\n",
              "      <td>4</td>\n",
              "      <td>261</td>\n",
              "      <td>1</td>\n",
              "      <td>unknown</td>\n",
              "      <td>no</td>\n",
              "      <td>...</td>\n",
              "      <td>0</td>\n",
              "      <td>0</td>\n",
              "      <td>1</td>\n",
              "      <td>0</td>\n",
              "      <td>0</td>\n",
              "      <td>0</td>\n",
              "      <td>0</td>\n",
              "      <td>0</td>\n",
              "      <td>0</td>\n",
              "      <td>0</td>\n",
              "    </tr>\n",
              "    <tr>\n",
              "      <th>1</th>\n",
              "      <td>44</td>\n",
              "      <td>0</td>\n",
              "      <td>2</td>\n",
              "      <td>unknown</td>\n",
              "      <td>5</td>\n",
              "      <td>4</td>\n",
              "      <td>151</td>\n",
              "      <td>1</td>\n",
              "      <td>unknown</td>\n",
              "      <td>no</td>\n",
              "      <td>...</td>\n",
              "      <td>0</td>\n",
              "      <td>0</td>\n",
              "      <td>0</td>\n",
              "      <td>0</td>\n",
              "      <td>0</td>\n",
              "      <td>0</td>\n",
              "      <td>0</td>\n",
              "      <td>1</td>\n",
              "      <td>0</td>\n",
              "      <td>0</td>\n",
              "    </tr>\n",
              "    <tr>\n",
              "      <th>2</th>\n",
              "      <td>33</td>\n",
              "      <td>1</td>\n",
              "      <td>2</td>\n",
              "      <td>unknown</td>\n",
              "      <td>5</td>\n",
              "      <td>4</td>\n",
              "      <td>76</td>\n",
              "      <td>1</td>\n",
              "      <td>unknown</td>\n",
              "      <td>no</td>\n",
              "      <td>...</td>\n",
              "      <td>1</td>\n",
              "      <td>0</td>\n",
              "      <td>0</td>\n",
              "      <td>0</td>\n",
              "      <td>0</td>\n",
              "      <td>0</td>\n",
              "      <td>0</td>\n",
              "      <td>0</td>\n",
              "      <td>0</td>\n",
              "      <td>0</td>\n",
              "    </tr>\n",
              "    <tr>\n",
              "      <th>3</th>\n",
              "      <td>47</td>\n",
              "      <td>1</td>\n",
              "      <td>0</td>\n",
              "      <td>unknown</td>\n",
              "      <td>5</td>\n",
              "      <td>4</td>\n",
              "      <td>92</td>\n",
              "      <td>1</td>\n",
              "      <td>unknown</td>\n",
              "      <td>no</td>\n",
              "      <td>...</td>\n",
              "      <td>0</td>\n",
              "      <td>0</td>\n",
              "      <td>0</td>\n",
              "      <td>0</td>\n",
              "      <td>0</td>\n",
              "      <td>0</td>\n",
              "      <td>0</td>\n",
              "      <td>0</td>\n",
              "      <td>0</td>\n",
              "      <td>0</td>\n",
              "    </tr>\n",
              "    <tr>\n",
              "      <th>4</th>\n",
              "      <td>33</td>\n",
              "      <td>0</td>\n",
              "      <td>0</td>\n",
              "      <td>unknown</td>\n",
              "      <td>5</td>\n",
              "      <td>4</td>\n",
              "      <td>198</td>\n",
              "      <td>1</td>\n",
              "      <td>unknown</td>\n",
              "      <td>no</td>\n",
              "      <td>...</td>\n",
              "      <td>0</td>\n",
              "      <td>0</td>\n",
              "      <td>0</td>\n",
              "      <td>0</td>\n",
              "      <td>0</td>\n",
              "      <td>0</td>\n",
              "      <td>0</td>\n",
              "      <td>0</td>\n",
              "      <td>0</td>\n",
              "      <td>1</td>\n",
              "    </tr>\n",
              "  </tbody>\n",
              "</table>\n",
              "<p>5 rows × 22 columns</p>\n",
              "</div>\n",
              "      <button class=\"colab-df-convert\" onclick=\"convertToInteractive('df-ebf441c2-bfd8-4aec-bb88-f3094ef386a9')\"\n",
              "              title=\"Convert this dataframe to an interactive table.\"\n",
              "              style=\"display:none;\">\n",
              "        \n",
              "  <svg xmlns=\"http://www.w3.org/2000/svg\" height=\"24px\"viewBox=\"0 0 24 24\"\n",
              "       width=\"24px\">\n",
              "    <path d=\"M0 0h24v24H0V0z\" fill=\"none\"/>\n",
              "    <path d=\"M18.56 5.44l.94 2.06.94-2.06 2.06-.94-2.06-.94-.94-2.06-.94 2.06-2.06.94zm-11 1L8.5 8.5l.94-2.06 2.06-.94-2.06-.94L8.5 2.5l-.94 2.06-2.06.94zm10 10l.94 2.06.94-2.06 2.06-.94-2.06-.94-.94-2.06-.94 2.06-2.06.94z\"/><path d=\"M17.41 7.96l-1.37-1.37c-.4-.4-.92-.59-1.43-.59-.52 0-1.04.2-1.43.59L10.3 9.45l-7.72 7.72c-.78.78-.78 2.05 0 2.83L4 21.41c.39.39.9.59 1.41.59.51 0 1.02-.2 1.41-.59l7.78-7.78 2.81-2.81c.8-.78.8-2.07 0-2.86zM5.41 20L4 18.59l7.72-7.72 1.47 1.35L5.41 20z\"/>\n",
              "  </svg>\n",
              "      </button>\n",
              "      \n",
              "  <style>\n",
              "    .colab-df-container {\n",
              "      display:flex;\n",
              "      flex-wrap:wrap;\n",
              "      gap: 12px;\n",
              "    }\n",
              "\n",
              "    .colab-df-convert {\n",
              "      background-color: #E8F0FE;\n",
              "      border: none;\n",
              "      border-radius: 50%;\n",
              "      cursor: pointer;\n",
              "      display: none;\n",
              "      fill: #1967D2;\n",
              "      height: 32px;\n",
              "      padding: 0 0 0 0;\n",
              "      width: 32px;\n",
              "    }\n",
              "\n",
              "    .colab-df-convert:hover {\n",
              "      background-color: #E2EBFA;\n",
              "      box-shadow: 0px 1px 2px rgba(60, 64, 67, 0.3), 0px 1px 3px 1px rgba(60, 64, 67, 0.15);\n",
              "      fill: #174EA6;\n",
              "    }\n",
              "\n",
              "    [theme=dark] .colab-df-convert {\n",
              "      background-color: #3B4455;\n",
              "      fill: #D2E3FC;\n",
              "    }\n",
              "\n",
              "    [theme=dark] .colab-df-convert:hover {\n",
              "      background-color: #434B5C;\n",
              "      box-shadow: 0px 1px 3px 1px rgba(0, 0, 0, 0.15);\n",
              "      filter: drop-shadow(0px 1px 2px rgba(0, 0, 0, 0.3));\n",
              "      fill: #FFFFFF;\n",
              "    }\n",
              "  </style>\n",
              "\n",
              "      <script>\n",
              "        const buttonEl =\n",
              "          document.querySelector('#df-ebf441c2-bfd8-4aec-bb88-f3094ef386a9 button.colab-df-convert');\n",
              "        buttonEl.style.display =\n",
              "          google.colab.kernel.accessAllowed ? 'block' : 'none';\n",
              "\n",
              "        async function convertToInteractive(key) {\n",
              "          const element = document.querySelector('#df-ebf441c2-bfd8-4aec-bb88-f3094ef386a9');\n",
              "          const dataTable =\n",
              "            await google.colab.kernel.invokeFunction('convertToInteractive',\n",
              "                                                     [key], {});\n",
              "          if (!dataTable) return;\n",
              "\n",
              "          const docLinkHtml = 'Like what you see? Visit the ' +\n",
              "            '<a target=\"_blank\" href=https://colab.research.google.com/notebooks/data_table.ipynb>data table notebook</a>'\n",
              "            + ' to learn more about interactive tables.';\n",
              "          element.innerHTML = '';\n",
              "          dataTable['output_type'] = 'display_data';\n",
              "          await google.colab.output.renderOutput(dataTable, element);\n",
              "          const docLink = document.createElement('div');\n",
              "          docLink.innerHTML = docLinkHtml;\n",
              "          element.appendChild(docLink);\n",
              "        }\n",
              "      </script>\n",
              "    </div>\n",
              "  </div>\n",
              "  "
            ]
          },
          "metadata": {},
          "execution_count": 288
        }
      ],
      "source": [
        "# Mapping values to Educational Qualification\n",
        "df['education_qual'] = df['education_qual'].map({'unknown':0,'primary':1,'secondary':2,'tertiary':3}).astype(int)\n",
        "df.head()"
      ]
    },
    {
      "cell_type": "code",
      "execution_count": 289,
      "metadata": {
        "colab": {
          "base_uri": "https://localhost:8080/",
          "height": 236
        },
        "id": "hU5oRqGewMjc",
        "outputId": "d16c979d-96cd-4dff-eb7d-cc3ee9db65d7"
      },
      "outputs": [
        {
          "output_type": "execute_result",
          "data": {
            "text/plain": [
              "   age  marital  education_qual  call_type  day  mon  dur  num_calls  \\\n",
              "0   58        1               3          1    5    4  261          1   \n",
              "1   44        0               2          1    5    4  151          1   \n",
              "2   33        1               2          1    5    4   76          1   \n",
              "3   47        1               0          1    5    4   92          1   \n",
              "4   33        0               0          1    5    4  198          1   \n",
              "\n",
              "  prev_outcome   y  ...  entrepreneur  housemaid  management  retired  \\\n",
              "0      unknown  no  ...             0          0           1        0   \n",
              "1      unknown  no  ...             0          0           0        0   \n",
              "2      unknown  no  ...             1          0           0        0   \n",
              "3      unknown  no  ...             0          0           0        0   \n",
              "4      unknown  no  ...             0          0           0        0   \n",
              "\n",
              "   self-employed  services  student  technician  unemployed  unknown  \n",
              "0              0         0        0           0           0        0  \n",
              "1              0         0        0           1           0        0  \n",
              "2              0         0        0           0           0        0  \n",
              "3              0         0        0           0           0        0  \n",
              "4              0         0        0           0           0        1  \n",
              "\n",
              "[5 rows x 22 columns]"
            ],
            "text/html": [
              "\n",
              "  <div id=\"df-5e430851-aabf-493f-9c34-aa62d9fd44f7\">\n",
              "    <div class=\"colab-df-container\">\n",
              "      <div>\n",
              "<style scoped>\n",
              "    .dataframe tbody tr th:only-of-type {\n",
              "        vertical-align: middle;\n",
              "    }\n",
              "\n",
              "    .dataframe tbody tr th {\n",
              "        vertical-align: top;\n",
              "    }\n",
              "\n",
              "    .dataframe thead th {\n",
              "        text-align: right;\n",
              "    }\n",
              "</style>\n",
              "<table border=\"1\" class=\"dataframe\">\n",
              "  <thead>\n",
              "    <tr style=\"text-align: right;\">\n",
              "      <th></th>\n",
              "      <th>age</th>\n",
              "      <th>marital</th>\n",
              "      <th>education_qual</th>\n",
              "      <th>call_type</th>\n",
              "      <th>day</th>\n",
              "      <th>mon</th>\n",
              "      <th>dur</th>\n",
              "      <th>num_calls</th>\n",
              "      <th>prev_outcome</th>\n",
              "      <th>y</th>\n",
              "      <th>...</th>\n",
              "      <th>entrepreneur</th>\n",
              "      <th>housemaid</th>\n",
              "      <th>management</th>\n",
              "      <th>retired</th>\n",
              "      <th>self-employed</th>\n",
              "      <th>services</th>\n",
              "      <th>student</th>\n",
              "      <th>technician</th>\n",
              "      <th>unemployed</th>\n",
              "      <th>unknown</th>\n",
              "    </tr>\n",
              "  </thead>\n",
              "  <tbody>\n",
              "    <tr>\n",
              "      <th>0</th>\n",
              "      <td>58</td>\n",
              "      <td>1</td>\n",
              "      <td>3</td>\n",
              "      <td>1</td>\n",
              "      <td>5</td>\n",
              "      <td>4</td>\n",
              "      <td>261</td>\n",
              "      <td>1</td>\n",
              "      <td>unknown</td>\n",
              "      <td>no</td>\n",
              "      <td>...</td>\n",
              "      <td>0</td>\n",
              "      <td>0</td>\n",
              "      <td>1</td>\n",
              "      <td>0</td>\n",
              "      <td>0</td>\n",
              "      <td>0</td>\n",
              "      <td>0</td>\n",
              "      <td>0</td>\n",
              "      <td>0</td>\n",
              "      <td>0</td>\n",
              "    </tr>\n",
              "    <tr>\n",
              "      <th>1</th>\n",
              "      <td>44</td>\n",
              "      <td>0</td>\n",
              "      <td>2</td>\n",
              "      <td>1</td>\n",
              "      <td>5</td>\n",
              "      <td>4</td>\n",
              "      <td>151</td>\n",
              "      <td>1</td>\n",
              "      <td>unknown</td>\n",
              "      <td>no</td>\n",
              "      <td>...</td>\n",
              "      <td>0</td>\n",
              "      <td>0</td>\n",
              "      <td>0</td>\n",
              "      <td>0</td>\n",
              "      <td>0</td>\n",
              "      <td>0</td>\n",
              "      <td>0</td>\n",
              "      <td>1</td>\n",
              "      <td>0</td>\n",
              "      <td>0</td>\n",
              "    </tr>\n",
              "    <tr>\n",
              "      <th>2</th>\n",
              "      <td>33</td>\n",
              "      <td>1</td>\n",
              "      <td>2</td>\n",
              "      <td>1</td>\n",
              "      <td>5</td>\n",
              "      <td>4</td>\n",
              "      <td>76</td>\n",
              "      <td>1</td>\n",
              "      <td>unknown</td>\n",
              "      <td>no</td>\n",
              "      <td>...</td>\n",
              "      <td>1</td>\n",
              "      <td>0</td>\n",
              "      <td>0</td>\n",
              "      <td>0</td>\n",
              "      <td>0</td>\n",
              "      <td>0</td>\n",
              "      <td>0</td>\n",
              "      <td>0</td>\n",
              "      <td>0</td>\n",
              "      <td>0</td>\n",
              "    </tr>\n",
              "    <tr>\n",
              "      <th>3</th>\n",
              "      <td>47</td>\n",
              "      <td>1</td>\n",
              "      <td>0</td>\n",
              "      <td>1</td>\n",
              "      <td>5</td>\n",
              "      <td>4</td>\n",
              "      <td>92</td>\n",
              "      <td>1</td>\n",
              "      <td>unknown</td>\n",
              "      <td>no</td>\n",
              "      <td>...</td>\n",
              "      <td>0</td>\n",
              "      <td>0</td>\n",
              "      <td>0</td>\n",
              "      <td>0</td>\n",
              "      <td>0</td>\n",
              "      <td>0</td>\n",
              "      <td>0</td>\n",
              "      <td>0</td>\n",
              "      <td>0</td>\n",
              "      <td>0</td>\n",
              "    </tr>\n",
              "    <tr>\n",
              "      <th>4</th>\n",
              "      <td>33</td>\n",
              "      <td>0</td>\n",
              "      <td>0</td>\n",
              "      <td>1</td>\n",
              "      <td>5</td>\n",
              "      <td>4</td>\n",
              "      <td>198</td>\n",
              "      <td>1</td>\n",
              "      <td>unknown</td>\n",
              "      <td>no</td>\n",
              "      <td>...</td>\n",
              "      <td>0</td>\n",
              "      <td>0</td>\n",
              "      <td>0</td>\n",
              "      <td>0</td>\n",
              "      <td>0</td>\n",
              "      <td>0</td>\n",
              "      <td>0</td>\n",
              "      <td>0</td>\n",
              "      <td>0</td>\n",
              "      <td>1</td>\n",
              "    </tr>\n",
              "  </tbody>\n",
              "</table>\n",
              "<p>5 rows × 22 columns</p>\n",
              "</div>\n",
              "      <button class=\"colab-df-convert\" onclick=\"convertToInteractive('df-5e430851-aabf-493f-9c34-aa62d9fd44f7')\"\n",
              "              title=\"Convert this dataframe to an interactive table.\"\n",
              "              style=\"display:none;\">\n",
              "        \n",
              "  <svg xmlns=\"http://www.w3.org/2000/svg\" height=\"24px\"viewBox=\"0 0 24 24\"\n",
              "       width=\"24px\">\n",
              "    <path d=\"M0 0h24v24H0V0z\" fill=\"none\"/>\n",
              "    <path d=\"M18.56 5.44l.94 2.06.94-2.06 2.06-.94-2.06-.94-.94-2.06-.94 2.06-2.06.94zm-11 1L8.5 8.5l.94-2.06 2.06-.94-2.06-.94L8.5 2.5l-.94 2.06-2.06.94zm10 10l.94 2.06.94-2.06 2.06-.94-2.06-.94-.94-2.06-.94 2.06-2.06.94z\"/><path d=\"M17.41 7.96l-1.37-1.37c-.4-.4-.92-.59-1.43-.59-.52 0-1.04.2-1.43.59L10.3 9.45l-7.72 7.72c-.78.78-.78 2.05 0 2.83L4 21.41c.39.39.9.59 1.41.59.51 0 1.02-.2 1.41-.59l7.78-7.78 2.81-2.81c.8-.78.8-2.07 0-2.86zM5.41 20L4 18.59l7.72-7.72 1.47 1.35L5.41 20z\"/>\n",
              "  </svg>\n",
              "      </button>\n",
              "      \n",
              "  <style>\n",
              "    .colab-df-container {\n",
              "      display:flex;\n",
              "      flex-wrap:wrap;\n",
              "      gap: 12px;\n",
              "    }\n",
              "\n",
              "    .colab-df-convert {\n",
              "      background-color: #E8F0FE;\n",
              "      border: none;\n",
              "      border-radius: 50%;\n",
              "      cursor: pointer;\n",
              "      display: none;\n",
              "      fill: #1967D2;\n",
              "      height: 32px;\n",
              "      padding: 0 0 0 0;\n",
              "      width: 32px;\n",
              "    }\n",
              "\n",
              "    .colab-df-convert:hover {\n",
              "      background-color: #E2EBFA;\n",
              "      box-shadow: 0px 1px 2px rgba(60, 64, 67, 0.3), 0px 1px 3px 1px rgba(60, 64, 67, 0.15);\n",
              "      fill: #174EA6;\n",
              "    }\n",
              "\n",
              "    [theme=dark] .colab-df-convert {\n",
              "      background-color: #3B4455;\n",
              "      fill: #D2E3FC;\n",
              "    }\n",
              "\n",
              "    [theme=dark] .colab-df-convert:hover {\n",
              "      background-color: #434B5C;\n",
              "      box-shadow: 0px 1px 3px 1px rgba(0, 0, 0, 0.15);\n",
              "      filter: drop-shadow(0px 1px 2px rgba(0, 0, 0, 0.3));\n",
              "      fill: #FFFFFF;\n",
              "    }\n",
              "  </style>\n",
              "\n",
              "      <script>\n",
              "        const buttonEl =\n",
              "          document.querySelector('#df-5e430851-aabf-493f-9c34-aa62d9fd44f7 button.colab-df-convert');\n",
              "        buttonEl.style.display =\n",
              "          google.colab.kernel.accessAllowed ? 'block' : 'none';\n",
              "\n",
              "        async function convertToInteractive(key) {\n",
              "          const element = document.querySelector('#df-5e430851-aabf-493f-9c34-aa62d9fd44f7');\n",
              "          const dataTable =\n",
              "            await google.colab.kernel.invokeFunction('convertToInteractive',\n",
              "                                                     [key], {});\n",
              "          if (!dataTable) return;\n",
              "\n",
              "          const docLinkHtml = 'Like what you see? Visit the ' +\n",
              "            '<a target=\"_blank\" href=https://colab.research.google.com/notebooks/data_table.ipynb>data table notebook</a>'\n",
              "            + ' to learn more about interactive tables.';\n",
              "          element.innerHTML = '';\n",
              "          dataTable['output_type'] = 'display_data';\n",
              "          await google.colab.output.renderOutput(dataTable, element);\n",
              "          const docLink = document.createElement('div');\n",
              "          docLink.innerHTML = docLinkHtml;\n",
              "          element.appendChild(docLink);\n",
              "        }\n",
              "      </script>\n",
              "    </div>\n",
              "  </div>\n",
              "  "
            ]
          },
          "metadata": {},
          "execution_count": 289
        }
      ],
      "source": [
        "# Mapping values to Call type\n",
        "df['call_type'] = df['call_type'].map({'telephone':0,'unknown':1,'cellular':2}).astype(int)\n",
        "df.head()"
      ]
    },
    {
      "cell_type": "code",
      "execution_count": 290,
      "metadata": {
        "colab": {
          "base_uri": "https://localhost:8080/",
          "height": 236
        },
        "id": "lajj6u6E6TzC",
        "outputId": "244b2063-7e10-4380-86d8-49548dbdc5ab"
      },
      "outputs": [
        {
          "output_type": "execute_result",
          "data": {
            "text/plain": [
              "   age  marital  education_qual  call_type  day  mon  dur  num_calls  \\\n",
              "0   58        1               3          1    5    4  261          1   \n",
              "1   44        0               2          1    5    4  151          1   \n",
              "2   33        1               2          1    5    4   76          1   \n",
              "3   47        1               0          1    5    4   92          1   \n",
              "4   33        0               0          1    5    4  198          1   \n",
              "\n",
              "   prev_outcome   y  ...  entrepreneur  housemaid  management  retired  \\\n",
              "0             2  no  ...             0          0           1        0   \n",
              "1             2  no  ...             0          0           0        0   \n",
              "2             2  no  ...             1          0           0        0   \n",
              "3             2  no  ...             0          0           0        0   \n",
              "4             2  no  ...             0          0           0        0   \n",
              "\n",
              "   self-employed  services  student  technician  unemployed  unknown  \n",
              "0              0         0        0           0           0        0  \n",
              "1              0         0        0           1           0        0  \n",
              "2              0         0        0           0           0        0  \n",
              "3              0         0        0           0           0        0  \n",
              "4              0         0        0           0           0        1  \n",
              "\n",
              "[5 rows x 22 columns]"
            ],
            "text/html": [
              "\n",
              "  <div id=\"df-11f68027-e103-42ea-a419-00971c817f64\">\n",
              "    <div class=\"colab-df-container\">\n",
              "      <div>\n",
              "<style scoped>\n",
              "    .dataframe tbody tr th:only-of-type {\n",
              "        vertical-align: middle;\n",
              "    }\n",
              "\n",
              "    .dataframe tbody tr th {\n",
              "        vertical-align: top;\n",
              "    }\n",
              "\n",
              "    .dataframe thead th {\n",
              "        text-align: right;\n",
              "    }\n",
              "</style>\n",
              "<table border=\"1\" class=\"dataframe\">\n",
              "  <thead>\n",
              "    <tr style=\"text-align: right;\">\n",
              "      <th></th>\n",
              "      <th>age</th>\n",
              "      <th>marital</th>\n",
              "      <th>education_qual</th>\n",
              "      <th>call_type</th>\n",
              "      <th>day</th>\n",
              "      <th>mon</th>\n",
              "      <th>dur</th>\n",
              "      <th>num_calls</th>\n",
              "      <th>prev_outcome</th>\n",
              "      <th>y</th>\n",
              "      <th>...</th>\n",
              "      <th>entrepreneur</th>\n",
              "      <th>housemaid</th>\n",
              "      <th>management</th>\n",
              "      <th>retired</th>\n",
              "      <th>self-employed</th>\n",
              "      <th>services</th>\n",
              "      <th>student</th>\n",
              "      <th>technician</th>\n",
              "      <th>unemployed</th>\n",
              "      <th>unknown</th>\n",
              "    </tr>\n",
              "  </thead>\n",
              "  <tbody>\n",
              "    <tr>\n",
              "      <th>0</th>\n",
              "      <td>58</td>\n",
              "      <td>1</td>\n",
              "      <td>3</td>\n",
              "      <td>1</td>\n",
              "      <td>5</td>\n",
              "      <td>4</td>\n",
              "      <td>261</td>\n",
              "      <td>1</td>\n",
              "      <td>2</td>\n",
              "      <td>no</td>\n",
              "      <td>...</td>\n",
              "      <td>0</td>\n",
              "      <td>0</td>\n",
              "      <td>1</td>\n",
              "      <td>0</td>\n",
              "      <td>0</td>\n",
              "      <td>0</td>\n",
              "      <td>0</td>\n",
              "      <td>0</td>\n",
              "      <td>0</td>\n",
              "      <td>0</td>\n",
              "    </tr>\n",
              "    <tr>\n",
              "      <th>1</th>\n",
              "      <td>44</td>\n",
              "      <td>0</td>\n",
              "      <td>2</td>\n",
              "      <td>1</td>\n",
              "      <td>5</td>\n",
              "      <td>4</td>\n",
              "      <td>151</td>\n",
              "      <td>1</td>\n",
              "      <td>2</td>\n",
              "      <td>no</td>\n",
              "      <td>...</td>\n",
              "      <td>0</td>\n",
              "      <td>0</td>\n",
              "      <td>0</td>\n",
              "      <td>0</td>\n",
              "      <td>0</td>\n",
              "      <td>0</td>\n",
              "      <td>0</td>\n",
              "      <td>1</td>\n",
              "      <td>0</td>\n",
              "      <td>0</td>\n",
              "    </tr>\n",
              "    <tr>\n",
              "      <th>2</th>\n",
              "      <td>33</td>\n",
              "      <td>1</td>\n",
              "      <td>2</td>\n",
              "      <td>1</td>\n",
              "      <td>5</td>\n",
              "      <td>4</td>\n",
              "      <td>76</td>\n",
              "      <td>1</td>\n",
              "      <td>2</td>\n",
              "      <td>no</td>\n",
              "      <td>...</td>\n",
              "      <td>1</td>\n",
              "      <td>0</td>\n",
              "      <td>0</td>\n",
              "      <td>0</td>\n",
              "      <td>0</td>\n",
              "      <td>0</td>\n",
              "      <td>0</td>\n",
              "      <td>0</td>\n",
              "      <td>0</td>\n",
              "      <td>0</td>\n",
              "    </tr>\n",
              "    <tr>\n",
              "      <th>3</th>\n",
              "      <td>47</td>\n",
              "      <td>1</td>\n",
              "      <td>0</td>\n",
              "      <td>1</td>\n",
              "      <td>5</td>\n",
              "      <td>4</td>\n",
              "      <td>92</td>\n",
              "      <td>1</td>\n",
              "      <td>2</td>\n",
              "      <td>no</td>\n",
              "      <td>...</td>\n",
              "      <td>0</td>\n",
              "      <td>0</td>\n",
              "      <td>0</td>\n",
              "      <td>0</td>\n",
              "      <td>0</td>\n",
              "      <td>0</td>\n",
              "      <td>0</td>\n",
              "      <td>0</td>\n",
              "      <td>0</td>\n",
              "      <td>0</td>\n",
              "    </tr>\n",
              "    <tr>\n",
              "      <th>4</th>\n",
              "      <td>33</td>\n",
              "      <td>0</td>\n",
              "      <td>0</td>\n",
              "      <td>1</td>\n",
              "      <td>5</td>\n",
              "      <td>4</td>\n",
              "      <td>198</td>\n",
              "      <td>1</td>\n",
              "      <td>2</td>\n",
              "      <td>no</td>\n",
              "      <td>...</td>\n",
              "      <td>0</td>\n",
              "      <td>0</td>\n",
              "      <td>0</td>\n",
              "      <td>0</td>\n",
              "      <td>0</td>\n",
              "      <td>0</td>\n",
              "      <td>0</td>\n",
              "      <td>0</td>\n",
              "      <td>0</td>\n",
              "      <td>1</td>\n",
              "    </tr>\n",
              "  </tbody>\n",
              "</table>\n",
              "<p>5 rows × 22 columns</p>\n",
              "</div>\n",
              "      <button class=\"colab-df-convert\" onclick=\"convertToInteractive('df-11f68027-e103-42ea-a419-00971c817f64')\"\n",
              "              title=\"Convert this dataframe to an interactive table.\"\n",
              "              style=\"display:none;\">\n",
              "        \n",
              "  <svg xmlns=\"http://www.w3.org/2000/svg\" height=\"24px\"viewBox=\"0 0 24 24\"\n",
              "       width=\"24px\">\n",
              "    <path d=\"M0 0h24v24H0V0z\" fill=\"none\"/>\n",
              "    <path d=\"M18.56 5.44l.94 2.06.94-2.06 2.06-.94-2.06-.94-.94-2.06-.94 2.06-2.06.94zm-11 1L8.5 8.5l.94-2.06 2.06-.94-2.06-.94L8.5 2.5l-.94 2.06-2.06.94zm10 10l.94 2.06.94-2.06 2.06-.94-2.06-.94-.94-2.06-.94 2.06-2.06.94z\"/><path d=\"M17.41 7.96l-1.37-1.37c-.4-.4-.92-.59-1.43-.59-.52 0-1.04.2-1.43.59L10.3 9.45l-7.72 7.72c-.78.78-.78 2.05 0 2.83L4 21.41c.39.39.9.59 1.41.59.51 0 1.02-.2 1.41-.59l7.78-7.78 2.81-2.81c.8-.78.8-2.07 0-2.86zM5.41 20L4 18.59l7.72-7.72 1.47 1.35L5.41 20z\"/>\n",
              "  </svg>\n",
              "      </button>\n",
              "      \n",
              "  <style>\n",
              "    .colab-df-container {\n",
              "      display:flex;\n",
              "      flex-wrap:wrap;\n",
              "      gap: 12px;\n",
              "    }\n",
              "\n",
              "    .colab-df-convert {\n",
              "      background-color: #E8F0FE;\n",
              "      border: none;\n",
              "      border-radius: 50%;\n",
              "      cursor: pointer;\n",
              "      display: none;\n",
              "      fill: #1967D2;\n",
              "      height: 32px;\n",
              "      padding: 0 0 0 0;\n",
              "      width: 32px;\n",
              "    }\n",
              "\n",
              "    .colab-df-convert:hover {\n",
              "      background-color: #E2EBFA;\n",
              "      box-shadow: 0px 1px 2px rgba(60, 64, 67, 0.3), 0px 1px 3px 1px rgba(60, 64, 67, 0.15);\n",
              "      fill: #174EA6;\n",
              "    }\n",
              "\n",
              "    [theme=dark] .colab-df-convert {\n",
              "      background-color: #3B4455;\n",
              "      fill: #D2E3FC;\n",
              "    }\n",
              "\n",
              "    [theme=dark] .colab-df-convert:hover {\n",
              "      background-color: #434B5C;\n",
              "      box-shadow: 0px 1px 3px 1px rgba(0, 0, 0, 0.15);\n",
              "      filter: drop-shadow(0px 1px 2px rgba(0, 0, 0, 0.3));\n",
              "      fill: #FFFFFF;\n",
              "    }\n",
              "  </style>\n",
              "\n",
              "      <script>\n",
              "        const buttonEl =\n",
              "          document.querySelector('#df-11f68027-e103-42ea-a419-00971c817f64 button.colab-df-convert');\n",
              "        buttonEl.style.display =\n",
              "          google.colab.kernel.accessAllowed ? 'block' : 'none';\n",
              "\n",
              "        async function convertToInteractive(key) {\n",
              "          const element = document.querySelector('#df-11f68027-e103-42ea-a419-00971c817f64');\n",
              "          const dataTable =\n",
              "            await google.colab.kernel.invokeFunction('convertToInteractive',\n",
              "                                                     [key], {});\n",
              "          if (!dataTable) return;\n",
              "\n",
              "          const docLinkHtml = 'Like what you see? Visit the ' +\n",
              "            '<a target=\"_blank\" href=https://colab.research.google.com/notebooks/data_table.ipynb>data table notebook</a>'\n",
              "            + ' to learn more about interactive tables.';\n",
              "          element.innerHTML = '';\n",
              "          dataTable['output_type'] = 'display_data';\n",
              "          await google.colab.output.renderOutput(dataTable, element);\n",
              "          const docLink = document.createElement('div');\n",
              "          docLink.innerHTML = docLinkHtml;\n",
              "          element.appendChild(docLink);\n",
              "        }\n",
              "      </script>\n",
              "    </div>\n",
              "  </div>\n",
              "  "
            ]
          },
          "metadata": {},
          "execution_count": 290
        }
      ],
      "source": [
        "# Mapping values to Previous Outcomes\n",
        "df['prev_outcome'] = df['prev_outcome'].map({'success':0,'failure':1,'unknown':2}).astype(int)\n",
        "df.head()"
      ]
    },
    {
      "cell_type": "code",
      "execution_count": 291,
      "metadata": {
        "id": "dVc1V26_7Un9"
      },
      "outputs": [],
      "source": [
        "df['y']=df['y'].replace({'yes':1,'no':0})"
      ]
    },
    {
      "cell_type": "code",
      "execution_count": 292,
      "metadata": {
        "colab": {
          "base_uri": "https://localhost:8080/"
        },
        "id": "Yy0GrrzIAjnu",
        "outputId": "5c8edc1f-15ed-4b6c-c1c9-b048d738ccab"
      },
      "outputs": [
        {
          "output_type": "execute_result",
          "data": {
            "text/plain": [
              "array([0, 1])"
            ]
          },
          "metadata": {},
          "execution_count": 292
        }
      ],
      "source": [
        "df.y.unique()"
      ]
    },
    {
      "cell_type": "code",
      "execution_count": 293,
      "metadata": {
        "colab": {
          "base_uri": "https://localhost:8080/",
          "height": 236
        },
        "id": "D9u_z6lPS2Wv",
        "outputId": "24dfb158-4d73-451a-b5b6-2d254f417c61"
      },
      "outputs": [
        {
          "output_type": "execute_result",
          "data": {
            "text/plain": [
              "   age  marital  education_qual  call_type  day  mon  dur  num_calls  \\\n",
              "0   58        1               3          1    5    4  261          1   \n",
              "1   44        0               2          1    5    4  151          1   \n",
              "2   33        1               2          1    5    4   76          1   \n",
              "3   47        1               0          1    5    4   92          1   \n",
              "4   33        0               0          1    5    4  198          1   \n",
              "\n",
              "   prev_outcome  y  ...  entrepreneur  housemaid  management  retired  \\\n",
              "0             2  0  ...             0          0           1        0   \n",
              "1             2  0  ...             0          0           0        0   \n",
              "2             2  0  ...             1          0           0        0   \n",
              "3             2  0  ...             0          0           0        0   \n",
              "4             2  0  ...             0          0           0        0   \n",
              "\n",
              "   self-employed  services  student  technician  unemployed  unknown  \n",
              "0              0         0        0           0           0        0  \n",
              "1              0         0        0           1           0        0  \n",
              "2              0         0        0           0           0        0  \n",
              "3              0         0        0           0           0        0  \n",
              "4              0         0        0           0           0        1  \n",
              "\n",
              "[5 rows x 22 columns]"
            ],
            "text/html": [
              "\n",
              "  <div id=\"df-fb9a498b-d02f-426d-852e-1acf0e10b20b\">\n",
              "    <div class=\"colab-df-container\">\n",
              "      <div>\n",
              "<style scoped>\n",
              "    .dataframe tbody tr th:only-of-type {\n",
              "        vertical-align: middle;\n",
              "    }\n",
              "\n",
              "    .dataframe tbody tr th {\n",
              "        vertical-align: top;\n",
              "    }\n",
              "\n",
              "    .dataframe thead th {\n",
              "        text-align: right;\n",
              "    }\n",
              "</style>\n",
              "<table border=\"1\" class=\"dataframe\">\n",
              "  <thead>\n",
              "    <tr style=\"text-align: right;\">\n",
              "      <th></th>\n",
              "      <th>age</th>\n",
              "      <th>marital</th>\n",
              "      <th>education_qual</th>\n",
              "      <th>call_type</th>\n",
              "      <th>day</th>\n",
              "      <th>mon</th>\n",
              "      <th>dur</th>\n",
              "      <th>num_calls</th>\n",
              "      <th>prev_outcome</th>\n",
              "      <th>y</th>\n",
              "      <th>...</th>\n",
              "      <th>entrepreneur</th>\n",
              "      <th>housemaid</th>\n",
              "      <th>management</th>\n",
              "      <th>retired</th>\n",
              "      <th>self-employed</th>\n",
              "      <th>services</th>\n",
              "      <th>student</th>\n",
              "      <th>technician</th>\n",
              "      <th>unemployed</th>\n",
              "      <th>unknown</th>\n",
              "    </tr>\n",
              "  </thead>\n",
              "  <tbody>\n",
              "    <tr>\n",
              "      <th>0</th>\n",
              "      <td>58</td>\n",
              "      <td>1</td>\n",
              "      <td>3</td>\n",
              "      <td>1</td>\n",
              "      <td>5</td>\n",
              "      <td>4</td>\n",
              "      <td>261</td>\n",
              "      <td>1</td>\n",
              "      <td>2</td>\n",
              "      <td>0</td>\n",
              "      <td>...</td>\n",
              "      <td>0</td>\n",
              "      <td>0</td>\n",
              "      <td>1</td>\n",
              "      <td>0</td>\n",
              "      <td>0</td>\n",
              "      <td>0</td>\n",
              "      <td>0</td>\n",
              "      <td>0</td>\n",
              "      <td>0</td>\n",
              "      <td>0</td>\n",
              "    </tr>\n",
              "    <tr>\n",
              "      <th>1</th>\n",
              "      <td>44</td>\n",
              "      <td>0</td>\n",
              "      <td>2</td>\n",
              "      <td>1</td>\n",
              "      <td>5</td>\n",
              "      <td>4</td>\n",
              "      <td>151</td>\n",
              "      <td>1</td>\n",
              "      <td>2</td>\n",
              "      <td>0</td>\n",
              "      <td>...</td>\n",
              "      <td>0</td>\n",
              "      <td>0</td>\n",
              "      <td>0</td>\n",
              "      <td>0</td>\n",
              "      <td>0</td>\n",
              "      <td>0</td>\n",
              "      <td>0</td>\n",
              "      <td>1</td>\n",
              "      <td>0</td>\n",
              "      <td>0</td>\n",
              "    </tr>\n",
              "    <tr>\n",
              "      <th>2</th>\n",
              "      <td>33</td>\n",
              "      <td>1</td>\n",
              "      <td>2</td>\n",
              "      <td>1</td>\n",
              "      <td>5</td>\n",
              "      <td>4</td>\n",
              "      <td>76</td>\n",
              "      <td>1</td>\n",
              "      <td>2</td>\n",
              "      <td>0</td>\n",
              "      <td>...</td>\n",
              "      <td>1</td>\n",
              "      <td>0</td>\n",
              "      <td>0</td>\n",
              "      <td>0</td>\n",
              "      <td>0</td>\n",
              "      <td>0</td>\n",
              "      <td>0</td>\n",
              "      <td>0</td>\n",
              "      <td>0</td>\n",
              "      <td>0</td>\n",
              "    </tr>\n",
              "    <tr>\n",
              "      <th>3</th>\n",
              "      <td>47</td>\n",
              "      <td>1</td>\n",
              "      <td>0</td>\n",
              "      <td>1</td>\n",
              "      <td>5</td>\n",
              "      <td>4</td>\n",
              "      <td>92</td>\n",
              "      <td>1</td>\n",
              "      <td>2</td>\n",
              "      <td>0</td>\n",
              "      <td>...</td>\n",
              "      <td>0</td>\n",
              "      <td>0</td>\n",
              "      <td>0</td>\n",
              "      <td>0</td>\n",
              "      <td>0</td>\n",
              "      <td>0</td>\n",
              "      <td>0</td>\n",
              "      <td>0</td>\n",
              "      <td>0</td>\n",
              "      <td>0</td>\n",
              "    </tr>\n",
              "    <tr>\n",
              "      <th>4</th>\n",
              "      <td>33</td>\n",
              "      <td>0</td>\n",
              "      <td>0</td>\n",
              "      <td>1</td>\n",
              "      <td>5</td>\n",
              "      <td>4</td>\n",
              "      <td>198</td>\n",
              "      <td>1</td>\n",
              "      <td>2</td>\n",
              "      <td>0</td>\n",
              "      <td>...</td>\n",
              "      <td>0</td>\n",
              "      <td>0</td>\n",
              "      <td>0</td>\n",
              "      <td>0</td>\n",
              "      <td>0</td>\n",
              "      <td>0</td>\n",
              "      <td>0</td>\n",
              "      <td>0</td>\n",
              "      <td>0</td>\n",
              "      <td>1</td>\n",
              "    </tr>\n",
              "  </tbody>\n",
              "</table>\n",
              "<p>5 rows × 22 columns</p>\n",
              "</div>\n",
              "      <button class=\"colab-df-convert\" onclick=\"convertToInteractive('df-fb9a498b-d02f-426d-852e-1acf0e10b20b')\"\n",
              "              title=\"Convert this dataframe to an interactive table.\"\n",
              "              style=\"display:none;\">\n",
              "        \n",
              "  <svg xmlns=\"http://www.w3.org/2000/svg\" height=\"24px\"viewBox=\"0 0 24 24\"\n",
              "       width=\"24px\">\n",
              "    <path d=\"M0 0h24v24H0V0z\" fill=\"none\"/>\n",
              "    <path d=\"M18.56 5.44l.94 2.06.94-2.06 2.06-.94-2.06-.94-.94-2.06-.94 2.06-2.06.94zm-11 1L8.5 8.5l.94-2.06 2.06-.94-2.06-.94L8.5 2.5l-.94 2.06-2.06.94zm10 10l.94 2.06.94-2.06 2.06-.94-2.06-.94-.94-2.06-.94 2.06-2.06.94z\"/><path d=\"M17.41 7.96l-1.37-1.37c-.4-.4-.92-.59-1.43-.59-.52 0-1.04.2-1.43.59L10.3 9.45l-7.72 7.72c-.78.78-.78 2.05 0 2.83L4 21.41c.39.39.9.59 1.41.59.51 0 1.02-.2 1.41-.59l7.78-7.78 2.81-2.81c.8-.78.8-2.07 0-2.86zM5.41 20L4 18.59l7.72-7.72 1.47 1.35L5.41 20z\"/>\n",
              "  </svg>\n",
              "      </button>\n",
              "      \n",
              "  <style>\n",
              "    .colab-df-container {\n",
              "      display:flex;\n",
              "      flex-wrap:wrap;\n",
              "      gap: 12px;\n",
              "    }\n",
              "\n",
              "    .colab-df-convert {\n",
              "      background-color: #E8F0FE;\n",
              "      border: none;\n",
              "      border-radius: 50%;\n",
              "      cursor: pointer;\n",
              "      display: none;\n",
              "      fill: #1967D2;\n",
              "      height: 32px;\n",
              "      padding: 0 0 0 0;\n",
              "      width: 32px;\n",
              "    }\n",
              "\n",
              "    .colab-df-convert:hover {\n",
              "      background-color: #E2EBFA;\n",
              "      box-shadow: 0px 1px 2px rgba(60, 64, 67, 0.3), 0px 1px 3px 1px rgba(60, 64, 67, 0.15);\n",
              "      fill: #174EA6;\n",
              "    }\n",
              "\n",
              "    [theme=dark] .colab-df-convert {\n",
              "      background-color: #3B4455;\n",
              "      fill: #D2E3FC;\n",
              "    }\n",
              "\n",
              "    [theme=dark] .colab-df-convert:hover {\n",
              "      background-color: #434B5C;\n",
              "      box-shadow: 0px 1px 3px 1px rgba(0, 0, 0, 0.15);\n",
              "      filter: drop-shadow(0px 1px 2px rgba(0, 0, 0, 0.3));\n",
              "      fill: #FFFFFF;\n",
              "    }\n",
              "  </style>\n",
              "\n",
              "      <script>\n",
              "        const buttonEl =\n",
              "          document.querySelector('#df-fb9a498b-d02f-426d-852e-1acf0e10b20b button.colab-df-convert');\n",
              "        buttonEl.style.display =\n",
              "          google.colab.kernel.accessAllowed ? 'block' : 'none';\n",
              "\n",
              "        async function convertToInteractive(key) {\n",
              "          const element = document.querySelector('#df-fb9a498b-d02f-426d-852e-1acf0e10b20b');\n",
              "          const dataTable =\n",
              "            await google.colab.kernel.invokeFunction('convertToInteractive',\n",
              "                                                     [key], {});\n",
              "          if (!dataTable) return;\n",
              "\n",
              "          const docLinkHtml = 'Like what you see? Visit the ' +\n",
              "            '<a target=\"_blank\" href=https://colab.research.google.com/notebooks/data_table.ipynb>data table notebook</a>'\n",
              "            + ' to learn more about interactive tables.';\n",
              "          element.innerHTML = '';\n",
              "          dataTable['output_type'] = 'display_data';\n",
              "          await google.colab.output.renderOutput(dataTable, element);\n",
              "          const docLink = document.createElement('div');\n",
              "          docLink.innerHTML = docLinkHtml;\n",
              "          element.appendChild(docLink);\n",
              "        }\n",
              "      </script>\n",
              "    </div>\n",
              "  </div>\n",
              "  "
            ]
          },
          "metadata": {},
          "execution_count": 293
        }
      ],
      "source": [
        "df.head(5)"
      ]
    },
    {
      "cell_type": "markdown",
      "metadata": {
        "id": "Oo6vZi34D7hD"
      },
      "source": [
        "# **MODELLING**"
      ]
    },
    {
      "cell_type": "code",
      "execution_count": 294,
      "metadata": {
        "id": "fjL7e1bPT89m"
      },
      "outputs": [],
      "source": [
        "x=df.drop('y',axis=1)\n",
        "y=df.y"
      ]
    },
    {
      "cell_type": "markdown",
      "metadata": {
        "id": "J_-LlnYqcn28"
      },
      "source": [
        "The training dataset and test dataset must be similar, usually have the same predictors or variables. They differ on the observations and specific values in the variables. If you fit the model on the training dataset, then you implicitly minimize error or find correct responses. The fitted model provides a good prediction on the training dataset. Then you test the model on the test dataset. If the model predicts good also on the test dataset, you have more confidence. You have more confidence since the test dataset is similar to the training dataset, but not the same nor seen by the model. It means the model transfers prediction or learning in real sense.\n",
        "\n",
        "So,by splitting dataset into training and testing subset, we can efficiently measure our trained model since it never sees testing data before.Thus it's possible to prevent overfitting.\n",
        "\n",
        "I am just splitting dataset into 20% of test data and remaining 80% will used for training the model."
      ]
    },
    {
      "cell_type": "code",
      "execution_count": 295,
      "metadata": {
        "id": "XL5PmrkJcnmK"
      },
      "outputs": [],
      "source": [
        "# Splitting the Data\n",
        "from sklearn.model_selection import train_test_split\n",
        "X_train,X_test,y_train,y_test = train_test_split(x,y,test_size=0.2,random_state=42)"
      ]
    },
    {
      "cell_type": "code",
      "execution_count": 296,
      "metadata": {
        "id": "wyW_N06UcnjE"
      },
      "outputs": [],
      "source": [
        "# Scaling the Data\n",
        "from sklearn.preprocessing import StandardScaler \n",
        "scaler = StandardScaler()\n",
        "X_train_scaled = scaler.fit_transform(X_train) \n",
        "X_test_scaled = scaler.transform(X_test) "
      ]
    },
    {
      "cell_type": "markdown",
      "metadata": {
        "id": "7PDsIAm-tf-7"
      },
      "source": [
        "## **KNN**"
      ]
    },
    {
      "cell_type": "code",
      "execution_count": 297,
      "metadata": {
        "colab": {
          "base_uri": "https://localhost:8080/"
        },
        "id": "BJTEXKAndsOp",
        "outputId": "c1b7def5-ad8b-4ed5-c7a5-30b32dfc3522"
      },
      "outputs": [
        {
          "output_type": "execute_result",
          "data": {
            "text/plain": [
              "KNeighborsClassifier(n_neighbors=6)"
            ]
          },
          "metadata": {},
          "execution_count": 297
        }
      ],
      "source": [
        "# Fitting KNN Classifier to Training set\n",
        "from sklearn.neighbors import KNeighborsClassifier\n",
        "model = KNeighborsClassifier(n_neighbors=6)\n",
        "model.fit(X_train,y_train)"
      ]
    },
    {
      "cell_type": "code",
      "execution_count": 298,
      "metadata": {
        "colab": {
          "base_uri": "https://localhost:8080/"
        },
        "id": "dp7vkO6uderg",
        "outputId": "a0bb265b-212b-437b-dcfc-c1b79096604d"
      },
      "outputs": [
        {
          "output_type": "execute_result",
          "data": {
            "text/plain": [
              "array([0, 0, 0, ..., 0, 0, 0])"
            ]
          },
          "metadata": {},
          "execution_count": 298
        }
      ],
      "source": [
        "y_pred_knn = model.predict(X_test)\n",
        "y_pred_knn"
      ]
    },
    {
      "cell_type": "code",
      "execution_count": 299,
      "metadata": {
        "id": "K5IzYY0W7Cx3"
      },
      "outputs": [],
      "source": [
        "from sklearn.metrics import roc_curve,roc_auc_score"
      ]
    },
    {
      "cell_type": "code",
      "execution_count": 301,
      "metadata": {
        "colab": {
          "base_uri": "https://localhost:8080/"
        },
        "id": "ziB0hJhicnRg",
        "outputId": "620d0f19-1030-4741-c7d8-587fbd1c6a87"
      },
      "outputs": [
        {
          "output_type": "stream",
          "name": "stdout",
          "text": [
            "AUROC_score :  0.7719122941129821\n"
          ]
        }
      ],
      "source": [
        "y_score1 = model.predict_proba(X_test)[:,1]\n",
        "false_positive_rate_knn, true_positive_rate_knn, threshold1 = roc_curve(y_test, y_score1)\n",
        "print('AUROC_score : ', roc_auc_score(y_test, y_score1))\n"
      ]
    },
    {
      "cell_type": "code",
      "execution_count": 302,
      "metadata": {
        "id": "BJoKazdR9LdQ",
        "colab": {
          "base_uri": "https://localhost:8080/",
          "height": 300
        },
        "outputId": "302a5cc7-c5fa-438d-9c91-ce047d9ef296"
      },
      "outputs": [
        {
          "output_type": "execute_result",
          "data": {
            "text/plain": [
              "array([[7798,  154],\n",
              "       [ 916,  175]])"
            ]
          },
          "metadata": {},
          "execution_count": 302
        },
        {
          "output_type": "display_data",
          "data": {
            "text/plain": [
              "<Figure size 432x288 with 2 Axes>"
            ],
            "image/png": "[encoded data removed]"
          },
          "metadata": {
            "needs_background": "light"
          }
        }
      ],
      "source": [
        "from sklearn.metrics import confusion_matrix\n",
        "cm =confusion_matrix(y_test,y_pred_knn)\n",
        "sns.heatmap(cm,annot=True)\n",
        "cm"
      ]
    },
    {
      "cell_type": "markdown",
      "metadata": {
        "id": "J3Zuf2y8uAs5"
      },
      "source": [
        "## **DecissionTree**"
      ]
    },
    {
      "cell_type": "code",
      "execution_count": 303,
      "metadata": {
        "id": "x0TNY-3Dfjhf"
      },
      "outputs": [],
      "source": [
        "from sklearn.model_selection import train_test_split\n",
        "X = df.drop(['y'],axis = 1)\n",
        "y = df['y']\n",
        "X_train,X_test,y_train,y_test = train_test_split(X,y,test_size = 0.22 ,random_state = 0)"
      ]
    },
    {
      "cell_type": "code",
      "execution_count": 304,
      "metadata": {
        "id": "lW5Qis3mfoE_",
        "colab": {
          "base_uri": "https://localhost:8080/"
        },
        "outputId": "0cc9f007-11aa-45b7-dd79-cdb4e0f4fff9"
      },
      "outputs": [
        {
          "output_type": "stream",
          "name": "stdout",
          "text": [
            "[[ 1.51420625  0.27584484 -0.08261113 ...  2.21670967 -0.17232537\n",
            "  -0.0790513 ]\n",
            " [-0.74754261  0.27584484  1.20698561 ... -0.45111907 -0.17232537\n",
            "  -0.0790513 ]\n",
            " [-0.84178215  1.91787597 -0.08261113 ... -0.45111907 -0.17232537\n",
            "  -0.0790513 ]\n",
            " ...\n",
            " [-0.55906354  0.27584484  1.20698561 ... -0.45111907 -0.17232537\n",
            "  -0.0790513 ]\n",
            " [ 2.73932023  0.27584484 -0.08261113 ... -0.45111907 -0.17232537\n",
            "  -0.0790513 ]\n",
            " [ 0.47757136 -1.36618629 -0.08261113 ... -0.45111907 -0.17232537\n",
            "  -0.0790513 ]]\n"
          ]
        }
      ],
      "source": [
        " from sklearn.preprocessing import StandardScaler\n",
        " standardisation = StandardScaler()\n",
        " X_after_standardise =  standardisation.fit_transform(X_train)\n",
        " print(X_after_standardise)"
      ]
    },
    {
      "cell_type": "code",
      "execution_count": 305,
      "metadata": {
        "id": "UBuEwmDpfvwQ",
        "colab": {
          "base_uri": "https://localhost:8080/"
        },
        "outputId": "caf91f87-8f67-4b9d-f0ca-7e92feda5792"
      },
      "outputs": [
        {
          "output_type": "execute_result",
          "data": {
            "text/plain": [
              "DecisionTreeClassifier()"
            ]
          },
          "metadata": {},
          "execution_count": 305
        }
      ],
      "source": [
        "from sklearn import tree\n",
        "model  = tree.DecisionTreeClassifier()\n",
        "model.fit(X_train,y_train)"
      ]
    },
    {
      "cell_type": "code",
      "execution_count": 306,
      "metadata": {
        "id": "-sal82eqf4Qs",
        "colab": {
          "base_uri": "https://localhost:8080/"
        },
        "outputId": "17e7875e-c2fd-41ac-d816-085880768d8a"
      },
      "outputs": [
        {
          "output_type": "execute_result",
          "data": {
            "text/plain": [
              "array([0, 0, 0, ..., 0, 1, 0])"
            ]
          },
          "metadata": {},
          "execution_count": 306
        }
      ],
      "source": [
        "y_pred = model.predict(X_test)\n",
        "y_pred"
      ]
    },
    {
      "cell_type": "code",
      "execution_count": 307,
      "metadata": {
        "id": "aGD5pLDEf6ol",
        "colab": {
          "base_uri": "https://localhost:8080/"
        },
        "outputId": "1b8d7ef2-e839-48d3-b163-a1070f59cfd3"
      },
      "outputs": [
        {
          "output_type": "stream",
          "name": "stdout",
          "text": [
            "AUROC SCORE: 0.6833663500067534\n",
            "accuracy:  0.8651854830602191\n"
          ]
        }
      ],
      "source": [
        "from sklearn.metrics import roc_auc_score,f1_score,accuracy_score\n",
        "AUROC = roc_auc_score(y_test,y_pred)\n",
        "print(\"AUROC SCORE:\",AUROC)\n",
        "accuracy = accuracy_score(y_test,y_pred)\n",
        "print(\"accuracy: \",accuracy)"
      ]
    },
    {
      "cell_type": "code",
      "execution_count": 308,
      "metadata": {
        "id": "kQhqsSRDf9LQ",
        "colab": {
          "base_uri": "https://localhost:8080/",
          "height": 302
        },
        "outputId": "78a35932-9c81-4d15-a95e-9e847ae7475e"
      },
      "outputs": [
        {
          "output_type": "execute_result",
          "data": {
            "text/plain": [
              "array([[8085,  693],\n",
              "       [ 648,  521]])"
            ]
          },
          "metadata": {},
          "execution_count": 308
        },
        {
          "output_type": "display_data",
          "data": {
            "text/plain": [
              "<Figure size 432x288 with 2 Axes>"
            ],
            "image/png": "[encoded data removed]"
          },
          "metadata": {
            "needs_background": "light"
          }
        }
      ],
      "source": [
        "from sklearn.metrics import confusion_matrix\n",
        "cm =confusion_matrix(y_test,y_pred)\n",
        "sns.heatmap(cm,annot=True)\n",
        "cm"
      ]
    },
    {
      "cell_type": "code",
      "execution_count": 309,
      "metadata": {
        "id": "gLxaj-MJf_yD",
        "colab": {
          "base_uri": "https://localhost:8080/",
          "height": 621
        },
        "outputId": "3fe902d0-1c7a-425c-a940-1437dd7761d9"
      },
      "outputs": [
        {
          "output_type": "display_data",
          "data": {
            "text/plain": [
              "<Figure size 720x720 with 1 Axes>"
            ],
            "image/png": "[encoded data removed]"
          },
          "metadata": {
            "needs_background": "light"
          }
        }
      ],
      "source": [
        "from sklearn.metrics import roc_curve\n",
        "y_score1 = model.predict_proba(X_test)[:,1]\n",
        "false_positive_rate, true_positive_rate, thershold1 = roc_curve(y_test,y_score1)\n",
        "plt.subplots(1,figsize=(10,10))\n",
        "plt.title(\"Receiver Operating Characeristic\")\n",
        "plt.plot(false_positive_rate, true_positive_rate)\n",
        "plt.plot([0,1],ls=\"--\")\n",
        "plt.plot([0,0],[1,0],c=\".7\"),plt.plot([1,1],c=\".7\")\n",
        "plt.ylabel('True Positive Rate')\n",
        "plt.xlabel('False Positive Rate')\n",
        "plt.show()"
      ]
    },
    {
      "cell_type": "markdown",
      "metadata": {
        "id": "-8q8Yv7Iu40W"
      },
      "source": [
        "## **RandomForestClassifier**"
      ]
    },
    {
      "cell_type": "code",
      "execution_count": 310,
      "metadata": {
        "id": "OqApcLkjgRY6"
      },
      "outputs": [],
      "source": [
        "from sklearn.model_selection import train_test_split\n",
        "X =df.drop(['y'],axis=1)\n",
        "y =df['y']\n",
        "X_train,X_test,y_train,y_test =train_test_split(X,y, test_size= 0.33,random_state =0)"
      ]
    },
    {
      "cell_type": "code",
      "execution_count": 311,
      "metadata": {
        "id": "WDcxlGtrgcWu",
        "colab": {
          "base_uri": "https://localhost:8080/"
        },
        "outputId": "75ca2668-8282-4c51-9d74-1a8bf0e0d7d8"
      },
      "outputs": [
        {
          "output_type": "stream",
          "name": "stdout",
          "text": [
            "[[-0.55642882  1.91501385 -0.08056991 ...  2.22143131 -0.1705316\n",
            "  -0.07923795]\n",
            " [ 1.33041352  1.91501385 -1.36845554 ... -0.45016022  5.86401588\n",
            "  -0.07923795]\n",
            " [ 0.29265024  0.27591567  1.20731571 ... -0.45016022 -0.1705316\n",
            "  -0.07923795]\n",
            " ...\n",
            " [-0.55642882  0.27591567  1.20731571 ... -0.45016022 -0.1705316\n",
            "  -0.07923795]\n",
            " [ 2.74554528  0.27591567 -0.08056991 ... -0.45016022 -0.1705316\n",
            "  -0.07923795]\n",
            " [ 0.48133447 -1.3631825  -0.08056991 ... -0.45016022 -0.1705316\n",
            "  -0.07923795]]\n"
          ]
        }
      ],
      "source": [
        "from sklearn.preprocessing import StandardScaler\n",
        "standardisation =StandardScaler()\n",
        "X_after_standardise=standardisation.fit_transform(X_train)\n",
        "print(X_after_standardise)\n"
      ]
    },
    {
      "cell_type": "code",
      "execution_count": 312,
      "metadata": {
        "id": "PGkLVVuDghEY",
        "colab": {
          "base_uri": "https://localhost:8080/"
        },
        "outputId": "89b2ddb7-6143-49db-dc40-47b7b64b58ea"
      },
      "outputs": [
        {
          "output_type": "execute_result",
          "data": {
            "text/plain": [
              "RandomForestClassifier(criterion='entropy')"
            ]
          },
          "metadata": {},
          "execution_count": 312
        }
      ],
      "source": [
        "from sklearn.ensemble import RandomForestClassifier\n",
        "rfc =RandomForestClassifier(n_estimators=100,criterion='entropy')\n",
        "rfc.fit(X_train,y_train)"
      ]
    },
    {
      "cell_type": "code",
      "execution_count": 313,
      "metadata": {
        "id": "K81Bzm9-gr1c",
        "colab": {
          "base_uri": "https://localhost:8080/"
        },
        "outputId": "9a9dce0d-752e-42ef-c9e3-785e1a0ba165"
      },
      "outputs": [
        {
          "output_type": "execute_result",
          "data": {
            "text/plain": [
              "array([0, 1, 0, ..., 0, 0, 0])"
            ]
          },
          "metadata": {},
          "execution_count": 313
        }
      ],
      "source": [
        "y_pred =rfc.predict(X_test)\n",
        "y_pred"
      ]
    },
    {
      "cell_type": "code",
      "execution_count": 314,
      "metadata": {
        "id": "bu5AAgqZgwQq",
        "colab": {
          "base_uri": "https://localhost:8080/"
        },
        "outputId": "5c039aa8-ef8f-40ef-b4d9-4c8889970de3"
      },
      "outputs": [
        {
          "output_type": "stream",
          "name": "stdout",
          "text": [
            "AUROC score: 0.6728913131619559\n",
            "accuracy:  0.8992627345844504\n"
          ]
        }
      ],
      "source": [
        "\n",
        "from sklearn.metrics import roc_auc_score,f1_score,accuracy_score\n",
        "AUROC =roc_auc_score(y_test,y_pred)\n",
        "F1_score =f1_score(y_test,y_pred)\n",
        "print(\"AUROC score:\",AUROC)\n",
        "accuracy = accuracy_score(y_test,y_pred)\n",
        "print(\"accuracy: \",accuracy)"
      ]
    },
    {
      "cell_type": "code",
      "execution_count": 315,
      "metadata": {
        "id": "C5hgzC0ugzSN",
        "colab": {
          "base_uri": "https://localhost:8080/",
          "height": 300
        },
        "outputId": "b8564bed-ed2e-4625-e4c3-62e253ae8496"
      },
      "outputs": [
        {
          "output_type": "execute_result",
          "data": {
            "text/plain": [
              "array([[12755,   408],\n",
              "       [ 1095,   662]])"
            ]
          },
          "metadata": {},
          "execution_count": 315
        },
        {
          "output_type": "display_data",
          "data": {
            "text/plain": [
              "<Figure size 432x288 with 2 Axes>"
            ],
            "image/png": "[encoded data removed]"
          },
          "metadata": {
            "needs_background": "light"
          }
        }
      ],
      "source": [
        "from sklearn.metrics import confusion_matrix\n",
        "cm =confusion_matrix(y_test,y_pred)\n",
        "sns.heatmap(cm,annot=True)\n",
        "cm"
      ]
    },
    {
      "cell_type": "code",
      "execution_count": 316,
      "metadata": {
        "id": "bTXOHnFRg4-2",
        "colab": {
          "base_uri": "https://localhost:8080/",
          "height": 621
        },
        "outputId": "7d03a039-d39d-4c67-bf67-1f58d51ebd77"
      },
      "outputs": [
        {
          "output_type": "display_data",
          "data": {
            "text/plain": [
              "<Figure size 720x720 with 1 Axes>"
            ],
            "image/png": "[encoded data removed]"
          },
          "metadata": {
            "needs_background": "light"
          }
        }
      ],
      "source": [
        "from sklearn.metrics import roc_curve\n",
        "y_score1 = rfc.predict_proba(X_test)[:,1] \n",
        "false_positive_rate, true_positive_rate, threshold1 = roc_curve(y_test, y_score1) \n",
        "plt.subplots(1, figsize=(10,10)) \n",
        "plt.title('Receiver Operating Characteristic -Random forest classifier')\n",
        "plt.plot(false_positive_rate, true_positive_rate) \n",
        "plt.plot([0, 1], ls=\"--\")\n",
        "plt.plot([0, 0], [1, 0] , c=\".7\"), plt.plot([1, 1] , c=\".7\") \n",
        "plt.ylabel('True Positive Rate') \n",
        "plt.xlabel('False Positive Rate') \n",
        "plt.show()"
      ]
    },
    {
      "cell_type": "markdown",
      "metadata": {
        "id": "Y_UZ2r31vtv4"
      },
      "source": [
        "## **XGB**"
      ]
    },
    {
      "cell_type": "code",
      "execution_count": 317,
      "metadata": {
        "id": "3yKCcjmzg9iY",
        "colab": {
          "base_uri": "https://localhost:8080/"
        },
        "outputId": "7a5e263c-2e7f-474d-a4f4-c2d96be6c7e4"
      },
      "outputs": [
        {
          "output_type": "execute_result",
          "data": {
            "text/plain": [
              "array([0, 1, 0, ..., 0, 0, 0])"
            ]
          },
          "metadata": {},
          "execution_count": 317
        }
      ],
      "source": [
        "import xgboost as xgb\n",
        "model = xgb.XGBClassifier(learning_rate = 0.5, n_estimators =100 , verbosity = 0,random_state=50)\n",
        "model.fit(X_train, y_train)\n",
        "y_pred=model.predict(X_test)\n",
        "y_pred"
      ]
    },
    {
      "cell_type": "code",
      "execution_count": 318,
      "metadata": {
        "id": "bhiTuoMphLh7",
        "colab": {
          "base_uri": "https://localhost:8080/"
        },
        "outputId": "90b399ae-55ad-4093-966c-5bd5f4ebe38b"
      },
      "outputs": [
        {
          "output_type": "stream",
          "name": "stdout",
          "text": [
            "AUROC score: 0.7045327767407921\n",
            "accuracy:  0.9020107238605898\n"
          ]
        }
      ],
      "source": [
        "from sklearn.metrics import roc_auc_score,f1_score,accuracy_score\n",
        "AUROC =roc_auc_score(y_test,y_pred)\n",
        "print(\"AUROC score:\",AUROC)\n",
        "accuracy = accuracy_score(y_test,y_pred)\n",
        "print(\"accuracy: \",accuracy)"
      ]
    },
    {
      "cell_type": "code",
      "execution_count": 319,
      "metadata": {
        "id": "baGLWhayhQcW",
        "colab": {
          "base_uri": "https://localhost:8080/",
          "height": 300
        },
        "outputId": "75904cf7-808c-4656-a6f4-9a5b9a046a97"
      },
      "outputs": [
        {
          "output_type": "execute_result",
          "data": {
            "text/plain": [
              "array([[12674,   489],\n",
              "       [  973,   784]])"
            ]
          },
          "metadata": {},
          "execution_count": 319
        },
        {
          "output_type": "display_data",
          "data": {
            "text/plain": [
              "<Figure size 432x288 with 2 Axes>"
            ],
            "image/png": "[encoded data removed]"
          },
          "metadata": {
            "needs_background": "light"
          }
        }
      ],
      "source": [
        "from sklearn.metrics import confusion_matrix\n",
        "cm =confusion_matrix(y_test,y_pred)\n",
        "sns.heatmap(cm,annot=True)\n",
        "cm"
      ]
    },
    {
      "cell_type": "code",
      "execution_count": 320,
      "metadata": {
        "id": "yCZjWTDbhW80",
        "colab": {
          "base_uri": "https://localhost:8080/",
          "height": 621
        },
        "outputId": "83ba46a0-17b7-4ab2-9fe3-5ba1e386f7fb"
      },
      "outputs": [
        {
          "output_type": "display_data",
          "data": {
            "text/plain": [
              "<Figure size 720x720 with 1 Axes>"
            ],
            "image/png": "[encoded data removed]"
          },
          "metadata": {
            "needs_background": "light"
          }
        }
      ],
      "source": [
        "from sklearn.metrics import roc_curve\n",
        "y_score1 = rfc.predict_proba(X_test)[:,1] \n",
        "false_positive_rate, true_positive_rate, threshold1 = roc_curve(y_test, y_score1) \n",
        "plt.subplots(1, figsize=(10,10)) \n",
        "plt.title('Receiver Operating Characteristic -XGB classifier')\n",
        "plt.plot(false_positive_rate, true_positive_rate) \n",
        "plt.plot([0, 1], ls=\"--\")\n",
        "plt.plot([0, 0], [1, 0] , c=\".7\"), plt.plot([1, 1] , c=\".7\") \n",
        "plt.ylabel('True Positive Rate') \n",
        "plt.xlabel('False Positive Rate') \n",
        "plt.show()"
      ]
    },
    {
      "cell_type": "markdown",
      "metadata": {
        "id": "VcbK5DCShhaF"
      },
      "source": [
        "## **Naive Bayes classifier**"
      ]
    },
    {
      "cell_type": "code",
      "execution_count": 321,
      "metadata": {
        "id": "hjwN0GUbhbrV",
        "colab": {
          "base_uri": "https://localhost:8080/"
        },
        "outputId": "5a99b734-92d0-4dd7-9b84-812285cf74fd"
      },
      "outputs": [
        {
          "output_type": "execute_result",
          "data": {
            "text/plain": [
              "array([0, 1, 0, ..., 0, 0, 0])"
            ]
          },
          "metadata": {},
          "execution_count": 321
        }
      ],
      "source": [
        "\n",
        "from sklearn.naive_bayes import GaussianNB\n",
        "gnb = GaussianNB()\n",
        "gnb.fit(X_train, y_train)\n",
        "y_pred=gnb.predict(X_test)\n",
        "y_pred"
      ]
    },
    {
      "cell_type": "code",
      "execution_count": 322,
      "metadata": {
        "id": "oDikzRv8hnt6",
        "colab": {
          "base_uri": "https://localhost:8080/"
        },
        "outputId": "52f95e55-3c42-4616-cd2f-d77ed3ec599c"
      },
      "outputs": [
        {
          "output_type": "stream",
          "name": "stdout",
          "text": [
            "AUROC score: 0.6851700652269856\n",
            "accuracy:  0.828686327077748\n"
          ]
        }
      ],
      "source": [
        "\n",
        "from sklearn.metrics import roc_auc_score,f1_score,accuracy_score\n",
        "AUROC =roc_auc_score(y_test,y_pred)\n",
        "print(\"AUROC score:\",AUROC)\n",
        "accuracy = accuracy_score(y_test,y_pred)\n",
        "print(\"accuracy: \",accuracy)"
      ]
    },
    {
      "cell_type": "code",
      "execution_count": 323,
      "metadata": {
        "id": "AyAMu0FchtqW",
        "colab": {
          "base_uri": "https://localhost:8080/",
          "height": 300
        },
        "outputId": "27c6df1d-0900-4427-9126-be11bb1ed2c2"
      },
      "outputs": [
        {
          "output_type": "execute_result",
          "data": {
            "text/plain": [
              "array([[11490,  1673],\n",
              "       [  883,   874]])"
            ]
          },
          "metadata": {},
          "execution_count": 323
        },
        {
          "output_type": "display_data",
          "data": {
            "text/plain": [
              "<Figure size 432x288 with 2 Axes>"
            ],
            "image/png": "[encoded data removed]"
          },
          "metadata": {
            "needs_background": "light"
          }
        }
      ],
      "source": [
        "\n",
        "\n",
        "from sklearn.metrics import confusion_matrix\n",
        "cm =confusion_matrix(y_test,y_pred)\n",
        "sns.heatmap(cm,annot=True)\n",
        "cm"
      ]
    },
    {
      "cell_type": "code",
      "execution_count": 324,
      "metadata": {
        "id": "UNM13SfChvL5",
        "colab": {
          "base_uri": "https://localhost:8080/",
          "height": 621
        },
        "outputId": "dc17c2b3-69e5-4188-e987-d7f39f14157a"
      },
      "outputs": [
        {
          "output_type": "display_data",
          "data": {
            "text/plain": [
              "<Figure size 720x720 with 1 Axes>"
            ],
            "image/png": "[encoded data removed]"
          },
          "metadata": {
            "needs_background": "light"
          }
        }
      ],
      "source": [
        "\n",
        "from sklearn.metrics import roc_curve\n",
        "y_score1 = rfc.predict_proba(X_test)[:,1] \n",
        "false_positive_rate, true_positive_rate, threshold1 = roc_curve(y_test, y_score1) \n",
        "plt.subplots(1, figsize=(10,10)) \n",
        "plt.title('Receiver Operating Characteristic -Naive Bayes classifier')\n",
        "plt.plot(false_positive_rate, true_positive_rate) \n",
        "plt.plot([0, 1], ls=\"--\")\n",
        "plt.plot([0, 0], [1, 0] , c=\".7\"), plt.plot([1, 1] , c=\".7\") \n",
        "plt.ylabel('True Positive Rate') \n",
        "plt.xlabel('False Positive Rate') \n",
        "plt.show()"
      ]
    },
    {
      "cell_type": "markdown",
      "metadata": {
        "id": "dVbEbEN1ts3f"
      },
      "source": [
        "## **LogReg**"
      ]
    },
    {
      "cell_type": "markdown",
      "metadata": {
        "id": "7t61tGAkc05S"
      },
      "source": [
        "### Fitting Logistic Regression to Training set\n"
      ]
    },
    {
      "cell_type": "code",
      "execution_count": 325,
      "metadata": {
        "id": "EGhFfj2pcngA",
        "colab": {
          "base_uri": "https://localhost:8080/"
        },
        "outputId": "178d76c0-a295-452a-dc32-045b728afa0f"
      },
      "outputs": [
        {
          "output_type": "execute_result",
          "data": {
            "text/plain": [
              "LogisticRegression(max_iter=1000)"
            ]
          },
          "metadata": {},
          "execution_count": 325
        }
      ],
      "source": [
        "from sklearn.linear_model import LogisticRegression\n",
        "log = LogisticRegression(max_iter=1000)\n",
        "log.fit(X_train, y_train)"
      ]
    },
    {
      "cell_type": "markdown",
      "metadata": {
        "id": "9jwjG8L_daup"
      },
      "source": [
        "### Prediction of Logistic Regression Model"
      ]
    },
    {
      "cell_type": "code",
      "execution_count": 326,
      "metadata": {
        "id": "nUA3T_Tlcnd9",
        "colab": {
          "base_uri": "https://localhost:8080/"
        },
        "outputId": "42dc7f4e-f8ac-483f-a22b-98d18618db9c"
      },
      "outputs": [
        {
          "output_type": "execute_result",
          "data": {
            "text/plain": [
              "array([0, 1, 0, ..., 0, 0, 0])"
            ]
          },
          "metadata": {},
          "execution_count": 326
        }
      ],
      "source": [
        "\n",
        "\n",
        "y_pred  =  log.predict(X_test)\n",
        "y_pred"
      ]
    },
    {
      "cell_type": "code",
      "execution_count": 327,
      "metadata": {
        "id": "VFsb686Idexf",
        "colab": {
          "base_uri": "https://localhost:8080/"
        },
        "outputId": "35dab422-3ba4-4a70-8e7d-3fca02321eb6"
      },
      "outputs": [
        {
          "output_type": "stream",
          "name": "stdout",
          "text": [
            "AUROC_score :  0.8549811779460986\n",
            "accuracy:  0.8934316353887399\n"
          ]
        }
      ],
      "source": [
        "# Evaluating the Prediction\n",
        "from sklearn.metrics import roc_curve, roc_auc_score\n",
        "y_score1 = log.predict_proba(X_test)[:,1]\n",
        "false_positive_rate1, true_positive_rate1, threshold1 = roc_curve(y_test, y_score1)\n",
        "print('AUROC_score : ', roc_auc_score(y_test, y_score1))\n",
        "print(\"accuracy: \",accuracy_score(y_test,y_pred))"
      ]
    },
    {
      "cell_type": "code",
      "execution_count": 328,
      "metadata": {
        "id": "X3oLWn-lIt1P",
        "colab": {
          "base_uri": "https://localhost:8080/",
          "height": 265
        },
        "outputId": "b2ed1782-fbd7-4d12-8986-ee69aab7fbcb"
      },
      "outputs": [
        {
          "output_type": "display_data",
          "data": {
            "text/plain": [
              "<Figure size 432x288 with 1 Axes>"
            ],
            "image/png": "[encoded data removed]"
          },
          "metadata": {
            "needs_background": "light"
          }
        }
      ],
      "source": [
        "\n",
        "importance = log.coef_[0]\n",
        "scores = []\n",
        "for i,v in enumerate(importance):\n",
        "  scores.append((\"%.3f\" % v))\n",
        "scores\n",
        "d = {}\n",
        "for i,j in zip(scores,range(22)):\n",
        "  d.update({j:i})\n",
        "\n",
        "plt.bar([x for x in range(len(importance))], importance)\n",
        "plt.show()\n"
      ]
    },
    {
      "cell_type": "code",
      "execution_count": 329,
      "metadata": {
        "id": "zZ3OS24EOb66",
        "colab": {
          "base_uri": "https://localhost:8080/"
        },
        "outputId": "792414dd-2442-4ef2-c4f5-a9fee41544d6"
      },
      "outputs": [
        {
          "output_type": "stream",
          "name": "stdout",
          "text": [
            "[(17, '0.940'), (3, '0.476'), (14, '0.370'), (2, '0.118'), (19, '0.102'), (20, '0.040'), (5, '0.014'), (0, '0.011'), (6, '0.004'), (8, '-1.139'), (11, '-0.757'), (10, '-0.738'), (12, '-0.649'), (16, '-0.558'), (15, '-0.321'), (18, '-0.321'), (1, '-0.237'), (13, '-0.175'), (9, '-0.135'), (7, '-0.089'), (4, '-0.003')]\n"
          ]
        }
      ],
      "source": [
        "sorted_values = sorted(d.items(),key=lambda x:x[1],reverse=True)\n",
        "print(sorted_values)"
      ]
    },
    {
      "cell_type": "code",
      "execution_count": 330,
      "metadata": {
        "id": "Ojh_7eS0Ovs0",
        "colab": {
          "base_uri": "https://localhost:8080/"
        },
        "outputId": "924e0c4a-34e7-43a8-ac16-abbf01f24790"
      },
      "outputs": [
        {
          "output_type": "execute_result",
          "data": {
            "text/plain": [
              "Index(['age', 'marital', 'education_qual', 'call_type', 'day', 'mon', 'dur',\n",
              "       'num_calls', 'prev_outcome', 'admin.', 'blue-collar', 'entrepreneur',\n",
              "       'housemaid', 'management', 'retired', 'self-employed', 'services',\n",
              "       'student', 'technician', 'unemployed', 'unknown'],\n",
              "      dtype='object')"
            ]
          },
          "metadata": {},
          "execution_count": 330
        }
      ],
      "source": [
        "\n",
        "\n",
        "\n",
        "X_train.columns"
      ]
    },
    {
      "cell_type": "code",
      "execution_count": 331,
      "metadata": {
        "id": "x6kVetiQPyHx",
        "colab": {
          "base_uri": "https://localhost:8080/"
        },
        "outputId": "c8520ac1-267a-4720-f02c-d344715df0a2"
      },
      "outputs": [
        {
          "output_type": "stream",
          "name": "stdout",
          "text": [
            "Feature17: Student 0.940\n",
            "Feature3: Call_type 0.476\n",
            "Feature14: Retired 0.370\n",
            "Feature2: Marital 0.118\n",
            "Feature5: Month 0.102\n",
            "Feature0: Age 0.040\n",
            "Feature6: Duration of Calls 0.014\n",
            "Feature8: Previous Outcome 0.011\n",
            "Feature10: Blue-Collar 0.004\n",
            "Feature11: Entrepreneur -1.139\n"
          ]
        }
      ],
      "source": [
        "print(\"Feature17: Student\" ,sorted_values[0][1])\n",
        "print(\"Feature3: Call_type\" ,sorted_values[1][1])\n",
        "print(\"Feature14: Retired\" ,sorted_values[2][1])\n",
        "print(\"Feature2: Marital\" ,sorted_values[3][1])\n",
        "print(\"Feature5: Month\" ,sorted_values[4][1])\n",
        "print(\"Feature0: Age\" ,sorted_values[5][1])\n",
        "print(\"Feature6: Duration of Calls\" ,sorted_values[6][1])\n",
        "print(\"Feature8: Previous Outcome\" ,sorted_values[7][1])\n",
        "print(\"Feature10: Blue-Collar\" ,sorted_values[8][1])\n",
        "print(\"Feature11: Entrepreneur\" ,sorted_values[9][1])"
      ]
    },
    {
      "cell_type": "code",
      "execution_count": 332,
      "metadata": {
        "id": "-kj4faJwdetc",
        "colab": {
          "base_uri": "https://localhost:8080/",
          "height": 621
        },
        "outputId": "0b5c10f2-dda7-47d3-df6c-9d6004a47127"
      },
      "outputs": [
        {
          "output_type": "display_data",
          "data": {
            "text/plain": [
              "<Figure size 720x720 with 1 Axes>"
            ],
            "image/png": "[encoded data removed]"
          },
          "metadata": {
            "needs_background": "light"
          }
        }
      ],
      "source": [
        "\n",
        "\n",
        "# Plotting the ROC Curve\n",
        "plt.subplots(1, figsize=(10,10))\n",
        "plt.title('Receiver Operating Characteristic - Logistic_regression')\n",
        "plt.plot(false_positive_rate1, true_positive_rate1)\n",
        "plt.plot([0, 1], ls=\"--\")\n",
        "plt.plot([0, 0], [1, 0] , c=\".7\"), plt.plot([1, 1] , c=\".7\")\n",
        "plt.ylabel('True Positive Rate')\n",
        "plt.xlabel('False Positive Rate')\n",
        "plt.show()"
      ]
    },
    {
      "cell_type": "code",
      "execution_count": 333,
      "metadata": {
        "id": "7r4d6jQ6dsR8",
        "colab": {
          "base_uri": "https://localhost:8080/",
          "height": 300
        },
        "outputId": "0373912a-aaca-4792-bf84-173252cc8cd6"
      },
      "outputs": [
        {
          "output_type": "execute_result",
          "data": {
            "text/plain": [
              "array([[12882,   281],\n",
              "       [ 1309,   448]])"
            ]
          },
          "metadata": {},
          "execution_count": 333
        },
        {
          "output_type": "display_data",
          "data": {
            "text/plain": [
              "<Figure size 432x288 with 2 Axes>"
            ],
            "image/png": "[encoded data removed]"
          },
          "metadata": {
            "needs_background": "light"
          }
        }
      ],
      "source": [
        "\n",
        "\n",
        "\n",
        "from sklearn.metrics import confusion_matrix\n",
        "conf_matrix = confusion_matrix(y_test,y_pred)\n",
        "sns.heatmap(conf_matrix,annot=True)\n",
        "conf_matrix"
      ]
    },
    {
      "cell_type": "markdown",
      "metadata": {
        "id": "qwaqBEWz12LA"
      },
      "source": [
        "In this project I have analysed through the given data and used various machine learning models for prediction.\n",
        "\n",
        "The problem statement given is Supervised Learning and of type Binary classification.\n",
        "\n",
        "I have Evaluated our models with AUROC_Score and LogisticRegression was found to give highest score of 0.85.\n",
        "\n",
        "The top 3 important feautures found from LogReg model are\n",
        "\n",
        "        1)Student\n",
        "\n",
        "        2)Retired persons\n",
        "\n",
        "        3)Marital status\n",
        "\n",
        "  Category Call_type also is holding highest importance in feauture selection, but I omiited that with a assumption that a Customer is not going to care about the means of calling.\n",
        "\n",
        "The importance of Students and Retired person could be easily understood in the job vs target graphs.\n",
        "\n",
        "The number of Singles getting an insurance is high from the marital status vs target graph."
      ]
    },
    {
      "cell_type": "code",
      "source": [
        "\n"
      ],
      "metadata": {
        "id": "afqXQoe42z4i"
      },
      "execution_count": 333,
      "outputs": []
    },
    {
      "cell_type": "code",
      "source": [
        "\n",
        "\n"
      ],
      "metadata": {
        "id": "BpUs6fGy20C8"
      },
      "execution_count": null,
      "outputs": []
    }
  ],
  "metadata": {
    "colab": {
      "collapsed_sections": [],
      "provenance": []
    },
    "kernelspec": {
      "display_name": "Python 3",
      "name": "python3"
    },
    "language_info": {
      "name": "python"
    }
  },
  "nbformat": 4,
  "nbformat_minor": 0
}